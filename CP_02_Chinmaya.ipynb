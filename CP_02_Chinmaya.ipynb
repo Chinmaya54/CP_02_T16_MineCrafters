{
  "cells": [
    {
      "cell_type": "markdown",
      "metadata": {
        "id": "view-in-github",
        "colab_type": "text"
      },
      "source": [
        "<a href=\"https://colab.research.google.com/github/Chinmaya54/CP_02_T16_MineCrafters/blob/Chinmaya/CP_02_Chinmaya.ipynb\" target=\"_parent\"><img src=\"https://colab.research.google.com/assets/colab-badge.svg\" alt=\"Open In Colab\"/></a>"
      ]
    },
    {
      "cell_type": "code",
      "execution_count": 1,
      "metadata": {
        "id": "p8karVp0jf0Y"
      },
      "outputs": [],
      "source": [
        "import pandas as pd\n",
        "import numpy as np"
      ]
    },
    {
      "cell_type": "code",
      "execution_count": 2,
      "metadata": {
        "colab": {
          "base_uri": "https://localhost:8080/"
        },
        "id": "1x3-8BjZkg60",
        "outputId": "53d899a4-86a1-4711-a5ce-6e871071fa5b"
      },
      "outputs": [
        {
          "output_type": "stream",
          "name": "stdout",
          "text": [
            "Mounted at /content/drive\n"
          ]
        }
      ],
      "source": [
        "from google.colab import drive\n",
        "drive.mount('/content/drive')"
      ]
    },
    {
      "cell_type": "code",
      "execution_count": 3,
      "metadata": {
        "id": "ffZP6Cr7jT8M"
      },
      "outputs": [],
      "source": [
        "df = pd.read_csv('/content/drive/MyDrive/Assignment Datasets /Bookstore_depo.csv')"
      ]
    },
    {
      "cell_type": "code",
      "execution_count": 4,
      "metadata": {
        "id": "GFsYgje4qIOa",
        "colab": {
          "base_uri": "https://localhost:8080/",
          "height": 620
        },
        "outputId": "4c178899-fb25-4120-afb8-21ee07d28e54"
      },
      "outputs": [
        {
          "output_type": "execute_result",
          "data": {
            "text/plain": [
              "        authors  bestsellers-rank  \\\n",
              "0           [1]           49848.0   \n",
              "1        [2, 3]          115215.0   \n",
              "2           [4]           11732.0   \n",
              "3  [5, 6, 7, 8]          114379.0   \n",
              "4           [9]           98413.0   \n",
              "\n",
              "                                      categories  \\\n",
              "0  [214, 220, 237, 2646, 2647, 2659, 2660, 2679]   \n",
              "1                                    [235, 3386]   \n",
              "2                         [358, 2630, 360, 2632]   \n",
              "3                              [377, 2978, 2980]   \n",
              "4                                   [2813, 2980]   \n",
              "\n",
              "                                         description  dimension-x  \\\n",
              "0  SOLDIER FIVE is an elite soldier's explosive m...        129.0   \n",
              "1  John Moran and Carl Williams were the two bigg...        127.0   \n",
              "2  Sir Phillip knew that Eloise Bridgerton was a ...        150.0   \n",
              "3  The Third Book of General Ignorance  gathers t...        153.0   \n",
              "4  The Try Guys deliver their first book-an inspi...        191.0   \n",
              "\n",
              "   dimension-y  dimension-z      edition    edition-statement for-ages  ...  \\\n",
              "0        198.0         20.0          NaN                  NaN      NaN  ...   \n",
              "1        203.2         25.4          NaN                  NaN      NaN  ...   \n",
              "2        224.0         28.0  New edition                  NaN      NaN  ...   \n",
              "3        234.0         24.0          NaN  Export - Airside ed      NaN  ...   \n",
              "4        240.0         29.0          NaN                  NaN      NaN  ...   \n",
              "\n",
              "       isbn10         isbn13 lang     publication-date publication-place  \\\n",
              "0  184018907X  9781840189070   en  2004-10-14 00:00:00               NaN   \n",
              "1  184454737X  9781844547371   en  2009-03-13 00:00:00               NaN   \n",
              "2  8416327866  9788416327867   es  2020-04-30 00:00:00               NaN   \n",
              "3   571308996  9780571308996   en  2015-10-01 00:00:00               NaN   \n",
              "4     8352518  9780008352516   en  2019-06-18 00:00:00               NaN   \n",
              "\n",
              "  rating-avg rating-count                                              title  \\\n",
              "0       4.03        292.0  Soldier Five : The Real Truth About The Bravo ...   \n",
              "1       3.60        335.0                      Underbelly : The Gangland War   \n",
              "2       3.88      37211.0                            A Sir Phillip, Con Amor   \n",
              "3       4.17        384.0            QI: The Third Book of General Ignorance   \n",
              "4       3.90       5095.0                     The Hidden Power of F*cking Up   \n",
              "\n",
              "                                                 url  weight  \n",
              "0            /Soldier-Five-Mike-Coburn/9781840189070  224.00  \n",
              "1              /Underbelly-Andrew-Rule/9781844547371  285.76  \n",
              "2    /Sir-Phillip-Con-Amor-Julia-Quinn/9788416327867  386.00  \n",
              "3  /QI-Third-Book-General-Ignorance-John-Lloyd/97...  436.00  \n",
              "4    /Hidden-Power-F-cking-Up-Try-Guys/9780008352516  980.00  \n",
              "\n",
              "[5 rows x 28 columns]"
            ],
            "text/html": [
              "\n",
              "  <div id=\"df-a9dc4227-29fa-47a9-872c-d36ef1387b6c\" class=\"colab-df-container\">\n",
              "    <div>\n",
              "<style scoped>\n",
              "    .dataframe tbody tr th:only-of-type {\n",
              "        vertical-align: middle;\n",
              "    }\n",
              "\n",
              "    .dataframe tbody tr th {\n",
              "        vertical-align: top;\n",
              "    }\n",
              "\n",
              "    .dataframe thead th {\n",
              "        text-align: right;\n",
              "    }\n",
              "</style>\n",
              "<table border=\"1\" class=\"dataframe\">\n",
              "  <thead>\n",
              "    <tr style=\"text-align: right;\">\n",
              "      <th></th>\n",
              "      <th>authors</th>\n",
              "      <th>bestsellers-rank</th>\n",
              "      <th>categories</th>\n",
              "      <th>description</th>\n",
              "      <th>dimension-x</th>\n",
              "      <th>dimension-y</th>\n",
              "      <th>dimension-z</th>\n",
              "      <th>edition</th>\n",
              "      <th>edition-statement</th>\n",
              "      <th>for-ages</th>\n",
              "      <th>...</th>\n",
              "      <th>isbn10</th>\n",
              "      <th>isbn13</th>\n",
              "      <th>lang</th>\n",
              "      <th>publication-date</th>\n",
              "      <th>publication-place</th>\n",
              "      <th>rating-avg</th>\n",
              "      <th>rating-count</th>\n",
              "      <th>title</th>\n",
              "      <th>url</th>\n",
              "      <th>weight</th>\n",
              "    </tr>\n",
              "  </thead>\n",
              "  <tbody>\n",
              "    <tr>\n",
              "      <th>0</th>\n",
              "      <td>[1]</td>\n",
              "      <td>49848.0</td>\n",
              "      <td>[214, 220, 237, 2646, 2647, 2659, 2660, 2679]</td>\n",
              "      <td>SOLDIER FIVE is an elite soldier's explosive m...</td>\n",
              "      <td>129.0</td>\n",
              "      <td>198.0</td>\n",
              "      <td>20.0</td>\n",
              "      <td>NaN</td>\n",
              "      <td>NaN</td>\n",
              "      <td>NaN</td>\n",
              "      <td>...</td>\n",
              "      <td>184018907X</td>\n",
              "      <td>9781840189070</td>\n",
              "      <td>en</td>\n",
              "      <td>2004-10-14 00:00:00</td>\n",
              "      <td>NaN</td>\n",
              "      <td>4.03</td>\n",
              "      <td>292.0</td>\n",
              "      <td>Soldier Five : The Real Truth About The Bravo ...</td>\n",
              "      <td>/Soldier-Five-Mike-Coburn/9781840189070</td>\n",
              "      <td>224.00</td>\n",
              "    </tr>\n",
              "    <tr>\n",
              "      <th>1</th>\n",
              "      <td>[2, 3]</td>\n",
              "      <td>115215.0</td>\n",
              "      <td>[235, 3386]</td>\n",
              "      <td>John Moran and Carl Williams were the two bigg...</td>\n",
              "      <td>127.0</td>\n",
              "      <td>203.2</td>\n",
              "      <td>25.4</td>\n",
              "      <td>NaN</td>\n",
              "      <td>NaN</td>\n",
              "      <td>NaN</td>\n",
              "      <td>...</td>\n",
              "      <td>184454737X</td>\n",
              "      <td>9781844547371</td>\n",
              "      <td>en</td>\n",
              "      <td>2009-03-13 00:00:00</td>\n",
              "      <td>NaN</td>\n",
              "      <td>3.60</td>\n",
              "      <td>335.0</td>\n",
              "      <td>Underbelly : The Gangland War</td>\n",
              "      <td>/Underbelly-Andrew-Rule/9781844547371</td>\n",
              "      <td>285.76</td>\n",
              "    </tr>\n",
              "    <tr>\n",
              "      <th>2</th>\n",
              "      <td>[4]</td>\n",
              "      <td>11732.0</td>\n",
              "      <td>[358, 2630, 360, 2632]</td>\n",
              "      <td>Sir Phillip knew that Eloise Bridgerton was a ...</td>\n",
              "      <td>150.0</td>\n",
              "      <td>224.0</td>\n",
              "      <td>28.0</td>\n",
              "      <td>New edition</td>\n",
              "      <td>NaN</td>\n",
              "      <td>NaN</td>\n",
              "      <td>...</td>\n",
              "      <td>8416327866</td>\n",
              "      <td>9788416327867</td>\n",
              "      <td>es</td>\n",
              "      <td>2020-04-30 00:00:00</td>\n",
              "      <td>NaN</td>\n",
              "      <td>3.88</td>\n",
              "      <td>37211.0</td>\n",
              "      <td>A Sir Phillip, Con Amor</td>\n",
              "      <td>/Sir-Phillip-Con-Amor-Julia-Quinn/9788416327867</td>\n",
              "      <td>386.00</td>\n",
              "    </tr>\n",
              "    <tr>\n",
              "      <th>3</th>\n",
              "      <td>[5, 6, 7, 8]</td>\n",
              "      <td>114379.0</td>\n",
              "      <td>[377, 2978, 2980]</td>\n",
              "      <td>The Third Book of General Ignorance  gathers t...</td>\n",
              "      <td>153.0</td>\n",
              "      <td>234.0</td>\n",
              "      <td>24.0</td>\n",
              "      <td>NaN</td>\n",
              "      <td>Export - Airside ed</td>\n",
              "      <td>NaN</td>\n",
              "      <td>...</td>\n",
              "      <td>571308996</td>\n",
              "      <td>9780571308996</td>\n",
              "      <td>en</td>\n",
              "      <td>2015-10-01 00:00:00</td>\n",
              "      <td>NaN</td>\n",
              "      <td>4.17</td>\n",
              "      <td>384.0</td>\n",
              "      <td>QI: The Third Book of General Ignorance</td>\n",
              "      <td>/QI-Third-Book-General-Ignorance-John-Lloyd/97...</td>\n",
              "      <td>436.00</td>\n",
              "    </tr>\n",
              "    <tr>\n",
              "      <th>4</th>\n",
              "      <td>[9]</td>\n",
              "      <td>98413.0</td>\n",
              "      <td>[2813, 2980]</td>\n",
              "      <td>The Try Guys deliver their first book-an inspi...</td>\n",
              "      <td>191.0</td>\n",
              "      <td>240.0</td>\n",
              "      <td>29.0</td>\n",
              "      <td>NaN</td>\n",
              "      <td>NaN</td>\n",
              "      <td>NaN</td>\n",
              "      <td>...</td>\n",
              "      <td>8352518</td>\n",
              "      <td>9780008352516</td>\n",
              "      <td>en</td>\n",
              "      <td>2019-06-18 00:00:00</td>\n",
              "      <td>NaN</td>\n",
              "      <td>3.90</td>\n",
              "      <td>5095.0</td>\n",
              "      <td>The Hidden Power of F*cking Up</td>\n",
              "      <td>/Hidden-Power-F-cking-Up-Try-Guys/9780008352516</td>\n",
              "      <td>980.00</td>\n",
              "    </tr>\n",
              "  </tbody>\n",
              "</table>\n",
              "<p>5 rows × 28 columns</p>\n",
              "</div>\n",
              "    <div class=\"colab-df-buttons\">\n",
              "\n",
              "  <div class=\"colab-df-container\">\n",
              "    <button class=\"colab-df-convert\" onclick=\"convertToInteractive('df-a9dc4227-29fa-47a9-872c-d36ef1387b6c')\"\n",
              "            title=\"Convert this dataframe to an interactive table.\"\n",
              "            style=\"display:none;\">\n",
              "\n",
              "  <svg xmlns=\"http://www.w3.org/2000/svg\" height=\"24px\" viewBox=\"0 -960 960 960\">\n",
              "    <path d=\"M120-120v-720h720v720H120Zm60-500h600v-160H180v160Zm220 220h160v-160H400v160Zm0 220h160v-160H400v160ZM180-400h160v-160H180v160Zm440 0h160v-160H620v160ZM180-180h160v-160H180v160Zm440 0h160v-160H620v160Z\"/>\n",
              "  </svg>\n",
              "    </button>\n",
              "\n",
              "  <style>\n",
              "    .colab-df-container {\n",
              "      display:flex;\n",
              "      gap: 12px;\n",
              "    }\n",
              "\n",
              "    .colab-df-convert {\n",
              "      background-color: #E8F0FE;\n",
              "      border: none;\n",
              "      border-radius: 50%;\n",
              "      cursor: pointer;\n",
              "      display: none;\n",
              "      fill: #1967D2;\n",
              "      height: 32px;\n",
              "      padding: 0 0 0 0;\n",
              "      width: 32px;\n",
              "    }\n",
              "\n",
              "    .colab-df-convert:hover {\n",
              "      background-color: #E2EBFA;\n",
              "      box-shadow: 0px 1px 2px rgba(60, 64, 67, 0.3), 0px 1px 3px 1px rgba(60, 64, 67, 0.15);\n",
              "      fill: #174EA6;\n",
              "    }\n",
              "\n",
              "    .colab-df-buttons div {\n",
              "      margin-bottom: 4px;\n",
              "    }\n",
              "\n",
              "    [theme=dark] .colab-df-convert {\n",
              "      background-color: #3B4455;\n",
              "      fill: #D2E3FC;\n",
              "    }\n",
              "\n",
              "    [theme=dark] .colab-df-convert:hover {\n",
              "      background-color: #434B5C;\n",
              "      box-shadow: 0px 1px 3px 1px rgba(0, 0, 0, 0.15);\n",
              "      filter: drop-shadow(0px 1px 2px rgba(0, 0, 0, 0.3));\n",
              "      fill: #FFFFFF;\n",
              "    }\n",
              "  </style>\n",
              "\n",
              "    <script>\n",
              "      const buttonEl =\n",
              "        document.querySelector('#df-a9dc4227-29fa-47a9-872c-d36ef1387b6c button.colab-df-convert');\n",
              "      buttonEl.style.display =\n",
              "        google.colab.kernel.accessAllowed ? 'block' : 'none';\n",
              "\n",
              "      async function convertToInteractive(key) {\n",
              "        const element = document.querySelector('#df-a9dc4227-29fa-47a9-872c-d36ef1387b6c');\n",
              "        const dataTable =\n",
              "          await google.colab.kernel.invokeFunction('convertToInteractive',\n",
              "                                                    [key], {});\n",
              "        if (!dataTable) return;\n",
              "\n",
              "        const docLinkHtml = 'Like what you see? Visit the ' +\n",
              "          '<a target=\"_blank\" href=https://colab.research.google.com/notebooks/data_table.ipynb>data table notebook</a>'\n",
              "          + ' to learn more about interactive tables.';\n",
              "        element.innerHTML = '';\n",
              "        dataTable['output_type'] = 'display_data';\n",
              "        await google.colab.output.renderOutput(dataTable, element);\n",
              "        const docLink = document.createElement('div');\n",
              "        docLink.innerHTML = docLinkHtml;\n",
              "        element.appendChild(docLink);\n",
              "      }\n",
              "    </script>\n",
              "  </div>\n",
              "\n",
              "\n",
              "<div id=\"df-1533331f-320d-4719-9b4d-8807760384dd\">\n",
              "  <button class=\"colab-df-quickchart\" onclick=\"quickchart('df-1533331f-320d-4719-9b4d-8807760384dd')\"\n",
              "            title=\"Suggest charts.\"\n",
              "            style=\"display:none;\">\n",
              "\n",
              "<svg xmlns=\"http://www.w3.org/2000/svg\" height=\"24px\"viewBox=\"0 0 24 24\"\n",
              "     width=\"24px\">\n",
              "    <g>\n",
              "        <path d=\"M19 3H5c-1.1 0-2 .9-2 2v14c0 1.1.9 2 2 2h14c1.1 0 2-.9 2-2V5c0-1.1-.9-2-2-2zM9 17H7v-7h2v7zm4 0h-2V7h2v10zm4 0h-2v-4h2v4z\"/>\n",
              "    </g>\n",
              "</svg>\n",
              "  </button>\n",
              "\n",
              "<style>\n",
              "  .colab-df-quickchart {\n",
              "      --bg-color: #E8F0FE;\n",
              "      --fill-color: #1967D2;\n",
              "      --hover-bg-color: #E2EBFA;\n",
              "      --hover-fill-color: #174EA6;\n",
              "      --disabled-fill-color: #AAA;\n",
              "      --disabled-bg-color: #DDD;\n",
              "  }\n",
              "\n",
              "  [theme=dark] .colab-df-quickchart {\n",
              "      --bg-color: #3B4455;\n",
              "      --fill-color: #D2E3FC;\n",
              "      --hover-bg-color: #434B5C;\n",
              "      --hover-fill-color: #FFFFFF;\n",
              "      --disabled-bg-color: #3B4455;\n",
              "      --disabled-fill-color: #666;\n",
              "  }\n",
              "\n",
              "  .colab-df-quickchart {\n",
              "    background-color: var(--bg-color);\n",
              "    border: none;\n",
              "    border-radius: 50%;\n",
              "    cursor: pointer;\n",
              "    display: none;\n",
              "    fill: var(--fill-color);\n",
              "    height: 32px;\n",
              "    padding: 0;\n",
              "    width: 32px;\n",
              "  }\n",
              "\n",
              "  .colab-df-quickchart:hover {\n",
              "    background-color: var(--hover-bg-color);\n",
              "    box-shadow: 0 1px 2px rgba(60, 64, 67, 0.3), 0 1px 3px 1px rgba(60, 64, 67, 0.15);\n",
              "    fill: var(--button-hover-fill-color);\n",
              "  }\n",
              "\n",
              "  .colab-df-quickchart-complete:disabled,\n",
              "  .colab-df-quickchart-complete:disabled:hover {\n",
              "    background-color: var(--disabled-bg-color);\n",
              "    fill: var(--disabled-fill-color);\n",
              "    box-shadow: none;\n",
              "  }\n",
              "\n",
              "  .colab-df-spinner {\n",
              "    border: 2px solid var(--fill-color);\n",
              "    border-color: transparent;\n",
              "    border-bottom-color: var(--fill-color);\n",
              "    animation:\n",
              "      spin 1s steps(1) infinite;\n",
              "  }\n",
              "\n",
              "  @keyframes spin {\n",
              "    0% {\n",
              "      border-color: transparent;\n",
              "      border-bottom-color: var(--fill-color);\n",
              "      border-left-color: var(--fill-color);\n",
              "    }\n",
              "    20% {\n",
              "      border-color: transparent;\n",
              "      border-left-color: var(--fill-color);\n",
              "      border-top-color: var(--fill-color);\n",
              "    }\n",
              "    30% {\n",
              "      border-color: transparent;\n",
              "      border-left-color: var(--fill-color);\n",
              "      border-top-color: var(--fill-color);\n",
              "      border-right-color: var(--fill-color);\n",
              "    }\n",
              "    40% {\n",
              "      border-color: transparent;\n",
              "      border-right-color: var(--fill-color);\n",
              "      border-top-color: var(--fill-color);\n",
              "    }\n",
              "    60% {\n",
              "      border-color: transparent;\n",
              "      border-right-color: var(--fill-color);\n",
              "    }\n",
              "    80% {\n",
              "      border-color: transparent;\n",
              "      border-right-color: var(--fill-color);\n",
              "      border-bottom-color: var(--fill-color);\n",
              "    }\n",
              "    90% {\n",
              "      border-color: transparent;\n",
              "      border-bottom-color: var(--fill-color);\n",
              "    }\n",
              "  }\n",
              "</style>\n",
              "\n",
              "  <script>\n",
              "    async function quickchart(key) {\n",
              "      const quickchartButtonEl =\n",
              "        document.querySelector('#' + key + ' button');\n",
              "      quickchartButtonEl.disabled = true;  // To prevent multiple clicks.\n",
              "      quickchartButtonEl.classList.add('colab-df-spinner');\n",
              "      try {\n",
              "        const charts = await google.colab.kernel.invokeFunction(\n",
              "            'suggestCharts', [key], {});\n",
              "      } catch (error) {\n",
              "        console.error('Error during call to suggestCharts:', error);\n",
              "      }\n",
              "      quickchartButtonEl.classList.remove('colab-df-spinner');\n",
              "      quickchartButtonEl.classList.add('colab-df-quickchart-complete');\n",
              "    }\n",
              "    (() => {\n",
              "      let quickchartButtonEl =\n",
              "        document.querySelector('#df-1533331f-320d-4719-9b4d-8807760384dd button');\n",
              "      quickchartButtonEl.style.display =\n",
              "        google.colab.kernel.accessAllowed ? 'block' : 'none';\n",
              "    })();\n",
              "  </script>\n",
              "</div>\n",
              "    </div>\n",
              "  </div>\n"
            ]
          },
          "metadata": {},
          "execution_count": 4
        }
      ],
      "source": [
        "df.head()"
      ]
    },
    {
      "cell_type": "code",
      "execution_count": 5,
      "metadata": {
        "id": "vudOw5vSmsog",
        "colab": {
          "base_uri": "https://localhost:8080/"
        },
        "outputId": "ac779261-aa21-42c2-b731-9593e3077486"
      },
      "outputs": [
        {
          "output_type": "execute_result",
          "data": {
            "text/plain": [
              "(1109383, 28)"
            ]
          },
          "metadata": {},
          "execution_count": 5
        }
      ],
      "source": [
        "df.shape"
      ]
    },
    {
      "cell_type": "markdown",
      "metadata": {
        "id": "XIiVBARPjCh-"
      },
      "source": [
        "A brief description of each column in the dataset:\n",
        "\n",
        "1. **authors**: The author(s) of the book(s).\n",
        "\n",
        "2. **bestsellers-rank**: The ranking or position of the book in the bestsellers list.\n",
        "\n",
        "3. **categories**: The categories or genres to which the book belongs.\n",
        "\n",
        "4. **description**: A textual description of the book, possibly including a summary or synopsis.\n",
        "\n",
        "5. **dimension-x, dimension-y, dimension-z**: The dimensions of the book, typically its width, height, and depth.\n",
        "\n",
        "6. **edition**: Information about the edition of the book, such as hardcover, paperback, or special edition.\n",
        "\n",
        "7. **edition-statement**: Additional details or statements about the edition of the book.\n",
        "\n",
        "8. **for-ages**: The recommended age group or audience for the book.\n",
        "\n",
        "9. **format**: The format of the book, such as print or digital.\n",
        "\n",
        "10. **id**: A unique identifier for each book.\n",
        "\n",
        "11. **illustrations-note**: Notes or information about illustrations, if present in the book.\n",
        "\n",
        "12. **image-checksum**: A checksum or hash value of the book's image.\n",
        "\n",
        "13. **image-path**: The file path to the book's image.\n",
        "\n",
        "14. **image-url**: The URL to access the book's image.\n",
        "\n",
        "15. **imprint**: The publisher or publishing company responsible for the book.\n",
        "\n",
        "16. **index-date**: The date when the book's information was indexed.\n",
        "\n",
        "17. **isbn10**: The International Standard Book Number with ten digits.\n",
        "\n",
        "18. **isbn13**: The International Standard Book Number with thirteen digits.\n",
        "\n",
        "19. **lang**: The language in which the book is written.\n",
        "\n",
        "20. **publication-date**: The date when the book was published.\n",
        "\n",
        "21. **publication-place**: The place where the book was published.\n",
        "\n",
        "22. **rating-avg**: The average rating given by readers or users.\n",
        "\n",
        "23. **rating-count**: The count of ratings or reviews received for the book.\n",
        "\n",
        "24. **title**: The title of the book.\n",
        "\n",
        "25. **url**: The URL or link to access more information about the book.\n",
        "\n",
        "26. **weight**: The weight of the book.\n"
      ]
    },
    {
      "cell_type": "markdown",
      "metadata": {
        "id": "mUa2mTSyjfNc"
      },
      "source": [
        "Here are some possible problem statements and corresponding target variables for this dataset:\n",
        "\n",
        "1. **Genre Classification:**\n",
        "   - Problem Statement: Predict the genre or category of a book based on its description and other attributes.\n",
        "   - Target Variable: 'categories' or a new column with genre labels.\n",
        "\n",
        "2. **Rating Classification:**\n",
        "   - Problem Statement: Classify books into high-rated and low-rated categories based on their average rating and rating count.\n",
        "   - Target Variable: 'rating-avg' or a new binary variable indicating high or low rating.\n",
        "\n",
        "\n",
        "3. **Age Recommendation Classification:**\n",
        "   - Problem Statement: Classify books into different age recommendation groups based on their attributes.\n",
        "   - Target Variable: 'for-ages' or a new column with age group labels.\n",
        "\n",
        "\n",
        "4. **Popularity Classification:**\n",
        "   - Problem Statement: Classify books as popular or less popular based on their attributes such as rating count and bestsellers rank.\n",
        "   - Target Variable: A binary variable indicating popularity.\n"
      ]
    },
    {
      "cell_type": "code",
      "execution_count": 6,
      "metadata": {
        "id": "sZqiFJo4g3uc",
        "colab": {
          "base_uri": "https://localhost:8080/"
        },
        "outputId": "8b69ea04-57d3-416a-f2da-703d62b63517"
      },
      "outputs": [
        {
          "output_type": "execute_result",
          "data": {
            "text/plain": [
              "Index(['authors', 'bestsellers-rank', 'categories', 'description',\n",
              "       'dimension-x', 'dimension-y', 'dimension-z', 'edition',\n",
              "       'edition-statement', 'for-ages', 'format', 'id', 'illustrations-note',\n",
              "       'image-checksum', 'image-path', 'image-url', 'imprint', 'index-date',\n",
              "       'isbn10', 'isbn13', 'lang', 'publication-date', 'publication-place',\n",
              "       'rating-avg', 'rating-count', 'title', 'url', 'weight'],\n",
              "      dtype='object')"
            ]
          },
          "metadata": {},
          "execution_count": 6
        }
      ],
      "source": [
        "df.columns"
      ]
    },
    {
      "cell_type": "code",
      "execution_count": 7,
      "metadata": {
        "id": "ih6rA_9niyL3",
        "colab": {
          "base_uri": "https://localhost:8080/"
        },
        "outputId": "c06de541-522f-45d7-b684-d532eeefb1ba"
      },
      "outputs": [
        {
          "output_type": "execute_result",
          "data": {
            "text/plain": [
              "authors                object\n",
              "bestsellers-rank      float64\n",
              "categories             object\n",
              "description            object\n",
              "dimension-x           float64\n",
              "dimension-y           float64\n",
              "dimension-z           float64\n",
              "edition                object\n",
              "edition-statement      object\n",
              "for-ages               object\n",
              "format                float64\n",
              "id                      int64\n",
              "illustrations-note     object\n",
              "image-checksum         object\n",
              "image-path             object\n",
              "image-url              object\n",
              "imprint                object\n",
              "index-date            float64\n",
              "isbn10                 object\n",
              "isbn13                  int64\n",
              "lang                   object\n",
              "publication-date       object\n",
              "publication-place     float64\n",
              "rating-avg            float64\n",
              "rating-count          float64\n",
              "title                  object\n",
              "url                    object\n",
              "weight                float64\n",
              "dtype: object"
            ]
          },
          "metadata": {},
          "execution_count": 7
        }
      ],
      "source": [
        "df.dtypes"
      ]
    },
    {
      "cell_type": "markdown",
      "source": [
        "Basic Distributions for each column"
      ],
      "metadata": {
        "id": "7bk4gNm-HGf4"
      }
    },
    {
      "cell_type": "code",
      "source": [
        "# Dropping Unnecessary columns\n",
        "df.drop(['edition-statement', 'illustrations-note','image-checksum','image-path','image-url','url'],axis=1, inplace= True)"
      ],
      "metadata": {
        "id": "YecWvRUdHp9o"
      },
      "execution_count": 8,
      "outputs": []
    },
    {
      "cell_type": "code",
      "source": [
        "df.drop(['description'], axis=1, inplace=True)"
      ],
      "metadata": {
        "id": "b14Sar_RNXMw"
      },
      "execution_count": 23,
      "outputs": []
    },
    {
      "cell_type": "code",
      "execution_count": 9,
      "metadata": {
        "colab": {
          "base_uri": "https://localhost:8080/"
        },
        "id": "kLE91C8MqS6O",
        "outputId": "f9e2cc86-ef6f-477a-b398-1287c76e148a"
      },
      "outputs": [
        {
          "output_type": "execute_result",
          "data": {
            "text/plain": [
              "authors                    0\n",
              "bestsellers-rank      466842\n",
              "categories                 0\n",
              "description            80087\n",
              "dimension-x            48227\n",
              "dimension-y            93531\n",
              "dimension-z            48227\n",
              "edition               926569\n",
              "for-ages             1033390\n",
              "format                  6622\n",
              "id                         0\n",
              "imprint               830049\n",
              "index-date           1109383\n",
              "isbn10                     0\n",
              "isbn13                     0\n",
              "lang                   60407\n",
              "publication-date        2603\n",
              "publication-place    1109383\n",
              "rating-avg            440130\n",
              "rating-count          440130\n",
              "title                      0\n",
              "weight                 87173\n",
              "dtype: int64"
            ]
          },
          "metadata": {},
          "execution_count": 9
        }
      ],
      "source": [
        "#Checking null values\n",
        "df.isnull().sum()"
      ]
    },
    {
      "cell_type": "markdown",
      "metadata": {
        "id": "R70RL5StsrjH"
      },
      "source": [
        "**Null values are present**\\\n",
        "Need Imputation or dropping columns having a higher percentage of missing values."
      ]
    },
    {
      "cell_type": "code",
      "execution_count": 26,
      "metadata": {
        "colab": {
          "base_uri": "https://localhost:8080/",
          "height": 582
        },
        "id": "-NekILo-sqxb",
        "outputId": "9db983d4-411f-4b0b-ab48-c0d4417f1d90"
      },
      "outputs": [
        {
          "output_type": "execute_result",
          "data": {
            "text/plain": [
              "                  missing_percentage\n",
              "imprint                    74.837929\n",
              "bestsellers-rank           41.741500\n",
              "rating-count               39.300027\n",
              "rating-avg                 39.300027\n",
              "dimension-y                 7.869020\n",
              "weight                      7.344322\n",
              "lang                        4.913662\n",
              "dimension-z                 3.875625\n",
              "dimension-x                 3.875625\n",
              "format                      0.000000\n",
              "id                          0.000000\n",
              "isbn10                      0.000000\n",
              "isbn13                      0.000000\n",
              "publication-date            0.000000\n",
              "categories                  0.000000\n",
              "title                       0.000000\n",
              "authors                     0.000000"
            ],
            "text/html": [
              "\n",
              "  <div id=\"df-80a71297-021a-41f6-86c8-288f91059bf5\" class=\"colab-df-container\">\n",
              "    <div>\n",
              "<style scoped>\n",
              "    .dataframe tbody tr th:only-of-type {\n",
              "        vertical-align: middle;\n",
              "    }\n",
              "\n",
              "    .dataframe tbody tr th {\n",
              "        vertical-align: top;\n",
              "    }\n",
              "\n",
              "    .dataframe thead th {\n",
              "        text-align: right;\n",
              "    }\n",
              "</style>\n",
              "<table border=\"1\" class=\"dataframe\">\n",
              "  <thead>\n",
              "    <tr style=\"text-align: right;\">\n",
              "      <th></th>\n",
              "      <th>missing_percentage</th>\n",
              "    </tr>\n",
              "  </thead>\n",
              "  <tbody>\n",
              "    <tr>\n",
              "      <th>imprint</th>\n",
              "      <td>74.837929</td>\n",
              "    </tr>\n",
              "    <tr>\n",
              "      <th>bestsellers-rank</th>\n",
              "      <td>41.741500</td>\n",
              "    </tr>\n",
              "    <tr>\n",
              "      <th>rating-count</th>\n",
              "      <td>39.300027</td>\n",
              "    </tr>\n",
              "    <tr>\n",
              "      <th>rating-avg</th>\n",
              "      <td>39.300027</td>\n",
              "    </tr>\n",
              "    <tr>\n",
              "      <th>dimension-y</th>\n",
              "      <td>7.869020</td>\n",
              "    </tr>\n",
              "    <tr>\n",
              "      <th>weight</th>\n",
              "      <td>7.344322</td>\n",
              "    </tr>\n",
              "    <tr>\n",
              "      <th>lang</th>\n",
              "      <td>4.913662</td>\n",
              "    </tr>\n",
              "    <tr>\n",
              "      <th>dimension-z</th>\n",
              "      <td>3.875625</td>\n",
              "    </tr>\n",
              "    <tr>\n",
              "      <th>dimension-x</th>\n",
              "      <td>3.875625</td>\n",
              "    </tr>\n",
              "    <tr>\n",
              "      <th>format</th>\n",
              "      <td>0.000000</td>\n",
              "    </tr>\n",
              "    <tr>\n",
              "      <th>id</th>\n",
              "      <td>0.000000</td>\n",
              "    </tr>\n",
              "    <tr>\n",
              "      <th>isbn10</th>\n",
              "      <td>0.000000</td>\n",
              "    </tr>\n",
              "    <tr>\n",
              "      <th>isbn13</th>\n",
              "      <td>0.000000</td>\n",
              "    </tr>\n",
              "    <tr>\n",
              "      <th>publication-date</th>\n",
              "      <td>0.000000</td>\n",
              "    </tr>\n",
              "    <tr>\n",
              "      <th>categories</th>\n",
              "      <td>0.000000</td>\n",
              "    </tr>\n",
              "    <tr>\n",
              "      <th>title</th>\n",
              "      <td>0.000000</td>\n",
              "    </tr>\n",
              "    <tr>\n",
              "      <th>authors</th>\n",
              "      <td>0.000000</td>\n",
              "    </tr>\n",
              "  </tbody>\n",
              "</table>\n",
              "</div>\n",
              "    <div class=\"colab-df-buttons\">\n",
              "\n",
              "  <div class=\"colab-df-container\">\n",
              "    <button class=\"colab-df-convert\" onclick=\"convertToInteractive('df-80a71297-021a-41f6-86c8-288f91059bf5')\"\n",
              "            title=\"Convert this dataframe to an interactive table.\"\n",
              "            style=\"display:none;\">\n",
              "\n",
              "  <svg xmlns=\"http://www.w3.org/2000/svg\" height=\"24px\" viewBox=\"0 -960 960 960\">\n",
              "    <path d=\"M120-120v-720h720v720H120Zm60-500h600v-160H180v160Zm220 220h160v-160H400v160Zm0 220h160v-160H400v160ZM180-400h160v-160H180v160Zm440 0h160v-160H620v160ZM180-180h160v-160H180v160Zm440 0h160v-160H620v160Z\"/>\n",
              "  </svg>\n",
              "    </button>\n",
              "\n",
              "  <style>\n",
              "    .colab-df-container {\n",
              "      display:flex;\n",
              "      gap: 12px;\n",
              "    }\n",
              "\n",
              "    .colab-df-convert {\n",
              "      background-color: #E8F0FE;\n",
              "      border: none;\n",
              "      border-radius: 50%;\n",
              "      cursor: pointer;\n",
              "      display: none;\n",
              "      fill: #1967D2;\n",
              "      height: 32px;\n",
              "      padding: 0 0 0 0;\n",
              "      width: 32px;\n",
              "    }\n",
              "\n",
              "    .colab-df-convert:hover {\n",
              "      background-color: #E2EBFA;\n",
              "      box-shadow: 0px 1px 2px rgba(60, 64, 67, 0.3), 0px 1px 3px 1px rgba(60, 64, 67, 0.15);\n",
              "      fill: #174EA6;\n",
              "    }\n",
              "\n",
              "    .colab-df-buttons div {\n",
              "      margin-bottom: 4px;\n",
              "    }\n",
              "\n",
              "    [theme=dark] .colab-df-convert {\n",
              "      background-color: #3B4455;\n",
              "      fill: #D2E3FC;\n",
              "    }\n",
              "\n",
              "    [theme=dark] .colab-df-convert:hover {\n",
              "      background-color: #434B5C;\n",
              "      box-shadow: 0px 1px 3px 1px rgba(0, 0, 0, 0.15);\n",
              "      filter: drop-shadow(0px 1px 2px rgba(0, 0, 0, 0.3));\n",
              "      fill: #FFFFFF;\n",
              "    }\n",
              "  </style>\n",
              "\n",
              "    <script>\n",
              "      const buttonEl =\n",
              "        document.querySelector('#df-80a71297-021a-41f6-86c8-288f91059bf5 button.colab-df-convert');\n",
              "      buttonEl.style.display =\n",
              "        google.colab.kernel.accessAllowed ? 'block' : 'none';\n",
              "\n",
              "      async function convertToInteractive(key) {\n",
              "        const element = document.querySelector('#df-80a71297-021a-41f6-86c8-288f91059bf5');\n",
              "        const dataTable =\n",
              "          await google.colab.kernel.invokeFunction('convertToInteractive',\n",
              "                                                    [key], {});\n",
              "        if (!dataTable) return;\n",
              "\n",
              "        const docLinkHtml = 'Like what you see? Visit the ' +\n",
              "          '<a target=\"_blank\" href=https://colab.research.google.com/notebooks/data_table.ipynb>data table notebook</a>'\n",
              "          + ' to learn more about interactive tables.';\n",
              "        element.innerHTML = '';\n",
              "        dataTable['output_type'] = 'display_data';\n",
              "        await google.colab.output.renderOutput(dataTable, element);\n",
              "        const docLink = document.createElement('div');\n",
              "        docLink.innerHTML = docLinkHtml;\n",
              "        element.appendChild(docLink);\n",
              "      }\n",
              "    </script>\n",
              "  </div>\n",
              "\n",
              "\n",
              "<div id=\"df-6003ced5-0e26-4059-83b4-f4413f7d05c2\">\n",
              "  <button class=\"colab-df-quickchart\" onclick=\"quickchart('df-6003ced5-0e26-4059-83b4-f4413f7d05c2')\"\n",
              "            title=\"Suggest charts.\"\n",
              "            style=\"display:none;\">\n",
              "\n",
              "<svg xmlns=\"http://www.w3.org/2000/svg\" height=\"24px\"viewBox=\"0 0 24 24\"\n",
              "     width=\"24px\">\n",
              "    <g>\n",
              "        <path d=\"M19 3H5c-1.1 0-2 .9-2 2v14c0 1.1.9 2 2 2h14c1.1 0 2-.9 2-2V5c0-1.1-.9-2-2-2zM9 17H7v-7h2v7zm4 0h-2V7h2v10zm4 0h-2v-4h2v4z\"/>\n",
              "    </g>\n",
              "</svg>\n",
              "  </button>\n",
              "\n",
              "<style>\n",
              "  .colab-df-quickchart {\n",
              "      --bg-color: #E8F0FE;\n",
              "      --fill-color: #1967D2;\n",
              "      --hover-bg-color: #E2EBFA;\n",
              "      --hover-fill-color: #174EA6;\n",
              "      --disabled-fill-color: #AAA;\n",
              "      --disabled-bg-color: #DDD;\n",
              "  }\n",
              "\n",
              "  [theme=dark] .colab-df-quickchart {\n",
              "      --bg-color: #3B4455;\n",
              "      --fill-color: #D2E3FC;\n",
              "      --hover-bg-color: #434B5C;\n",
              "      --hover-fill-color: #FFFFFF;\n",
              "      --disabled-bg-color: #3B4455;\n",
              "      --disabled-fill-color: #666;\n",
              "  }\n",
              "\n",
              "  .colab-df-quickchart {\n",
              "    background-color: var(--bg-color);\n",
              "    border: none;\n",
              "    border-radius: 50%;\n",
              "    cursor: pointer;\n",
              "    display: none;\n",
              "    fill: var(--fill-color);\n",
              "    height: 32px;\n",
              "    padding: 0;\n",
              "    width: 32px;\n",
              "  }\n",
              "\n",
              "  .colab-df-quickchart:hover {\n",
              "    background-color: var(--hover-bg-color);\n",
              "    box-shadow: 0 1px 2px rgba(60, 64, 67, 0.3), 0 1px 3px 1px rgba(60, 64, 67, 0.15);\n",
              "    fill: var(--button-hover-fill-color);\n",
              "  }\n",
              "\n",
              "  .colab-df-quickchart-complete:disabled,\n",
              "  .colab-df-quickchart-complete:disabled:hover {\n",
              "    background-color: var(--disabled-bg-color);\n",
              "    fill: var(--disabled-fill-color);\n",
              "    box-shadow: none;\n",
              "  }\n",
              "\n",
              "  .colab-df-spinner {\n",
              "    border: 2px solid var(--fill-color);\n",
              "    border-color: transparent;\n",
              "    border-bottom-color: var(--fill-color);\n",
              "    animation:\n",
              "      spin 1s steps(1) infinite;\n",
              "  }\n",
              "\n",
              "  @keyframes spin {\n",
              "    0% {\n",
              "      border-color: transparent;\n",
              "      border-bottom-color: var(--fill-color);\n",
              "      border-left-color: var(--fill-color);\n",
              "    }\n",
              "    20% {\n",
              "      border-color: transparent;\n",
              "      border-left-color: var(--fill-color);\n",
              "      border-top-color: var(--fill-color);\n",
              "    }\n",
              "    30% {\n",
              "      border-color: transparent;\n",
              "      border-left-color: var(--fill-color);\n",
              "      border-top-color: var(--fill-color);\n",
              "      border-right-color: var(--fill-color);\n",
              "    }\n",
              "    40% {\n",
              "      border-color: transparent;\n",
              "      border-right-color: var(--fill-color);\n",
              "      border-top-color: var(--fill-color);\n",
              "    }\n",
              "    60% {\n",
              "      border-color: transparent;\n",
              "      border-right-color: var(--fill-color);\n",
              "    }\n",
              "    80% {\n",
              "      border-color: transparent;\n",
              "      border-right-color: var(--fill-color);\n",
              "      border-bottom-color: var(--fill-color);\n",
              "    }\n",
              "    90% {\n",
              "      border-color: transparent;\n",
              "      border-bottom-color: var(--fill-color);\n",
              "    }\n",
              "  }\n",
              "</style>\n",
              "\n",
              "  <script>\n",
              "    async function quickchart(key) {\n",
              "      const quickchartButtonEl =\n",
              "        document.querySelector('#' + key + ' button');\n",
              "      quickchartButtonEl.disabled = true;  // To prevent multiple clicks.\n",
              "      quickchartButtonEl.classList.add('colab-df-spinner');\n",
              "      try {\n",
              "        const charts = await google.colab.kernel.invokeFunction(\n",
              "            'suggestCharts', [key], {});\n",
              "      } catch (error) {\n",
              "        console.error('Error during call to suggestCharts:', error);\n",
              "      }\n",
              "      quickchartButtonEl.classList.remove('colab-df-spinner');\n",
              "      quickchartButtonEl.classList.add('colab-df-quickchart-complete');\n",
              "    }\n",
              "    (() => {\n",
              "      let quickchartButtonEl =\n",
              "        document.querySelector('#df-6003ced5-0e26-4059-83b4-f4413f7d05c2 button');\n",
              "      quickchartButtonEl.style.display =\n",
              "        google.colab.kernel.accessAllowed ? 'block' : 'none';\n",
              "    })();\n",
              "  </script>\n",
              "</div>\n",
              "    </div>\n",
              "  </div>\n"
            ]
          },
          "metadata": {},
          "execution_count": 26
        }
      ],
      "source": [
        "# Checking null value percentage\n",
        "percent_missing = df.isnull().sum() * 100 / len(df)\n",
        "missing_value_df = pd.DataFrame({'missing_percentage': percent_missing})\n",
        "missing_value_df.sort_values('missing_percentage',ascending=False, inplace=True)\n",
        "missing_value_df.head(28)"
      ]
    },
    {
      "cell_type": "markdown",
      "metadata": {
        "id": "o4IdZADjkz2v"
      },
      "source": [
        "In **index-date, publication-place, for-ages and edition** columns more than 80% null values are present. Drop these columns.\\\n",
        "In **format, publication-date, image-path, image-url\tand image-checksum** columns less than 1% null values are present. Drop these rows."
      ]
    },
    {
      "cell_type": "code",
      "execution_count": 11,
      "metadata": {
        "id": "xFF_nLyQm715"
      },
      "outputs": [],
      "source": [
        "# Drop columns having more than 80% missing values\n",
        "df.drop(['index-date',\t'publication-place', 'for-ages', 'edition'], axis=1, inplace=True)"
      ]
    },
    {
      "cell_type": "code",
      "execution_count": 27,
      "metadata": {
        "colab": {
          "base_uri": "https://localhost:8080/"
        },
        "id": "MBM0gOJGmww_",
        "outputId": "c7f887d2-173d-4f22-ec01-63879dbbb21a"
      },
      "outputs": [
        {
          "output_type": "execute_result",
          "data": {
            "text/plain": [
              "(1100442, 17)"
            ]
          },
          "metadata": {},
          "execution_count": 27
        }
      ],
      "source": [
        "df.shape"
      ]
    },
    {
      "cell_type": "code",
      "execution_count": 13,
      "metadata": {
        "id": "iO7OrkIYmb3I"
      },
      "outputs": [],
      "source": [
        "# Dropping null values less than 1%\n",
        "df.dropna(subset=['format','publication-date'],inplace=True)"
      ]
    },
    {
      "cell_type": "code",
      "execution_count": 28,
      "metadata": {
        "colab": {
          "base_uri": "https://localhost:8080/"
        },
        "id": "3sQVc8ABnGof",
        "outputId": "76abe78b-bc3e-42dd-8a81-801c858b38ff"
      },
      "outputs": [
        {
          "output_type": "execute_result",
          "data": {
            "text/plain": [
              "(1100442, 17)"
            ]
          },
          "metadata": {},
          "execution_count": 28
        }
      ],
      "source": [
        "df.shape"
      ]
    },
    {
      "cell_type": "code",
      "execution_count": 29,
      "metadata": {
        "colab": {
          "base_uri": "https://localhost:8080/"
        },
        "id": "1gXdUWILoDh6",
        "outputId": "e7064e93-b721-422d-aec0-5d8700e045b9"
      },
      "outputs": [
        {
          "output_type": "stream",
          "name": "stdout",
          "text": [
            "Index(['bestsellers-rank', 'dimension-x', 'dimension-y', 'dimension-z',\n",
            "       'imprint', 'lang', 'rating-avg', 'rating-count', 'weight'],\n",
            "      dtype='object')\n"
          ]
        }
      ],
      "source": [
        "# Select columns with missing values exceeding 30% but less than 95%\n",
        "impute_cols = percent_missing[(percent_missing > 1) & (percent_missing < 80)].index\n",
        "print(impute_cols)"
      ]
    },
    {
      "cell_type": "code",
      "execution_count": 30,
      "metadata": {
        "colab": {
          "base_uri": "https://localhost:8080/"
        },
        "id": "4QdNpU-zorr6",
        "outputId": "8d003c43-2c21-402f-9d89-874d9311e9ef"
      },
      "outputs": [
        {
          "output_type": "execute_result",
          "data": {
            "text/plain": [
              "bestsellers-rank    float64\n",
              "dimension-x         float64\n",
              "dimension-y         float64\n",
              "dimension-z         float64\n",
              "imprint              object\n",
              "lang                 object\n",
              "rating-avg          float64\n",
              "rating-count        float64\n",
              "weight              float64\n",
              "dtype: object"
            ]
          },
          "metadata": {},
          "execution_count": 30
        }
      ],
      "source": [
        "df[impute_cols].dtypes"
      ]
    },
    {
      "cell_type": "code",
      "execution_count": 31,
      "metadata": {
        "id": "lDcrl_Ppp6vA"
      },
      "outputs": [],
      "source": [
        "# Separate numeric and categorical columns from impute_cols\n",
        "numeric_cols = df[impute_cols].select_dtypes(include=['float64', 'int64']).columns\n",
        "cat_cols = df[impute_cols].select_dtypes(include=['object']).columns"
      ]
    },
    {
      "cell_type": "code",
      "execution_count": 32,
      "metadata": {
        "colab": {
          "base_uri": "https://localhost:8080/"
        },
        "id": "0ZEXtoLrsdZN",
        "outputId": "67914486-ed31-4b9a-9661-f5c094b56747"
      },
      "outputs": [
        {
          "output_type": "execute_result",
          "data": {
            "text/plain": [
              "Index(['bestsellers-rank', 'dimension-x', 'dimension-y', 'dimension-z',\n",
              "       'rating-avg', 'rating-count', 'weight'],\n",
              "      dtype='object')"
            ]
          },
          "metadata": {},
          "execution_count": 32
        }
      ],
      "source": [
        "numeric_cols"
      ]
    },
    {
      "cell_type": "code",
      "source": [
        "import matplotlib.pyplot as plt\n",
        "import seaborn as sns"
      ],
      "metadata": {
        "id": "xNFkSCa1vCNL"
      },
      "execution_count": null,
      "outputs": []
    },
    {
      "cell_type": "code",
      "source": [
        "# # Checking distribution of numerical columns to check the influence of outliers\n",
        "# for col in numeric_cols:\n",
        "#     plt.figure(figsize=(8, 4))\n",
        "#     sns.histplot(df[col], kde=True)\n",
        "#     plt.title(f'Histogram of {col}')\n",
        "#     plt.xlabel(col)\n",
        "#     plt.ylabel('Frequency')\n",
        "#     plt.show()\n"
      ],
      "metadata": {
        "id": "M8R4jVutumdT"
      },
      "execution_count": null,
      "outputs": []
    },
    {
      "cell_type": "code",
      "source": [
        "cat_cols"
      ],
      "metadata": {
        "colab": {
          "base_uri": "https://localhost:8080/"
        },
        "id": "L9qyhTAI7Heq",
        "outputId": "248954cf-d8f6-4cee-b332-9af8799ee634"
      },
      "execution_count": 33,
      "outputs": [
        {
          "output_type": "execute_result",
          "data": {
            "text/plain": [
              "Index(['imprint', 'lang'], dtype='object')"
            ]
          },
          "metadata": {},
          "execution_count": 33
        }
      ]
    },
    {
      "cell_type": "code",
      "execution_count": 34,
      "metadata": {
        "id": "5srp0UvbpSm5"
      },
      "outputs": [],
      "source": [
        "from sklearn.impute import SimpleImputer"
      ]
    },
    {
      "cell_type": "code",
      "source": [
        "df['imprint'].unique()"
      ],
      "metadata": {
        "colab": {
          "base_uri": "https://localhost:8080/"
        },
        "id": "CKutMNDvOvOd",
        "outputId": "1493de89-3ef7-409b-9189-38ea3a1b4035"
      },
      "execution_count": 41,
      "outputs": [
        {
          "output_type": "execute_result",
          "data": {
            "text/plain": [
              "array(['Mainstream Publishing', nan, 'HarperCollins Publishers Ltd', ...,\n",
              "       'Wanceulen Editorial Sl', 'Modus Operandi', 'Highdown'],\n",
              "      dtype=object)"
            ]
          },
          "metadata": {},
          "execution_count": 41
        }
      ]
    },
    {
      "cell_type": "code",
      "source": [
        "df['imprint'].nunique()"
      ],
      "metadata": {
        "colab": {
          "base_uri": "https://localhost:8080/"
        },
        "id": "5e4OXTz5O2GU",
        "outputId": "3f626670-d60c-4caa-dd62-5005f2ff97e3"
      },
      "execution_count": 42,
      "outputs": [
        {
          "output_type": "execute_result",
          "data": {
            "text/plain": [
              "5705"
            ]
          },
          "metadata": {},
          "execution_count": 42
        }
      ]
    },
    {
      "cell_type": "code",
      "source": [
        "df['lang'].unique()"
      ],
      "metadata": {
        "colab": {
          "base_uri": "https://localhost:8080/"
        },
        "id": "ejIfWf_6O9Ul",
        "outputId": "5a59ffd7-6bc9-40d2-aaf8-d68ce22af401"
      },
      "execution_count": 43,
      "outputs": [
        {
          "output_type": "execute_result",
          "data": {
            "text/plain": [
              "array(['en', 'es', nan, 'it', 'de', 'pl', 'pt', 'fr', 'hi', 'ja', 'mul',\n",
              "       'ca', 'nl', 'lv', 'ru', 'af', 'da', 'ms', 'ar', 'el', 'la', 'sv',\n",
              "       'yo', 'id', 'tl', 'fa', 'zxx', 'cy', 'cr', 'zh', 'ro', 'lo', 'tr',\n",
              "       'ig', 'cs', 'tw', 'iba', 'fi', 'crp', 'no', 'vi', 'mr', 'he', 'sr',\n",
              "       'hu', 'sa', 'eo', 'hy', 'bn', 'nds', 'my', 'ur', 'sd', 'st', 'jv',\n",
              "       'uk', 'sw', 'be', 'th', 'sn', 'ko', 'gsw', 'ka', 'is', 'gu', 'eu',\n",
              "       'bg', 'so', 'ti', 'sq', 'ps', 'nb', 'rn', 'pa', 'tn', 'gl', 'et',\n",
              "       'ku', 'tg', 'km', 'ga', 'om', 'ff', 'sl', 'tk', 'mg', 'te', 'kn',\n",
              "       'ts', 'tt', 'bo', 'lb', 'or', 'hr', 'ta', 'ha', 'lt', 'mdr', 'sk',\n",
              "       'mk', 'am', 'sco', 'ml', 'ne', 'gd', 'nso', 'xh', 'ab', 'dak',\n",
              "       'aus', 'yi', 'man', 'mi', 'rom', 'bs', 'zu', 'fiu', 'ce', 'kw',\n",
              "       'haw', 'pi', 'frs', 'frr', 'ira', 'din', 'afh', 'apa', 'sm', 'ypk',\n",
              "       'mis', 'sem', 'akk', 'si', 'ks', 'pra', 'syr', 'ae', 'arc', 'lad',\n",
              "       'egy', 'pal', 'ug', 'mt', 'mn', 'az', 'co', 'fil', 'as', 'phi',\n",
              "       'ht', 'nn', 'uz', 'got', 'roa', 'br', 'ak', 'art', 'tig', 'tai',\n",
              "       'lg', 'rm'], dtype=object)"
            ]
          },
          "metadata": {},
          "execution_count": 43
        }
      ]
    },
    {
      "cell_type": "code",
      "source": [
        "df['lang'].nunique()"
      ],
      "metadata": {
        "colab": {
          "base_uri": "https://localhost:8080/"
        },
        "id": "AdxRew0VPBXS",
        "outputId": "c4e3122b-54ca-433b-a6dd-759fc9e11a37"
      },
      "execution_count": 44,
      "outputs": [
        {
          "output_type": "execute_result",
          "data": {
            "text/plain": [
              "160"
            ]
          },
          "metadata": {},
          "execution_count": 44
        }
      ]
    },
    {
      "cell_type": "code",
      "execution_count": 47,
      "metadata": {
        "id": "6VPEyncwpC_8",
        "colab": {
          "base_uri": "https://localhost:8080/"
        },
        "outputId": "233a6857-17e4-4992-ce43-4a9c2badd773"
      },
      "outputs": [
        {
          "output_type": "execute_result",
          "data": {
            "text/plain": [
              "authors             0\n",
              "bestsellers-rank    0\n",
              "categories          0\n",
              "dimension-x         0\n",
              "dimension-y         0\n",
              "dimension-z         0\n",
              "format              0\n",
              "id                  0\n",
              "imprint             0\n",
              "isbn10              0\n",
              "isbn13              0\n",
              "lang                0\n",
              "publication-date    0\n",
              "rating-avg          0\n",
              "rating-count        0\n",
              "title               0\n",
              "weight              0\n",
              "dtype: int64"
            ]
          },
          "metadata": {},
          "execution_count": 47
        }
      ],
      "source": [
        "# imputeute missing values for numeric columns with mean\n",
        "num_imputer = SimpleImputer(strategy='mean')\n",
        "df[numeric_cols] = num_imputer.fit_transform(df[numeric_cols])\n",
        "\n",
        "# imputeute missing values for categorical columns with most frequent value\n",
        "cat_imputer = SimpleImputer(strategy='most_frequent')\n",
        "df[cat_cols] = cat_imputer.fit_transform(df[cat_cols])\n",
        "\n",
        "# Check if any missing values remain\n",
        "df.isnull().sum()\n",
        "\n",
        "#no null values in the output"
      ]
    },
    {
      "cell_type": "markdown",
      "source": [
        "**Feature transformation**"
      ],
      "metadata": {
        "id": "e0O2RxlgQ6MQ"
      }
    },
    {
      "cell_type": "code",
      "source": [
        "# Cleaning the category column\n",
        "import string\n",
        "\n",
        "# Create a translation table for punctuation removal\n",
        "translator = str.maketrans(' ', ' ', string.punctuation)\n",
        "\n",
        "# Apply the translation table to the 'Review' column of the data frame\n",
        "df['categories'] = df['categories'].str.translate(translator)\n",
        "df['authors'] =  df['authors'].str.translate(translator)"
      ],
      "metadata": {
        "id": "M_h9pL7IjCJo"
      },
      "execution_count": 101,
      "outputs": []
    },
    {
      "cell_type": "code",
      "source": [
        "df['authors'].unique()"
      ],
      "metadata": {
        "colab": {
          "base_uri": "https://localhost:8080/"
        },
        "id": "JHol4iKjneUo",
        "outputId": "91111399-666f-4343-c719-6f6243fd7ceb"
      },
      "execution_count": 112,
      "outputs": [
        {
          "output_type": "execute_result",
          "data": {
            "text/plain": [
              "array(['216325', '', '214138', ..., '352458', '642893', '44373'],\n",
              "      dtype=object)"
            ]
          },
          "metadata": {},
          "execution_count": 112
        }
      ]
    },
    {
      "cell_type": "code",
      "source": [
        "# Explode the 'Categories' column\n",
        "df['categories'] = df['categories'].str.split()\n",
        "df = df.explode('categories')"
      ],
      "metadata": {
        "colab": {
          "base_uri": "https://localhost:8080/"
        },
        "id": "XH3RN5LdlDoZ",
        "outputId": "5aa485dd-877a-441e-e777-6e541a13ba8b"
      },
      "execution_count": 98,
      "outputs": [
        {
          "output_type": "stream",
          "name": "stdout",
          "text": [
            "          authors  bestsellers-rank categories  dimension-x  dimension-y  \\\n",
            "298201   [216325]            920496        169   160.522581   224.759361   \n",
            "298201   [216325]            920496       3284   160.522581   224.759361   \n",
            "298201   [216325]            920496       2508   160.522581   224.759361   \n",
            "1002186        []            920496        246   160.522581   224.759361   \n",
            "291738   [214138]            920496       2820   160.522581   224.759361   \n",
            "...           ...               ...        ...          ...          ...   \n",
            "47072     [44373]            920496       2679   162.560000   236.220000   \n",
            "47072     [44373]            920496       2689   162.560000   236.220000   \n",
            "47072     [44373]            920496        899   162.560000   236.220000   \n",
            "47072     [44373]            920496       2943   162.560000   236.220000   \n",
            "47072     [44373]            920496       2953   162.560000   236.220000   \n",
            "\n",
            "         dimension-z  format             id                       imprint  \\\n",
            "298201     25.955596       3  9780000000019                       collins   \n",
            "298201     25.955596       3  9780000000019                       collins   \n",
            "298201     25.955596       3  9780000000019                       collins   \n",
            "1002186    25.955596       5  9780000005182                      thorsons   \n",
            "291738     25.955596       3  9780000048066  harpercollins publishers ltd   \n",
            "...              ...     ...            ...                           ...   \n",
            "47072       7.620000       1  9798389450189                     routledge   \n",
            "47072       7.620000       1  9798389450189                     routledge   \n",
            "47072       7.620000       1  9798389450189                     routledge   \n",
            "47072       7.620000       1  9798389450189                     routledge   \n",
            "47072       7.620000       1  9798389450189                     routledge   \n",
            "\n",
            "                isbn13 lang publication-date  rating-avg  rating-count  \\\n",
            "298201   9780000000019   ca       2000-01-01           3         12387   \n",
            "298201   9780000000019   ca       2000-01-01           3         12387   \n",
            "298201   9780000000019   ca       2000-01-01           3         12387   \n",
            "1002186  9780000005182   en       1979-06-01           3         12387   \n",
            "291738   9780000048066   en       1999-11-17           3         12387   \n",
            "...                ...  ...              ...         ...           ...   \n",
            "47072    9798389450189   en       2005-11-19           4             4   \n",
            "47072    9798389450189   en       2005-11-19           4             4   \n",
            "47072    9798389450189   en       2005-11-19           4             4   \n",
            "47072    9798389450189   en       2005-11-19           4             4   \n",
            "47072    9798389450189   en       2005-11-19           4             4   \n",
            "\n",
            "                                                     title      weight  \n",
            "298201            God I Need To Talk To You About Violence  461.821037  \n",
            "298201            God I Need To Talk To You About Violence  461.821037  \n",
            "298201            God I Need To Talk To You About Violence  461.821037  \n",
            "1002186                         The Art Of Public Speaking  461.821037  \n",
            "291738                     Magical Journeys Into The Light  461.821037  \n",
            "...                                                    ...         ...  \n",
            "47072    304 (Polish) Squadron Raf : Wellingtons Agains...  226.800000  \n",
            "47072    304 (Polish) Squadron Raf : Wellingtons Agains...  226.800000  \n",
            "47072    304 (Polish) Squadron Raf : Wellingtons Agains...  226.800000  \n",
            "47072    304 (Polish) Squadron Raf : Wellingtons Agains...  226.800000  \n",
            "47072    304 (Polish) Squadron Raf : Wellingtons Agains...  226.800000  \n",
            "\n",
            "[4036955 rows x 16 columns]\n"
          ]
        }
      ]
    },
    {
      "cell_type": "code",
      "source": [
        "df.dtypes"
      ],
      "metadata": {
        "colab": {
          "base_uri": "https://localhost:8080/"
        },
        "id": "lRLzryVoj1ul",
        "outputId": "4571d3b8-b1f1-4d60-b54e-7667e9dbff86"
      },
      "execution_count": 100,
      "outputs": [
        {
          "output_type": "execute_result",
          "data": {
            "text/plain": [
              "authors                     object\n",
              "bestsellers-rank             int64\n",
              "categories                  object\n",
              "dimension-x                float64\n",
              "dimension-y                float64\n",
              "dimension-z                float64\n",
              "format                       int64\n",
              "id                           int64\n",
              "imprint                     object\n",
              "isbn13                       int64\n",
              "lang                        object\n",
              "publication-date    datetime64[ns]\n",
              "rating-avg                   int64\n",
              "rating-count                 int64\n",
              "title                       object\n",
              "weight                     float64\n",
              "dtype: object"
            ]
          },
          "metadata": {},
          "execution_count": 100
        }
      ]
    },
    {
      "cell_type": "code",
      "source": [
        "df.isnull().sum()"
      ],
      "metadata": {
        "colab": {
          "base_uri": "https://localhost:8080/"
        },
        "id": "P4Z2ajh4mBda",
        "outputId": "e650f950-ae7c-4bf6-fd0a-0683925648fb"
      },
      "execution_count": 103,
      "outputs": [
        {
          "output_type": "execute_result",
          "data": {
            "text/plain": [
              "authors             0\n",
              "bestsellers-rank    0\n",
              "categories          5\n",
              "dimension-x         0\n",
              "dimension-y         0\n",
              "dimension-z         0\n",
              "format              0\n",
              "id                  0\n",
              "imprint             0\n",
              "isbn13              0\n",
              "lang                0\n",
              "publication-date    0\n",
              "rating-avg          0\n",
              "rating-count        0\n",
              "title               0\n",
              "weight              0\n",
              "dtype: int64"
            ]
          },
          "metadata": {},
          "execution_count": 103
        }
      ]
    },
    {
      "cell_type": "code",
      "source": [
        "df.sort_values('authors', inplace=True)"
      ],
      "metadata": {
        "id": "5Ow4zyURoxvp"
      },
      "execution_count": 114,
      "outputs": []
    },
    {
      "cell_type": "code",
      "source": [
        "df['authors'].nunique()"
      ],
      "metadata": {
        "colab": {
          "base_uri": "https://localhost:8080/"
        },
        "id": "MSDphIkypNvm",
        "outputId": "26fb89ba-dbe8-4b95-ac50-ca54f32513a9"
      },
      "execution_count": 118,
      "outputs": [
        {
          "output_type": "execute_result",
          "data": {
            "text/plain": [
              "562598"
            ]
          },
          "metadata": {},
          "execution_count": 118
        }
      ]
    },
    {
      "cell_type": "code",
      "source": [
        "# Print null values in the 'Values' column\n",
        "df[df['categories'].isnull()]"
      ],
      "metadata": {
        "colab": {
          "base_uri": "https://localhost:8080/",
          "height": 484
        },
        "id": "q34gyvcgmYgv",
        "outputId": "f3dcc72f-4f6e-42bc-e2e6-be6a05e21889"
      },
      "execution_count": 105,
      "outputs": [
        {
          "output_type": "execute_result",
          "data": {
            "text/plain": [
              "        authors  bestsellers-rank categories  dimension-x  dimension-y  \\\n",
              "1103242  651300            920496        NaN       127.00       202.95   \n",
              "1054358  631186            920496        NaN       189.00       246.00   \n",
              "1106381   31323           1265745        NaN       215.00       270.00   \n",
              "636323    86969            920496        NaN       102.11       151.89   \n",
              "774006   451558            920496        NaN       215.90       279.91   \n",
              "\n",
              "         dimension-z  format             id          imprint         isbn13  \\\n",
              "1103242         3.56       1  9781082129902        routledge  9781082129902   \n",
              "1054358        26.00       1  9781275344020        routledge  9781275344020   \n",
              "1106381        20.00       4  9781447903055  pearson longman  9781447903055   \n",
              "636323          2.79       1  9781528718035        routledge  9781528718035   \n",
              "774006         10.92       1  9781697045048        routledge  9781697045048   \n",
              "\n",
              "        lang publication-date  rating-avg  rating-count  \\\n",
              "1103242   es       2019-07-23           3         12387   \n",
              "1054358   fr       2012-02-18           3         12387   \n",
              "1106381   en       2012-04-05           3         12387   \n",
              "636323    en       2020-08-03           3         12387   \n",
              "774006    en       2019-10-02           3         12387   \n",
              "\n",
              "                                                     title  weight  \n",
              "1103242  De Consumista A Minimalista : Breve Guía Para ...   72.57  \n",
              "1054358  Essai De Classification Des Suites Monetaires ...  907.00  \n",
              "1106381  Grammar And Vocabulary For Fce 2Nd Edition Wit...  840.00  \n",
              "636323                   The Stuff That Dreams Are Made Of   36.29  \n",
              "774006   I Don'T Have Enough Middle Finger For Alzheime...  480.81  "
            ],
            "text/html": [
              "\n",
              "  <div id=\"df-ef1c0aae-f44c-449b-93de-04d8d163b9e3\" class=\"colab-df-container\">\n",
              "    <div>\n",
              "<style scoped>\n",
              "    .dataframe tbody tr th:only-of-type {\n",
              "        vertical-align: middle;\n",
              "    }\n",
              "\n",
              "    .dataframe tbody tr th {\n",
              "        vertical-align: top;\n",
              "    }\n",
              "\n",
              "    .dataframe thead th {\n",
              "        text-align: right;\n",
              "    }\n",
              "</style>\n",
              "<table border=\"1\" class=\"dataframe\">\n",
              "  <thead>\n",
              "    <tr style=\"text-align: right;\">\n",
              "      <th></th>\n",
              "      <th>authors</th>\n",
              "      <th>bestsellers-rank</th>\n",
              "      <th>categories</th>\n",
              "      <th>dimension-x</th>\n",
              "      <th>dimension-y</th>\n",
              "      <th>dimension-z</th>\n",
              "      <th>format</th>\n",
              "      <th>id</th>\n",
              "      <th>imprint</th>\n",
              "      <th>isbn13</th>\n",
              "      <th>lang</th>\n",
              "      <th>publication-date</th>\n",
              "      <th>rating-avg</th>\n",
              "      <th>rating-count</th>\n",
              "      <th>title</th>\n",
              "      <th>weight</th>\n",
              "    </tr>\n",
              "  </thead>\n",
              "  <tbody>\n",
              "    <tr>\n",
              "      <th>1103242</th>\n",
              "      <td>651300</td>\n",
              "      <td>920496</td>\n",
              "      <td>NaN</td>\n",
              "      <td>127.00</td>\n",
              "      <td>202.95</td>\n",
              "      <td>3.56</td>\n",
              "      <td>1</td>\n",
              "      <td>9781082129902</td>\n",
              "      <td>routledge</td>\n",
              "      <td>9781082129902</td>\n",
              "      <td>es</td>\n",
              "      <td>2019-07-23</td>\n",
              "      <td>3</td>\n",
              "      <td>12387</td>\n",
              "      <td>De Consumista A Minimalista : Breve Guía Para ...</td>\n",
              "      <td>72.57</td>\n",
              "    </tr>\n",
              "    <tr>\n",
              "      <th>1054358</th>\n",
              "      <td>631186</td>\n",
              "      <td>920496</td>\n",
              "      <td>NaN</td>\n",
              "      <td>189.00</td>\n",
              "      <td>246.00</td>\n",
              "      <td>26.00</td>\n",
              "      <td>1</td>\n",
              "      <td>9781275344020</td>\n",
              "      <td>routledge</td>\n",
              "      <td>9781275344020</td>\n",
              "      <td>fr</td>\n",
              "      <td>2012-02-18</td>\n",
              "      <td>3</td>\n",
              "      <td>12387</td>\n",
              "      <td>Essai De Classification Des Suites Monetaires ...</td>\n",
              "      <td>907.00</td>\n",
              "    </tr>\n",
              "    <tr>\n",
              "      <th>1106381</th>\n",
              "      <td>31323</td>\n",
              "      <td>1265745</td>\n",
              "      <td>NaN</td>\n",
              "      <td>215.00</td>\n",
              "      <td>270.00</td>\n",
              "      <td>20.00</td>\n",
              "      <td>4</td>\n",
              "      <td>9781447903055</td>\n",
              "      <td>pearson longman</td>\n",
              "      <td>9781447903055</td>\n",
              "      <td>en</td>\n",
              "      <td>2012-04-05</td>\n",
              "      <td>3</td>\n",
              "      <td>12387</td>\n",
              "      <td>Grammar And Vocabulary For Fce 2Nd Edition Wit...</td>\n",
              "      <td>840.00</td>\n",
              "    </tr>\n",
              "    <tr>\n",
              "      <th>636323</th>\n",
              "      <td>86969</td>\n",
              "      <td>920496</td>\n",
              "      <td>NaN</td>\n",
              "      <td>102.11</td>\n",
              "      <td>151.89</td>\n",
              "      <td>2.79</td>\n",
              "      <td>1</td>\n",
              "      <td>9781528718035</td>\n",
              "      <td>routledge</td>\n",
              "      <td>9781528718035</td>\n",
              "      <td>en</td>\n",
              "      <td>2020-08-03</td>\n",
              "      <td>3</td>\n",
              "      <td>12387</td>\n",
              "      <td>The Stuff That Dreams Are Made Of</td>\n",
              "      <td>36.29</td>\n",
              "    </tr>\n",
              "    <tr>\n",
              "      <th>774006</th>\n",
              "      <td>451558</td>\n",
              "      <td>920496</td>\n",
              "      <td>NaN</td>\n",
              "      <td>215.90</td>\n",
              "      <td>279.91</td>\n",
              "      <td>10.92</td>\n",
              "      <td>1</td>\n",
              "      <td>9781697045048</td>\n",
              "      <td>routledge</td>\n",
              "      <td>9781697045048</td>\n",
              "      <td>en</td>\n",
              "      <td>2019-10-02</td>\n",
              "      <td>3</td>\n",
              "      <td>12387</td>\n",
              "      <td>I Don'T Have Enough Middle Finger For Alzheime...</td>\n",
              "      <td>480.81</td>\n",
              "    </tr>\n",
              "  </tbody>\n",
              "</table>\n",
              "</div>\n",
              "    <div class=\"colab-df-buttons\">\n",
              "\n",
              "  <div class=\"colab-df-container\">\n",
              "    <button class=\"colab-df-convert\" onclick=\"convertToInteractive('df-ef1c0aae-f44c-449b-93de-04d8d163b9e3')\"\n",
              "            title=\"Convert this dataframe to an interactive table.\"\n",
              "            style=\"display:none;\">\n",
              "\n",
              "  <svg xmlns=\"http://www.w3.org/2000/svg\" height=\"24px\" viewBox=\"0 -960 960 960\">\n",
              "    <path d=\"M120-120v-720h720v720H120Zm60-500h600v-160H180v160Zm220 220h160v-160H400v160Zm0 220h160v-160H400v160ZM180-400h160v-160H180v160Zm440 0h160v-160H620v160ZM180-180h160v-160H180v160Zm440 0h160v-160H620v160Z\"/>\n",
              "  </svg>\n",
              "    </button>\n",
              "\n",
              "  <style>\n",
              "    .colab-df-container {\n",
              "      display:flex;\n",
              "      gap: 12px;\n",
              "    }\n",
              "\n",
              "    .colab-df-convert {\n",
              "      background-color: #E8F0FE;\n",
              "      border: none;\n",
              "      border-radius: 50%;\n",
              "      cursor: pointer;\n",
              "      display: none;\n",
              "      fill: #1967D2;\n",
              "      height: 32px;\n",
              "      padding: 0 0 0 0;\n",
              "      width: 32px;\n",
              "    }\n",
              "\n",
              "    .colab-df-convert:hover {\n",
              "      background-color: #E2EBFA;\n",
              "      box-shadow: 0px 1px 2px rgba(60, 64, 67, 0.3), 0px 1px 3px 1px rgba(60, 64, 67, 0.15);\n",
              "      fill: #174EA6;\n",
              "    }\n",
              "\n",
              "    .colab-df-buttons div {\n",
              "      margin-bottom: 4px;\n",
              "    }\n",
              "\n",
              "    [theme=dark] .colab-df-convert {\n",
              "      background-color: #3B4455;\n",
              "      fill: #D2E3FC;\n",
              "    }\n",
              "\n",
              "    [theme=dark] .colab-df-convert:hover {\n",
              "      background-color: #434B5C;\n",
              "      box-shadow: 0px 1px 3px 1px rgba(0, 0, 0, 0.15);\n",
              "      filter: drop-shadow(0px 1px 2px rgba(0, 0, 0, 0.3));\n",
              "      fill: #FFFFFF;\n",
              "    }\n",
              "  </style>\n",
              "\n",
              "    <script>\n",
              "      const buttonEl =\n",
              "        document.querySelector('#df-ef1c0aae-f44c-449b-93de-04d8d163b9e3 button.colab-df-convert');\n",
              "      buttonEl.style.display =\n",
              "        google.colab.kernel.accessAllowed ? 'block' : 'none';\n",
              "\n",
              "      async function convertToInteractive(key) {\n",
              "        const element = document.querySelector('#df-ef1c0aae-f44c-449b-93de-04d8d163b9e3');\n",
              "        const dataTable =\n",
              "          await google.colab.kernel.invokeFunction('convertToInteractive',\n",
              "                                                    [key], {});\n",
              "        if (!dataTable) return;\n",
              "\n",
              "        const docLinkHtml = 'Like what you see? Visit the ' +\n",
              "          '<a target=\"_blank\" href=https://colab.research.google.com/notebooks/data_table.ipynb>data table notebook</a>'\n",
              "          + ' to learn more about interactive tables.';\n",
              "        element.innerHTML = '';\n",
              "        dataTable['output_type'] = 'display_data';\n",
              "        await google.colab.output.renderOutput(dataTable, element);\n",
              "        const docLink = document.createElement('div');\n",
              "        docLink.innerHTML = docLinkHtml;\n",
              "        element.appendChild(docLink);\n",
              "      }\n",
              "    </script>\n",
              "  </div>\n",
              "\n",
              "\n",
              "<div id=\"df-0efb48c4-cd3e-488c-a33d-c48bf0e9c151\">\n",
              "  <button class=\"colab-df-quickchart\" onclick=\"quickchart('df-0efb48c4-cd3e-488c-a33d-c48bf0e9c151')\"\n",
              "            title=\"Suggest charts.\"\n",
              "            style=\"display:none;\">\n",
              "\n",
              "<svg xmlns=\"http://www.w3.org/2000/svg\" height=\"24px\"viewBox=\"0 0 24 24\"\n",
              "     width=\"24px\">\n",
              "    <g>\n",
              "        <path d=\"M19 3H5c-1.1 0-2 .9-2 2v14c0 1.1.9 2 2 2h14c1.1 0 2-.9 2-2V5c0-1.1-.9-2-2-2zM9 17H7v-7h2v7zm4 0h-2V7h2v10zm4 0h-2v-4h2v4z\"/>\n",
              "    </g>\n",
              "</svg>\n",
              "  </button>\n",
              "\n",
              "<style>\n",
              "  .colab-df-quickchart {\n",
              "      --bg-color: #E8F0FE;\n",
              "      --fill-color: #1967D2;\n",
              "      --hover-bg-color: #E2EBFA;\n",
              "      --hover-fill-color: #174EA6;\n",
              "      --disabled-fill-color: #AAA;\n",
              "      --disabled-bg-color: #DDD;\n",
              "  }\n",
              "\n",
              "  [theme=dark] .colab-df-quickchart {\n",
              "      --bg-color: #3B4455;\n",
              "      --fill-color: #D2E3FC;\n",
              "      --hover-bg-color: #434B5C;\n",
              "      --hover-fill-color: #FFFFFF;\n",
              "      --disabled-bg-color: #3B4455;\n",
              "      --disabled-fill-color: #666;\n",
              "  }\n",
              "\n",
              "  .colab-df-quickchart {\n",
              "    background-color: var(--bg-color);\n",
              "    border: none;\n",
              "    border-radius: 50%;\n",
              "    cursor: pointer;\n",
              "    display: none;\n",
              "    fill: var(--fill-color);\n",
              "    height: 32px;\n",
              "    padding: 0;\n",
              "    width: 32px;\n",
              "  }\n",
              "\n",
              "  .colab-df-quickchart:hover {\n",
              "    background-color: var(--hover-bg-color);\n",
              "    box-shadow: 0 1px 2px rgba(60, 64, 67, 0.3), 0 1px 3px 1px rgba(60, 64, 67, 0.15);\n",
              "    fill: var(--button-hover-fill-color);\n",
              "  }\n",
              "\n",
              "  .colab-df-quickchart-complete:disabled,\n",
              "  .colab-df-quickchart-complete:disabled:hover {\n",
              "    background-color: var(--disabled-bg-color);\n",
              "    fill: var(--disabled-fill-color);\n",
              "    box-shadow: none;\n",
              "  }\n",
              "\n",
              "  .colab-df-spinner {\n",
              "    border: 2px solid var(--fill-color);\n",
              "    border-color: transparent;\n",
              "    border-bottom-color: var(--fill-color);\n",
              "    animation:\n",
              "      spin 1s steps(1) infinite;\n",
              "  }\n",
              "\n",
              "  @keyframes spin {\n",
              "    0% {\n",
              "      border-color: transparent;\n",
              "      border-bottom-color: var(--fill-color);\n",
              "      border-left-color: var(--fill-color);\n",
              "    }\n",
              "    20% {\n",
              "      border-color: transparent;\n",
              "      border-left-color: var(--fill-color);\n",
              "      border-top-color: var(--fill-color);\n",
              "    }\n",
              "    30% {\n",
              "      border-color: transparent;\n",
              "      border-left-color: var(--fill-color);\n",
              "      border-top-color: var(--fill-color);\n",
              "      border-right-color: var(--fill-color);\n",
              "    }\n",
              "    40% {\n",
              "      border-color: transparent;\n",
              "      border-right-color: var(--fill-color);\n",
              "      border-top-color: var(--fill-color);\n",
              "    }\n",
              "    60% {\n",
              "      border-color: transparent;\n",
              "      border-right-color: var(--fill-color);\n",
              "    }\n",
              "    80% {\n",
              "      border-color: transparent;\n",
              "      border-right-color: var(--fill-color);\n",
              "      border-bottom-color: var(--fill-color);\n",
              "    }\n",
              "    90% {\n",
              "      border-color: transparent;\n",
              "      border-bottom-color: var(--fill-color);\n",
              "    }\n",
              "  }\n",
              "</style>\n",
              "\n",
              "  <script>\n",
              "    async function quickchart(key) {\n",
              "      const quickchartButtonEl =\n",
              "        document.querySelector('#' + key + ' button');\n",
              "      quickchartButtonEl.disabled = true;  // To prevent multiple clicks.\n",
              "      quickchartButtonEl.classList.add('colab-df-spinner');\n",
              "      try {\n",
              "        const charts = await google.colab.kernel.invokeFunction(\n",
              "            'suggestCharts', [key], {});\n",
              "      } catch (error) {\n",
              "        console.error('Error during call to suggestCharts:', error);\n",
              "      }\n",
              "      quickchartButtonEl.classList.remove('colab-df-spinner');\n",
              "      quickchartButtonEl.classList.add('colab-df-quickchart-complete');\n",
              "    }\n",
              "    (() => {\n",
              "      let quickchartButtonEl =\n",
              "        document.querySelector('#df-0efb48c4-cd3e-488c-a33d-c48bf0e9c151 button');\n",
              "      quickchartButtonEl.style.display =\n",
              "        google.colab.kernel.accessAllowed ? 'block' : 'none';\n",
              "    })();\n",
              "  </script>\n",
              "</div>\n",
              "    </div>\n",
              "  </div>\n"
            ]
          },
          "metadata": {},
          "execution_count": 105
        }
      ]
    },
    {
      "cell_type": "code",
      "source": [
        "df.dropna(subset=['categories'], inplace =True)"
      ],
      "metadata": {
        "id": "-oGNwZV-moS5"
      },
      "execution_count": 110,
      "outputs": []
    },
    {
      "cell_type": "code",
      "source": [
        "df.isnull().sum()"
      ],
      "metadata": {
        "colab": {
          "base_uri": "https://localhost:8080/"
        },
        "id": "g7UWqHgVnWe-",
        "outputId": "79b69ac7-67eb-45ca-d939-637f53b89324"
      },
      "execution_count": 111,
      "outputs": [
        {
          "output_type": "execute_result",
          "data": {
            "text/plain": [
              "authors             0\n",
              "bestsellers-rank    0\n",
              "categories          0\n",
              "dimension-x         0\n",
              "dimension-y         0\n",
              "dimension-z         0\n",
              "format              0\n",
              "id                  0\n",
              "imprint             0\n",
              "isbn13              0\n",
              "lang                0\n",
              "publication-date    0\n",
              "rating-avg          0\n",
              "rating-count        0\n",
              "title               0\n",
              "weight              0\n",
              "dtype: int64"
            ]
          },
          "metadata": {},
          "execution_count": 111
        }
      ]
    },
    {
      "cell_type": "code",
      "source": [
        "# Changing datatype of rating-avg and bestsellers-rank\n",
        "change_type = {'rating-avg': int, 'bestsellers-rank': int,'format': int,'rating-count': int}\n",
        "df = df.astype(change_type)"
      ],
      "metadata": {
        "id": "l4dv27vyRMgE"
      },
      "execution_count": 77,
      "outputs": []
    },
    {
      "cell_type": "code",
      "source": [
        "# Extract count of values having X from isbn10\n",
        "count_X_values = df['isbn10'].str.count('X').sum()\n",
        "print(f\"Count of values with 'X' in the column 'isbn10': {count_X_values}\")"
      ],
      "metadata": {
        "colab": {
          "base_uri": "https://localhost:8080/"
        },
        "id": "fb9xM6yIYg7T",
        "outputId": "87c05831-e857-4734-85ae-e77d6da16268"
      },
      "execution_count": 67,
      "outputs": [
        {
          "output_type": "stream",
          "name": "stdout",
          "text": [
            "Count of values with 'X' in the column 'isbn10': 99299\n"
          ]
        }
      ]
    },
    {
      "cell_type": "code",
      "source": [
        "# dropping isbn10 since it has X in values\n",
        "df.drop(['isbn10'],axis=1,inplace=True)"
      ],
      "metadata": {
        "id": "iTUm-sGsT5tV"
      },
      "execution_count": 68,
      "outputs": []
    },
    {
      "cell_type": "code",
      "source": [
        "# Changing publication date to proper date format\n",
        "df['publication-date'] = pd.to_datetime(df['publication-date'])"
      ],
      "metadata": {
        "id": "kKMTQs0AZQIM"
      },
      "execution_count": 73,
      "outputs": []
    },
    {
      "cell_type": "code",
      "source": [
        "df.shape"
      ],
      "metadata": {
        "colab": {
          "base_uri": "https://localhost:8080/"
        },
        "id": "BrmRESlDZBYN",
        "outputId": "499cda49-f8f2-4054-ff3d-28cd3cc623bb"
      },
      "execution_count": 69,
      "outputs": [
        {
          "output_type": "execute_result",
          "data": {
            "text/plain": [
              "(1100442, 16)"
            ]
          },
          "metadata": {},
          "execution_count": 69
        }
      ]
    },
    {
      "cell_type": "code",
      "source": [
        "df.dtypes"
      ],
      "metadata": {
        "colab": {
          "base_uri": "https://localhost:8080/"
        },
        "id": "CMQGq4LOSOFq",
        "outputId": "103a6b7b-9bc6-415c-9abc-8beabd4a8aef"
      },
      "execution_count": 78,
      "outputs": [
        {
          "output_type": "execute_result",
          "data": {
            "text/plain": [
              "authors                     object\n",
              "bestsellers-rank             int64\n",
              "categories                  object\n",
              "dimension-x                float64\n",
              "dimension-y                float64\n",
              "dimension-z                float64\n",
              "format                       int64\n",
              "id                           int64\n",
              "imprint                     object\n",
              "isbn13                       int64\n",
              "lang                        object\n",
              "publication-date    datetime64[ns]\n",
              "rating-avg                   int64\n",
              "rating-count                 int64\n",
              "title                       object\n",
              "weight                     float64\n",
              "dtype: object"
            ]
          },
          "metadata": {},
          "execution_count": 78
        }
      ]
    },
    {
      "cell_type": "code",
      "source": [
        "# convert lowercase column use apply()\n",
        "for i in cat_cols:\n",
        "  df[i] = df[i].apply(str.lower)\n",
        "  print(df[i])"
      ],
      "metadata": {
        "colab": {
          "base_uri": "https://localhost:8080/"
        },
        "id": "ghYebLM8Srey",
        "outputId": "33055e3a-4464-4fa3-a0fe-774c3cbd7c98"
      },
      "execution_count": 75,
      "outputs": [
        {
          "output_type": "stream",
          "name": "stdout",
          "text": [
            "0                 mainstream publishing\n",
            "1                             routledge\n",
            "2                             routledge\n",
            "3                             routledge\n",
            "4          harpercollins publishers ltd\n",
            "                       ...             \n",
            "1109378                       routledge\n",
            "1109379                       routledge\n",
            "1109380                       routledge\n",
            "1109381                   prentice-hall\n",
            "1109382           hungry minds inc,u.s.\n",
            "Name: imprint, Length: 1100442, dtype: object\n",
            "0          en\n",
            "1          en\n",
            "2          es\n",
            "3          en\n",
            "4          en\n",
            "           ..\n",
            "1109378    en\n",
            "1109379    en\n",
            "1109380    en\n",
            "1109381    en\n",
            "1109382    en\n",
            "Name: lang, Length: 1100442, dtype: object\n"
          ]
        }
      ]
    },
    {
      "cell_type": "code",
      "source": [
        "# convert to sentence case\n",
        "df['title'] = df['title'].apply(str.title)\n",
        "print(df['title'])"
      ],
      "metadata": {
        "colab": {
          "base_uri": "https://localhost:8080/"
        },
        "id": "C4z2SJt1bc_G",
        "outputId": "64593bd4-4d17-49c9-d9ef-aa73477d47a3"
      },
      "execution_count": 79,
      "outputs": [
        {
          "output_type": "stream",
          "name": "stdout",
          "text": [
            "0          Soldier Five : The Real Truth About The Bravo ...\n",
            "1                              Underbelly : The Gangland War\n",
            "2                                    A Sir Phillip, Con Amor\n",
            "3                    Qi: The Third Book Of General Ignorance\n",
            "4                             The Hidden Power Of F*Cking Up\n",
            "                                 ...                        \n",
            "1109378                            Making Money At The Races\n",
            "1109379    2020 : Diary, Weekly Planner, Organiser, Year ...\n",
            "1109380                                 Canoeing And Camping\n",
            "1109381    The Complete Guide To Western Horsemanship (Cl...\n",
            "1109382    Show Ring Success : A Rider'S Guide To Winning...\n",
            "Name: title, Length: 1100442, dtype: object\n"
          ]
        }
      ]
    },
    {
      "cell_type": "code",
      "source": [
        "from sklearn.preprocessing import LabelEncoder\n",
        "le = LabelEncoder()\n",
        "# Fitting and transforming the 'imprint' column\n",
        "df['imprint'] = le.fit_transform(df['imprint'].astype(str))\n",
        "# Fitting and transforming the 'lang' column\n",
        "df['lang'] = le.fit_transform(df['lang'].astype(str))\n"
      ],
      "metadata": {
        "id": "KhZA-C4ytAyO"
      },
      "execution_count": 120,
      "outputs": []
    },
    {
      "cell_type": "code",
      "source": [
        "df.dtypes"
      ],
      "metadata": {
        "colab": {
          "base_uri": "https://localhost:8080/"
        },
        "id": "l83QeF8DtJx8",
        "outputId": "212c77ad-0e09-420c-9158-65570f664414"
      },
      "execution_count": 121,
      "outputs": [
        {
          "output_type": "execute_result",
          "data": {
            "text/plain": [
              "authors                     object\n",
              "bestsellers-rank             int64\n",
              "categories                  object\n",
              "dimension-x                float64\n",
              "dimension-y                float64\n",
              "dimension-z                float64\n",
              "format                       int64\n",
              "id                           int64\n",
              "imprint                      int64\n",
              "isbn13                       int64\n",
              "lang                         int64\n",
              "publication-date    datetime64[ns]\n",
              "rating-avg                   int64\n",
              "rating-count                 int64\n",
              "title                       object\n",
              "weight                     float64\n",
              "dtype: object"
            ]
          },
          "metadata": {},
          "execution_count": 121
        }
      ]
    },
    {
      "cell_type": "code",
      "source": [
        "# Feature Selection using Correlation Analysis\n",
        "import seaborn as sns\n",
        "import matplotlib.pyplot as plt\n",
        "# Correlation matrix\n",
        "correlation_matrix = df.corr()\n",
        "# Plot the heatmap\n",
        "plt.figure(figsize=(12, 8))\n",
        "sns.heatmap(correlation_matrix, annot=True, cmap='coolwarm', fmt=\".2f\", linewidths=0.5)\n",
        "plt.title('Correlation Heatmap')\n",
        "plt.show()"
      ],
      "metadata": {
        "colab": {
          "base_uri": "https://localhost:8080/",
          "height": 850
        },
        "id": "EozUnKOJ36J3",
        "outputId": "b8fc2320-a632-486b-dd31-d960aaf4048b"
      },
      "execution_count": 122,
      "outputs": [
        {
          "output_type": "stream",
          "name": "stderr",
          "text": [
            "<ipython-input-122-98a2f7ccb217>:5: FutureWarning: The default value of numeric_only in DataFrame.corr is deprecated. In a future version, it will default to False. Select only valid columns or specify the value of numeric_only to silence this warning.\n",
            "  correlation_matrix = df.corr()\n"
          ]
        },
        {
          "output_type": "display_data",
          "data": {
            "text/plain": [
              "<Figure size 1200x800 with 2 Axes>"
            ],
            "image/png": "[encoded data removed]"
          },
          "metadata": {}
        }
      ]
    },
    {
      "cell_type": "code",
      "source": [
        "# Selected features\n",
        "predictors = [ 'bestsellers-rank','imprint', 'lang',\n",
        "       'dimension-x', 'dimension-y', 'dimension-z', 'format', 'isbn13',\n",
        "       'rating-count', 'weight']"
      ],
      "metadata": {
        "id": "GRM_tdq76B-i"
      },
      "execution_count": 125,
      "outputs": []
    },
    {
      "cell_type": "code",
      "source": [
        "# Data Preparation\n",
        "X = df[predictors]\n",
        "y = df['rating-avg']"
      ],
      "metadata": {
        "id": "ZQALf5ac6qmn"
      },
      "execution_count": 126,
      "outputs": []
    },
    {
      "cell_type": "code",
      "source": [
        "from sklearn.model_selection import train_test_split\n",
        "from sklearn.preprocessing import StandardScaler\n",
        "from sklearn.linear_model import LogisticRegression\n",
        "from sklearn.metrics import accuracy_score, confusion_matrix\n",
        "\n",
        "# Train-test split\n",
        "X_train, X_rem, y_train, y_rem = train_test_split(X, y, test_size=0.3, random_state=42)\n",
        "X_val, X_test, y_val, y_test = train_test_split(X_rem, y_rem, test_size=0.5, random_state=42)\n",
        "\n",
        "# # Feature Scaling\n",
        "# scaler = StandardScaler()\n",
        "# X_train = scaler.fit_transform(X_train)\n",
        "# X_val = scaler.transform(X_val)\n",
        "# X_test = scaler.transform(X_test)\n"
      ],
      "metadata": {
        "id": "nz7ySvI87lJ9"
      },
      "execution_count": 140,
      "outputs": []
    },
    {
      "cell_type": "code",
      "source": [
        "from sklearn.linear_model import LogisticRegression\n",
        "\n",
        "model = LogisticRegression(multi_class='multinomial', solver='lbfgs')\n",
        "model.fit(X_train, y_train)\n",
        "\n",
        "from sklearn.metrics import accuracy_score, confusion_matrix\n",
        "\n",
        "y_pred = model.predict(X_test)\n",
        "accuracy = accuracy_score(y_test, y_pred)\n",
        "conf_matrix = confusion_matrix(y_test, y_pred)\n",
        "print(f\"Accuracy: {accuracy}\")\n",
        "print(f\"Confusion Matrix:\\n{conf_matrix}\")"
      ],
      "metadata": {
        "colab": {
          "base_uri": "https://localhost:8080/"
        },
        "id": "UOWwWsLbCH97",
        "outputId": "6b063256-9ce2-469f-f948-ab8592dd2800"
      },
      "execution_count": 128,
      "outputs": [
        {
          "output_type": "stream",
          "name": "stdout",
          "text": [
            "Accuracy: 0.6542373702799469\n",
            "Confusion Matrix:\n",
            "[[     0      0    434      0      0]\n",
            " [     0      0   2187      0      0]\n",
            " [     0      0 107993      0      0]\n",
            " [     0      0  47988      0      0]\n",
            " [     0      0   6465      0      0]]\n"
          ]
        }
      ]
    },
    {
      "cell_type": "code",
      "source": [
        "from sklearn.linear_model import LogisticRegression\n",
        "import matplotlib.pyplot as plt\n",
        "\n",
        "model = LogisticRegression(multi_class='multinomial', solver='lbfgs')\n",
        "model.fit(X_train, y_train)\n",
        "\n",
        "train_accuracy = model.score(X_train, y_train)\n",
        "val_accuracy = model.score(X_val, y_val)\n",
        "\n",
        "from sklearn.metrics import accuracy_score, confusion_matrix\n",
        "\n",
        "y_pred_test = model.predict(X_test)\n",
        "test_accuracy = accuracy_score(y_test, y_pred_test)\n",
        "conf_matrix = confusion_matrix(y_test, y_pred_test)\n",
        "print(f\"Train Accuracy: {train_accuracy}\")\n",
        "print(f\"Validation Accuracy: {val_accuracy}\")\n",
        "print(f\"Test Accuracy: {test_accuracy}\")\n",
        "print(f\"Confusion Matrix:\\n{conf_matrix}\")\n",
        "\n",
        "# # Plotting the losses\n",
        "# plt.plot(model.loss_curve_)\n",
        "# plt.title('Training Loss Curve')\n",
        "# plt.xlabel('Iterations')\n",
        "# plt.ylabel('Loss')\n",
        "# plt.show()\n"
      ],
      "metadata": {
        "colab": {
          "base_uri": "https://localhost:8080/"
        },
        "id": "QF1f037GuLn_",
        "outputId": "6d83341a-d940-4afa-fd17-121e78f424db"
      },
      "execution_count": 130,
      "outputs": [
        {
          "output_type": "stream",
          "name": "stdout",
          "text": [
            "Train Accuracy: 0.6526303080971403\n",
            "Validation Accuracy: 0.6518059442889511\n",
            "Test Accuracy: 0.6542373702799469\n",
            "Confusion Matrix:\n",
            "[[     0      0    434      0      0]\n",
            " [     0      0   2187      0      0]\n",
            " [     0      0 107993      0      0]\n",
            " [     0      0  47988      0      0]\n",
            " [     0      0   6465      0      0]]\n"
          ]
        }
      ]
    },
    {
      "cell_type": "code",
      "source": [
        "\n",
        "# Model selection and training\n",
        "from sklearn.ensemble import RandomForestClassifier\n",
        "\n",
        "model = RandomForestClassifier()\n",
        "model.fit(X_train, y_train)\n",
        "\n",
        "# Model evaluation\n",
        "y_train_pred = model.predict(X_train)\n",
        "y_val_pred = model.predict(X_val)\n",
        "y_test_pred = model.predict(X_test)\n",
        "\n",
        "print(\"Training Accuracy:\", accuracy_score(y_train, y_train_pred))\n",
        "print(\"Validation Accuracy:\", accuracy_score(y_val, y_val_pred))\n",
        "print(\"Test Accuracy:\", accuracy_score(y_test, y_test_pred))\n"
      ],
      "metadata": {
        "id": "giODN4U4_s2m",
        "colab": {
          "base_uri": "https://localhost:8080/"
        },
        "outputId": "ba7d1a78-4671-4c35-e81e-9ff694e34064"
      },
      "execution_count": 131,
      "outputs": [
        {
          "output_type": "stream",
          "name": "stdout",
          "text": [
            "Training Accuracy: 0.9977346753056241\n",
            "Validation Accuracy: 0.7435571226055032\n",
            "Test Accuracy: 0.7435647343200034\n"
          ]
        }
      ]
    }
  ],
  "metadata": {
    "colab": {
      "provenance": [],
      "authorship_tag": "ABX9TyOs/WdE3AGIU0mDnB9SSDGT",
      "include_colab_link": true
    },
    "kernelspec": {
      "display_name": "Python 3",
      "name": "python3"
    },
    "language_info": {
      "name": "python"
    }
  },
  "nbformat": 4,
  "nbformat_minor": 0
}