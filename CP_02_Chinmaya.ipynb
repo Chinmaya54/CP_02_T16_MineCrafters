{
  "cells": [
    {
      "cell_type": "markdown",
      "metadata": {
        "id": "view-in-github",
        "colab_type": "text"
      },
      "source": [
        "<a href=\"https://colab.research.google.com/github/Chinmaya54/CP_02_T16_MineCrafters/blob/Chinmaya/CP_02_Chinmaya.ipynb\" target=\"_parent\"><img src=\"https://colab.research.google.com/assets/colab-badge.svg\" alt=\"Open In Colab\"/></a>"
      ]
    },
    {
      "cell_type": "code",
      "execution_count": null,
      "metadata": {
        "id": "p8karVp0jf0Y"
      },
      "outputs": [],
      "source": [
        "import pandas as pd\n",
        "import numpy as np"
      ]
    },
    {
      "cell_type": "code",
      "execution_count": null,
      "metadata": {
        "colab": {
          "base_uri": "https://localhost:8080/"
        },
        "id": "1x3-8BjZkg60",
        "outputId": "6153526b-0f3b-41d0-c5e4-cbd1a8ff6de3"
      },
      "outputs": [
        {
          "output_type": "stream",
          "name": "stdout",
          "text": [
            "Mounted at /content/drive\n"
          ]
        }
      ],
      "source": [
        "from google.colab import drive\n",
        "drive.mount('/content/drive')"
      ]
    },
    {
      "cell_type": "code",
      "execution_count": null,
      "metadata": {
        "id": "ffZP6Cr7jT8M"
      },
      "outputs": [],
      "source": [
        "df = pd.read_csv('/content/drive/MyDrive/Assignment Datasets /Bookstore_depo.csv')"
      ]
    },
    {
      "cell_type": "code",
      "execution_count": null,
      "metadata": {
        "colab": {
          "base_uri": "https://localhost:8080/"
        },
        "id": "vudOw5vSmsog",
        "outputId": "702ff4a0-1e00-401a-e880-b3443c9e62eb"
      },
      "outputs": [
        {
          "output_type": "execute_result",
          "data": {
            "text/plain": [
              "(1109383, 28)"
            ]
          },
          "metadata": {},
          "execution_count": 28
        }
      ],
      "source": [
        "df.shape"
      ]
    },
    {
      "cell_type": "code",
      "source": [
        "df.columns"
      ],
      "metadata": {
        "colab": {
          "base_uri": "https://localhost:8080/"
        },
        "id": "YXUJ9a-3uThK",
        "outputId": "614309a7-ebcc-4164-cba9-314463fef16c"
      },
      "execution_count": null,
      "outputs": [
        {
          "output_type": "execute_result",
          "data": {
            "text/plain": [
              "Index(['authors', 'bestsellers-rank', 'categories', 'description',\n",
              "       'dimension-x', 'dimension-y', 'dimension-z', 'edition',\n",
              "       'edition-statement', 'for-ages', 'format', 'id', 'illustrations-note',\n",
              "       'image-checksum', 'image-path', 'image-url', 'imprint', 'index-date',\n",
              "       'isbn10', 'isbn13', 'lang', 'publication-date', 'publication-place',\n",
              "       'rating-avg', 'rating-count', 'title', 'url', 'weight'],\n",
              "      dtype='object')"
            ]
          },
          "metadata": {},
          "execution_count": 29
        }
      ]
    },
    {
      "cell_type": "code",
      "source": [
        "df.describe()"
      ],
      "metadata": {
        "colab": {
          "base_uri": "https://localhost:8080/",
          "height": 300
        },
        "id": "zCyIX6wcuX0d",
        "outputId": "c59eafd3-9ff2-4873-d599-f0d060e88018"
      },
      "execution_count": null,
      "outputs": [
        {
          "output_type": "execute_result",
          "data": {
            "text/plain": [
              "       bestsellers-rank   dimension-x   dimension-y   dimension-z  \\\n",
              "count      6.425410e+05  1.061156e+06  1.015852e+06  1.061156e+06   \n",
              "mean       9.209777e+05  1.607659e+02  2.249102e+02  2.644117e+01   \n",
              "std        8.642210e+05  3.802671e+01  4.347322e+01  4.779869e+01   \n",
              "min        1.001000e+03  2.500000e-01  1.000000e+00  1.000000e-01   \n",
              "25%        1.654890e+05  1.380000e+02  2.030000e+02  9.000000e+00   \n",
              "50%        6.646830e+05  1.520000e+02  2.290000e+02  1.575000e+01   \n",
              "75%        1.455812e+06  1.780000e+02  2.420000e+02  2.500000e+01   \n",
              "max        3.679776e+06  3.871000e+03  2.000000e+03  2.000000e+03   \n",
              "\n",
              "             format            id  index-date        isbn13  \\\n",
              "count  1.102761e+06  1.109383e+06         0.0  1.109383e+06   \n",
              "mean   1.774440e+00  9.781658e+12         NaN  9.781658e+12   \n",
              "std    2.124599e+00  1.747523e+09         NaN  1.747523e+09   \n",
              "min    1.000000e+00  9.780000e+12         NaN  9.780000e+12   \n",
              "25%    1.000000e+00  9.780801e+12         NaN  9.780801e+12   \n",
              "50%    1.000000e+00  9.781474e+12         NaN  9.781474e+12   \n",
              "75%    2.000000e+00  9.781743e+12         NaN  9.781743e+12   \n",
              "max    4.900000e+01  9.798389e+12         NaN  9.798389e+12   \n",
              "\n",
              "       publication-place     rating-avg  rating-count        weight  \n",
              "count                0.0  669253.000000  6.692530e+05  1.022210e+06  \n",
              "mean                 NaN       3.974918  1.239215e+04  4.616623e+02  \n",
              "std                  NaN       0.543605  1.333263e+05  6.587618e+02  \n",
              "min                  NaN       1.000000  1.000000e+00  1.500000e+01  \n",
              "25%                  NaN       3.730000  5.000000e+00  1.814400e+02  \n",
              "50%                  NaN       4.000000  3.900000e+01  3.180000e+02  \n",
              "75%                  NaN       4.260000  5.200000e+02  5.352400e+02  \n",
              "max                  NaN       5.000000  7.377337e+06  8.252200e+04  "
            ],
            "text/html": [
              "\n",
              "  <div id=\"df-2e0c56c2-6e2f-47d4-b414-83822c8fc27d\" class=\"colab-df-container\">\n",
              "    <div>\n",
              "<style scoped>\n",
              "    .dataframe tbody tr th:only-of-type {\n",
              "        vertical-align: middle;\n",
              "    }\n",
              "\n",
              "    .dataframe tbody tr th {\n",
              "        vertical-align: top;\n",
              "    }\n",
              "\n",
              "    .dataframe thead th {\n",
              "        text-align: right;\n",
              "    }\n",
              "</style>\n",
              "<table border=\"1\" class=\"dataframe\">\n",
              "  <thead>\n",
              "    <tr style=\"text-align: right;\">\n",
              "      <th></th>\n",
              "      <th>bestsellers-rank</th>\n",
              "      <th>dimension-x</th>\n",
              "      <th>dimension-y</th>\n",
              "      <th>dimension-z</th>\n",
              "      <th>format</th>\n",
              "      <th>id</th>\n",
              "      <th>index-date</th>\n",
              "      <th>isbn13</th>\n",
              "      <th>publication-place</th>\n",
              "      <th>rating-avg</th>\n",
              "      <th>rating-count</th>\n",
              "      <th>weight</th>\n",
              "    </tr>\n",
              "  </thead>\n",
              "  <tbody>\n",
              "    <tr>\n",
              "      <th>count</th>\n",
              "      <td>6.425410e+05</td>\n",
              "      <td>1.061156e+06</td>\n",
              "      <td>1.015852e+06</td>\n",
              "      <td>1.061156e+06</td>\n",
              "      <td>1.102761e+06</td>\n",
              "      <td>1.109383e+06</td>\n",
              "      <td>0.0</td>\n",
              "      <td>1.109383e+06</td>\n",
              "      <td>0.0</td>\n",
              "      <td>669253.000000</td>\n",
              "      <td>6.692530e+05</td>\n",
              "      <td>1.022210e+06</td>\n",
              "    </tr>\n",
              "    <tr>\n",
              "      <th>mean</th>\n",
              "      <td>9.209777e+05</td>\n",
              "      <td>1.607659e+02</td>\n",
              "      <td>2.249102e+02</td>\n",
              "      <td>2.644117e+01</td>\n",
              "      <td>1.774440e+00</td>\n",
              "      <td>9.781658e+12</td>\n",
              "      <td>NaN</td>\n",
              "      <td>9.781658e+12</td>\n",
              "      <td>NaN</td>\n",
              "      <td>3.974918</td>\n",
              "      <td>1.239215e+04</td>\n",
              "      <td>4.616623e+02</td>\n",
              "    </tr>\n",
              "    <tr>\n",
              "      <th>std</th>\n",
              "      <td>8.642210e+05</td>\n",
              "      <td>3.802671e+01</td>\n",
              "      <td>4.347322e+01</td>\n",
              "      <td>4.779869e+01</td>\n",
              "      <td>2.124599e+00</td>\n",
              "      <td>1.747523e+09</td>\n",
              "      <td>NaN</td>\n",
              "      <td>1.747523e+09</td>\n",
              "      <td>NaN</td>\n",
              "      <td>0.543605</td>\n",
              "      <td>1.333263e+05</td>\n",
              "      <td>6.587618e+02</td>\n",
              "    </tr>\n",
              "    <tr>\n",
              "      <th>min</th>\n",
              "      <td>1.001000e+03</td>\n",
              "      <td>2.500000e-01</td>\n",
              "      <td>1.000000e+00</td>\n",
              "      <td>1.000000e-01</td>\n",
              "      <td>1.000000e+00</td>\n",
              "      <td>9.780000e+12</td>\n",
              "      <td>NaN</td>\n",
              "      <td>9.780000e+12</td>\n",
              "      <td>NaN</td>\n",
              "      <td>1.000000</td>\n",
              "      <td>1.000000e+00</td>\n",
              "      <td>1.500000e+01</td>\n",
              "    </tr>\n",
              "    <tr>\n",
              "      <th>25%</th>\n",
              "      <td>1.654890e+05</td>\n",
              "      <td>1.380000e+02</td>\n",
              "      <td>2.030000e+02</td>\n",
              "      <td>9.000000e+00</td>\n",
              "      <td>1.000000e+00</td>\n",
              "      <td>9.780801e+12</td>\n",
              "      <td>NaN</td>\n",
              "      <td>9.780801e+12</td>\n",
              "      <td>NaN</td>\n",
              "      <td>3.730000</td>\n",
              "      <td>5.000000e+00</td>\n",
              "      <td>1.814400e+02</td>\n",
              "    </tr>\n",
              "    <tr>\n",
              "      <th>50%</th>\n",
              "      <td>6.646830e+05</td>\n",
              "      <td>1.520000e+02</td>\n",
              "      <td>2.290000e+02</td>\n",
              "      <td>1.575000e+01</td>\n",
              "      <td>1.000000e+00</td>\n",
              "      <td>9.781474e+12</td>\n",
              "      <td>NaN</td>\n",
              "      <td>9.781474e+12</td>\n",
              "      <td>NaN</td>\n",
              "      <td>4.000000</td>\n",
              "      <td>3.900000e+01</td>\n",
              "      <td>3.180000e+02</td>\n",
              "    </tr>\n",
              "    <tr>\n",
              "      <th>75%</th>\n",
              "      <td>1.455812e+06</td>\n",
              "      <td>1.780000e+02</td>\n",
              "      <td>2.420000e+02</td>\n",
              "      <td>2.500000e+01</td>\n",
              "      <td>2.000000e+00</td>\n",
              "      <td>9.781743e+12</td>\n",
              "      <td>NaN</td>\n",
              "      <td>9.781743e+12</td>\n",
              "      <td>NaN</td>\n",
              "      <td>4.260000</td>\n",
              "      <td>5.200000e+02</td>\n",
              "      <td>5.352400e+02</td>\n",
              "    </tr>\n",
              "    <tr>\n",
              "      <th>max</th>\n",
              "      <td>3.679776e+06</td>\n",
              "      <td>3.871000e+03</td>\n",
              "      <td>2.000000e+03</td>\n",
              "      <td>2.000000e+03</td>\n",
              "      <td>4.900000e+01</td>\n",
              "      <td>9.798389e+12</td>\n",
              "      <td>NaN</td>\n",
              "      <td>9.798389e+12</td>\n",
              "      <td>NaN</td>\n",
              "      <td>5.000000</td>\n",
              "      <td>7.377337e+06</td>\n",
              "      <td>8.252200e+04</td>\n",
              "    </tr>\n",
              "  </tbody>\n",
              "</table>\n",
              "</div>\n",
              "    <div class=\"colab-df-buttons\">\n",
              "\n",
              "  <div class=\"colab-df-container\">\n",
              "    <button class=\"colab-df-convert\" onclick=\"convertToInteractive('df-2e0c56c2-6e2f-47d4-b414-83822c8fc27d')\"\n",
              "            title=\"Convert this dataframe to an interactive table.\"\n",
              "            style=\"display:none;\">\n",
              "\n",
              "  <svg xmlns=\"http://www.w3.org/2000/svg\" height=\"24px\" viewBox=\"0 -960 960 960\">\n",
              "    <path d=\"M120-120v-720h720v720H120Zm60-500h600v-160H180v160Zm220 220h160v-160H400v160Zm0 220h160v-160H400v160ZM180-400h160v-160H180v160Zm440 0h160v-160H620v160ZM180-180h160v-160H180v160Zm440 0h160v-160H620v160Z\"/>\n",
              "  </svg>\n",
              "    </button>\n",
              "\n",
              "  <style>\n",
              "    .colab-df-container {\n",
              "      display:flex;\n",
              "      gap: 12px;\n",
              "    }\n",
              "\n",
              "    .colab-df-convert {\n",
              "      background-color: #E8F0FE;\n",
              "      border: none;\n",
              "      border-radius: 50%;\n",
              "      cursor: pointer;\n",
              "      display: none;\n",
              "      fill: #1967D2;\n",
              "      height: 32px;\n",
              "      padding: 0 0 0 0;\n",
              "      width: 32px;\n",
              "    }\n",
              "\n",
              "    .colab-df-convert:hover {\n",
              "      background-color: #E2EBFA;\n",
              "      box-shadow: 0px 1px 2px rgba(60, 64, 67, 0.3), 0px 1px 3px 1px rgba(60, 64, 67, 0.15);\n",
              "      fill: #174EA6;\n",
              "    }\n",
              "\n",
              "    .colab-df-buttons div {\n",
              "      margin-bottom: 4px;\n",
              "    }\n",
              "\n",
              "    [theme=dark] .colab-df-convert {\n",
              "      background-color: #3B4455;\n",
              "      fill: #D2E3FC;\n",
              "    }\n",
              "\n",
              "    [theme=dark] .colab-df-convert:hover {\n",
              "      background-color: #434B5C;\n",
              "      box-shadow: 0px 1px 3px 1px rgba(0, 0, 0, 0.15);\n",
              "      filter: drop-shadow(0px 1px 2px rgba(0, 0, 0, 0.3));\n",
              "      fill: #FFFFFF;\n",
              "    }\n",
              "  </style>\n",
              "\n",
              "    <script>\n",
              "      const buttonEl =\n",
              "        document.querySelector('#df-2e0c56c2-6e2f-47d4-b414-83822c8fc27d button.colab-df-convert');\n",
              "      buttonEl.style.display =\n",
              "        google.colab.kernel.accessAllowed ? 'block' : 'none';\n",
              "\n",
              "      async function convertToInteractive(key) {\n",
              "        const element = document.querySelector('#df-2e0c56c2-6e2f-47d4-b414-83822c8fc27d');\n",
              "        const dataTable =\n",
              "          await google.colab.kernel.invokeFunction('convertToInteractive',\n",
              "                                                    [key], {});\n",
              "        if (!dataTable) return;\n",
              "\n",
              "        const docLinkHtml = 'Like what you see? Visit the ' +\n",
              "          '<a target=\"_blank\" href=https://colab.research.google.com/notebooks/data_table.ipynb>data table notebook</a>'\n",
              "          + ' to learn more about interactive tables.';\n",
              "        element.innerHTML = '';\n",
              "        dataTable['output_type'] = 'display_data';\n",
              "        await google.colab.output.renderOutput(dataTable, element);\n",
              "        const docLink = document.createElement('div');\n",
              "        docLink.innerHTML = docLinkHtml;\n",
              "        element.appendChild(docLink);\n",
              "      }\n",
              "    </script>\n",
              "  </div>\n",
              "\n",
              "\n",
              "<div id=\"df-0da072d7-7962-4ac6-b43a-5ddcf1143c42\">\n",
              "  <button class=\"colab-df-quickchart\" onclick=\"quickchart('df-0da072d7-7962-4ac6-b43a-5ddcf1143c42')\"\n",
              "            title=\"Suggest charts.\"\n",
              "            style=\"display:none;\">\n",
              "\n",
              "<svg xmlns=\"http://www.w3.org/2000/svg\" height=\"24px\"viewBox=\"0 0 24 24\"\n",
              "     width=\"24px\">\n",
              "    <g>\n",
              "        <path d=\"M19 3H5c-1.1 0-2 .9-2 2v14c0 1.1.9 2 2 2h14c1.1 0 2-.9 2-2V5c0-1.1-.9-2-2-2zM9 17H7v-7h2v7zm4 0h-2V7h2v10zm4 0h-2v-4h2v4z\"/>\n",
              "    </g>\n",
              "</svg>\n",
              "  </button>\n",
              "\n",
              "<style>\n",
              "  .colab-df-quickchart {\n",
              "      --bg-color: #E8F0FE;\n",
              "      --fill-color: #1967D2;\n",
              "      --hover-bg-color: #E2EBFA;\n",
              "      --hover-fill-color: #174EA6;\n",
              "      --disabled-fill-color: #AAA;\n",
              "      --disabled-bg-color: #DDD;\n",
              "  }\n",
              "\n",
              "  [theme=dark] .colab-df-quickchart {\n",
              "      --bg-color: #3B4455;\n",
              "      --fill-color: #D2E3FC;\n",
              "      --hover-bg-color: #434B5C;\n",
              "      --hover-fill-color: #FFFFFF;\n",
              "      --disabled-bg-color: #3B4455;\n",
              "      --disabled-fill-color: #666;\n",
              "  }\n",
              "\n",
              "  .colab-df-quickchart {\n",
              "    background-color: var(--bg-color);\n",
              "    border: none;\n",
              "    border-radius: 50%;\n",
              "    cursor: pointer;\n",
              "    display: none;\n",
              "    fill: var(--fill-color);\n",
              "    height: 32px;\n",
              "    padding: 0;\n",
              "    width: 32px;\n",
              "  }\n",
              "\n",
              "  .colab-df-quickchart:hover {\n",
              "    background-color: var(--hover-bg-color);\n",
              "    box-shadow: 0 1px 2px rgba(60, 64, 67, 0.3), 0 1px 3px 1px rgba(60, 64, 67, 0.15);\n",
              "    fill: var(--button-hover-fill-color);\n",
              "  }\n",
              "\n",
              "  .colab-df-quickchart-complete:disabled,\n",
              "  .colab-df-quickchart-complete:disabled:hover {\n",
              "    background-color: var(--disabled-bg-color);\n",
              "    fill: var(--disabled-fill-color);\n",
              "    box-shadow: none;\n",
              "  }\n",
              "\n",
              "  .colab-df-spinner {\n",
              "    border: 2px solid var(--fill-color);\n",
              "    border-color: transparent;\n",
              "    border-bottom-color: var(--fill-color);\n",
              "    animation:\n",
              "      spin 1s steps(1) infinite;\n",
              "  }\n",
              "\n",
              "  @keyframes spin {\n",
              "    0% {\n",
              "      border-color: transparent;\n",
              "      border-bottom-color: var(--fill-color);\n",
              "      border-left-color: var(--fill-color);\n",
              "    }\n",
              "    20% {\n",
              "      border-color: transparent;\n",
              "      border-left-color: var(--fill-color);\n",
              "      border-top-color: var(--fill-color);\n",
              "    }\n",
              "    30% {\n",
              "      border-color: transparent;\n",
              "      border-left-color: var(--fill-color);\n",
              "      border-top-color: var(--fill-color);\n",
              "      border-right-color: var(--fill-color);\n",
              "    }\n",
              "    40% {\n",
              "      border-color: transparent;\n",
              "      border-right-color: var(--fill-color);\n",
              "      border-top-color: var(--fill-color);\n",
              "    }\n",
              "    60% {\n",
              "      border-color: transparent;\n",
              "      border-right-color: var(--fill-color);\n",
              "    }\n",
              "    80% {\n",
              "      border-color: transparent;\n",
              "      border-right-color: var(--fill-color);\n",
              "      border-bottom-color: var(--fill-color);\n",
              "    }\n",
              "    90% {\n",
              "      border-color: transparent;\n",
              "      border-bottom-color: var(--fill-color);\n",
              "    }\n",
              "  }\n",
              "</style>\n",
              "\n",
              "  <script>\n",
              "    async function quickchart(key) {\n",
              "      const quickchartButtonEl =\n",
              "        document.querySelector('#' + key + ' button');\n",
              "      quickchartButtonEl.disabled = true;  // To prevent multiple clicks.\n",
              "      quickchartButtonEl.classList.add('colab-df-spinner');\n",
              "      try {\n",
              "        const charts = await google.colab.kernel.invokeFunction(\n",
              "            'suggestCharts', [key], {});\n",
              "      } catch (error) {\n",
              "        console.error('Error during call to suggestCharts:', error);\n",
              "      }\n",
              "      quickchartButtonEl.classList.remove('colab-df-spinner');\n",
              "      quickchartButtonEl.classList.add('colab-df-quickchart-complete');\n",
              "    }\n",
              "    (() => {\n",
              "      let quickchartButtonEl =\n",
              "        document.querySelector('#df-0da072d7-7962-4ac6-b43a-5ddcf1143c42 button');\n",
              "      quickchartButtonEl.style.display =\n",
              "        google.colab.kernel.accessAllowed ? 'block' : 'none';\n",
              "    })();\n",
              "  </script>\n",
              "</div>\n",
              "    </div>\n",
              "  </div>\n"
            ]
          },
          "metadata": {},
          "execution_count": 30
        }
      ]
    },
    {
      "cell_type": "code",
      "execution_count": null,
      "metadata": {
        "colab": {
          "base_uri": "https://localhost:8080/"
        },
        "id": "ih6rA_9niyL3",
        "outputId": "9e706b92-38ab-492a-f649-95fe6f7b0249"
      },
      "outputs": [
        {
          "output_type": "execute_result",
          "data": {
            "text/plain": [
              "authors                object\n",
              "bestsellers-rank      float64\n",
              "categories             object\n",
              "description            object\n",
              "dimension-x           float64\n",
              "dimension-y           float64\n",
              "dimension-z           float64\n",
              "edition                object\n",
              "edition-statement      object\n",
              "for-ages               object\n",
              "format                float64\n",
              "id                      int64\n",
              "illustrations-note     object\n",
              "image-checksum         object\n",
              "image-path             object\n",
              "image-url              object\n",
              "imprint                object\n",
              "index-date            float64\n",
              "isbn10                 object\n",
              "isbn13                  int64\n",
              "lang                   object\n",
              "publication-date       object\n",
              "publication-place     float64\n",
              "rating-avg            float64\n",
              "rating-count          float64\n",
              "title                  object\n",
              "url                    object\n",
              "weight                float64\n",
              "dtype: object"
            ]
          },
          "metadata": {},
          "execution_count": 31
        }
      ],
      "source": [
        "df.dtypes"
      ]
    },
    {
      "cell_type": "markdown",
      "metadata": {
        "id": "XIiVBARPjCh-"
      },
      "source": [
        "A brief description of each column in the dataset:\n",
        "\n",
        "1. **authors**: The author(s) of the book(s).\n",
        "\n",
        "2. **bestsellers-rank**: The ranking or position of the book in the bestsellers list.\n",
        "\n",
        "3. **categories**: The categories or genres to which the book belongs.\n",
        "\n",
        "4. **description**: A textual description of the book, possibly including a summary or synopsis.\n",
        "\n",
        "5. **dimension-x, dimension-y, dimension-z**: The dimensions of the book, typically its width, height, and depth.\n",
        "\n",
        "6. **edition**: Information about the edition of the book, such as hardcover, paperback, or special edition.\n",
        "\n",
        "7. **edition-statement**: Additional details or statements about the edition of the book.\n",
        "\n",
        "8. **for-ages**: The recommended age group or audience for the book.\n",
        "\n",
        "9. **format**: The format of the book, such as print or digital.\n",
        "\n",
        "10. **id**: A unique identifier for each book.\n",
        "\n",
        "11. **illustrations-note**: Notes or information about illustrations, if present in the book.\n",
        "\n",
        "12. **image-checksum**: A checksum or hash value of the book's image.\n",
        "\n",
        "13. **image-path**: The file path to the book's image.\n",
        "\n",
        "14. **image-url**: The URL to access the book's image.\n",
        "\n",
        "15. **imprint**: The publisher or publishing company responsible for the book.\n",
        "\n",
        "16. **index-date**: The date when the book's information was indexed.\n",
        "\n",
        "17. **isbn10**: The International Standard Book Number with ten digits.\n",
        "\n",
        "18. **isbn13**: The International Standard Book Number with thirteen digits.\n",
        "\n",
        "19. **lang**: The language in which the book is written.\n",
        "\n",
        "20. **publication-date**: The date when the book was published.\n",
        "\n",
        "21. **publication-place**: The place where the book was published.\n",
        "\n",
        "22. **rating-avg**: The average rating given by readers or users.\n",
        "\n",
        "23. **rating-count**: The count of ratings or reviews received for the book.\n",
        "\n",
        "24. **title**: The title of the book.\n",
        "\n",
        "25. **url**: The URL or link to access more information about the book.\n",
        "\n",
        "26. **weight**: The weight of the book.\n"
      ]
    },
    {
      "cell_type": "markdown",
      "metadata": {
        "id": "mUa2mTSyjfNc"
      },
      "source": [
        "Here are some possible problem statements and corresponding target variables for this dataset:\n",
        "\n",
        "1. **Genre Classification:**\n",
        "   - Problem Statement: Predict the genre or category of a book based on its description and other attributes.\n",
        "   - Target Variable: 'categories' or a new column with genre labels.\n",
        "\n",
        "2. **Rating Classification:**\n",
        "   - Problem Statement: Classify books into high-rated and low-rated categories based on their average rating and rating count.\n",
        "   - Target Variable: 'rating-avg' or a new binary variable indicating high or low rating.\n",
        "\n",
        "\n",
        "3. **Age Recommendation Classification:**\n",
        "   - Problem Statement: Classify books into different age recommendation groups based on their attributes.\n",
        "   - Target Variable: 'for-ages' or a new column with age group labels.\n",
        "\n",
        "\n",
        "4. **Popularity Classification:**\n",
        "   - Problem Statement: Classify books as popular or less popular based on their attributes such as rating count and bestsellers rank.\n",
        "   - Target Variable: A binary variable indicating popularity.\n"
      ]
    },
    {
      "cell_type": "markdown",
      "metadata": {
        "id": "7bk4gNm-HGf4"
      },
      "source": [
        "Basic Distributions for each column"
      ]
    },
    {
      "cell_type": "code",
      "execution_count": null,
      "metadata": {
        "id": "YecWvRUdHp9o"
      },
      "outputs": [],
      "source": [
        "# Dropping Unnecessary columns\n",
        "df.drop(['description','edition-statement', 'illustrations-note','image-checksum','image-path','image-url','url'],axis=1, inplace= True)"
      ]
    },
    {
      "cell_type": "code",
      "execution_count": null,
      "metadata": {
        "colab": {
          "base_uri": "https://localhost:8080/"
        },
        "id": "kLE91C8MqS6O",
        "outputId": "8d0897e5-1515-4833-c064-3ef1b3c5e663"
      },
      "outputs": [
        {
          "output_type": "execute_result",
          "data": {
            "text/plain": [
              "authors                    0\n",
              "bestsellers-rank      466842\n",
              "categories                 0\n",
              "dimension-x            48227\n",
              "dimension-y            93531\n",
              "dimension-z            48227\n",
              "edition               926569\n",
              "for-ages             1033390\n",
              "format                  6622\n",
              "id                         0\n",
              "imprint               830049\n",
              "index-date           1109383\n",
              "isbn10                     0\n",
              "isbn13                     0\n",
              "lang                   60407\n",
              "publication-date        2603\n",
              "publication-place    1109383\n",
              "rating-avg            440130\n",
              "rating-count          440130\n",
              "title                      0\n",
              "weight                 87173\n",
              "dtype: int64"
            ]
          },
          "metadata": {},
          "execution_count": 33
        }
      ],
      "source": [
        "#Checking null values\n",
        "df.isnull().sum()"
      ]
    },
    {
      "cell_type": "markdown",
      "metadata": {
        "id": "R70RL5StsrjH"
      },
      "source": [
        "**Null values are present**\\\n",
        "Need Imputation or dropping columns having a higher percentage of missing values."
      ]
    },
    {
      "cell_type": "code",
      "execution_count": null,
      "metadata": {
        "colab": {
          "base_uri": "https://localhost:8080/",
          "height": 707
        },
        "id": "-NekILo-sqxb",
        "outputId": "eb3debd7-a1bf-4677-c33a-b29036bd3252"
      },
      "outputs": [
        {
          "output_type": "execute_result",
          "data": {
            "text/plain": [
              "                   missing_percentage\n",
              "publication-place          100.000000\n",
              "index-date                 100.000000\n",
              "for-ages                    93.149976\n",
              "edition                     83.521110\n",
              "imprint                     74.820779\n",
              "bestsellers-rank            42.081229\n",
              "rating-count                39.673404\n",
              "rating-avg                  39.673404\n",
              "dimension-y                  8.430903\n",
              "weight                       7.857791\n",
              "lang                         5.445099\n",
              "dimension-z                  4.347191\n",
              "dimension-x                  4.347191\n",
              "format                       0.596908\n",
              "publication-date             0.234635\n",
              "id                           0.000000\n",
              "isbn10                       0.000000\n",
              "isbn13                       0.000000\n",
              "categories                   0.000000\n",
              "title                        0.000000\n",
              "authors                      0.000000"
            ],
            "text/html": [
              "\n",
              "  <div id=\"df-aa24ffa9-0a43-484d-a669-9f2193ade3a9\" class=\"colab-df-container\">\n",
              "    <div>\n",
              "<style scoped>\n",
              "    .dataframe tbody tr th:only-of-type {\n",
              "        vertical-align: middle;\n",
              "    }\n",
              "\n",
              "    .dataframe tbody tr th {\n",
              "        vertical-align: top;\n",
              "    }\n",
              "\n",
              "    .dataframe thead th {\n",
              "        text-align: right;\n",
              "    }\n",
              "</style>\n",
              "<table border=\"1\" class=\"dataframe\">\n",
              "  <thead>\n",
              "    <tr style=\"text-align: right;\">\n",
              "      <th></th>\n",
              "      <th>missing_percentage</th>\n",
              "    </tr>\n",
              "  </thead>\n",
              "  <tbody>\n",
              "    <tr>\n",
              "      <th>publication-place</th>\n",
              "      <td>100.000000</td>\n",
              "    </tr>\n",
              "    <tr>\n",
              "      <th>index-date</th>\n",
              "      <td>100.000000</td>\n",
              "    </tr>\n",
              "    <tr>\n",
              "      <th>for-ages</th>\n",
              "      <td>93.149976</td>\n",
              "    </tr>\n",
              "    <tr>\n",
              "      <th>edition</th>\n",
              "      <td>83.521110</td>\n",
              "    </tr>\n",
              "    <tr>\n",
              "      <th>imprint</th>\n",
              "      <td>74.820779</td>\n",
              "    </tr>\n",
              "    <tr>\n",
              "      <th>bestsellers-rank</th>\n",
              "      <td>42.081229</td>\n",
              "    </tr>\n",
              "    <tr>\n",
              "      <th>rating-count</th>\n",
              "      <td>39.673404</td>\n",
              "    </tr>\n",
              "    <tr>\n",
              "      <th>rating-avg</th>\n",
              "      <td>39.673404</td>\n",
              "    </tr>\n",
              "    <tr>\n",
              "      <th>dimension-y</th>\n",
              "      <td>8.430903</td>\n",
              "    </tr>\n",
              "    <tr>\n",
              "      <th>weight</th>\n",
              "      <td>7.857791</td>\n",
              "    </tr>\n",
              "    <tr>\n",
              "      <th>lang</th>\n",
              "      <td>5.445099</td>\n",
              "    </tr>\n",
              "    <tr>\n",
              "      <th>dimension-z</th>\n",
              "      <td>4.347191</td>\n",
              "    </tr>\n",
              "    <tr>\n",
              "      <th>dimension-x</th>\n",
              "      <td>4.347191</td>\n",
              "    </tr>\n",
              "    <tr>\n",
              "      <th>format</th>\n",
              "      <td>0.596908</td>\n",
              "    </tr>\n",
              "    <tr>\n",
              "      <th>publication-date</th>\n",
              "      <td>0.234635</td>\n",
              "    </tr>\n",
              "    <tr>\n",
              "      <th>id</th>\n",
              "      <td>0.000000</td>\n",
              "    </tr>\n",
              "    <tr>\n",
              "      <th>isbn10</th>\n",
              "      <td>0.000000</td>\n",
              "    </tr>\n",
              "    <tr>\n",
              "      <th>isbn13</th>\n",
              "      <td>0.000000</td>\n",
              "    </tr>\n",
              "    <tr>\n",
              "      <th>categories</th>\n",
              "      <td>0.000000</td>\n",
              "    </tr>\n",
              "    <tr>\n",
              "      <th>title</th>\n",
              "      <td>0.000000</td>\n",
              "    </tr>\n",
              "    <tr>\n",
              "      <th>authors</th>\n",
              "      <td>0.000000</td>\n",
              "    </tr>\n",
              "  </tbody>\n",
              "</table>\n",
              "</div>\n",
              "    <div class=\"colab-df-buttons\">\n",
              "\n",
              "  <div class=\"colab-df-container\">\n",
              "    <button class=\"colab-df-convert\" onclick=\"convertToInteractive('df-aa24ffa9-0a43-484d-a669-9f2193ade3a9')\"\n",
              "            title=\"Convert this dataframe to an interactive table.\"\n",
              "            style=\"display:none;\">\n",
              "\n",
              "  <svg xmlns=\"http://www.w3.org/2000/svg\" height=\"24px\" viewBox=\"0 -960 960 960\">\n",
              "    <path d=\"M120-120v-720h720v720H120Zm60-500h600v-160H180v160Zm220 220h160v-160H400v160Zm0 220h160v-160H400v160ZM180-400h160v-160H180v160Zm440 0h160v-160H620v160ZM180-180h160v-160H180v160Zm440 0h160v-160H620v160Z\"/>\n",
              "  </svg>\n",
              "    </button>\n",
              "\n",
              "  <style>\n",
              "    .colab-df-container {\n",
              "      display:flex;\n",
              "      gap: 12px;\n",
              "    }\n",
              "\n",
              "    .colab-df-convert {\n",
              "      background-color: #E8F0FE;\n",
              "      border: none;\n",
              "      border-radius: 50%;\n",
              "      cursor: pointer;\n",
              "      display: none;\n",
              "      fill: #1967D2;\n",
              "      height: 32px;\n",
              "      padding: 0 0 0 0;\n",
              "      width: 32px;\n",
              "    }\n",
              "\n",
              "    .colab-df-convert:hover {\n",
              "      background-color: #E2EBFA;\n",
              "      box-shadow: 0px 1px 2px rgba(60, 64, 67, 0.3), 0px 1px 3px 1px rgba(60, 64, 67, 0.15);\n",
              "      fill: #174EA6;\n",
              "    }\n",
              "\n",
              "    .colab-df-buttons div {\n",
              "      margin-bottom: 4px;\n",
              "    }\n",
              "\n",
              "    [theme=dark] .colab-df-convert {\n",
              "      background-color: #3B4455;\n",
              "      fill: #D2E3FC;\n",
              "    }\n",
              "\n",
              "    [theme=dark] .colab-df-convert:hover {\n",
              "      background-color: #434B5C;\n",
              "      box-shadow: 0px 1px 3px 1px rgba(0, 0, 0, 0.15);\n",
              "      filter: drop-shadow(0px 1px 2px rgba(0, 0, 0, 0.3));\n",
              "      fill: #FFFFFF;\n",
              "    }\n",
              "  </style>\n",
              "\n",
              "    <script>\n",
              "      const buttonEl =\n",
              "        document.querySelector('#df-aa24ffa9-0a43-484d-a669-9f2193ade3a9 button.colab-df-convert');\n",
              "      buttonEl.style.display =\n",
              "        google.colab.kernel.accessAllowed ? 'block' : 'none';\n",
              "\n",
              "      async function convertToInteractive(key) {\n",
              "        const element = document.querySelector('#df-aa24ffa9-0a43-484d-a669-9f2193ade3a9');\n",
              "        const dataTable =\n",
              "          await google.colab.kernel.invokeFunction('convertToInteractive',\n",
              "                                                    [key], {});\n",
              "        if (!dataTable) return;\n",
              "\n",
              "        const docLinkHtml = 'Like what you see? Visit the ' +\n",
              "          '<a target=\"_blank\" href=https://colab.research.google.com/notebooks/data_table.ipynb>data table notebook</a>'\n",
              "          + ' to learn more about interactive tables.';\n",
              "        element.innerHTML = '';\n",
              "        dataTable['output_type'] = 'display_data';\n",
              "        await google.colab.output.renderOutput(dataTable, element);\n",
              "        const docLink = document.createElement('div');\n",
              "        docLink.innerHTML = docLinkHtml;\n",
              "        element.appendChild(docLink);\n",
              "      }\n",
              "    </script>\n",
              "  </div>\n",
              "\n",
              "\n",
              "<div id=\"df-36b67bd8-a0d6-4dfb-8bd9-bb4098f69b70\">\n",
              "  <button class=\"colab-df-quickchart\" onclick=\"quickchart('df-36b67bd8-a0d6-4dfb-8bd9-bb4098f69b70')\"\n",
              "            title=\"Suggest charts.\"\n",
              "            style=\"display:none;\">\n",
              "\n",
              "<svg xmlns=\"http://www.w3.org/2000/svg\" height=\"24px\"viewBox=\"0 0 24 24\"\n",
              "     width=\"24px\">\n",
              "    <g>\n",
              "        <path d=\"M19 3H5c-1.1 0-2 .9-2 2v14c0 1.1.9 2 2 2h14c1.1 0 2-.9 2-2V5c0-1.1-.9-2-2-2zM9 17H7v-7h2v7zm4 0h-2V7h2v10zm4 0h-2v-4h2v4z\"/>\n",
              "    </g>\n",
              "</svg>\n",
              "  </button>\n",
              "\n",
              "<style>\n",
              "  .colab-df-quickchart {\n",
              "      --bg-color: #E8F0FE;\n",
              "      --fill-color: #1967D2;\n",
              "      --hover-bg-color: #E2EBFA;\n",
              "      --hover-fill-color: #174EA6;\n",
              "      --disabled-fill-color: #AAA;\n",
              "      --disabled-bg-color: #DDD;\n",
              "  }\n",
              "\n",
              "  [theme=dark] .colab-df-quickchart {\n",
              "      --bg-color: #3B4455;\n",
              "      --fill-color: #D2E3FC;\n",
              "      --hover-bg-color: #434B5C;\n",
              "      --hover-fill-color: #FFFFFF;\n",
              "      --disabled-bg-color: #3B4455;\n",
              "      --disabled-fill-color: #666;\n",
              "  }\n",
              "\n",
              "  .colab-df-quickchart {\n",
              "    background-color: var(--bg-color);\n",
              "    border: none;\n",
              "    border-radius: 50%;\n",
              "    cursor: pointer;\n",
              "    display: none;\n",
              "    fill: var(--fill-color);\n",
              "    height: 32px;\n",
              "    padding: 0;\n",
              "    width: 32px;\n",
              "  }\n",
              "\n",
              "  .colab-df-quickchart:hover {\n",
              "    background-color: var(--hover-bg-color);\n",
              "    box-shadow: 0 1px 2px rgba(60, 64, 67, 0.3), 0 1px 3px 1px rgba(60, 64, 67, 0.15);\n",
              "    fill: var(--button-hover-fill-color);\n",
              "  }\n",
              "\n",
              "  .colab-df-quickchart-complete:disabled,\n",
              "  .colab-df-quickchart-complete:disabled:hover {\n",
              "    background-color: var(--disabled-bg-color);\n",
              "    fill: var(--disabled-fill-color);\n",
              "    box-shadow: none;\n",
              "  }\n",
              "\n",
              "  .colab-df-spinner {\n",
              "    border: 2px solid var(--fill-color);\n",
              "    border-color: transparent;\n",
              "    border-bottom-color: var(--fill-color);\n",
              "    animation:\n",
              "      spin 1s steps(1) infinite;\n",
              "  }\n",
              "\n",
              "  @keyframes spin {\n",
              "    0% {\n",
              "      border-color: transparent;\n",
              "      border-bottom-color: var(--fill-color);\n",
              "      border-left-color: var(--fill-color);\n",
              "    }\n",
              "    20% {\n",
              "      border-color: transparent;\n",
              "      border-left-color: var(--fill-color);\n",
              "      border-top-color: var(--fill-color);\n",
              "    }\n",
              "    30% {\n",
              "      border-color: transparent;\n",
              "      border-left-color: var(--fill-color);\n",
              "      border-top-color: var(--fill-color);\n",
              "      border-right-color: var(--fill-color);\n",
              "    }\n",
              "    40% {\n",
              "      border-color: transparent;\n",
              "      border-right-color: var(--fill-color);\n",
              "      border-top-color: var(--fill-color);\n",
              "    }\n",
              "    60% {\n",
              "      border-color: transparent;\n",
              "      border-right-color: var(--fill-color);\n",
              "    }\n",
              "    80% {\n",
              "      border-color: transparent;\n",
              "      border-right-color: var(--fill-color);\n",
              "      border-bottom-color: var(--fill-color);\n",
              "    }\n",
              "    90% {\n",
              "      border-color: transparent;\n",
              "      border-bottom-color: var(--fill-color);\n",
              "    }\n",
              "  }\n",
              "</style>\n",
              "\n",
              "  <script>\n",
              "    async function quickchart(key) {\n",
              "      const quickchartButtonEl =\n",
              "        document.querySelector('#' + key + ' button');\n",
              "      quickchartButtonEl.disabled = true;  // To prevent multiple clicks.\n",
              "      quickchartButtonEl.classList.add('colab-df-spinner');\n",
              "      try {\n",
              "        const charts = await google.colab.kernel.invokeFunction(\n",
              "            'suggestCharts', [key], {});\n",
              "      } catch (error) {\n",
              "        console.error('Error during call to suggestCharts:', error);\n",
              "      }\n",
              "      quickchartButtonEl.classList.remove('colab-df-spinner');\n",
              "      quickchartButtonEl.classList.add('colab-df-quickchart-complete');\n",
              "    }\n",
              "    (() => {\n",
              "      let quickchartButtonEl =\n",
              "        document.querySelector('#df-36b67bd8-a0d6-4dfb-8bd9-bb4098f69b70 button');\n",
              "      quickchartButtonEl.style.display =\n",
              "        google.colab.kernel.accessAllowed ? 'block' : 'none';\n",
              "    })();\n",
              "  </script>\n",
              "</div>\n",
              "    </div>\n",
              "  </div>\n"
            ]
          },
          "metadata": {},
          "execution_count": 34
        }
      ],
      "source": [
        "# Checking null value percentage\n",
        "percent_missing = df.isnull().sum() * 100 / len(df)\n",
        "missing_value_df = pd.DataFrame({'missing_percentage': percent_missing})\n",
        "missing_value_df.sort_values('missing_percentage',ascending=False, inplace=True)\n",
        "missing_value_df.head(28)"
      ]
    },
    {
      "cell_type": "markdown",
      "metadata": {
        "id": "o4IdZADjkz2v"
      },
      "source": [
        "In **index-date, publication-place, for-ages and edition** columns more than 80% null values are present. Drop these columns.\\\n",
        "In **format, publication-date, image-path, image-url\tand image-checksum** columns less than 1% null values are present. Drop these rows."
      ]
    },
    {
      "cell_type": "code",
      "execution_count": null,
      "metadata": {
        "id": "xFF_nLyQm715"
      },
      "outputs": [],
      "source": [
        "# Drop columns having more than 80% missing values\n",
        "df.drop(['index-date',\t'publication-place', 'for-ages', 'edition'], axis=1, inplace=True)"
      ]
    },
    {
      "cell_type": "code",
      "execution_count": null,
      "metadata": {
        "colab": {
          "base_uri": "https://localhost:8080/"
        },
        "id": "MBM0gOJGmww_",
        "outputId": "a34e9220-1882-4bfb-dbbd-643187cf73fc"
      },
      "outputs": [
        {
          "output_type": "execute_result",
          "data": {
            "text/plain": [
              "(1109383, 17)"
            ]
          },
          "metadata": {},
          "execution_count": 36
        }
      ],
      "source": [
        "df.shape"
      ]
    },
    {
      "cell_type": "code",
      "execution_count": null,
      "metadata": {
        "id": "iO7OrkIYmb3I"
      },
      "outputs": [],
      "source": [
        "# Dropping null values less than 1%\n",
        "df.dropna(subset=['format','publication-date'],inplace=True)"
      ]
    },
    {
      "cell_type": "code",
      "execution_count": null,
      "metadata": {
        "colab": {
          "base_uri": "https://localhost:8080/"
        },
        "id": "3sQVc8ABnGof",
        "outputId": "ac4b275b-bc03-4290-da43-92ef8f6e3a5a"
      },
      "outputs": [
        {
          "output_type": "execute_result",
          "data": {
            "text/plain": [
              "(1100442, 17)"
            ]
          },
          "metadata": {},
          "execution_count": 38
        }
      ],
      "source": [
        "df.shape"
      ]
    },
    {
      "cell_type": "code",
      "execution_count": null,
      "metadata": {
        "colab": {
          "base_uri": "https://localhost:8080/"
        },
        "id": "1gXdUWILoDh6",
        "outputId": "fb06fe54-3885-40ac-8734-33a426836c07"
      },
      "outputs": [
        {
          "output_type": "stream",
          "name": "stdout",
          "text": [
            "Index(['bestsellers-rank', 'dimension-x', 'dimension-y', 'dimension-z',\n",
            "       'imprint', 'lang', 'rating-avg', 'rating-count', 'weight'],\n",
            "      dtype='object')\n"
          ]
        }
      ],
      "source": [
        "# Select columns with missing values exceeding 30% but less than 95%\n",
        "impute_cols = percent_missing[(percent_missing > 1) & (percent_missing < 80)].index\n",
        "print(impute_cols)"
      ]
    },
    {
      "cell_type": "code",
      "execution_count": null,
      "metadata": {
        "colab": {
          "base_uri": "https://localhost:8080/"
        },
        "id": "4QdNpU-zorr6",
        "outputId": "553f633c-b649-43ae-821f-ca8f980b6438"
      },
      "outputs": [
        {
          "output_type": "execute_result",
          "data": {
            "text/plain": [
              "bestsellers-rank    float64\n",
              "dimension-x         float64\n",
              "dimension-y         float64\n",
              "dimension-z         float64\n",
              "imprint              object\n",
              "lang                 object\n",
              "rating-avg          float64\n",
              "rating-count        float64\n",
              "weight              float64\n",
              "dtype: object"
            ]
          },
          "metadata": {},
          "execution_count": 40
        }
      ],
      "source": [
        "df[impute_cols].dtypes"
      ]
    },
    {
      "cell_type": "code",
      "execution_count": null,
      "metadata": {
        "id": "lDcrl_Ppp6vA"
      },
      "outputs": [],
      "source": [
        "# Separate numeric and categorical columns from impute_cols\n",
        "numeric_cols = df[impute_cols].select_dtypes(include=['float64', 'int64']).columns\n",
        "cat_cols = df[impute_cols].select_dtypes(include=['object']).columns"
      ]
    },
    {
      "cell_type": "code",
      "execution_count": null,
      "metadata": {
        "colab": {
          "base_uri": "https://localhost:8080/"
        },
        "id": "0ZEXtoLrsdZN",
        "outputId": "37c4a343-73af-4899-b801-b55ad3554bca"
      },
      "outputs": [
        {
          "output_type": "execute_result",
          "data": {
            "text/plain": [
              "Index(['bestsellers-rank', 'dimension-x', 'dimension-y', 'dimension-z',\n",
              "       'rating-avg', 'rating-count', 'weight'],\n",
              "      dtype='object')"
            ]
          },
          "metadata": {},
          "execution_count": 42
        }
      ],
      "source": [
        "numeric_cols"
      ]
    },
    {
      "cell_type": "code",
      "execution_count": null,
      "metadata": {
        "id": "xNFkSCa1vCNL"
      },
      "outputs": [],
      "source": [
        "import matplotlib.pyplot as plt\n",
        "import seaborn as sns"
      ]
    },
    {
      "cell_type": "code",
      "execution_count": null,
      "metadata": {
        "id": "M8R4jVutumdT"
      },
      "outputs": [],
      "source": [
        "# # Checking distribution of numerical columns to check the influence of outliers\n",
        "# for col in numeric_cols:\n",
        "#     plt.figure(figsize=(8, 4))\n",
        "#     sns.histplot(df[col], kde=True)\n",
        "#     plt.title(f'Histogram of {col}')\n",
        "#     plt.xlabel(col)\n",
        "#     plt.ylabel('Frequency')\n",
        "#     plt.show()\n"
      ]
    },
    {
      "cell_type": "code",
      "execution_count": null,
      "metadata": {
        "colab": {
          "base_uri": "https://localhost:8080/"
        },
        "id": "L9qyhTAI7Heq",
        "outputId": "951fbe2c-9698-4c36-c737-d8d0f8a588b2"
      },
      "outputs": [
        {
          "output_type": "execute_result",
          "data": {
            "text/plain": [
              "Index(['imprint', 'lang'], dtype='object')"
            ]
          },
          "metadata": {},
          "execution_count": 18
        }
      ],
      "source": [
        "cat_cols"
      ]
    },
    {
      "cell_type": "code",
      "execution_count": null,
      "metadata": {
        "id": "5srp0UvbpSm5"
      },
      "outputs": [],
      "source": [
        "from sklearn.impute import SimpleImputer"
      ]
    },
    {
      "cell_type": "code",
      "execution_count": null,
      "metadata": {
        "colab": {
          "base_uri": "https://localhost:8080/"
        },
        "id": "CKutMNDvOvOd",
        "outputId": "1493de89-3ef7-409b-9189-38ea3a1b4035"
      },
      "outputs": [
        {
          "data": {
            "text/plain": [
              "array(['Mainstream Publishing', nan, 'HarperCollins Publishers Ltd', ...,\n",
              "       'Wanceulen Editorial Sl', 'Modus Operandi', 'Highdown'],\n",
              "      dtype=object)"
            ]
          },
          "execution_count": 41,
          "metadata": {},
          "output_type": "execute_result"
        }
      ],
      "source": [
        "df['imprint'].unique()"
      ]
    },
    {
      "cell_type": "code",
      "execution_count": null,
      "metadata": {
        "colab": {
          "base_uri": "https://localhost:8080/"
        },
        "id": "5e4OXTz5O2GU",
        "outputId": "3f626670-d60c-4caa-dd62-5005f2ff97e3"
      },
      "outputs": [
        {
          "data": {
            "text/plain": [
              "5705"
            ]
          },
          "execution_count": 42,
          "metadata": {},
          "output_type": "execute_result"
        }
      ],
      "source": [
        "df['imprint'].nunique()"
      ]
    },
    {
      "cell_type": "code",
      "execution_count": null,
      "metadata": {
        "colab": {
          "base_uri": "https://localhost:8080/"
        },
        "id": "ejIfWf_6O9Ul",
        "outputId": "5a59ffd7-6bc9-40d2-aaf8-d68ce22af401"
      },
      "outputs": [
        {
          "data": {
            "text/plain": [
              "array(['en', 'es', nan, 'it', 'de', 'pl', 'pt', 'fr', 'hi', 'ja', 'mul',\n",
              "       'ca', 'nl', 'lv', 'ru', 'af', 'da', 'ms', 'ar', 'el', 'la', 'sv',\n",
              "       'yo', 'id', 'tl', 'fa', 'zxx', 'cy', 'cr', 'zh', 'ro', 'lo', 'tr',\n",
              "       'ig', 'cs', 'tw', 'iba', 'fi', 'crp', 'no', 'vi', 'mr', 'he', 'sr',\n",
              "       'hu', 'sa', 'eo', 'hy', 'bn', 'nds', 'my', 'ur', 'sd', 'st', 'jv',\n",
              "       'uk', 'sw', 'be', 'th', 'sn', 'ko', 'gsw', 'ka', 'is', 'gu', 'eu',\n",
              "       'bg', 'so', 'ti', 'sq', 'ps', 'nb', 'rn', 'pa', 'tn', 'gl', 'et',\n",
              "       'ku', 'tg', 'km', 'ga', 'om', 'ff', 'sl', 'tk', 'mg', 'te', 'kn',\n",
              "       'ts', 'tt', 'bo', 'lb', 'or', 'hr', 'ta', 'ha', 'lt', 'mdr', 'sk',\n",
              "       'mk', 'am', 'sco', 'ml', 'ne', 'gd', 'nso', 'xh', 'ab', 'dak',\n",
              "       'aus', 'yi', 'man', 'mi', 'rom', 'bs', 'zu', 'fiu', 'ce', 'kw',\n",
              "       'haw', 'pi', 'frs', 'frr', 'ira', 'din', 'afh', 'apa', 'sm', 'ypk',\n",
              "       'mis', 'sem', 'akk', 'si', 'ks', 'pra', 'syr', 'ae', 'arc', 'lad',\n",
              "       'egy', 'pal', 'ug', 'mt', 'mn', 'az', 'co', 'fil', 'as', 'phi',\n",
              "       'ht', 'nn', 'uz', 'got', 'roa', 'br', 'ak', 'art', 'tig', 'tai',\n",
              "       'lg', 'rm'], dtype=object)"
            ]
          },
          "execution_count": 43,
          "metadata": {},
          "output_type": "execute_result"
        }
      ],
      "source": [
        "df['lang'].unique()"
      ]
    },
    {
      "cell_type": "code",
      "execution_count": null,
      "metadata": {
        "colab": {
          "base_uri": "https://localhost:8080/"
        },
        "id": "AdxRew0VPBXS",
        "outputId": "c4e3122b-54ca-433b-a6dd-759fc9e11a37"
      },
      "outputs": [
        {
          "data": {
            "text/plain": [
              "160"
            ]
          },
          "execution_count": 44,
          "metadata": {},
          "output_type": "execute_result"
        }
      ],
      "source": [
        "df['lang'].nunique()"
      ]
    },
    {
      "cell_type": "code",
      "execution_count": null,
      "metadata": {
        "colab": {
          "base_uri": "https://localhost:8080/"
        },
        "id": "6VPEyncwpC_8",
        "outputId": "f7c2d4ed-157a-48ec-f8da-6a39ee449e69"
      },
      "outputs": [
        {
          "output_type": "execute_result",
          "data": {
            "text/plain": [
              "authors             0\n",
              "bestsellers-rank    0\n",
              "categories          0\n",
              "dimension-x         0\n",
              "dimension-y         0\n",
              "dimension-z         0\n",
              "format              0\n",
              "id                  0\n",
              "imprint             0\n",
              "isbn10              0\n",
              "isbn13              0\n",
              "lang                0\n",
              "publication-date    0\n",
              "rating-avg          0\n",
              "rating-count        0\n",
              "title               0\n",
              "weight              0\n",
              "dtype: int64"
            ]
          },
          "metadata": {},
          "execution_count": 45
        }
      ],
      "source": [
        "from sklearn.impute import SimpleImputer\n",
        "# imputeute missing values for numeric columns with mean\n",
        "num_imputer = SimpleImputer(strategy='mean')\n",
        "df[numeric_cols] = num_imputer.fit_transform(df[numeric_cols])\n",
        "\n",
        "# imputeute missing values for categorical columns with most frequent value\n",
        "cat_imputer = SimpleImputer(strategy='most_frequent')\n",
        "df[cat_cols] = cat_imputer.fit_transform(df[cat_cols])\n",
        "\n",
        "# Check if any missing values remain\n",
        "df.isnull().sum()\n",
        "\n",
        "#no null values in the output"
      ]
    },
    {
      "cell_type": "markdown",
      "metadata": {
        "id": "e0O2RxlgQ6MQ"
      },
      "source": [
        "**Feature transformation**"
      ]
    },
    {
      "cell_type": "markdown",
      "source": [
        "### **extra**"
      ],
      "metadata": {
        "id": "8ScQHfHfFqRN"
      }
    },
    {
      "cell_type": "code",
      "execution_count": null,
      "metadata": {
        "id": "M_h9pL7IjCJo"
      },
      "outputs": [],
      "source": [
        "# Cleaning the category column\n",
        "import string\n",
        "\n",
        "# Create a translation table for punctuation removal\n",
        "translator = str.maketrans(' ', ' ', string.punctuation)\n",
        "\n",
        "# Apply the translation table to the 'Review' column of the data frame\n",
        "df['categories'] = df['categories'].str.translate(translator)\n",
        "df['authors'] =  df['authors'].str.translate(translator)"
      ]
    },
    {
      "cell_type": "code",
      "execution_count": null,
      "metadata": {
        "colab": {
          "base_uri": "https://localhost:8080/"
        },
        "id": "JHol4iKjneUo",
        "outputId": "91111399-666f-4343-c719-6f6243fd7ceb"
      },
      "outputs": [
        {
          "data": {
            "text/plain": [
              "array(['216325', '', '214138', ..., '352458', '642893', '44373'],\n",
              "      dtype=object)"
            ]
          },
          "execution_count": 112,
          "metadata": {},
          "output_type": "execute_result"
        }
      ],
      "source": [
        "df['authors'].unique()"
      ]
    },
    {
      "cell_type": "code",
      "execution_count": null,
      "metadata": {
        "id": "XH3RN5LdlDoZ"
      },
      "outputs": [],
      "source": [
        "# Explode the 'Categories' column\n",
        "df['categories'] = df['categories'].str.split()\n",
        "df = df.explode('categories')"
      ]
    },
    {
      "cell_type": "code",
      "execution_count": null,
      "metadata": {
        "colab": {
          "base_uri": "https://localhost:8080/"
        },
        "id": "lRLzryVoj1ul",
        "outputId": "4571d3b8-b1f1-4d60-b54e-7667e9dbff86"
      },
      "outputs": [
        {
          "data": {
            "text/plain": [
              "authors                     object\n",
              "bestsellers-rank             int64\n",
              "categories                  object\n",
              "dimension-x                float64\n",
              "dimension-y                float64\n",
              "dimension-z                float64\n",
              "format                       int64\n",
              "id                           int64\n",
              "imprint                     object\n",
              "isbn13                       int64\n",
              "lang                        object\n",
              "publication-date    datetime64[ns]\n",
              "rating-avg                   int64\n",
              "rating-count                 int64\n",
              "title                       object\n",
              "weight                     float64\n",
              "dtype: object"
            ]
          },
          "execution_count": 100,
          "metadata": {},
          "output_type": "execute_result"
        }
      ],
      "source": [
        "df.dtypes"
      ]
    },
    {
      "cell_type": "code",
      "execution_count": null,
      "metadata": {
        "colab": {
          "base_uri": "https://localhost:8080/"
        },
        "id": "Jm6F-vsDc-Nk",
        "outputId": "0bf61319-8472-43b2-e165-f64487e7665e"
      },
      "outputs": [
        {
          "data": {
            "text/plain": [
              "(1100442, 17)"
            ]
          },
          "execution_count": 42,
          "metadata": {},
          "output_type": "execute_result"
        }
      ],
      "source": [
        "df.shape"
      ]
    },
    {
      "cell_type": "code",
      "execution_count": null,
      "metadata": {
        "colab": {
          "base_uri": "https://localhost:8080/"
        },
        "id": "P4Z2ajh4mBda",
        "outputId": "85563da4-de91-42a0-c35c-eb27c63797ec"
      },
      "outputs": [
        {
          "data": {
            "text/plain": [
              "authors             0\n",
              "bestsellers-rank    0\n",
              "categories          5\n",
              "dimension-x         0\n",
              "dimension-y         0\n",
              "dimension-z         0\n",
              "format              0\n",
              "id                  0\n",
              "imprint             0\n",
              "isbn10              0\n",
              "isbn13              0\n",
              "lang                0\n",
              "publication-date    0\n",
              "rating-avg          0\n",
              "rating-count        0\n",
              "title               0\n",
              "weight              0\n",
              "dtype: int64"
            ]
          },
          "execution_count": 45,
          "metadata": {},
          "output_type": "execute_result"
        }
      ],
      "source": [
        "df.isnull().sum()"
      ]
    },
    {
      "cell_type": "code",
      "execution_count": null,
      "metadata": {
        "id": "5Ow4zyURoxvp"
      },
      "outputs": [],
      "source": [
        "df.sort_values('authors', inplace=True)"
      ]
    },
    {
      "cell_type": "code",
      "execution_count": null,
      "metadata": {
        "colab": {
          "base_uri": "https://localhost:8080/"
        },
        "id": "MSDphIkypNvm",
        "outputId": "26fb89ba-dbe8-4b95-ac50-ca54f32513a9"
      },
      "outputs": [
        {
          "data": {
            "text/plain": [
              "562598"
            ]
          },
          "execution_count": 118,
          "metadata": {},
          "output_type": "execute_result"
        }
      ],
      "source": [
        "df['authors'].nunique()"
      ]
    },
    {
      "cell_type": "code",
      "execution_count": null,
      "metadata": {
        "colab": {
          "base_uri": "https://localhost:8080/",
          "height": 556
        },
        "id": "q34gyvcgmYgv",
        "outputId": "9450ff72-6c24-482e-c2bf-4f0b937aab53"
      },
      "outputs": [
        {
          "data": {
            "text/html": [
              "\n",
              "  <div id=\"df-4c6f278d-3983-45f8-bdb1-e2c6690d62a9\" class=\"colab-df-container\">\n",
              "    <div>\n",
              "<style scoped>\n",
              "    .dataframe tbody tr th:only-of-type {\n",
              "        vertical-align: middle;\n",
              "    }\n",
              "\n",
              "    .dataframe tbody tr th {\n",
              "        vertical-align: top;\n",
              "    }\n",
              "\n",
              "    .dataframe thead th {\n",
              "        text-align: right;\n",
              "    }\n",
              "</style>\n",
              "<table border=\"1\" class=\"dataframe\">\n",
              "  <thead>\n",
              "    <tr style=\"text-align: right;\">\n",
              "      <th></th>\n",
              "      <th>authors</th>\n",
              "      <th>bestsellers-rank</th>\n",
              "      <th>categories</th>\n",
              "      <th>dimension-x</th>\n",
              "      <th>dimension-y</th>\n",
              "      <th>dimension-z</th>\n",
              "      <th>format</th>\n",
              "      <th>id</th>\n",
              "      <th>imprint</th>\n",
              "      <th>isbn10</th>\n",
              "      <th>isbn13</th>\n",
              "      <th>lang</th>\n",
              "      <th>publication-date</th>\n",
              "      <th>rating-avg</th>\n",
              "      <th>rating-count</th>\n",
              "      <th>title</th>\n",
              "      <th>weight</th>\n",
              "    </tr>\n",
              "  </thead>\n",
              "  <tbody>\n",
              "    <tr>\n",
              "      <th>636323</th>\n",
              "      <td>86969</td>\n",
              "      <td>9.204967e+05</td>\n",
              "      <td>NaN</td>\n",
              "      <td>102.11</td>\n",
              "      <td>151.89</td>\n",
              "      <td>2.79</td>\n",
              "      <td>1.0</td>\n",
              "      <td>9781528718035</td>\n",
              "      <td>ROUTLEDGE</td>\n",
              "      <td>1528718038</td>\n",
              "      <td>9781528718035</td>\n",
              "      <td>en</td>\n",
              "      <td>2020-08-03 00:00:00</td>\n",
              "      <td>3.974931</td>\n",
              "      <td>12387.631824</td>\n",
              "      <td>The Stuff That Dreams are Made of</td>\n",
              "      <td>36.29</td>\n",
              "    </tr>\n",
              "    <tr>\n",
              "      <th>774006</th>\n",
              "      <td>451558</td>\n",
              "      <td>9.204967e+05</td>\n",
              "      <td>NaN</td>\n",
              "      <td>215.90</td>\n",
              "      <td>279.91</td>\n",
              "      <td>10.92</td>\n",
              "      <td>1.0</td>\n",
              "      <td>9781697045048</td>\n",
              "      <td>ROUTLEDGE</td>\n",
              "      <td>1697045049</td>\n",
              "      <td>9781697045048</td>\n",
              "      <td>en</td>\n",
              "      <td>2019-10-02 00:00:00</td>\n",
              "      <td>3.974931</td>\n",
              "      <td>12387.631824</td>\n",
              "      <td>I Don't Have Enough Middle Finger For Alzheime...</td>\n",
              "      <td>480.81</td>\n",
              "    </tr>\n",
              "    <tr>\n",
              "      <th>1054358</th>\n",
              "      <td>631186</td>\n",
              "      <td>9.204967e+05</td>\n",
              "      <td>NaN</td>\n",
              "      <td>189.00</td>\n",
              "      <td>246.00</td>\n",
              "      <td>26.00</td>\n",
              "      <td>1.0</td>\n",
              "      <td>9781275344020</td>\n",
              "      <td>ROUTLEDGE</td>\n",
              "      <td>127534402X</td>\n",
              "      <td>9781275344020</td>\n",
              "      <td>fr</td>\n",
              "      <td>2012-02-18 00:00:00</td>\n",
              "      <td>3.974931</td>\n",
              "      <td>12387.631824</td>\n",
              "      <td>Essai de Classification Des Suites Monetaires ...</td>\n",
              "      <td>907.00</td>\n",
              "    </tr>\n",
              "    <tr>\n",
              "      <th>1103242</th>\n",
              "      <td>651300</td>\n",
              "      <td>9.204967e+05</td>\n",
              "      <td>NaN</td>\n",
              "      <td>127.00</td>\n",
              "      <td>202.95</td>\n",
              "      <td>3.56</td>\n",
              "      <td>1.0</td>\n",
              "      <td>9781082129902</td>\n",
              "      <td>ROUTLEDGE</td>\n",
              "      <td>1082129909</td>\n",
              "      <td>9781082129902</td>\n",
              "      <td>es</td>\n",
              "      <td>2019-07-23 00:00:00</td>\n",
              "      <td>3.974931</td>\n",
              "      <td>12387.631824</td>\n",
              "      <td>De consumista a minimalista : Breve guía para ...</td>\n",
              "      <td>72.57</td>\n",
              "    </tr>\n",
              "    <tr>\n",
              "      <th>1106381</th>\n",
              "      <td>31323</td>\n",
              "      <td>1.265745e+06</td>\n",
              "      <td>NaN</td>\n",
              "      <td>215.00</td>\n",
              "      <td>270.00</td>\n",
              "      <td>20.00</td>\n",
              "      <td>4.0</td>\n",
              "      <td>9781447903055</td>\n",
              "      <td>Pearson Longman</td>\n",
              "      <td>1447903056</td>\n",
              "      <td>9781447903055</td>\n",
              "      <td>en</td>\n",
              "      <td>2012-04-05 00:00:00</td>\n",
              "      <td>3.974931</td>\n",
              "      <td>12387.631824</td>\n",
              "      <td>Grammar and Vocabulary for FCE 2nd Edition wit...</td>\n",
              "      <td>840.00</td>\n",
              "    </tr>\n",
              "  </tbody>\n",
              "</table>\n",
              "</div>\n",
              "    <div class=\"colab-df-buttons\">\n",
              "\n",
              "  <div class=\"colab-df-container\">\n",
              "    <button class=\"colab-df-convert\" onclick=\"convertToInteractive('df-4c6f278d-3983-45f8-bdb1-e2c6690d62a9')\"\n",
              "            title=\"Convert this dataframe to an interactive table.\"\n",
              "            style=\"display:none;\">\n",
              "\n",
              "  <svg xmlns=\"http://www.w3.org/2000/svg\" height=\"24px\" viewBox=\"0 -960 960 960\">\n",
              "    <path d=\"M120-120v-720h720v720H120Zm60-500h600v-160H180v160Zm220 220h160v-160H400v160Zm0 220h160v-160H400v160ZM180-400h160v-160H180v160Zm440 0h160v-160H620v160ZM180-180h160v-160H180v160Zm440 0h160v-160H620v160Z\"/>\n",
              "  </svg>\n",
              "    </button>\n",
              "\n",
              "  <style>\n",
              "    .colab-df-container {\n",
              "      display:flex;\n",
              "      gap: 12px;\n",
              "    }\n",
              "\n",
              "    .colab-df-convert {\n",
              "      background-color: #E8F0FE;\n",
              "      border: none;\n",
              "      border-radius: 50%;\n",
              "      cursor: pointer;\n",
              "      display: none;\n",
              "      fill: #1967D2;\n",
              "      height: 32px;\n",
              "      padding: 0 0 0 0;\n",
              "      width: 32px;\n",
              "    }\n",
              "\n",
              "    .colab-df-convert:hover {\n",
              "      background-color: #E2EBFA;\n",
              "      box-shadow: 0px 1px 2px rgba(60, 64, 67, 0.3), 0px 1px 3px 1px rgba(60, 64, 67, 0.15);\n",
              "      fill: #174EA6;\n",
              "    }\n",
              "\n",
              "    .colab-df-buttons div {\n",
              "      margin-bottom: 4px;\n",
              "    }\n",
              "\n",
              "    [theme=dark] .colab-df-convert {\n",
              "      background-color: #3B4455;\n",
              "      fill: #D2E3FC;\n",
              "    }\n",
              "\n",
              "    [theme=dark] .colab-df-convert:hover {\n",
              "      background-color: #434B5C;\n",
              "      box-shadow: 0px 1px 3px 1px rgba(0, 0, 0, 0.15);\n",
              "      filter: drop-shadow(0px 1px 2px rgba(0, 0, 0, 0.3));\n",
              "      fill: #FFFFFF;\n",
              "    }\n",
              "  </style>\n",
              "\n",
              "    <script>\n",
              "      const buttonEl =\n",
              "        document.querySelector('#df-4c6f278d-3983-45f8-bdb1-e2c6690d62a9 button.colab-df-convert');\n",
              "      buttonEl.style.display =\n",
              "        google.colab.kernel.accessAllowed ? 'block' : 'none';\n",
              "\n",
              "      async function convertToInteractive(key) {\n",
              "        const element = document.querySelector('#df-4c6f278d-3983-45f8-bdb1-e2c6690d62a9');\n",
              "        const dataTable =\n",
              "          await google.colab.kernel.invokeFunction('convertToInteractive',\n",
              "                                                    [key], {});\n",
              "        if (!dataTable) return;\n",
              "\n",
              "        const docLinkHtml = 'Like what you see? Visit the ' +\n",
              "          '<a target=\"_blank\" href=https://colab.research.google.com/notebooks/data_table.ipynb>data table notebook</a>'\n",
              "          + ' to learn more about interactive tables.';\n",
              "        element.innerHTML = '';\n",
              "        dataTable['output_type'] = 'display_data';\n",
              "        await google.colab.output.renderOutput(dataTable, element);\n",
              "        const docLink = document.createElement('div');\n",
              "        docLink.innerHTML = docLinkHtml;\n",
              "        element.appendChild(docLink);\n",
              "      }\n",
              "    </script>\n",
              "  </div>\n",
              "\n",
              "\n",
              "<div id=\"df-bc838138-4e02-4a2f-b7e4-cf15c0504e81\">\n",
              "  <button class=\"colab-df-quickchart\" onclick=\"quickchart('df-bc838138-4e02-4a2f-b7e4-cf15c0504e81')\"\n",
              "            title=\"Suggest charts.\"\n",
              "            style=\"display:none;\">\n",
              "\n",
              "<svg xmlns=\"http://www.w3.org/2000/svg\" height=\"24px\"viewBox=\"0 0 24 24\"\n",
              "     width=\"24px\">\n",
              "    <g>\n",
              "        <path d=\"M19 3H5c-1.1 0-2 .9-2 2v14c0 1.1.9 2 2 2h14c1.1 0 2-.9 2-2V5c0-1.1-.9-2-2-2zM9 17H7v-7h2v7zm4 0h-2V7h2v10zm4 0h-2v-4h2v4z\"/>\n",
              "    </g>\n",
              "</svg>\n",
              "  </button>\n",
              "\n",
              "<style>\n",
              "  .colab-df-quickchart {\n",
              "      --bg-color: #E8F0FE;\n",
              "      --fill-color: #1967D2;\n",
              "      --hover-bg-color: #E2EBFA;\n",
              "      --hover-fill-color: #174EA6;\n",
              "      --disabled-fill-color: #AAA;\n",
              "      --disabled-bg-color: #DDD;\n",
              "  }\n",
              "\n",
              "  [theme=dark] .colab-df-quickchart {\n",
              "      --bg-color: #3B4455;\n",
              "      --fill-color: #D2E3FC;\n",
              "      --hover-bg-color: #434B5C;\n",
              "      --hover-fill-color: #FFFFFF;\n",
              "      --disabled-bg-color: #3B4455;\n",
              "      --disabled-fill-color: #666;\n",
              "  }\n",
              "\n",
              "  .colab-df-quickchart {\n",
              "    background-color: var(--bg-color);\n",
              "    border: none;\n",
              "    border-radius: 50%;\n",
              "    cursor: pointer;\n",
              "    display: none;\n",
              "    fill: var(--fill-color);\n",
              "    height: 32px;\n",
              "    padding: 0;\n",
              "    width: 32px;\n",
              "  }\n",
              "\n",
              "  .colab-df-quickchart:hover {\n",
              "    background-color: var(--hover-bg-color);\n",
              "    box-shadow: 0 1px 2px rgba(60, 64, 67, 0.3), 0 1px 3px 1px rgba(60, 64, 67, 0.15);\n",
              "    fill: var(--button-hover-fill-color);\n",
              "  }\n",
              "\n",
              "  .colab-df-quickchart-complete:disabled,\n",
              "  .colab-df-quickchart-complete:disabled:hover {\n",
              "    background-color: var(--disabled-bg-color);\n",
              "    fill: var(--disabled-fill-color);\n",
              "    box-shadow: none;\n",
              "  }\n",
              "\n",
              "  .colab-df-spinner {\n",
              "    border: 2px solid var(--fill-color);\n",
              "    border-color: transparent;\n",
              "    border-bottom-color: var(--fill-color);\n",
              "    animation:\n",
              "      spin 1s steps(1) infinite;\n",
              "  }\n",
              "\n",
              "  @keyframes spin {\n",
              "    0% {\n",
              "      border-color: transparent;\n",
              "      border-bottom-color: var(--fill-color);\n",
              "      border-left-color: var(--fill-color);\n",
              "    }\n",
              "    20% {\n",
              "      border-color: transparent;\n",
              "      border-left-color: var(--fill-color);\n",
              "      border-top-color: var(--fill-color);\n",
              "    }\n",
              "    30% {\n",
              "      border-color: transparent;\n",
              "      border-left-color: var(--fill-color);\n",
              "      border-top-color: var(--fill-color);\n",
              "      border-right-color: var(--fill-color);\n",
              "    }\n",
              "    40% {\n",
              "      border-color: transparent;\n",
              "      border-right-color: var(--fill-color);\n",
              "      border-top-color: var(--fill-color);\n",
              "    }\n",
              "    60% {\n",
              "      border-color: transparent;\n",
              "      border-right-color: var(--fill-color);\n",
              "    }\n",
              "    80% {\n",
              "      border-color: transparent;\n",
              "      border-right-color: var(--fill-color);\n",
              "      border-bottom-color: var(--fill-color);\n",
              "    }\n",
              "    90% {\n",
              "      border-color: transparent;\n",
              "      border-bottom-color: var(--fill-color);\n",
              "    }\n",
              "  }\n",
              "</style>\n",
              "\n",
              "  <script>\n",
              "    async function quickchart(key) {\n",
              "      const quickchartButtonEl =\n",
              "        document.querySelector('#' + key + ' button');\n",
              "      quickchartButtonEl.disabled = true;  // To prevent multiple clicks.\n",
              "      quickchartButtonEl.classList.add('colab-df-spinner');\n",
              "      try {\n",
              "        const charts = await google.colab.kernel.invokeFunction(\n",
              "            'suggestCharts', [key], {});\n",
              "      } catch (error) {\n",
              "        console.error('Error during call to suggestCharts:', error);\n",
              "      }\n",
              "      quickchartButtonEl.classList.remove('colab-df-spinner');\n",
              "      quickchartButtonEl.classList.add('colab-df-quickchart-complete');\n",
              "    }\n",
              "    (() => {\n",
              "      let quickchartButtonEl =\n",
              "        document.querySelector('#df-bc838138-4e02-4a2f-b7e4-cf15c0504e81 button');\n",
              "      quickchartButtonEl.style.display =\n",
              "        google.colab.kernel.accessAllowed ? 'block' : 'none';\n",
              "    })();\n",
              "  </script>\n",
              "</div>\n",
              "    </div>\n",
              "  </div>\n"
            ],
            "text/plain": [
              "        authors  bestsellers-rank categories  dimension-x  dimension-y  \\\n",
              "636323    86969      9.204967e+05        NaN       102.11       151.89   \n",
              "774006   451558      9.204967e+05        NaN       215.90       279.91   \n",
              "1054358  631186      9.204967e+05        NaN       189.00       246.00   \n",
              "1103242  651300      9.204967e+05        NaN       127.00       202.95   \n",
              "1106381   31323      1.265745e+06        NaN       215.00       270.00   \n",
              "\n",
              "         dimension-z  format             id          imprint      isbn10  \\\n",
              "636323          2.79     1.0  9781528718035        ROUTLEDGE  1528718038   \n",
              "774006         10.92     1.0  9781697045048        ROUTLEDGE  1697045049   \n",
              "1054358        26.00     1.0  9781275344020        ROUTLEDGE  127534402X   \n",
              "1103242         3.56     1.0  9781082129902        ROUTLEDGE  1082129909   \n",
              "1106381        20.00     4.0  9781447903055  Pearson Longman  1447903056   \n",
              "\n",
              "                isbn13 lang     publication-date  rating-avg  rating-count  \\\n",
              "636323   9781528718035   en  2020-08-03 00:00:00    3.974931  12387.631824   \n",
              "774006   9781697045048   en  2019-10-02 00:00:00    3.974931  12387.631824   \n",
              "1054358  9781275344020   fr  2012-02-18 00:00:00    3.974931  12387.631824   \n",
              "1103242  9781082129902   es  2019-07-23 00:00:00    3.974931  12387.631824   \n",
              "1106381  9781447903055   en  2012-04-05 00:00:00    3.974931  12387.631824   \n",
              "\n",
              "                                                     title  weight  \n",
              "636323                   The Stuff That Dreams are Made of   36.29  \n",
              "774006   I Don't Have Enough Middle Finger For Alzheime...  480.81  \n",
              "1054358  Essai de Classification Des Suites Monetaires ...  907.00  \n",
              "1103242  De consumista a minimalista : Breve guía para ...   72.57  \n",
              "1106381  Grammar and Vocabulary for FCE 2nd Edition wit...  840.00  "
            ]
          },
          "execution_count": 47,
          "metadata": {},
          "output_type": "execute_result"
        }
      ],
      "source": [
        "# Print null values in the 'Values' column\n",
        "df[df['categories'].isnull()]"
      ]
    },
    {
      "cell_type": "code",
      "execution_count": null,
      "metadata": {
        "id": "-oGNwZV-moS5"
      },
      "outputs": [],
      "source": [
        "df.dropna(subset=['categories'], inplace =True)"
      ]
    },
    {
      "cell_type": "code",
      "execution_count": null,
      "metadata": {
        "colab": {
          "base_uri": "https://localhost:8080/"
        },
        "id": "g7UWqHgVnWe-",
        "outputId": "cfcfce86-0988-46c9-a822-6af24437c654"
      },
      "outputs": [
        {
          "data": {
            "text/plain": [
              "authors             0\n",
              "bestsellers-rank    0\n",
              "categories          0\n",
              "dimension-x         0\n",
              "dimension-y         0\n",
              "dimension-z         0\n",
              "format              0\n",
              "id                  0\n",
              "imprint             0\n",
              "isbn10              0\n",
              "isbn13              0\n",
              "lang                0\n",
              "publication-date    0\n",
              "rating-avg          0\n",
              "rating-count        0\n",
              "title               0\n",
              "weight              0\n",
              "dtype: int64"
            ]
          },
          "execution_count": 49,
          "metadata": {},
          "output_type": "execute_result"
        }
      ],
      "source": [
        "df.isnull().sum()"
      ]
    },
    {
      "cell_type": "markdown",
      "source": [
        "'categories': int,"
      ],
      "metadata": {
        "id": "DcL8Q_ltZ3y9"
      }
    },
    {
      "cell_type": "markdown",
      "source": [
        "### **till here**"
      ],
      "metadata": {
        "id": "DbCKhmt6Fx5q"
      }
    },
    {
      "cell_type": "code",
      "source": [
        "import math"
      ],
      "metadata": {
        "id": "IPiKholpvQxP"
      },
      "execution_count": null,
      "outputs": []
    },
    {
      "cell_type": "code",
      "source": [
        "df['rating-avg'] = df['rating-avg'].apply(lambda x: math.floor(x))"
      ],
      "metadata": {
        "id": "GYySM7davEM5"
      },
      "execution_count": null,
      "outputs": []
    },
    {
      "cell_type": "code",
      "source": [
        "df['rating-avg'].unique()"
      ],
      "metadata": {
        "colab": {
          "base_uri": "https://localhost:8080/"
        },
        "id": "4cNrIj9JvjHF",
        "outputId": "f7b9750a-f0f8-41e2-9337-2e9c2edfbac1"
      },
      "execution_count": null,
      "outputs": [
        {
          "output_type": "execute_result",
          "data": {
            "text/plain": [
              "array([4, 3, 5, 1, 2])"
            ]
          },
          "metadata": {},
          "execution_count": 48
        }
      ]
    },
    {
      "cell_type": "code",
      "source": [
        "# Create a dictionary to map the values\n",
        "# doing this because rating-avg is our target variable and for multiclass classification we need classes from 0\n",
        "mapping_dict = {4: 3, 3: 2, 5: 4, 1: 0, 2: 1}\n",
        "df['rating-avg'] = df['rating-avg'].replace(mapping_dict)\n"
      ],
      "metadata": {
        "id": "Yap-h1E9wKik"
      },
      "execution_count": null,
      "outputs": []
    },
    {
      "cell_type": "code",
      "source": [
        "df['rating-avg'].unique()"
      ],
      "metadata": {
        "colab": {
          "base_uri": "https://localhost:8080/"
        },
        "id": "oafyKtdxxiMf",
        "outputId": "4a4ba3d3-a445-4483-eea8-dc6ad5cf635b"
      },
      "execution_count": null,
      "outputs": [
        {
          "output_type": "execute_result",
          "data": {
            "text/plain": [
              "array([3, 2, 4, 0, 1])"
            ]
          },
          "metadata": {},
          "execution_count": 50
        }
      ]
    },
    {
      "cell_type": "code",
      "execution_count": null,
      "metadata": {
        "id": "l4dv27vyRMgE"
      },
      "outputs": [],
      "source": [
        "# Changing datatype of rating-avg and bestsellers-rank\n",
        "change_type = {'bestsellers-rank': int,'format': int,'rating-count': int}\n",
        "df = df.astype(change_type)"
      ]
    },
    {
      "cell_type": "code",
      "execution_count": null,
      "metadata": {
        "colab": {
          "base_uri": "https://localhost:8080/"
        },
        "id": "fb9xM6yIYg7T",
        "outputId": "606a7e33-4ac2-4a7b-d071-5359255bcb0d"
      },
      "outputs": [
        {
          "output_type": "stream",
          "name": "stdout",
          "text": [
            "Count of values with 'X' in the column 'isbn10': 99299\n"
          ]
        }
      ],
      "source": [
        "# Extract count of values having X from isbn10\n",
        "count_X_values = df['isbn10'].str.count('X').sum()\n",
        "print(f\"Count of values with 'X' in the column 'isbn10': {count_X_values}\")"
      ]
    },
    {
      "cell_type": "code",
      "execution_count": null,
      "metadata": {
        "id": "iTUm-sGsT5tV"
      },
      "outputs": [],
      "source": [
        "# dropping isbn10 since it has X in values\n",
        "df.drop(['isbn10'],axis=1,inplace=True)"
      ]
    },
    {
      "cell_type": "code",
      "execution_count": null,
      "metadata": {
        "id": "kKMTQs0AZQIM"
      },
      "outputs": [],
      "source": [
        "# Changing publication date to proper date format\n",
        "df['publication-date'] = pd.to_datetime(df['publication-date'])"
      ]
    },
    {
      "cell_type": "code",
      "execution_count": null,
      "metadata": {
        "colab": {
          "base_uri": "https://localhost:8080/"
        },
        "id": "BrmRESlDZBYN",
        "outputId": "d24818e1-8f8a-4eb8-afc4-d5b52e157492"
      },
      "outputs": [
        {
          "output_type": "execute_result",
          "data": {
            "text/plain": [
              "(1100442, 16)"
            ]
          },
          "metadata": {},
          "execution_count": 55
        }
      ],
      "source": [
        "df.shape"
      ]
    },
    {
      "cell_type": "code",
      "execution_count": null,
      "metadata": {
        "colab": {
          "base_uri": "https://localhost:8080/"
        },
        "id": "CMQGq4LOSOFq",
        "outputId": "432e8f5f-43bc-4ecc-ccc4-5583b528bd8f"
      },
      "outputs": [
        {
          "output_type": "execute_result",
          "data": {
            "text/plain": [
              "authors                     object\n",
              "bestsellers-rank             int64\n",
              "categories                  object\n",
              "dimension-x                float64\n",
              "dimension-y                float64\n",
              "dimension-z                float64\n",
              "format                       int64\n",
              "id                           int64\n",
              "imprint                     object\n",
              "isbn13                       int64\n",
              "lang                        object\n",
              "publication-date    datetime64[ns]\n",
              "rating-avg                   int64\n",
              "rating-count                 int64\n",
              "title                       object\n",
              "weight                     float64\n",
              "dtype: object"
            ]
          },
          "metadata": {},
          "execution_count": 56
        }
      ],
      "source": [
        "df.dtypes"
      ]
    },
    {
      "cell_type": "code",
      "execution_count": null,
      "metadata": {
        "id": "ghYebLM8Srey"
      },
      "outputs": [],
      "source": [
        "# convert lowercase column use apply()\n",
        "for i in cat_cols:\n",
        "  df[i] = df[i].apply(str.lower)"
      ]
    },
    {
      "cell_type": "code",
      "execution_count": null,
      "metadata": {
        "colab": {
          "base_uri": "https://localhost:8080/"
        },
        "id": "C4z2SJt1bc_G",
        "outputId": "16aac1e1-b220-4089-c167-3c403efcc451"
      },
      "outputs": [
        {
          "output_type": "stream",
          "name": "stdout",
          "text": [
            "0          Soldier Five : The Real Truth About The Bravo ...\n",
            "1                              Underbelly : The Gangland War\n",
            "2                                    A Sir Phillip, Con Amor\n",
            "3                    Qi: The Third Book Of General Ignorance\n",
            "4                             The Hidden Power Of F*Cking Up\n",
            "                                 ...                        \n",
            "1109378                            Making Money At The Races\n",
            "1109379    2020 : Diary, Weekly Planner, Organiser, Year ...\n",
            "1109380                                 Canoeing And Camping\n",
            "1109381    The Complete Guide To Western Horsemanship (Cl...\n",
            "1109382    Show Ring Success : A Rider'S Guide To Winning...\n",
            "Name: title, Length: 1100442, dtype: object\n"
          ]
        }
      ],
      "source": [
        "# convert to sentence case\n",
        "df['title'] = df['title'].apply(str.title)\n",
        "print(df['title'])"
      ]
    },
    {
      "cell_type": "code",
      "execution_count": null,
      "metadata": {
        "id": "KhZA-C4ytAyO"
      },
      "outputs": [],
      "source": [
        "from sklearn.preprocessing import LabelEncoder\n",
        "le = LabelEncoder()\n",
        "# Fitting and transforming the 'imprint' column\n",
        "df['imprint'] = le.fit_transform(df['imprint'].astype(str))\n",
        "# Fitting and transforming the 'lang' column\n",
        "df['lang'] = le.fit_transform(df['lang'].astype(str))\n"
      ]
    },
    {
      "cell_type": "code",
      "execution_count": null,
      "metadata": {
        "colab": {
          "base_uri": "https://localhost:8080/"
        },
        "id": "l83QeF8DtJx8",
        "outputId": "79c48ea2-e282-4fe3-adea-f1ec9ff1c034"
      },
      "outputs": [
        {
          "output_type": "execute_result",
          "data": {
            "text/plain": [
              "authors                     object\n",
              "bestsellers-rank             int64\n",
              "categories                  object\n",
              "dimension-x                float64\n",
              "dimension-y                float64\n",
              "dimension-z                float64\n",
              "format                       int64\n",
              "id                           int64\n",
              "imprint                      int64\n",
              "isbn13                       int64\n",
              "lang                         int64\n",
              "publication-date    datetime64[ns]\n",
              "rating-avg                   int64\n",
              "rating-count                 int64\n",
              "title                       object\n",
              "weight                     float64\n",
              "dtype: object"
            ]
          },
          "metadata": {},
          "execution_count": 60
        }
      ],
      "source": [
        "df.dtypes"
      ]
    },
    {
      "cell_type": "code",
      "execution_count": null,
      "metadata": {
        "colab": {
          "base_uri": "https://localhost:8080/",
          "height": 850
        },
        "id": "EozUnKOJ36J3",
        "outputId": "74f25a92-8762-4788-b655-5a0ad42f72fa"
      },
      "outputs": [
        {
          "output_type": "stream",
          "name": "stderr",
          "text": [
            "<ipython-input-61-98a2f7ccb217>:5: FutureWarning: The default value of numeric_only in DataFrame.corr is deprecated. In a future version, it will default to False. Select only valid columns or specify the value of numeric_only to silence this warning.\n",
            "  correlation_matrix = df.corr()\n"
          ]
        },
        {
          "output_type": "display_data",
          "data": {
            "text/plain": [
              "<Figure size 1200x800 with 2 Axes>"
            ],
            "image/png": "[encoded data removed]"
          },
          "metadata": {}
        }
      ],
      "source": [
        "# Feature Selection using Correlation Analysis\n",
        "import seaborn as sns\n",
        "import matplotlib.pyplot as plt\n",
        "# Correlation matrix\n",
        "correlation_matrix = df.corr()\n",
        "# Plot the heatmap\n",
        "plt.figure(figsize=(12, 8))\n",
        "sns.heatmap(correlation_matrix, annot=True, cmap='coolwarm', fmt=\".2f\", linewidths=0.5)\n",
        "plt.title('Correlation Heatmap')\n",
        "plt.show()"
      ]
    },
    {
      "cell_type": "code",
      "execution_count": null,
      "metadata": {
        "id": "9E7ZKNTBhWfc"
      },
      "outputs": [],
      "source": [
        "# id and isbn13 have correlation 1 , so dropping one of these\n",
        "df.drop('id',axis=1,inplace=True)"
      ]
    },
    {
      "cell_type": "code",
      "execution_count": null,
      "metadata": {
        "id": "GRM_tdq76B-i"
      },
      "outputs": [],
      "source": [
        "# Selected features\n",
        "predictors = [ 'bestsellers-rank','imprint', 'lang',\n",
        "       'dimension-x', 'dimension-y', 'dimension-z', 'format', 'isbn13',\n",
        "       'rating-count', 'weight']"
      ]
    },
    {
      "cell_type": "code",
      "execution_count": null,
      "metadata": {
        "id": "ZQALf5ac6qmn"
      },
      "outputs": [],
      "source": [
        "# Data Preparation\n",
        "X = df[predictors]\n",
        "y = df['rating-avg']"
      ]
    },
    {
      "cell_type": "code",
      "execution_count": null,
      "metadata": {
        "id": "nz7ySvI87lJ9"
      },
      "outputs": [],
      "source": [
        "from sklearn.model_selection import train_test_split\n",
        "from sklearn.preprocessing import StandardScaler\n",
        "from sklearn.linear_model import LogisticRegression\n",
        "from sklearn.metrics import accuracy_score, confusion_matrix\n",
        "\n",
        "# Train-test split\n",
        "X_train, X_rem, y_train, y_rem = train_test_split(X, y, test_size=0.3, random_state=42)\n",
        "X_val, X_test, y_val, y_test = train_test_split(X_rem, y_rem, test_size=0.5, random_state=42)\n",
        "\n",
        "# # Feature Scaling\n",
        "# scaler = StandardScaler()\n",
        "# X_train = scaler.fit_transform(X_train)\n",
        "# X_val = scaler.transform(X_val)\n",
        "# X_test = scaler.transform(X_test)"
      ]
    },
    {
      "cell_type": "code",
      "execution_count": null,
      "metadata": {
        "colab": {
          "base_uri": "https://localhost:8080/"
        },
        "id": "QF1f037GuLn_",
        "outputId": "fa4b7fe5-ac03-49e9-e95d-50c4b4a33a6c"
      },
      "outputs": [
        {
          "output_type": "stream",
          "name": "stdout",
          "text": [
            "Train Accuracy: 0.6529860095104691\n",
            "Validation Accuracy: 0.6514303369561266\n",
            "Test Accuracy: 0.6529530433096864\n",
            "Confusion Matrix:\n",
            "[[     0      0    444      0      0]\n",
            " [     0      0   2251      0      0]\n",
            " [     0      0 107781      0      0]\n",
            " [     0      0  48214      0      0]\n",
            " [     0      0   6377      0      0]]\n"
          ]
        }
      ],
      "source": [
        "from sklearn.linear_model import LogisticRegression\n",
        "import matplotlib.pyplot as plt\n",
        "\n",
        "model = LogisticRegression(multi_class='multinomial', solver='lbfgs')\n",
        "model.fit(X_train, y_train)\n",
        "\n",
        "train_accuracy = model.score(X_train, y_train)\n",
        "val_accuracy = model.score(X_val, y_val)\n",
        "\n",
        "from sklearn.metrics import accuracy_score, confusion_matrix\n",
        "\n",
        "y_pred_test = model.predict(X_test)\n",
        "test_accuracy = accuracy_score(y_test, y_pred_test)\n",
        "conf_matrix = confusion_matrix(y_test, y_pred_test)\n",
        "print(f\"Train Accuracy: {train_accuracy}\")\n",
        "print(f\"Validation Accuracy: {val_accuracy}\")\n",
        "print(f\"Test Accuracy: {test_accuracy}\")\n",
        "print(f\"Confusion Matrix:\\n{conf_matrix}\")\n"
      ]
    },
    {
      "cell_type": "code",
      "execution_count": null,
      "metadata": {
        "id": "u8Z2vpiIpQOg"
      },
      "outputs": [],
      "source": [
        "#Hyperparameter tuning for Random Forest Regressor using random grid\n",
        "\n",
        "# No. of trees\n",
        "n_estimators = [50,100,150,200]\n",
        "# No. of features at every split\n",
        "max_features = ['auto', 'sqrt']\n",
        "# No. of levels\n",
        "max_depth = [3,6,9]\n",
        "# No. of samples at split\n",
        "min_samples_split = [2, 5, 10]\n",
        "# No. of samples at leaf node\n",
        "min_samples_leaf = [1, 2, 4]\n",
        "bootstrap = [True, False]\n",
        "# Random grid\n",
        "random_grid = {'n_estimators': n_estimators,\n",
        "               'max_features': max_features,\n",
        "               'max_depth': max_depth,\n",
        "               'min_samples_split': min_samples_split,\n",
        "               'min_samples_leaf': min_samples_leaf,\n",
        "               'bootstrap': bootstrap}"
      ]
    },
    {
      "cell_type": "code",
      "execution_count": null,
      "metadata": {
        "colab": {
          "base_uri": "https://localhost:8080/",
          "height": 245
        },
        "id": "giODN4U4_s2m",
        "outputId": "825746af-45b4-4479-abf2-1b03810e9d6b"
      },
      "outputs": [
        {
          "output_type": "error",
          "ename": "NameError",
          "evalue": "ignored",
          "traceback": [
            "\u001b[0;31m---------------------------------------------------------------------------\u001b[0m",
            "\u001b[0;31mNameError\u001b[0m                                 Traceback (most recent call last)",
            "\u001b[0;32m<ipython-input-2-27fd6c36856f>\u001b[0m in \u001b[0;36m<cell line: 5>\u001b[0;34m()\u001b[0m\n\u001b[1;32m      3\u001b[0m \u001b[0;34m\u001b[0m\u001b[0m\n\u001b[1;32m      4\u001b[0m \u001b[0mmodel\u001b[0m \u001b[0;34m=\u001b[0m \u001b[0mRandomForestClassifier\u001b[0m\u001b[0;34m(\u001b[0m\u001b[0;34m)\u001b[0m\u001b[0;34m\u001b[0m\u001b[0;34m\u001b[0m\u001b[0m\n\u001b[0;32m----> 5\u001b[0;31m \u001b[0mmodel\u001b[0m\u001b[0;34m.\u001b[0m\u001b[0mfit\u001b[0m\u001b[0;34m(\u001b[0m\u001b[0mX_train\u001b[0m\u001b[0;34m,\u001b[0m \u001b[0my_train\u001b[0m\u001b[0;34m)\u001b[0m\u001b[0;34m\u001b[0m\u001b[0;34m\u001b[0m\u001b[0m\n\u001b[0m\u001b[1;32m      6\u001b[0m \u001b[0;34m\u001b[0m\u001b[0m\n\u001b[1;32m      7\u001b[0m \u001b[0;31m# Model evaluation\u001b[0m\u001b[0;34m\u001b[0m\u001b[0;34m\u001b[0m\u001b[0m\n",
            "\u001b[0;31mNameError\u001b[0m: name 'X_train' is not defined"
          ]
        }
      ],
      "source": [
        "\n",
        "# Model selection and training\n",
        "from sklearn.ensemble import RandomForestClassifier\n",
        "\n",
        "model = RandomForestClassifier()\n",
        "model.fit(X_train, y_train)\n",
        "\n",
        "# Model evaluation\n",
        "y_train_pred = model.predict(X_train)\n",
        "y_val_pred = model.predict(X_val)\n",
        "y_test_pred = model.predict(X_test)\n",
        "\n",
        "print(\"Training Accuracy:\", accuracy_score(y_train, y_train_pred))\n",
        "print(\"Validation Accuracy:\", accuracy_score(y_val, y_val_pred))\n",
        "print(\"Test Accuracy:\", accuracy_score(y_test, y_test_pred))"
      ]
    },
    {
      "cell_type": "code",
      "source": [
        "from sklearn.ensemble import RandomForestRegressor\n",
        "from sklearn.model_selection import RandomizedSearchCV\n",
        "\n",
        "# Create a Random Forest Regressor\n",
        "random_forest = RandomForestRegressor()\n",
        "\n",
        "# Random grid\n",
        "random_grid = {\n",
        "    'n_estimators': [50, 100, 150, 200],\n",
        "    'max_features': ['auto', 'sqrt'],\n",
        "    'max_depth': [3, 6, 9],\n",
        "    'min_samples_split': [2, 5, 10],\n",
        "    'min_samples_leaf': [1, 2, 4],\n",
        "    'bootstrap': [True, False]\n",
        "}\n",
        "\n",
        "# Random search of parameters using 3 fold cross validation\n",
        "rf_random = RandomizedSearchCV(estimator=random_forest, param_distributions=random_grid, n_iter=100, cv=3, verbose=2, random_state=42, n_jobs=-1)\n",
        "\n",
        "# Fit the random search model\n",
        "rf_random.fit(X_train, y_train)\n",
        "\n",
        "# Print the best parameters\n",
        "print(f\"Best Parameters: {rf_random.best_params_}\")\n"
      ],
      "metadata": {
        "colab": {
          "base_uri": "https://localhost:8080/",
          "height": 245
        },
        "id": "J-2bxUgWUbpU",
        "outputId": "05d7e6d4-12b0-40e8-b32c-006d1af16a66"
      },
      "execution_count": null,
      "outputs": [
        {
          "output_type": "error",
          "ename": "NameError",
          "evalue": "ignored",
          "traceback": [
            "\u001b[0;31m---------------------------------------------------------------------------\u001b[0m",
            "\u001b[0;31mNameError\u001b[0m                                 Traceback (most recent call last)",
            "\u001b[0;32m<ipython-input-1-617a200d4fd8>\u001b[0m in \u001b[0;36m<cell line: 21>\u001b[0;34m()\u001b[0m\n\u001b[1;32m     19\u001b[0m \u001b[0;34m\u001b[0m\u001b[0m\n\u001b[1;32m     20\u001b[0m \u001b[0;31m# Fit the random search model\u001b[0m\u001b[0;34m\u001b[0m\u001b[0;34m\u001b[0m\u001b[0m\n\u001b[0;32m---> 21\u001b[0;31m \u001b[0mrf_random\u001b[0m\u001b[0;34m.\u001b[0m\u001b[0mfit\u001b[0m\u001b[0;34m(\u001b[0m\u001b[0mX_train\u001b[0m\u001b[0;34m,\u001b[0m \u001b[0my_train\u001b[0m\u001b[0;34m)\u001b[0m\u001b[0;34m\u001b[0m\u001b[0;34m\u001b[0m\u001b[0m\n\u001b[0m\u001b[1;32m     22\u001b[0m \u001b[0;34m\u001b[0m\u001b[0m\n\u001b[1;32m     23\u001b[0m \u001b[0;31m# Print the best parameters\u001b[0m\u001b[0;34m\u001b[0m\u001b[0;34m\u001b[0m\u001b[0m\n",
            "\u001b[0;31mNameError\u001b[0m: name 'X_train' is not defined"
          ]
        }
      ]
    },
    {
      "cell_type": "markdown",
      "source": [
        "Overfitting"
      ],
      "metadata": {
        "id": "JYZ2HqYUGmYj"
      }
    },
    {
      "cell_type": "code",
      "source": [
        "import tensorflow as tf\n",
        "from tensorflow.keras.models import Sequential\n",
        "from tensorflow.keras.layers import Dense, Dropout\n",
        "from sklearn.preprocessing import StandardScaler\n",
        "\n",
        "# Initialize the model\n",
        "model = Sequential()\n",
        "\n",
        "# Add layers to the model\n",
        "model.add(Dense(64, input_dim=X_train.shape[1], activation='relu'))\n",
        "model.add(Dense(32, activation='relu'))\n",
        "model.add(Dropout(0.2))\n",
        "model.add(Dense(16, activation='relu'))\n",
        "model.add(Dense(5, activation='softmax'))  # 5 neurons for 5 output classes\n",
        "\n",
        "# Compile the model\n",
        "model.compile(optimizer='adam', loss='sparse_categorical_crossentropy', metrics=['accuracy'])\n",
        "\n",
        "# Train the model\n",
        "history = model.fit(X_train, y_train, epochs=10, validation_data=(X_val, y_val))\n",
        "\n",
        "# Evaluate the model on the test set\n",
        "test_loss, test_accuracy = model.evaluate(X_test, y_test)\n",
        "print(f'Test Loss: {test_loss}, Test Accuracy: {test_accuracy}')"
      ],
      "metadata": {
        "colab": {
          "base_uri": "https://localhost:8080/"
        },
        "id": "qgy1QgxoriZj",
        "outputId": "3e47b9ad-77c4-413a-eb3b-ef832c515569"
      },
      "execution_count": null,
      "outputs": [
        {
          "output_type": "stream",
          "name": "stdout",
          "text": [
            "Epoch 1/10\n",
            "24073/24073 [==============================] - 69s 3ms/step - loss: 1152238976.0000 - accuracy: 0.6488 - val_loss: 0.8382 - val_accuracy: 0.6514\n",
            "Epoch 2/10\n",
            "24073/24073 [==============================] - 62s 3ms/step - loss: 0.8359 - accuracy: 0.6530 - val_loss: 0.8382 - val_accuracy: 0.6514\n",
            "Epoch 3/10\n",
            "24073/24073 [==============================] - 67s 3ms/step - loss: 0.8361 - accuracy: 0.6530 - val_loss: 0.8382 - val_accuracy: 0.6514\n",
            "Epoch 4/10\n",
            "24073/24073 [==============================] - 64s 3ms/step - loss: 0.8362 - accuracy: 0.6530 - val_loss: 0.8382 - val_accuracy: 0.6514\n",
            "Epoch 5/10\n",
            "24073/24073 [==============================] - 67s 3ms/step - loss: 0.8361 - accuracy: 0.6530 - val_loss: 0.8385 - val_accuracy: 0.6514\n",
            "Epoch 6/10\n",
            "24073/24073 [==============================] - 64s 3ms/step - loss: 0.8361 - accuracy: 0.6530 - val_loss: 0.8394 - val_accuracy: 0.6514\n",
            "Epoch 7/10\n",
            "24073/24073 [==============================] - 71s 3ms/step - loss: 0.8361 - accuracy: 0.6530 - val_loss: 0.8382 - val_accuracy: 0.6514\n",
            "Epoch 8/10\n",
            "24073/24073 [==============================] - 67s 3ms/step - loss: 0.8360 - accuracy: 0.6530 - val_loss: 0.8386 - val_accuracy: 0.6514\n",
            "Epoch 9/10\n",
            "24073/24073 [==============================] - 67s 3ms/step - loss: 0.8360 - accuracy: 0.6530 - val_loss: 0.8383 - val_accuracy: 0.6514\n",
            "Epoch 10/10\n",
            "24073/24073 [==============================] - 66s 3ms/step - loss: 0.8360 - accuracy: 0.6530 - val_loss: 0.8383 - val_accuracy: 0.6514\n",
            "5159/5159 [==============================] - 9s 2ms/step - loss: 0.8381 - accuracy: 0.6530\n",
            "Test Loss: 0.83807373046875, Test Accuracy: 0.652953028678894\n"
          ]
        }
      ]
    },
    {
      "cell_type": "code",
      "source": [
        "from tensorflow.keras.layers import BatchNormalization\n",
        "\n",
        "# Initialize the model\n",
        "model = Sequential()\n",
        "\n",
        "# Add layers to the model\n",
        "model.add(BatchNormalization(input_shape=(X_train.shape[1],)))\n",
        "model.add(Dense(64, activation='relu'))\n",
        "model.add(BatchNormalization())\n",
        "model.add(Dense(32, activation='relu'))\n",
        "model.add(Dropout(0.2))\n",
        "model.add(BatchNormalization())\n",
        "model.add(Dense(16, activation='relu'))\n",
        "model.add(Dense(5, activation='softmax'))  # 5 neurons for 5 output classes\n",
        "\n",
        "# Compile the model\n",
        "model.compile(optimizer='adam', loss='sparse_categorical_crossentropy', metrics=['accuracy'])\n",
        "\n",
        "# Train the model\n",
        "history = model.fit(X_train, y_train, epochs=10, validation_data=(X_val, y_val))\n",
        "\n",
        "# Evaluate the model on the test set\n",
        "test_loss, test_accuracy = model.evaluate(X_test, y_test)\n",
        "print(f'Test Loss: {test_loss}, Test Accuracy: {test_accuracy}')\n"
      ],
      "metadata": {
        "colab": {
          "base_uri": "https://localhost:8080/"
        },
        "id": "SfY6SbLPDIdR",
        "outputId": "43365b5f-4b8f-4d21-f3cd-da05bd0efe7d"
      },
      "execution_count": null,
      "outputs": [
        {
          "output_type": "stream",
          "name": "stdout",
          "text": [
            "Epoch 1/10\n",
            "24073/24073 [==============================] - 94s 4ms/step - loss: 0.6120 - accuracy: 0.6938 - val_loss: 0.9110 - val_accuracy: 0.6688\n",
            "Epoch 2/10\n",
            "24073/24073 [==============================] - 87s 4ms/step - loss: 0.5913 - accuracy: 0.6982 - val_loss: 0.8499 - val_accuracy: 0.6917\n",
            "Epoch 3/10\n",
            "24073/24073 [==============================] - 88s 4ms/step - loss: 0.5877 - accuracy: 0.6991 - val_loss: 0.9104 - val_accuracy: 0.6792\n",
            "Epoch 4/10\n",
            "24073/24073 [==============================] - 89s 4ms/step - loss: 0.5859 - accuracy: 0.7001 - val_loss: 1.0153 - val_accuracy: 0.6784\n",
            "Epoch 5/10\n",
            "24073/24073 [==============================] - 85s 4ms/step - loss: 0.5829 - accuracy: 0.7012 - val_loss: 1.0471 - val_accuracy: 0.6844\n",
            "Epoch 6/10\n",
            "24073/24073 [==============================] - 84s 3ms/step - loss: 0.5829 - accuracy: 0.7018 - val_loss: 0.9334 - val_accuracy: 0.6881\n",
            "Epoch 7/10\n",
            "24073/24073 [==============================] - 85s 4ms/step - loss: 0.5812 - accuracy: 0.7025 - val_loss: 0.9020 - val_accuracy: 0.6779\n",
            "Epoch 8/10\n",
            "24073/24073 [==============================] - 110s 5ms/step - loss: 0.5804 - accuracy: 0.7033 - val_loss: 1.0407 - val_accuracy: 0.6291\n",
            "Epoch 9/10\n",
            "24073/24073 [==============================] - 105s 4ms/step - loss: 0.5800 - accuracy: 0.7030 - val_loss: 0.9828 - val_accuracy: 0.6795\n",
            "Epoch 10/10\n",
            "24073/24073 [==============================] - 125s 5ms/step - loss: 0.5803 - accuracy: 0.7030 - val_loss: 0.9545 - val_accuracy: 0.6799\n",
            "5159/5159 [==============================] - 15s 3ms/step - loss: 0.9538 - accuracy: 0.6787\n",
            "Test Loss: 0.9537659287452698, Test Accuracy: 0.6786880493164062\n"
          ]
        }
      ]
    },
    {
      "cell_type": "code",
      "source": [
        "import matplotlib.pyplot as plt\n",
        "\n",
        "# Plot training & validation loss\n",
        "plt.plot(history.history['loss'])\n",
        "plt.plot(history.history['val_loss'])\n",
        "plt.title('Model Loss')\n",
        "plt.ylabel('Loss')\n",
        "plt.xlabel('Epoch')\n",
        "plt.legend(['Train', 'Validation'], loc='upper left')\n",
        "plt.show()\n",
        "\n",
        "# Plot training & validation accuracy\n",
        "plt.plot(history.history['accuracy'])\n",
        "plt.plot(history.history['val_accuracy'])\n",
        "plt.title('Model Accuracy')\n",
        "plt.ylabel('Accuracy')\n",
        "plt.xlabel('Epoch')\n",
        "plt.legend(['Train', 'Validation'], loc='upper left')\n",
        "plt.show()\n"
      ],
      "metadata": {
        "colab": {
          "base_uri": "https://localhost:8080/",
          "height": 927
        },
        "id": "SNjzvCrdHgYD",
        "outputId": "083fa32e-fdc2-47d9-b2a4-fe722fba4021"
      },
      "execution_count": null,
      "outputs": [
        {
          "output_type": "display_data",
          "data": {
            "text/plain": [
              "<Figure size 640x480 with 1 Axes>"
            ],
            "image/png": "[encoded data removed]"
          },
          "metadata": {}
        },
        {
          "output_type": "display_data",
          "data": {
            "text/plain": [
              "<Figure size 640x480 with 1 Axes>"
            ],
            "image/png": "[encoded data removed]"
          },
          "metadata": {}
        }
      ]
    },
    {
      "cell_type": "code",
      "source": [
        "from tensorflow.keras.layers import BatchNormalization\n",
        "\n",
        "# Initialize the model\n",
        "model = Sequential()\n",
        "\n",
        "# Add layers to the model\n",
        "model.add(BatchNormalization(input_shape=(X_train.shape[1],)))\n",
        "model.add(Dense(64, activation='relu'))\n",
        "model.add(BatchNormalization())\n",
        "model.add(Dense(32, activation='relu'))\n",
        "model.add(Dropout(0.2))\n",
        "model.add(BatchNormalization())\n",
        "model.add(Dense(16, activation='relu'))\n",
        "model.add(Dense(5, activation='softmax'))  # 5 neurons for 5 output classes\n",
        "\n",
        "# Compile the model\n",
        "model.compile(optimizer='adam', loss='sparse_categorical_crossentropy', metrics=['accuracy'])\n",
        "\n",
        "# Train the model\n",
        "history = model.fit(X_train, y_train, epochs=10, validation_data=(X_val, y_val),batch_size = 256)\n",
        "\n",
        "# Evaluate the model on the test set\n",
        "test_loss, test_accuracy = model.evaluate(X_test, y_test)\n",
        "print(f'Test Loss: {test_loss}, Test Accuracy: {test_accuracy}')\n"
      ],
      "metadata": {
        "colab": {
          "base_uri": "https://localhost:8080/"
        },
        "id": "Bmz_1yWjJFl2",
        "outputId": "c655ac28-153a-4c77-fc27-7b51f9fa7c2c"
      },
      "execution_count": null,
      "outputs": [
        {
          "output_type": "stream",
          "name": "stdout",
          "text": [
            "Epoch 1/10\n",
            "3010/3010 [==============================] - 18s 5ms/step - loss: 0.6370 - accuracy: 0.6898 - val_loss: 0.9506 - val_accuracy: 0.6579\n",
            "Epoch 2/10\n",
            "3010/3010 [==============================] - 15s 5ms/step - loss: 0.5984 - accuracy: 0.7004 - val_loss: 0.9577 - val_accuracy: 0.6797\n",
            "Epoch 3/10\n",
            "3010/3010 [==============================] - 15s 5ms/step - loss: 0.5922 - accuracy: 0.7022 - val_loss: 0.8584 - val_accuracy: 0.6876\n",
            "Epoch 4/10\n",
            "3010/3010 [==============================] - 15s 5ms/step - loss: 0.5871 - accuracy: 0.7041 - val_loss: 0.7979 - val_accuracy: 0.6832\n",
            "Epoch 5/10\n",
            "3010/3010 [==============================] - 15s 5ms/step - loss: 0.5835 - accuracy: 0.7051 - val_loss: 0.7605 - val_accuracy: 0.6990\n",
            "Epoch 6/10\n",
            "3010/3010 [==============================] - 15s 5ms/step - loss: 0.5809 - accuracy: 0.7055 - val_loss: 0.7952 - val_accuracy: 0.6943\n",
            "Epoch 7/10\n",
            "3010/3010 [==============================] - 15s 5ms/step - loss: 0.5791 - accuracy: 0.7059 - val_loss: 0.7834 - val_accuracy: 0.6970\n",
            "Epoch 8/10\n",
            "3010/3010 [==============================] - 16s 5ms/step - loss: 0.5777 - accuracy: 0.7065 - val_loss: 0.7720 - val_accuracy: 0.6994\n",
            "Epoch 9/10\n",
            "3010/3010 [==============================] - 14s 5ms/step - loss: 0.5764 - accuracy: 0.7068 - val_loss: 0.7870 - val_accuracy: 0.7007\n",
            "Epoch 10/10\n",
            "3010/3010 [==============================] - 20s 7ms/step - loss: 0.5759 - accuracy: 0.7073 - val_loss: 0.8611 - val_accuracy: 0.6879\n",
            "5159/5159 [==============================] - 26s 5ms/step - loss: 0.8580 - accuracy: 0.6886\n",
            "Test Loss: 0.8580349087715149, Test Accuracy: 0.6885507106781006\n"
          ]
        }
      ]
    },
    {
      "cell_type": "code",
      "source": [
        "from tensorflow.keras.layers import BatchNormalization\n",
        "\n",
        "# Initialize the model\n",
        "model = Sequential()\n",
        "\n",
        "# Add layers to the model\n",
        "model.add(BatchNormalization(input_shape=(X_train.shape[1],)))\n",
        "model.add(Dense(64, activation='relu'))\n",
        "model.add(BatchNormalization())\n",
        "model.add(Dense(32, activation='relu'))\n",
        "model.add(Dropout(0.2))\n",
        "model.add(BatchNormalization())\n",
        "model.add(Dense(16, activation='relu'))\n",
        "model.add(Dense(5, activation='softmax'))  # 5 neurons for 5 output classes\n",
        "\n",
        "# Compile the model\n",
        "model.compile(optimizer='adam', loss='sparse_categorical_crossentropy', metrics=['accuracy'])\n",
        "\n",
        "# Train the model\n",
        "history = model.fit(X_train, y_train, epochs=10, validation_data=(X_val, y_val),batch_size = 256)\n",
        "\n",
        "# Evaluate the model on the test set\n",
        "test_loss, test_accuracy = model.evaluate(X_test, y_test)\n",
        "print(f'Test Loss: {test_loss}, Test Accuracy: {test_accuracy}')\n"
      ],
      "metadata": {
        "id": "l9wHUdmQLMJK"
      },
      "execution_count": null,
      "outputs": []
    },
    {
      "cell_type": "code",
      "source": [
        "# Initialize the model\n",
        "model = Sequential()\n",
        "\n",
        "# Add layers to the model\n",
        "model.add(BatchNormalization(input_shape=(X_train.shape[1],)))\n",
        "model.add(Dense(128, activation='relu'))\n",
        "model.add(BatchNormalization())\n",
        "model.add(Dense(64, activation='relu'))\n",
        "model.add(Dropout(0.3))\n",
        "model.add(BatchNormalization())\n",
        "model.add(Dense(32, activation='relu'))\n",
        "model.add(Dropout(0.2))\n",
        "model.add(BatchNormalization())\n",
        "model.add(Dense(16, activation='relu'))\n",
        "model.add(Dense(5, activation='softmax'))  # 5 neurons for 5 output classes\n",
        "\n",
        "# Compile the model\n",
        "model.compile(optimizer='adam', loss='sparse_categorical_crossentropy', metrics=['accuracy'])\n",
        "\n",
        "# Train the model\n",
        "history = model.fit(X_train, y_train, epochs=15, validation_data=(X_val, y_val), batch_size=256)\n",
        "\n",
        "# Evaluate the model on the test set\n",
        "test_loss, test_accuracy = model.evaluate(X_test, y_test)\n",
        "print(f'Test Loss: {test_loss}, Test Accuracy: {test_accuracy}')\n",
        "\n"
      ],
      "metadata": {
        "colab": {
          "base_uri": "https://localhost:8080/"
        },
        "id": "1to62zp1LkiN",
        "outputId": "6b7cef08-323e-4b44-d7c9-3520a5b5d0da"
      },
      "execution_count": null,
      "outputs": [
        {
          "output_type": "stream",
          "name": "stdout",
          "text": [
            "Epoch 1/15\n",
            "3010/3010 [==============================] - 24s 7ms/step - loss: 0.6410 - accuracy: 0.6865 - val_loss: 0.7983 - val_accuracy: 0.6766\n",
            "Epoch 2/15\n",
            "3010/3010 [==============================] - 21s 7ms/step - loss: 0.5943 - accuracy: 0.7002 - val_loss: 0.7239 - val_accuracy: 0.6877\n",
            "Epoch 3/15\n",
            "3010/3010 [==============================] - 20s 7ms/step - loss: 0.5869 - accuracy: 0.7025 - val_loss: 0.6707 - val_accuracy: 0.6973\n",
            "Epoch 4/15\n",
            "3010/3010 [==============================] - 20s 7ms/step - loss: 0.5830 - accuracy: 0.7037 - val_loss: 0.7299 - val_accuracy: 0.6888\n",
            "Epoch 5/15\n",
            "3010/3010 [==============================] - 21s 7ms/step - loss: 0.5807 - accuracy: 0.7052 - val_loss: 0.7685 - val_accuracy: 0.6866\n",
            "Epoch 6/15\n",
            "3010/3010 [==============================] - 20s 7ms/step - loss: 0.5791 - accuracy: 0.7058 - val_loss: 0.7243 - val_accuracy: 0.6986\n",
            "Epoch 7/15\n",
            "3010/3010 [==============================] - 22s 7ms/step - loss: 0.5773 - accuracy: 0.7064 - val_loss: 0.8195 - val_accuracy: 0.6732\n",
            "Epoch 8/15\n",
            "3010/3010 [==============================] - 21s 7ms/step - loss: 0.5763 - accuracy: 0.7068 - val_loss: 0.8490 - val_accuracy: 0.6751\n",
            "Epoch 9/15\n",
            "3010/3010 [==============================] - 21s 7ms/step - loss: 0.5750 - accuracy: 0.7077 - val_loss: 0.9264 - val_accuracy: 0.6376\n",
            "Epoch 10/15\n",
            "3010/3010 [==============================] - 21s 7ms/step - loss: 0.5740 - accuracy: 0.7075 - val_loss: 0.9822 - val_accuracy: 0.5898\n",
            "Epoch 11/15\n",
            "3010/3010 [==============================] - 20s 7ms/step - loss: 0.5729 - accuracy: 0.7076 - val_loss: 1.0642 - val_accuracy: 0.5512\n",
            "Epoch 12/15\n",
            "3010/3010 [==============================] - 21s 7ms/step - loss: 0.5722 - accuracy: 0.7079 - val_loss: 0.9914 - val_accuracy: 0.5866\n",
            "Epoch 13/15\n",
            "3010/3010 [==============================] - 21s 7ms/step - loss: 0.5719 - accuracy: 0.7085 - val_loss: 1.0901 - val_accuracy: 0.4231\n",
            "Epoch 14/15\n",
            "3010/3010 [==============================] - 21s 7ms/step - loss: 0.5713 - accuracy: 0.7086 - val_loss: 0.9965 - val_accuracy: 0.5702\n",
            "Epoch 15/15\n",
            "3010/3010 [==============================] - 22s 7ms/step - loss: 0.5704 - accuracy: 0.7083 - val_loss: 0.8506 - val_accuracy: 0.6928\n",
            "5159/5159 [==============================] - 11s 2ms/step - loss: 0.8493 - accuracy: 0.6923\n",
            "Test Loss: 0.8493219614028931, Test Accuracy: 0.6922885775566101\n"
          ]
        }
      ]
    },
    {
      "cell_type": "code",
      "source": [
        "# Initialize the model\n",
        "model = Sequential()\n",
        "\n",
        "# Add layers to the model\n",
        "model.add(BatchNormalization(input_shape=(X_train.shape[1],)))\n",
        "model.add(Dense(128, activation='relu'))\n",
        "model.add(BatchNormalization())\n",
        "model.add(Dense(64, activation='relu'))\n",
        "model.add(Dropout(0.3))\n",
        "model.add(BatchNormalization())\n",
        "model.add(Dense(32, activation='relu'))\n",
        "model.add(Dropout(0.2))\n",
        "model.add(BatchNormalization())\n",
        "model.add(Dense(16, activation='relu'))\n",
        "model.add(Dense(5, activation='softmax'))  # 5 neurons for 5 output classes\n",
        "\n",
        "# Compile the model\n",
        "model.compile(optimizer='adam', loss='sparse_categorical_crossentropy', metrics=['accuracy'])\n",
        "\n",
        "# Train the model\n",
        "history = model.fit(X_train, y_train, epochs=50, validation_data=(X_val, y_val), batch_size=256)\n",
        "\n",
        "# Evaluate the model on the test set\n",
        "test_loss, test_accuracy = model.evaluate(X_test, y_test)\n",
        "print(f'Test Loss: {test_loss}, Test Accuracy: {test_accuracy}')\n",
        "\n"
      ],
      "metadata": {
        "colab": {
          "base_uri": "https://localhost:8080/"
        },
        "id": "j1dX9o8BONJn",
        "outputId": "6bc2e062-510c-4c3d-aa6f-383461316808"
      },
      "execution_count": null,
      "outputs": [
        {
          "output_type": "stream",
          "name": "stdout",
          "text": [
            "Epoch 1/50\n",
            "3010/3010 [==============================] - 21s 6ms/step - loss: 0.6462 - accuracy: 0.6848 - val_loss: 0.8087 - val_accuracy: 0.6838\n",
            "Epoch 2/50\n",
            "3010/3010 [==============================] - 20s 7ms/step - loss: 0.5988 - accuracy: 0.6986 - val_loss: 0.9245 - val_accuracy: 0.6771\n",
            "Epoch 3/50\n",
            "3010/3010 [==============================] - 21s 7ms/step - loss: 0.5905 - accuracy: 0.7003 - val_loss: 0.8594 - val_accuracy: 0.6738\n",
            "Epoch 4/50\n",
            "3010/3010 [==============================] - 20s 7ms/step - loss: 0.5846 - accuracy: 0.7020 - val_loss: 0.7833 - val_accuracy: 0.6801\n",
            "Epoch 5/50\n",
            "3010/3010 [==============================] - 18s 6ms/step - loss: 0.5811 - accuracy: 0.7039 - val_loss: 0.8031 - val_accuracy: 0.6831\n",
            "Epoch 6/50\n",
            "3010/3010 [==============================] - 21s 7ms/step - loss: 0.5789 - accuracy: 0.7044 - val_loss: 0.8862 - val_accuracy: 0.6826\n",
            "Epoch 7/50\n",
            "3010/3010 [==============================] - 18s 6ms/step - loss: 0.5772 - accuracy: 0.7051 - val_loss: 0.8553 - val_accuracy: 0.6827\n",
            "Epoch 8/50\n",
            "3010/3010 [==============================] - 21s 7ms/step - loss: 0.5755 - accuracy: 0.7058 - val_loss: 0.8248 - val_accuracy: 0.6781\n",
            "Epoch 9/50\n",
            "3010/3010 [==============================] - 19s 6ms/step - loss: 0.5746 - accuracy: 0.7065 - val_loss: 0.8977 - val_accuracy: 0.6787\n",
            "Epoch 10/50\n",
            "3010/3010 [==============================] - 21s 7ms/step - loss: 0.5728 - accuracy: 0.7068 - val_loss: 0.9794 - val_accuracy: 0.6408\n",
            "Epoch 11/50\n",
            "3010/3010 [==============================] - 19s 6ms/step - loss: 0.5727 - accuracy: 0.7073 - val_loss: 0.9580 - val_accuracy: 0.5836\n",
            "Epoch 12/50\n",
            "3010/3010 [==============================] - 19s 6ms/step - loss: 0.5714 - accuracy: 0.7077 - val_loss: 1.1249 - val_accuracy: 0.4663\n",
            "Epoch 13/50\n",
            "3010/3010 [==============================] - 19s 6ms/step - loss: 0.5707 - accuracy: 0.7076 - val_loss: 1.0936 - val_accuracy: 0.4229\n",
            "Epoch 14/50\n",
            "3010/3010 [==============================] - 21s 7ms/step - loss: 0.5704 - accuracy: 0.7083 - val_loss: 1.1328 - val_accuracy: 0.4064\n",
            "Epoch 15/50\n",
            "3010/3010 [==============================] - 20s 7ms/step - loss: 0.5694 - accuracy: 0.7085 - val_loss: 1.0272 - val_accuracy: 0.6040\n",
            "Epoch 16/50\n",
            "3010/3010 [==============================] - 21s 7ms/step - loss: 0.5685 - accuracy: 0.7092 - val_loss: 1.1168 - val_accuracy: 0.4518\n",
            "Epoch 17/50\n",
            "3010/3010 [==============================] - 20s 6ms/step - loss: 0.5684 - accuracy: 0.7090 - val_loss: 1.0979 - val_accuracy: 0.5365\n",
            "Epoch 18/50\n",
            "3010/3010 [==============================] - 21s 7ms/step - loss: 0.5679 - accuracy: 0.7091 - val_loss: 1.1497 - val_accuracy: 0.5363\n",
            "Epoch 19/50\n",
            "3010/3010 [==============================] - 21s 7ms/step - loss: 0.5679 - accuracy: 0.7094 - val_loss: 0.9080 - val_accuracy: 0.6724\n",
            "Epoch 20/50\n",
            "3010/3010 [==============================] - 20s 7ms/step - loss: 0.5673 - accuracy: 0.7095 - val_loss: 1.0313 - val_accuracy: 0.6189\n",
            "Epoch 21/50\n",
            "3010/3010 [==============================] - 20s 7ms/step - loss: 0.5661 - accuracy: 0.7096 - val_loss: 0.9580 - val_accuracy: 0.6508\n",
            "Epoch 22/50\n",
            "3010/3010 [==============================] - 20s 7ms/step - loss: 0.5662 - accuracy: 0.7095 - val_loss: 0.9514 - val_accuracy: 0.6611\n",
            "Epoch 23/50\n",
            "3010/3010 [==============================] - 19s 6ms/step - loss: 0.5646 - accuracy: 0.7101 - val_loss: 1.1071 - val_accuracy: 0.5255\n",
            "Epoch 24/50\n",
            "3010/3010 [==============================] - 20s 7ms/step - loss: 0.5636 - accuracy: 0.7099 - val_loss: 1.0423 - val_accuracy: 0.5826\n",
            "Epoch 25/50\n",
            "3010/3010 [==============================] - 18s 6ms/step - loss: 0.5620 - accuracy: 0.7099 - val_loss: 0.8968 - val_accuracy: 0.6706\n",
            "Epoch 26/50\n",
            "3010/3010 [==============================] - 20s 7ms/step - loss: 0.5606 - accuracy: 0.7104 - val_loss: 0.9000 - val_accuracy: 0.6805\n",
            "Epoch 27/50\n",
            "3010/3010 [==============================] - 20s 7ms/step - loss: 0.5605 - accuracy: 0.7103 - val_loss: 0.9003 - val_accuracy: 0.6907\n",
            "Epoch 28/50\n",
            "3010/3010 [==============================] - 20s 7ms/step - loss: 0.5615 - accuracy: 0.7103 - val_loss: 0.9741 - val_accuracy: 0.6655\n",
            "Epoch 29/50\n",
            "3010/3010 [==============================] - 19s 6ms/step - loss: 0.5622 - accuracy: 0.7104 - val_loss: 0.9487 - val_accuracy: 0.6808\n",
            "Epoch 30/50\n",
            "3010/3010 [==============================] - 20s 7ms/step - loss: 0.5610 - accuracy: 0.7097 - val_loss: 0.8498 - val_accuracy: 0.6745\n",
            "Epoch 31/50\n",
            "3010/3010 [==============================] - 22s 7ms/step - loss: 0.5615 - accuracy: 0.7103 - val_loss: 0.9285 - val_accuracy: 0.6836\n",
            "Epoch 32/50\n",
            "3010/3010 [==============================] - 21s 7ms/step - loss: 0.5627 - accuracy: 0.7093 - val_loss: 1.0876 - val_accuracy: 0.6505\n",
            "Epoch 33/50\n",
            "3010/3010 [==============================] - 19s 6ms/step - loss: 0.5604 - accuracy: 0.7101 - val_loss: 1.0407 - val_accuracy: 0.6126\n",
            "Epoch 34/50\n",
            "3010/3010 [==============================] - 20s 7ms/step - loss: 0.5602 - accuracy: 0.7108 - val_loss: 0.8434 - val_accuracy: 0.6886\n",
            "Epoch 35/50\n",
            "3010/3010 [==============================] - 20s 7ms/step - loss: 0.5593 - accuracy: 0.7098 - val_loss: 1.0063 - val_accuracy: 0.6656\n",
            "Epoch 36/50\n",
            "3010/3010 [==============================] - 21s 7ms/step - loss: 0.5593 - accuracy: 0.7110 - val_loss: 1.0017 - val_accuracy: 0.6530\n",
            "Epoch 37/50\n",
            "3010/3010 [==============================] - 20s 7ms/step - loss: 0.5639 - accuracy: 0.7098 - val_loss: 0.9368 - val_accuracy: 0.6880\n",
            "Epoch 38/50\n",
            "3010/3010 [==============================] - 22s 7ms/step - loss: 0.5641 - accuracy: 0.7094 - val_loss: 0.9589 - val_accuracy: 0.6358\n",
            "Epoch 39/50\n",
            "3010/3010 [==============================] - 22s 7ms/step - loss: 0.5632 - accuracy: 0.7100 - val_loss: 1.0455 - val_accuracy: 0.6432\n",
            "Epoch 40/50\n",
            "3010/3010 [==============================] - 20s 7ms/step - loss: 0.5609 - accuracy: 0.7111 - val_loss: 1.0131 - val_accuracy: 0.5679\n",
            "Epoch 41/50\n",
            "3010/3010 [==============================] - 21s 7ms/step - loss: 0.5606 - accuracy: 0.7111 - val_loss: 0.9591 - val_accuracy: 0.6630\n",
            "Epoch 42/50\n",
            "3010/3010 [==============================] - 22s 7ms/step - loss: 0.5582 - accuracy: 0.7116 - val_loss: 0.9151 - val_accuracy: 0.6801\n",
            "Epoch 43/50\n",
            "3010/3010 [==============================] - 21s 7ms/step - loss: 0.5586 - accuracy: 0.7110 - val_loss: 0.9881 - val_accuracy: 0.6477\n",
            "Epoch 44/50\n",
            "3010/3010 [==============================] - 19s 6ms/step - loss: 0.5548 - accuracy: 0.7114 - val_loss: 0.9226 - val_accuracy: 0.6745\n",
            "Epoch 45/50\n",
            "3010/3010 [==============================] - 22s 7ms/step - loss: 0.5531 - accuracy: 0.7118 - val_loss: 1.0536 - val_accuracy: 0.6283\n",
            "Epoch 46/50\n",
            "3010/3010 [==============================] - 22s 7ms/step - loss: 0.5515 - accuracy: 0.7126 - val_loss: 0.9805 - val_accuracy: 0.6735\n",
            "Epoch 47/50\n",
            "3010/3010 [==============================] - 21s 7ms/step - loss: 0.5526 - accuracy: 0.7111 - val_loss: 1.0069 - val_accuracy: 0.6710\n",
            "Epoch 48/50\n",
            "3010/3010 [==============================] - 19s 6ms/step - loss: 0.5523 - accuracy: 0.7112 - val_loss: 0.9769 - val_accuracy: 0.6643\n",
            "Epoch 49/50\n",
            "3010/3010 [==============================] - 21s 7ms/step - loss: 0.5523 - accuracy: 0.7107 - val_loss: 0.9737 - val_accuracy: 0.6626\n",
            "Epoch 50/50\n",
            "3010/3010 [==============================] - 20s 7ms/step - loss: 0.5537 - accuracy: 0.7103 - val_loss: 0.9353 - val_accuracy: 0.6741\n",
            "5159/5159 [==============================] - 11s 2ms/step - loss: 0.9351 - accuracy: 0.6718\n",
            "Test Loss: 0.9350590109825134, Test Accuracy: 0.6717938780784607\n"
          ]
        }
      ]
    },
    {
      "cell_type": "code",
      "source": [
        "import tensorflow as tf\n",
        "from tensorflow.keras.models import Sequential\n",
        "from tensorflow.keras.layers import Dense, Dropout\n",
        "from sklearn.preprocessing import StandardScaler\n",
        "\n",
        "# Initialize the model\n",
        "model = Sequential()\n",
        "\n",
        "# Add layers to the model\n",
        "model.add(Dense(64, input_dim=X_train.shape[1], activation='relu'))\n",
        "model.add(Dense(32, activation='relu'))\n",
        "model.add(Dropout(0.2))\n",
        "model.add(Dense(16, activation='relu'))\n",
        "model.add(Dense(5, activation='softmax'))  # 5 neurons for 5 output classes\n",
        "\n",
        "# Compile the model\n",
        "model.compile(optimizer='adam', loss='sparse_categorical_crossentropy', metrics=['accuracy'])\n",
        "\n",
        "# Train the model\n",
        "history = model.fit(X_train, y_train, epochs=50, validation_data=(X_val, y_val),batch_size=128)\n",
        "\n",
        "# Evaluate the model on the test set\n",
        "test_loss, test_accuracy = model.evaluate(X_test, y_test)\n",
        "print(f'Test Loss: {test_loss}, Test Accuracy: {test_accuracy}')"
      ],
      "metadata": {
        "colab": {
          "base_uri": "https://localhost:8080/"
        },
        "id": "PBVYFLQsOR8V",
        "outputId": "8308583a-9589-4e82-a42f-6dc0e453b4b3"
      },
      "execution_count": null,
      "outputs": [
        {
          "output_type": "stream",
          "name": "stdout",
          "text": [
            "Epoch 1/50\n",
            "6019/6019 [==============================] - 27s 4ms/step - loss: 1697680512.0000 - accuracy: 0.6484 - val_loss: 0.8387 - val_accuracy: 0.6514\n",
            "Epoch 2/50\n",
            "6019/6019 [==============================] - 21s 3ms/step - loss: 0.8359 - accuracy: 0.6530 - val_loss: 0.8382 - val_accuracy: 0.6514\n",
            "Epoch 3/50\n",
            "6019/6019 [==============================] - 17s 3ms/step - loss: 0.8358 - accuracy: 0.6530 - val_loss: 0.8383 - val_accuracy: 0.6514\n",
            "Epoch 4/50\n",
            "6019/6019 [==============================] - 18s 3ms/step - loss: 0.8358 - accuracy: 0.6530 - val_loss: 0.8382 - val_accuracy: 0.6514\n",
            "Epoch 5/50\n",
            "6019/6019 [==============================] - 18s 3ms/step - loss: 0.8358 - accuracy: 0.6530 - val_loss: 0.8382 - val_accuracy: 0.6514\n",
            "Epoch 6/50\n",
            "6019/6019 [==============================] - 19s 3ms/step - loss: 0.8358 - accuracy: 0.6530 - val_loss: 0.8381 - val_accuracy: 0.6514\n",
            "Epoch 7/50\n",
            "6019/6019 [==============================] - 18s 3ms/step - loss: 0.8359 - accuracy: 0.6530 - val_loss: 0.8381 - val_accuracy: 0.6514\n",
            "Epoch 8/50\n",
            "6019/6019 [==============================] - 18s 3ms/step - loss: 0.8358 - accuracy: 0.6530 - val_loss: 0.8381 - val_accuracy: 0.6514\n",
            "Epoch 9/50\n",
            "6019/6019 [==============================] - 18s 3ms/step - loss: 0.8359 - accuracy: 0.6530 - val_loss: 0.8382 - val_accuracy: 0.6514\n",
            "Epoch 10/50\n",
            "6019/6019 [==============================] - 19s 3ms/step - loss: 0.8359 - accuracy: 0.6530 - val_loss: 0.8382 - val_accuracy: 0.6514\n",
            "Epoch 11/50\n",
            "6019/6019 [==============================] - 18s 3ms/step - loss: 0.8359 - accuracy: 0.6530 - val_loss: 0.8382 - val_accuracy: 0.6514\n",
            "Epoch 12/50\n",
            "6019/6019 [==============================] - 17s 3ms/step - loss: 0.8359 - accuracy: 0.6530 - val_loss: 0.8382 - val_accuracy: 0.6514\n",
            "Epoch 13/50\n",
            "6019/6019 [==============================] - 18s 3ms/step - loss: 0.8359 - accuracy: 0.6530 - val_loss: 0.8382 - val_accuracy: 0.6514\n",
            "Epoch 14/50\n",
            "6019/6019 [==============================] - 18s 3ms/step - loss: 0.8359 - accuracy: 0.6530 - val_loss: 0.8383 - val_accuracy: 0.6514\n",
            "Epoch 15/50\n",
            "6019/6019 [==============================] - 19s 3ms/step - loss: 0.8360 - accuracy: 0.6530 - val_loss: 0.8381 - val_accuracy: 0.6514\n",
            "Epoch 16/50\n",
            "6019/6019 [==============================] - 17s 3ms/step - loss: 0.8359 - accuracy: 0.6530 - val_loss: 0.8382 - val_accuracy: 0.6514\n",
            "Epoch 17/50\n",
            "6019/6019 [==============================] - 18s 3ms/step - loss: 0.8359 - accuracy: 0.6530 - val_loss: 0.8382 - val_accuracy: 0.6514\n",
            "Epoch 18/50\n",
            "6019/6019 [==============================] - 18s 3ms/step - loss: 0.8359 - accuracy: 0.6530 - val_loss: 0.8382 - val_accuracy: 0.6514\n",
            "Epoch 19/50\n",
            "6019/6019 [==============================] - 17s 3ms/step - loss: 0.8359 - accuracy: 0.6530 - val_loss: 0.8382 - val_accuracy: 0.6514\n",
            "Epoch 20/50\n",
            "6019/6019 [==============================] - 18s 3ms/step - loss: 0.8359 - accuracy: 0.6530 - val_loss: 0.8382 - val_accuracy: 0.6514\n",
            "Epoch 21/50\n",
            "6019/6019 [==============================] - 17s 3ms/step - loss: 0.8359 - accuracy: 0.6530 - val_loss: 0.8382 - val_accuracy: 0.6514\n",
            "Epoch 22/50\n",
            "6019/6019 [==============================] - 19s 3ms/step - loss: 0.8359 - accuracy: 0.6530 - val_loss: 0.8383 - val_accuracy: 0.6514\n",
            "Epoch 23/50\n",
            "6019/6019 [==============================] - 18s 3ms/step - loss: 0.8359 - accuracy: 0.6530 - val_loss: 0.8381 - val_accuracy: 0.6514\n",
            "Epoch 24/50\n",
            "6019/6019 [==============================] - 17s 3ms/step - loss: 0.8359 - accuracy: 0.6530 - val_loss: 0.8383 - val_accuracy: 0.6514\n",
            "Epoch 25/50\n",
            "6019/6019 [==============================] - 19s 3ms/step - loss: 0.8359 - accuracy: 0.6530 - val_loss: 0.8382 - val_accuracy: 0.6514\n",
            "Epoch 26/50\n",
            "6019/6019 [==============================] - 18s 3ms/step - loss: 0.8359 - accuracy: 0.6530 - val_loss: 0.8381 - val_accuracy: 0.6514\n",
            "Epoch 27/50\n",
            "6019/6019 [==============================] - 18s 3ms/step - loss: 0.8359 - accuracy: 0.6530 - val_loss: 0.8382 - val_accuracy: 0.6514\n",
            "Epoch 28/50\n",
            "6019/6019 [==============================] - 20s 3ms/step - loss: 0.8359 - accuracy: 0.6530 - val_loss: 0.8383 - val_accuracy: 0.6514\n",
            "Epoch 29/50\n",
            "6019/6019 [==============================] - 19s 3ms/step - loss: 0.8359 - accuracy: 0.6530 - val_loss: 0.8383 - val_accuracy: 0.6514\n",
            "Epoch 30/50\n",
            "6019/6019 [==============================] - 18s 3ms/step - loss: 0.8359 - accuracy: 0.6530 - val_loss: 0.8384 - val_accuracy: 0.6514\n",
            "Epoch 31/50\n",
            "6019/6019 [==============================] - 17s 3ms/step - loss: 0.8359 - accuracy: 0.6530 - val_loss: 0.8382 - val_accuracy: 0.6514\n",
            "Epoch 32/50\n",
            "6019/6019 [==============================] - 17s 3ms/step - loss: 0.8359 - accuracy: 0.6530 - val_loss: 0.8382 - val_accuracy: 0.6514\n",
            "Epoch 33/50\n",
            "6019/6019 [==============================] - 18s 3ms/step - loss: 0.8359 - accuracy: 0.6530 - val_loss: 0.8381 - val_accuracy: 0.6514\n",
            "Epoch 34/50\n",
            "6019/6019 [==============================] - 18s 3ms/step - loss: 0.8359 - accuracy: 0.6530 - val_loss: 0.8382 - val_accuracy: 0.6514\n"
          ]
        }
      ]
    }
  ],
  "metadata": {
    "colab": {
      "provenance": [],
      "authorship_tag": "ABX9TyPdCOUW/Oe/OrGyZIx31vE8",
      "include_colab_link": true
    },
    "kernelspec": {
      "display_name": "Python 3",
      "name": "python3"
    },
    "language_info": {
      "name": "python"
    }
  },
  "nbformat": 4,
  "nbformat_minor": 0
}