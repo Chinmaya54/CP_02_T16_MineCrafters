{
  "nbformat": 4,
  "nbformat_minor": 0,
  "metadata": {
    "colab": {
      "provenance": [],
      "mount_file_id": "10kjyQymSA8OU8ml_WGUDAj9LjwoUjnug",
      "authorship_tag": "ABX9TyNdvuJDajunYRPd3X/xBVPh",
      "include_colab_link": true
    },
    "kernelspec": {
      "name": "python3",
      "display_name": "Python 3"
    },
    "language_info": {
      "name": "python"
    }
  },
  "cells": [
    {
      "cell_type": "markdown",
      "metadata": {
        "id": "view-in-github",
        "colab_type": "text"
      },
      "source": [
        "<a href=\"https://colab.research.google.com/github/Chinmaya54/CP_02_T16_MineCrafters/blob/Riya/Riya_DM_CP_02.ipynb\" target=\"_parent\"><img src=\"https://colab.research.google.com/assets/colab-badge.svg\" alt=\"Open In Colab\"/></a>"
      ]
    },
    {
      "cell_type": "code",
      "execution_count": 1,
      "metadata": {
        "colab": {
          "base_uri": "https://localhost:8080/"
        },
        "id": "7WSRAXDrUZgC",
        "outputId": "71bb7a63-11de-421f-91f2-cf6e6d37cc4b"
      },
      "outputs": [
        {
          "output_type": "stream",
          "name": "stdout",
          "text": [
            "Drive already mounted at /content/drive; to attempt to forcibly remount, call drive.mount(\"/content/drive\", force_remount=True).\n"
          ]
        }
      ],
      "source": [
        "from google.colab import drive\n",
        "drive.mount('/content/drive')"
      ]
    },
    {
      "cell_type": "code",
      "source": [
        "import pandas as pd"
      ],
      "metadata": {
        "id": "BRaL0-mUV8ui"
      },
      "execution_count": 2,
      "outputs": []
    },
    {
      "cell_type": "code",
      "source": [
        "# Load the CSV files\n",
        "df1 = pd.read_csv('/content/drive/MyDrive/dataset.csv')   # dataset_csv\n",
        "df2 = pd.read_csv('/content/drive/MyDrive/authors.csv')   # authors_csv\n",
        "df3 = pd.read_csv('/content/drive/MyDrive/categories.csv')  # categories_csv\n"
      ],
      "metadata": {
        "id": "4cNxz-KgEXK_"
      },
      "execution_count": 3,
      "outputs": []
    },
    {
      "cell_type": "code",
      "source": [
        "pd.set_option('display.max_columns', None)\n",
        "pd.set_option('display.expand_frame_repr', False)"
      ],
      "metadata": {
        "id": "7UFY0MiwbHHH"
      },
      "execution_count": 4,
      "outputs": []
    },
    {
      "cell_type": "code",
      "source": [
        "df1.head()"
      ],
      "metadata": {
        "colab": {
          "base_uri": "https://localhost:8080/",
          "height": 590
        },
        "id": "_lswy4TIcoIB",
        "outputId": "769a0268-fb81-4c04-e24e-505afcf39c1b"
      },
      "execution_count": 5,
      "outputs": [
        {
          "output_type": "execute_result",
          "data": {
            "text/plain": [
              "        authors  bestsellers-rank                                     categories                                        description  dimension-x  dimension-y  dimension-z      edition    edition-statement for-ages  format             id illustrations-note                    image-checksum                                         image-path                                          image-url                       imprint  index-date      isbn10         isbn13 lang     publication-date  publication-place  rating-avg  rating-count                                              title                                                url  weight\n",
              "0           [1]           49848.0  [214, 220, 237, 2646, 2647, 2659, 2660, 2679]  SOLDIER FIVE is an elite soldier's explosive m...        129.0        198.0         20.0          NaN                  NaN      NaN     1.0  9781840189070                NaN  97c8e71f2ec114b34f243074d2091077  full/c/5/2/c529152ea1246c0cb17d6574d302eae6d2e...  https://d1w7fb2mkkr3kw.cloudfront.net/assets/i...         Mainstream Publishing         NaN  184018907X  9781840189070   en  2004-10-14 00:00:00                NaN        4.03         292.0  Soldier Five : The Real Truth About The Bravo ...            /Soldier-Five-Mike-Coburn/9781840189070  224.00\n",
              "1        [2, 3]          115215.0                                    [235, 3386]  John Moran and Carl Williams were the two bigg...        127.0        203.2         25.4          NaN                  NaN      NaN     1.0  9781844547371                NaN  1dc4e79575474ac775cdfe9840bdfb94  full/5/9/8/598ae8f736c99bc423352887d406d2b2f94...  https://d1w7fb2mkkr3kw.cloudfront.net/assets/i...                           NaN         NaN  184454737X  9781844547371   en  2009-03-13 00:00:00                NaN        3.60         335.0                      Underbelly : The Gangland War              /Underbelly-Andrew-Rule/9781844547371  285.76\n",
              "2           [4]           11732.0                         [358, 2630, 360, 2632]  Sir Phillip knew that Eloise Bridgerton was a ...        150.0        224.0         28.0  New edition                  NaN      NaN     1.0  9788416327867                NaN  3be3fd4fb2fceeb1eb58c3e73242ebb9  full/1/a/2/1a24ac04d4e0a01c8bb531481244b543167...  https://d1w7fb2mkkr3kw.cloudfront.net/assets/i...                           NaN         NaN  8416327866  9788416327867   es  2020-04-30 00:00:00                NaN        3.88       37211.0                            A Sir Phillip, Con Amor    /Sir-Phillip-Con-Amor-Julia-Quinn/9788416327867  386.00\n",
              "3  [5, 6, 7, 8]          114379.0                              [377, 2978, 2980]  The Third Book of General Ignorance  gathers t...        153.0        234.0         24.0          NaN  Export - Airside ed      NaN     1.0  9780571308996                NaN  bc593914f06e1021be9977114ea2a28f  full/1/a/f/1af9cad94dfe897b4423993c78b137bee40...  https://d1w7fb2mkkr3kw.cloudfront.net/assets/i...                           NaN         NaN   571308996  9780571308996   en  2015-10-01 00:00:00                NaN        4.17         384.0            QI: The Third Book of General Ignorance  /QI-Third-Book-General-Ignorance-John-Lloyd/97...  436.00\n",
              "4           [9]           98413.0                                   [2813, 2980]  The Try Guys deliver their first book-an inspi...        191.0        240.0         29.0          NaN                  NaN      NaN     2.0  9780008352516                NaN  39c0422c00be90fb9258dd6df9068b1e  full/e/e/a/eea0ff6b6f1882d1862c711a2008e3c35d3...  https://d1w7fb2mkkr3kw.cloudfront.net/assets/i...  HarperCollins Publishers Ltd         NaN     8352518  9780008352516   en  2019-06-18 00:00:00                NaN        3.90        5095.0                     The Hidden Power of F*cking Up    /Hidden-Power-F-cking-Up-Try-Guys/9780008352516  980.00"
            ],
            "text/html": [
              "\n",
              "  <div id=\"df-ca8c9953-0bf3-422a-a01a-5e6b7bf598d5\" class=\"colab-df-container\">\n",
              "    <div>\n",
              "<style scoped>\n",
              "    .dataframe tbody tr th:only-of-type {\n",
              "        vertical-align: middle;\n",
              "    }\n",
              "\n",
              "    .dataframe tbody tr th {\n",
              "        vertical-align: top;\n",
              "    }\n",
              "\n",
              "    .dataframe thead th {\n",
              "        text-align: right;\n",
              "    }\n",
              "</style>\n",
              "<table border=\"1\" class=\"dataframe\">\n",
              "  <thead>\n",
              "    <tr style=\"text-align: right;\">\n",
              "      <th></th>\n",
              "      <th>authors</th>\n",
              "      <th>bestsellers-rank</th>\n",
              "      <th>categories</th>\n",
              "      <th>description</th>\n",
              "      <th>dimension-x</th>\n",
              "      <th>dimension-y</th>\n",
              "      <th>dimension-z</th>\n",
              "      <th>edition</th>\n",
              "      <th>edition-statement</th>\n",
              "      <th>for-ages</th>\n",
              "      <th>format</th>\n",
              "      <th>id</th>\n",
              "      <th>illustrations-note</th>\n",
              "      <th>image-checksum</th>\n",
              "      <th>image-path</th>\n",
              "      <th>image-url</th>\n",
              "      <th>imprint</th>\n",
              "      <th>index-date</th>\n",
              "      <th>isbn10</th>\n",
              "      <th>isbn13</th>\n",
              "      <th>lang</th>\n",
              "      <th>publication-date</th>\n",
              "      <th>publication-place</th>\n",
              "      <th>rating-avg</th>\n",
              "      <th>rating-count</th>\n",
              "      <th>title</th>\n",
              "      <th>url</th>\n",
              "      <th>weight</th>\n",
              "    </tr>\n",
              "  </thead>\n",
              "  <tbody>\n",
              "    <tr>\n",
              "      <th>0</th>\n",
              "      <td>[1]</td>\n",
              "      <td>49848.0</td>\n",
              "      <td>[214, 220, 237, 2646, 2647, 2659, 2660, 2679]</td>\n",
              "      <td>SOLDIER FIVE is an elite soldier's explosive m...</td>\n",
              "      <td>129.0</td>\n",
              "      <td>198.0</td>\n",
              "      <td>20.0</td>\n",
              "      <td>NaN</td>\n",
              "      <td>NaN</td>\n",
              "      <td>NaN</td>\n",
              "      <td>1.0</td>\n",
              "      <td>9781840189070</td>\n",
              "      <td>NaN</td>\n",
              "      <td>97c8e71f2ec114b34f243074d2091077</td>\n",
              "      <td>full/c/5/2/c529152ea1246c0cb17d6574d302eae6d2e...</td>\n",
              "      <td>https://d1w7fb2mkkr3kw.cloudfront.net/assets/i...</td>\n",
              "      <td>Mainstream Publishing</td>\n",
              "      <td>NaN</td>\n",
              "      <td>184018907X</td>\n",
              "      <td>9781840189070</td>\n",
              "      <td>en</td>\n",
              "      <td>2004-10-14 00:00:00</td>\n",
              "      <td>NaN</td>\n",
              "      <td>4.03</td>\n",
              "      <td>292.0</td>\n",
              "      <td>Soldier Five : The Real Truth About The Bravo ...</td>\n",
              "      <td>/Soldier-Five-Mike-Coburn/9781840189070</td>\n",
              "      <td>224.00</td>\n",
              "    </tr>\n",
              "    <tr>\n",
              "      <th>1</th>\n",
              "      <td>[2, 3]</td>\n",
              "      <td>115215.0</td>\n",
              "      <td>[235, 3386]</td>\n",
              "      <td>John Moran and Carl Williams were the two bigg...</td>\n",
              "      <td>127.0</td>\n",
              "      <td>203.2</td>\n",
              "      <td>25.4</td>\n",
              "      <td>NaN</td>\n",
              "      <td>NaN</td>\n",
              "      <td>NaN</td>\n",
              "      <td>1.0</td>\n",
              "      <td>9781844547371</td>\n",
              "      <td>NaN</td>\n",
              "      <td>1dc4e79575474ac775cdfe9840bdfb94</td>\n",
              "      <td>full/5/9/8/598ae8f736c99bc423352887d406d2b2f94...</td>\n",
              "      <td>https://d1w7fb2mkkr3kw.cloudfront.net/assets/i...</td>\n",
              "      <td>NaN</td>\n",
              "      <td>NaN</td>\n",
              "      <td>184454737X</td>\n",
              "      <td>9781844547371</td>\n",
              "      <td>en</td>\n",
              "      <td>2009-03-13 00:00:00</td>\n",
              "      <td>NaN</td>\n",
              "      <td>3.60</td>\n",
              "      <td>335.0</td>\n",
              "      <td>Underbelly : The Gangland War</td>\n",
              "      <td>/Underbelly-Andrew-Rule/9781844547371</td>\n",
              "      <td>285.76</td>\n",
              "    </tr>\n",
              "    <tr>\n",
              "      <th>2</th>\n",
              "      <td>[4]</td>\n",
              "      <td>11732.0</td>\n",
              "      <td>[358, 2630, 360, 2632]</td>\n",
              "      <td>Sir Phillip knew that Eloise Bridgerton was a ...</td>\n",
              "      <td>150.0</td>\n",
              "      <td>224.0</td>\n",
              "      <td>28.0</td>\n",
              "      <td>New edition</td>\n",
              "      <td>NaN</td>\n",
              "      <td>NaN</td>\n",
              "      <td>1.0</td>\n",
              "      <td>9788416327867</td>\n",
              "      <td>NaN</td>\n",
              "      <td>3be3fd4fb2fceeb1eb58c3e73242ebb9</td>\n",
              "      <td>full/1/a/2/1a24ac04d4e0a01c8bb531481244b543167...</td>\n",
              "      <td>https://d1w7fb2mkkr3kw.cloudfront.net/assets/i...</td>\n",
              "      <td>NaN</td>\n",
              "      <td>NaN</td>\n",
              "      <td>8416327866</td>\n",
              "      <td>9788416327867</td>\n",
              "      <td>es</td>\n",
              "      <td>2020-04-30 00:00:00</td>\n",
              "      <td>NaN</td>\n",
              "      <td>3.88</td>\n",
              "      <td>37211.0</td>\n",
              "      <td>A Sir Phillip, Con Amor</td>\n",
              "      <td>/Sir-Phillip-Con-Amor-Julia-Quinn/9788416327867</td>\n",
              "      <td>386.00</td>\n",
              "    </tr>\n",
              "    <tr>\n",
              "      <th>3</th>\n",
              "      <td>[5, 6, 7, 8]</td>\n",
              "      <td>114379.0</td>\n",
              "      <td>[377, 2978, 2980]</td>\n",
              "      <td>The Third Book of General Ignorance  gathers t...</td>\n",
              "      <td>153.0</td>\n",
              "      <td>234.0</td>\n",
              "      <td>24.0</td>\n",
              "      <td>NaN</td>\n",
              "      <td>Export - Airside ed</td>\n",
              "      <td>NaN</td>\n",
              "      <td>1.0</td>\n",
              "      <td>9780571308996</td>\n",
              "      <td>NaN</td>\n",
              "      <td>bc593914f06e1021be9977114ea2a28f</td>\n",
              "      <td>full/1/a/f/1af9cad94dfe897b4423993c78b137bee40...</td>\n",
              "      <td>https://d1w7fb2mkkr3kw.cloudfront.net/assets/i...</td>\n",
              "      <td>NaN</td>\n",
              "      <td>NaN</td>\n",
              "      <td>571308996</td>\n",
              "      <td>9780571308996</td>\n",
              "      <td>en</td>\n",
              "      <td>2015-10-01 00:00:00</td>\n",
              "      <td>NaN</td>\n",
              "      <td>4.17</td>\n",
              "      <td>384.0</td>\n",
              "      <td>QI: The Third Book of General Ignorance</td>\n",
              "      <td>/QI-Third-Book-General-Ignorance-John-Lloyd/97...</td>\n",
              "      <td>436.00</td>\n",
              "    </tr>\n",
              "    <tr>\n",
              "      <th>4</th>\n",
              "      <td>[9]</td>\n",
              "      <td>98413.0</td>\n",
              "      <td>[2813, 2980]</td>\n",
              "      <td>The Try Guys deliver their first book-an inspi...</td>\n",
              "      <td>191.0</td>\n",
              "      <td>240.0</td>\n",
              "      <td>29.0</td>\n",
              "      <td>NaN</td>\n",
              "      <td>NaN</td>\n",
              "      <td>NaN</td>\n",
              "      <td>2.0</td>\n",
              "      <td>9780008352516</td>\n",
              "      <td>NaN</td>\n",
              "      <td>39c0422c00be90fb9258dd6df9068b1e</td>\n",
              "      <td>full/e/e/a/eea0ff6b6f1882d1862c711a2008e3c35d3...</td>\n",
              "      <td>https://d1w7fb2mkkr3kw.cloudfront.net/assets/i...</td>\n",
              "      <td>HarperCollins Publishers Ltd</td>\n",
              "      <td>NaN</td>\n",
              "      <td>8352518</td>\n",
              "      <td>9780008352516</td>\n",
              "      <td>en</td>\n",
              "      <td>2019-06-18 00:00:00</td>\n",
              "      <td>NaN</td>\n",
              "      <td>3.90</td>\n",
              "      <td>5095.0</td>\n",
              "      <td>The Hidden Power of F*cking Up</td>\n",
              "      <td>/Hidden-Power-F-cking-Up-Try-Guys/9780008352516</td>\n",
              "      <td>980.00</td>\n",
              "    </tr>\n",
              "  </tbody>\n",
              "</table>\n",
              "</div>\n",
              "    <div class=\"colab-df-buttons\">\n",
              "\n",
              "  <div class=\"colab-df-container\">\n",
              "    <button class=\"colab-df-convert\" onclick=\"convertToInteractive('df-ca8c9953-0bf3-422a-a01a-5e6b7bf598d5')\"\n",
              "            title=\"Convert this dataframe to an interactive table.\"\n",
              "            style=\"display:none;\">\n",
              "\n",
              "  <svg xmlns=\"http://www.w3.org/2000/svg\" height=\"24px\" viewBox=\"0 -960 960 960\">\n",
              "    <path d=\"M120-120v-720h720v720H120Zm60-500h600v-160H180v160Zm220 220h160v-160H400v160Zm0 220h160v-160H400v160ZM180-400h160v-160H180v160Zm440 0h160v-160H620v160ZM180-180h160v-160H180v160Zm440 0h160v-160H620v160Z\"/>\n",
              "  </svg>\n",
              "    </button>\n",
              "\n",
              "  <style>\n",
              "    .colab-df-container {\n",
              "      display:flex;\n",
              "      gap: 12px;\n",
              "    }\n",
              "\n",
              "    .colab-df-convert {\n",
              "      background-color: #E8F0FE;\n",
              "      border: none;\n",
              "      border-radius: 50%;\n",
              "      cursor: pointer;\n",
              "      display: none;\n",
              "      fill: #1967D2;\n",
              "      height: 32px;\n",
              "      padding: 0 0 0 0;\n",
              "      width: 32px;\n",
              "    }\n",
              "\n",
              "    .colab-df-convert:hover {\n",
              "      background-color: #E2EBFA;\n",
              "      box-shadow: 0px 1px 2px rgba(60, 64, 67, 0.3), 0px 1px 3px 1px rgba(60, 64, 67, 0.15);\n",
              "      fill: #174EA6;\n",
              "    }\n",
              "\n",
              "    .colab-df-buttons div {\n",
              "      margin-bottom: 4px;\n",
              "    }\n",
              "\n",
              "    [theme=dark] .colab-df-convert {\n",
              "      background-color: #3B4455;\n",
              "      fill: #D2E3FC;\n",
              "    }\n",
              "\n",
              "    [theme=dark] .colab-df-convert:hover {\n",
              "      background-color: #434B5C;\n",
              "      box-shadow: 0px 1px 3px 1px rgba(0, 0, 0, 0.15);\n",
              "      filter: drop-shadow(0px 1px 2px rgba(0, 0, 0, 0.3));\n",
              "      fill: #FFFFFF;\n",
              "    }\n",
              "  </style>\n",
              "\n",
              "    <script>\n",
              "      const buttonEl =\n",
              "        document.querySelector('#df-ca8c9953-0bf3-422a-a01a-5e6b7bf598d5 button.colab-df-convert');\n",
              "      buttonEl.style.display =\n",
              "        google.colab.kernel.accessAllowed ? 'block' : 'none';\n",
              "\n",
              "      async function convertToInteractive(key) {\n",
              "        const element = document.querySelector('#df-ca8c9953-0bf3-422a-a01a-5e6b7bf598d5');\n",
              "        const dataTable =\n",
              "          await google.colab.kernel.invokeFunction('convertToInteractive',\n",
              "                                                    [key], {});\n",
              "        if (!dataTable) return;\n",
              "\n",
              "        const docLinkHtml = 'Like what you see? Visit the ' +\n",
              "          '<a target=\"_blank\" href=https://colab.research.google.com/notebooks/data_table.ipynb>data table notebook</a>'\n",
              "          + ' to learn more about interactive tables.';\n",
              "        element.innerHTML = '';\n",
              "        dataTable['output_type'] = 'display_data';\n",
              "        await google.colab.output.renderOutput(dataTable, element);\n",
              "        const docLink = document.createElement('div');\n",
              "        docLink.innerHTML = docLinkHtml;\n",
              "        element.appendChild(docLink);\n",
              "      }\n",
              "    </script>\n",
              "  </div>\n",
              "\n",
              "\n",
              "<div id=\"df-d97525b3-9b5f-43af-9e0a-4f327248bef7\">\n",
              "  <button class=\"colab-df-quickchart\" onclick=\"quickchart('df-d97525b3-9b5f-43af-9e0a-4f327248bef7')\"\n",
              "            title=\"Suggest charts.\"\n",
              "            style=\"display:none;\">\n",
              "\n",
              "<svg xmlns=\"http://www.w3.org/2000/svg\" height=\"24px\"viewBox=\"0 0 24 24\"\n",
              "     width=\"24px\">\n",
              "    <g>\n",
              "        <path d=\"M19 3H5c-1.1 0-2 .9-2 2v14c0 1.1.9 2 2 2h14c1.1 0 2-.9 2-2V5c0-1.1-.9-2-2-2zM9 17H7v-7h2v7zm4 0h-2V7h2v10zm4 0h-2v-4h2v4z\"/>\n",
              "    </g>\n",
              "</svg>\n",
              "  </button>\n",
              "\n",
              "<style>\n",
              "  .colab-df-quickchart {\n",
              "      --bg-color: #E8F0FE;\n",
              "      --fill-color: #1967D2;\n",
              "      --hover-bg-color: #E2EBFA;\n",
              "      --hover-fill-color: #174EA6;\n",
              "      --disabled-fill-color: #AAA;\n",
              "      --disabled-bg-color: #DDD;\n",
              "  }\n",
              "\n",
              "  [theme=dark] .colab-df-quickchart {\n",
              "      --bg-color: #3B4455;\n",
              "      --fill-color: #D2E3FC;\n",
              "      --hover-bg-color: #434B5C;\n",
              "      --hover-fill-color: #FFFFFF;\n",
              "      --disabled-bg-color: #3B4455;\n",
              "      --disabled-fill-color: #666;\n",
              "  }\n",
              "\n",
              "  .colab-df-quickchart {\n",
              "    background-color: var(--bg-color);\n",
              "    border: none;\n",
              "    border-radius: 50%;\n",
              "    cursor: pointer;\n",
              "    display: none;\n",
              "    fill: var(--fill-color);\n",
              "    height: 32px;\n",
              "    padding: 0;\n",
              "    width: 32px;\n",
              "  }\n",
              "\n",
              "  .colab-df-quickchart:hover {\n",
              "    background-color: var(--hover-bg-color);\n",
              "    box-shadow: 0 1px 2px rgba(60, 64, 67, 0.3), 0 1px 3px 1px rgba(60, 64, 67, 0.15);\n",
              "    fill: var(--button-hover-fill-color);\n",
              "  }\n",
              "\n",
              "  .colab-df-quickchart-complete:disabled,\n",
              "  .colab-df-quickchart-complete:disabled:hover {\n",
              "    background-color: var(--disabled-bg-color);\n",
              "    fill: var(--disabled-fill-color);\n",
              "    box-shadow: none;\n",
              "  }\n",
              "\n",
              "  .colab-df-spinner {\n",
              "    border: 2px solid var(--fill-color);\n",
              "    border-color: transparent;\n",
              "    border-bottom-color: var(--fill-color);\n",
              "    animation:\n",
              "      spin 1s steps(1) infinite;\n",
              "  }\n",
              "\n",
              "  @keyframes spin {\n",
              "    0% {\n",
              "      border-color: transparent;\n",
              "      border-bottom-color: var(--fill-color);\n",
              "      border-left-color: var(--fill-color);\n",
              "    }\n",
              "    20% {\n",
              "      border-color: transparent;\n",
              "      border-left-color: var(--fill-color);\n",
              "      border-top-color: var(--fill-color);\n",
              "    }\n",
              "    30% {\n",
              "      border-color: transparent;\n",
              "      border-left-color: var(--fill-color);\n",
              "      border-top-color: var(--fill-color);\n",
              "      border-right-color: var(--fill-color);\n",
              "    }\n",
              "    40% {\n",
              "      border-color: transparent;\n",
              "      border-right-color: var(--fill-color);\n",
              "      border-top-color: var(--fill-color);\n",
              "    }\n",
              "    60% {\n",
              "      border-color: transparent;\n",
              "      border-right-color: var(--fill-color);\n",
              "    }\n",
              "    80% {\n",
              "      border-color: transparent;\n",
              "      border-right-color: var(--fill-color);\n",
              "      border-bottom-color: var(--fill-color);\n",
              "    }\n",
              "    90% {\n",
              "      border-color: transparent;\n",
              "      border-bottom-color: var(--fill-color);\n",
              "    }\n",
              "  }\n",
              "</style>\n",
              "\n",
              "  <script>\n",
              "    async function quickchart(key) {\n",
              "      const quickchartButtonEl =\n",
              "        document.querySelector('#' + key + ' button');\n",
              "      quickchartButtonEl.disabled = true;  // To prevent multiple clicks.\n",
              "      quickchartButtonEl.classList.add('colab-df-spinner');\n",
              "      try {\n",
              "        const charts = await google.colab.kernel.invokeFunction(\n",
              "            'suggestCharts', [key], {});\n",
              "      } catch (error) {\n",
              "        console.error('Error during call to suggestCharts:', error);\n",
              "      }\n",
              "      quickchartButtonEl.classList.remove('colab-df-spinner');\n",
              "      quickchartButtonEl.classList.add('colab-df-quickchart-complete');\n",
              "    }\n",
              "    (() => {\n",
              "      let quickchartButtonEl =\n",
              "        document.querySelector('#df-d97525b3-9b5f-43af-9e0a-4f327248bef7 button');\n",
              "      quickchartButtonEl.style.display =\n",
              "        google.colab.kernel.accessAllowed ? 'block' : 'none';\n",
              "    })();\n",
              "  </script>\n",
              "</div>\n",
              "    </div>\n",
              "  </div>\n"
            ]
          },
          "metadata": {},
          "execution_count": 5
        }
      ]
    },
    {
      "cell_type": "code",
      "source": [
        "df1.isnull().sum()"
      ],
      "metadata": {
        "colab": {
          "base_uri": "https://localhost:8080/"
        },
        "id": "Ihv5F7jy3VYj",
        "outputId": "d6ad0057-f5b9-47dc-d4e8-e934abd6f70e"
      },
      "execution_count": 6,
      "outputs": [
        {
          "output_type": "execute_result",
          "data": {
            "text/plain": [
              "authors                     0\n",
              "bestsellers-rank       466842\n",
              "categories                  0\n",
              "description             80087\n",
              "dimension-x             48227\n",
              "dimension-y             93531\n",
              "dimension-z             48227\n",
              "edition                926569\n",
              "edition-statement      747261\n",
              "for-ages              1033390\n",
              "format                   6622\n",
              "id                          0\n",
              "illustrations-note     752907\n",
              "image-checksum             27\n",
              "image-path                 27\n",
              "image-url                  27\n",
              "imprint                830049\n",
              "index-date            1109383\n",
              "isbn10                      0\n",
              "isbn13                      0\n",
              "lang                    60407\n",
              "publication-date         2603\n",
              "publication-place     1109383\n",
              "rating-avg             440130\n",
              "rating-count           440130\n",
              "title                       0\n",
              "url                         0\n",
              "weight                  87173\n",
              "dtype: int64"
            ]
          },
          "metadata": {},
          "execution_count": 6
        }
      ]
    },
    {
      "cell_type": "code",
      "source": [
        "df1.dtypes"
      ],
      "metadata": {
        "colab": {
          "base_uri": "https://localhost:8080/"
        },
        "id": "3IeGll8swABx",
        "outputId": "aa84e8c7-1b45-4327-9062-d26006febbe5"
      },
      "execution_count": 7,
      "outputs": [
        {
          "output_type": "execute_result",
          "data": {
            "text/plain": [
              "authors                object\n",
              "bestsellers-rank      float64\n",
              "categories             object\n",
              "description            object\n",
              "dimension-x           float64\n",
              "dimension-y           float64\n",
              "dimension-z           float64\n",
              "edition                object\n",
              "edition-statement      object\n",
              "for-ages               object\n",
              "format                float64\n",
              "id                      int64\n",
              "illustrations-note     object\n",
              "image-checksum         object\n",
              "image-path             object\n",
              "image-url              object\n",
              "imprint                object\n",
              "index-date            float64\n",
              "isbn10                 object\n",
              "isbn13                  int64\n",
              "lang                   object\n",
              "publication-date       object\n",
              "publication-place     float64\n",
              "rating-avg            float64\n",
              "rating-count          float64\n",
              "title                  object\n",
              "url                    object\n",
              "weight                float64\n",
              "dtype: object"
            ]
          },
          "metadata": {},
          "execution_count": 7
        }
      ]
    },
    {
      "cell_type": "code",
      "source": [
        "df1.nunique()"
      ],
      "metadata": {
        "colab": {
          "base_uri": "https://localhost:8080/"
        },
        "id": "PmCX-DHanJBX",
        "outputId": "df4f58c2-0285-4dda-ddb0-2d1eb280e2de"
      },
      "execution_count": 8,
      "outputs": [
        {
          "output_type": "execute_result",
          "data": {
            "text/plain": [
              "authors                564646\n",
              "bestsellers-rank       531931\n",
              "categories             425186\n",
              "description            841392\n",
              "dimension-x              1797\n",
              "dimension-y              2054\n",
              "dimension-z              1312\n",
              "edition                   104\n",
              "edition-statement       11293\n",
              "for-ages                   55\n",
              "format                     48\n",
              "id                    1109383\n",
              "illustrations-note      98664\n",
              "image-checksum        1004723\n",
              "image-path            1109356\n",
              "image-url             1109356\n",
              "imprint                  5782\n",
              "index-date                  0\n",
              "isbn10                1109382\n",
              "isbn13                1109383\n",
              "lang                      162\n",
              "publication-date        14976\n",
              "publication-place           0\n",
              "rating-avg                323\n",
              "rating-count            27912\n",
              "title                  957559\n",
              "url                   1109383\n",
              "weight                   7043\n",
              "dtype: int64"
            ]
          },
          "metadata": {},
          "execution_count": 8
        }
      ]
    },
    {
      "cell_type": "code",
      "source": [
        "df2.head()"
      ],
      "metadata": {
        "colab": {
          "base_uri": "https://localhost:8080/",
          "height": 206
        },
        "id": "rLdN6FBncqUw",
        "outputId": "212a5941-26ca-4342-ce70-4b2a1a90afa7"
      },
      "execution_count": 9,
      "outputs": [
        {
          "output_type": "execute_result",
          "data": {
            "text/plain": [
              "   author_id        author_name\n",
              "0       9561                NaN\n",
              "1     451324      # House Press\n",
              "2     454250      # Petal Press\n",
              "3     249724    #GARCIA MIGUELE\n",
              "4     287710  #Worldlcass Media"
            ],
            "text/html": [
              "\n",
              "  <div id=\"df-12838051-4ebe-4e64-821b-cfd3c940402b\" class=\"colab-df-container\">\n",
              "    <div>\n",
              "<style scoped>\n",
              "    .dataframe tbody tr th:only-of-type {\n",
              "        vertical-align: middle;\n",
              "    }\n",
              "\n",
              "    .dataframe tbody tr th {\n",
              "        vertical-align: top;\n",
              "    }\n",
              "\n",
              "    .dataframe thead th {\n",
              "        text-align: right;\n",
              "    }\n",
              "</style>\n",
              "<table border=\"1\" class=\"dataframe\">\n",
              "  <thead>\n",
              "    <tr style=\"text-align: right;\">\n",
              "      <th></th>\n",
              "      <th>author_id</th>\n",
              "      <th>author_name</th>\n",
              "    </tr>\n",
              "  </thead>\n",
              "  <tbody>\n",
              "    <tr>\n",
              "      <th>0</th>\n",
              "      <td>9561</td>\n",
              "      <td>NaN</td>\n",
              "    </tr>\n",
              "    <tr>\n",
              "      <th>1</th>\n",
              "      <td>451324</td>\n",
              "      <td># House Press</td>\n",
              "    </tr>\n",
              "    <tr>\n",
              "      <th>2</th>\n",
              "      <td>454250</td>\n",
              "      <td># Petal Press</td>\n",
              "    </tr>\n",
              "    <tr>\n",
              "      <th>3</th>\n",
              "      <td>249724</td>\n",
              "      <td>#GARCIA MIGUELE</td>\n",
              "    </tr>\n",
              "    <tr>\n",
              "      <th>4</th>\n",
              "      <td>287710</td>\n",
              "      <td>#Worldlcass Media</td>\n",
              "    </tr>\n",
              "  </tbody>\n",
              "</table>\n",
              "</div>\n",
              "    <div class=\"colab-df-buttons\">\n",
              "\n",
              "  <div class=\"colab-df-container\">\n",
              "    <button class=\"colab-df-convert\" onclick=\"convertToInteractive('df-12838051-4ebe-4e64-821b-cfd3c940402b')\"\n",
              "            title=\"Convert this dataframe to an interactive table.\"\n",
              "            style=\"display:none;\">\n",
              "\n",
              "  <svg xmlns=\"http://www.w3.org/2000/svg\" height=\"24px\" viewBox=\"0 -960 960 960\">\n",
              "    <path d=\"M120-120v-720h720v720H120Zm60-500h600v-160H180v160Zm220 220h160v-160H400v160Zm0 220h160v-160H400v160ZM180-400h160v-160H180v160Zm440 0h160v-160H620v160ZM180-180h160v-160H180v160Zm440 0h160v-160H620v160Z\"/>\n",
              "  </svg>\n",
              "    </button>\n",
              "\n",
              "  <style>\n",
              "    .colab-df-container {\n",
              "      display:flex;\n",
              "      gap: 12px;\n",
              "    }\n",
              "\n",
              "    .colab-df-convert {\n",
              "      background-color: #E8F0FE;\n",
              "      border: none;\n",
              "      border-radius: 50%;\n",
              "      cursor: pointer;\n",
              "      display: none;\n",
              "      fill: #1967D2;\n",
              "      height: 32px;\n",
              "      padding: 0 0 0 0;\n",
              "      width: 32px;\n",
              "    }\n",
              "\n",
              "    .colab-df-convert:hover {\n",
              "      background-color: #E2EBFA;\n",
              "      box-shadow: 0px 1px 2px rgba(60, 64, 67, 0.3), 0px 1px 3px 1px rgba(60, 64, 67, 0.15);\n",
              "      fill: #174EA6;\n",
              "    }\n",
              "\n",
              "    .colab-df-buttons div {\n",
              "      margin-bottom: 4px;\n",
              "    }\n",
              "\n",
              "    [theme=dark] .colab-df-convert {\n",
              "      background-color: #3B4455;\n",
              "      fill: #D2E3FC;\n",
              "    }\n",
              "\n",
              "    [theme=dark] .colab-df-convert:hover {\n",
              "      background-color: #434B5C;\n",
              "      box-shadow: 0px 1px 3px 1px rgba(0, 0, 0, 0.15);\n",
              "      filter: drop-shadow(0px 1px 2px rgba(0, 0, 0, 0.3));\n",
              "      fill: #FFFFFF;\n",
              "    }\n",
              "  </style>\n",
              "\n",
              "    <script>\n",
              "      const buttonEl =\n",
              "        document.querySelector('#df-12838051-4ebe-4e64-821b-cfd3c940402b button.colab-df-convert');\n",
              "      buttonEl.style.display =\n",
              "        google.colab.kernel.accessAllowed ? 'block' : 'none';\n",
              "\n",
              "      async function convertToInteractive(key) {\n",
              "        const element = document.querySelector('#df-12838051-4ebe-4e64-821b-cfd3c940402b');\n",
              "        const dataTable =\n",
              "          await google.colab.kernel.invokeFunction('convertToInteractive',\n",
              "                                                    [key], {});\n",
              "        if (!dataTable) return;\n",
              "\n",
              "        const docLinkHtml = 'Like what you see? Visit the ' +\n",
              "          '<a target=\"_blank\" href=https://colab.research.google.com/notebooks/data_table.ipynb>data table notebook</a>'\n",
              "          + ' to learn more about interactive tables.';\n",
              "        element.innerHTML = '';\n",
              "        dataTable['output_type'] = 'display_data';\n",
              "        await google.colab.output.renderOutput(dataTable, element);\n",
              "        const docLink = document.createElement('div');\n",
              "        docLink.innerHTML = docLinkHtml;\n",
              "        element.appendChild(docLink);\n",
              "      }\n",
              "    </script>\n",
              "  </div>\n",
              "\n",
              "\n",
              "<div id=\"df-98ac8f36-2afa-4b68-9a96-7c108a92e117\">\n",
              "  <button class=\"colab-df-quickchart\" onclick=\"quickchart('df-98ac8f36-2afa-4b68-9a96-7c108a92e117')\"\n",
              "            title=\"Suggest charts.\"\n",
              "            style=\"display:none;\">\n",
              "\n",
              "<svg xmlns=\"http://www.w3.org/2000/svg\" height=\"24px\"viewBox=\"0 0 24 24\"\n",
              "     width=\"24px\">\n",
              "    <g>\n",
              "        <path d=\"M19 3H5c-1.1 0-2 .9-2 2v14c0 1.1.9 2 2 2h14c1.1 0 2-.9 2-2V5c0-1.1-.9-2-2-2zM9 17H7v-7h2v7zm4 0h-2V7h2v10zm4 0h-2v-4h2v4z\"/>\n",
              "    </g>\n",
              "</svg>\n",
              "  </button>\n",
              "\n",
              "<style>\n",
              "  .colab-df-quickchart {\n",
              "      --bg-color: #E8F0FE;\n",
              "      --fill-color: #1967D2;\n",
              "      --hover-bg-color: #E2EBFA;\n",
              "      --hover-fill-color: #174EA6;\n",
              "      --disabled-fill-color: #AAA;\n",
              "      --disabled-bg-color: #DDD;\n",
              "  }\n",
              "\n",
              "  [theme=dark] .colab-df-quickchart {\n",
              "      --bg-color: #3B4455;\n",
              "      --fill-color: #D2E3FC;\n",
              "      --hover-bg-color: #434B5C;\n",
              "      --hover-fill-color: #FFFFFF;\n",
              "      --disabled-bg-color: #3B4455;\n",
              "      --disabled-fill-color: #666;\n",
              "  }\n",
              "\n",
              "  .colab-df-quickchart {\n",
              "    background-color: var(--bg-color);\n",
              "    border: none;\n",
              "    border-radius: 50%;\n",
              "    cursor: pointer;\n",
              "    display: none;\n",
              "    fill: var(--fill-color);\n",
              "    height: 32px;\n",
              "    padding: 0;\n",
              "    width: 32px;\n",
              "  }\n",
              "\n",
              "  .colab-df-quickchart:hover {\n",
              "    background-color: var(--hover-bg-color);\n",
              "    box-shadow: 0 1px 2px rgba(60, 64, 67, 0.3), 0 1px 3px 1px rgba(60, 64, 67, 0.15);\n",
              "    fill: var(--button-hover-fill-color);\n",
              "  }\n",
              "\n",
              "  .colab-df-quickchart-complete:disabled,\n",
              "  .colab-df-quickchart-complete:disabled:hover {\n",
              "    background-color: var(--disabled-bg-color);\n",
              "    fill: var(--disabled-fill-color);\n",
              "    box-shadow: none;\n",
              "  }\n",
              "\n",
              "  .colab-df-spinner {\n",
              "    border: 2px solid var(--fill-color);\n",
              "    border-color: transparent;\n",
              "    border-bottom-color: var(--fill-color);\n",
              "    animation:\n",
              "      spin 1s steps(1) infinite;\n",
              "  }\n",
              "\n",
              "  @keyframes spin {\n",
              "    0% {\n",
              "      border-color: transparent;\n",
              "      border-bottom-color: var(--fill-color);\n",
              "      border-left-color: var(--fill-color);\n",
              "    }\n",
              "    20% {\n",
              "      border-color: transparent;\n",
              "      border-left-color: var(--fill-color);\n",
              "      border-top-color: var(--fill-color);\n",
              "    }\n",
              "    30% {\n",
              "      border-color: transparent;\n",
              "      border-left-color: var(--fill-color);\n",
              "      border-top-color: var(--fill-color);\n",
              "      border-right-color: var(--fill-color);\n",
              "    }\n",
              "    40% {\n",
              "      border-color: transparent;\n",
              "      border-right-color: var(--fill-color);\n",
              "      border-top-color: var(--fill-color);\n",
              "    }\n",
              "    60% {\n",
              "      border-color: transparent;\n",
              "      border-right-color: var(--fill-color);\n",
              "    }\n",
              "    80% {\n",
              "      border-color: transparent;\n",
              "      border-right-color: var(--fill-color);\n",
              "      border-bottom-color: var(--fill-color);\n",
              "    }\n",
              "    90% {\n",
              "      border-color: transparent;\n",
              "      border-bottom-color: var(--fill-color);\n",
              "    }\n",
              "  }\n",
              "</style>\n",
              "\n",
              "  <script>\n",
              "    async function quickchart(key) {\n",
              "      const quickchartButtonEl =\n",
              "        document.querySelector('#' + key + ' button');\n",
              "      quickchartButtonEl.disabled = true;  // To prevent multiple clicks.\n",
              "      quickchartButtonEl.classList.add('colab-df-spinner');\n",
              "      try {\n",
              "        const charts = await google.colab.kernel.invokeFunction(\n",
              "            'suggestCharts', [key], {});\n",
              "      } catch (error) {\n",
              "        console.error('Error during call to suggestCharts:', error);\n",
              "      }\n",
              "      quickchartButtonEl.classList.remove('colab-df-spinner');\n",
              "      quickchartButtonEl.classList.add('colab-df-quickchart-complete');\n",
              "    }\n",
              "    (() => {\n",
              "      let quickchartButtonEl =\n",
              "        document.querySelector('#df-98ac8f36-2afa-4b68-9a96-7c108a92e117 button');\n",
              "      quickchartButtonEl.style.display =\n",
              "        google.colab.kernel.accessAllowed ? 'block' : 'none';\n",
              "    })();\n",
              "  </script>\n",
              "</div>\n",
              "    </div>\n",
              "  </div>\n"
            ]
          },
          "metadata": {},
          "execution_count": 9
        }
      ]
    },
    {
      "cell_type": "code",
      "source": [
        "df2.dtypes"
      ],
      "metadata": {
        "colab": {
          "base_uri": "https://localhost:8080/"
        },
        "id": "NWCEvUoW1-Ab",
        "outputId": "2dfe7127-0172-4edf-8632-e8c07187d3e1"
      },
      "execution_count": 10,
      "outputs": [
        {
          "output_type": "execute_result",
          "data": {
            "text/plain": [
              "author_id       int64\n",
              "author_name    object\n",
              "dtype: object"
            ]
          },
          "metadata": {},
          "execution_count": 10
        }
      ]
    },
    {
      "cell_type": "code",
      "source": [
        "df1['authors'] = df1['authors'].str.replace(r'\\[|\\]', '', regex=True)\n",
        "\n",
        "df1['categories'] = df1['categories'].str.replace(r'\\[|\\]', '', regex=True)\n"
      ],
      "metadata": {
        "id": "uoLl6H8LayqG"
      },
      "execution_count": 11,
      "outputs": []
    },
    {
      "cell_type": "code",
      "source": [
        "df2['author_id'] = df2['author_id'].astype(str)\n",
        "merged_df = df1.merge(df2, left_on='authors', right_on='author_id', how='left')\n",
        "\n",
        "# df3['category_id'] = df3['category_id'].astype(str)\n",
        "# merged_df = merged_df.merge(df3, left_on='categories', right_on='category_id', how='left')\n"
      ],
      "metadata": {
        "id": "KIR9Up48UkO3"
      },
      "execution_count": 12,
      "outputs": []
    },
    {
      "cell_type": "code",
      "source": [
        "author_1 = merged_df[merged_df['authors'].str.count(',') == 0]"
      ],
      "metadata": {
        "id": "4I6HALvzZ-Gu"
      },
      "execution_count": 13,
      "outputs": []
    },
    {
      "cell_type": "code",
      "source": [
        "author_1.head()"
      ],
      "metadata": {
        "colab": {
          "base_uri": "https://localhost:8080/",
          "height": 608
        },
        "id": "7xSwLDxBaF_m",
        "outputId": "9053d868-9e35-482f-ec66-7e48609aa28a"
      },
      "execution_count": 14,
      "outputs": [
        {
          "output_type": "execute_result",
          "data": {
            "text/plain": [
              "  authors  bestsellers-rank                                   categories                                        description  dimension-x  dimension-y  dimension-z      edition edition-statement for-ages  format             id            illustrations-note                    image-checksum                                         image-path                                          image-url                       imprint  index-date      isbn10         isbn13 lang     publication-date  publication-place  rating-avg  rating-count                                              title                                                url  weight author_id        author_name\n",
              "0       1           49848.0  214, 220, 237, 2646, 2647, 2659, 2660, 2679  SOLDIER FIVE is an elite soldier's explosive m...        129.0        198.0        20.00          NaN               NaN      NaN     1.0  9781840189070                           NaN  97c8e71f2ec114b34f243074d2091077  full/c/5/2/c529152ea1246c0cb17d6574d302eae6d2e...  https://d1w7fb2mkkr3kw.cloudfront.net/assets/i...         Mainstream Publishing         NaN  184018907X  9781840189070   en  2004-10-14 00:00:00                NaN        4.03         292.0  Soldier Five : The Real Truth About The Bravo ...            /Soldier-Five-Mike-Coburn/9781840189070  224.00         1        Mike Coburn\n",
              "2       4           11732.0                         358, 2630, 360, 2632  Sir Phillip knew that Eloise Bridgerton was a ...        150.0        224.0        28.00  New edition               NaN      NaN     1.0  9788416327867                           NaN  3be3fd4fb2fceeb1eb58c3e73242ebb9  full/1/a/2/1a24ac04d4e0a01c8bb531481244b543167...  https://d1w7fb2mkkr3kw.cloudfront.net/assets/i...                           NaN         NaN  8416327866  9788416327867   es  2020-04-30 00:00:00                NaN        3.88       37211.0                            A Sir Phillip, Con Amor    /Sir-Phillip-Con-Amor-Julia-Quinn/9788416327867  386.00         4        Julia Quinn\n",
              "4       9           98413.0                                   2813, 2980  The Try Guys deliver their first book-an inspi...        191.0        240.0        29.00          NaN               NaN      NaN     2.0  9780008352516                           NaN  39c0422c00be90fb9258dd6df9068b1e  full/e/e/a/eea0ff6b6f1882d1862c711a2008e3c35d3...  https://d1w7fb2mkkr3kw.cloudfront.net/assets/i...  HarperCollins Publishers Ltd         NaN     8352518  9780008352516   en  2019-06-18 00:00:00                NaN        3.90        5095.0                     The Hidden Power of F*cking Up    /Hidden-Power-F-cking-Up-Try-Guys/9780008352516  980.00         9       The Try Guys\n",
              "8      14            7004.0                        3223, 700, 1521, 2820  For the millions of Americans who want spiritu...        140.0        213.0        15.00          NaN           Reprint      NaN     1.0  9781451636024                           NaN  8242901f9c8358e80b64f16a9b76df0b  full/f/4/e/f4e5b422024491be842709726380c7a4c1c...  https://d1w7fb2mkkr3kw.cloudfront.net/assets/i...                           NaN         NaN  1451636024  9781451636024   en  2015-06-16 00:00:00                NaN        3.92       33806.0  Waking Up : A Guide to Spirituality Without Re...                /Waking-Up-Sam-Harris/9781451636024  181.00        14         Sam Harris\n",
              "9      15           66137.0         37, 46, 2784, 2942, 2980, 2912, 3385  Part of the Art of Coloring series, which has ...        193.0        272.0        15.24          NaN               NaN      NaN     1.0  9781484788899  1 Illustrations, unspecified  9f620cba34acf4ae6c717d0dd62c3aa4  full/8/0/0/800b21ffb4eddce9c7753889798e2affad0...  https://d1w7fb2mkkr3kw.cloudfront.net/assets/i...                           NaN         NaN  1484788893  9781484788899   en  2017-05-04 00:00:00                NaN        4.20           5.0                           Art Of Coloring: Muppets  /Art-Coloring-Muppets-Disney-Book-Group/978148...  476.27        15  Disney Book Group"
            ],
            "text/html": [
              "\n",
              "  <div id=\"df-e93f011e-8588-4b22-a8bb-370f47fdb41c\" class=\"colab-df-container\">\n",
              "    <div>\n",
              "<style scoped>\n",
              "    .dataframe tbody tr th:only-of-type {\n",
              "        vertical-align: middle;\n",
              "    }\n",
              "\n",
              "    .dataframe tbody tr th {\n",
              "        vertical-align: top;\n",
              "    }\n",
              "\n",
              "    .dataframe thead th {\n",
              "        text-align: right;\n",
              "    }\n",
              "</style>\n",
              "<table border=\"1\" class=\"dataframe\">\n",
              "  <thead>\n",
              "    <tr style=\"text-align: right;\">\n",
              "      <th></th>\n",
              "      <th>authors</th>\n",
              "      <th>bestsellers-rank</th>\n",
              "      <th>categories</th>\n",
              "      <th>description</th>\n",
              "      <th>dimension-x</th>\n",
              "      <th>dimension-y</th>\n",
              "      <th>dimension-z</th>\n",
              "      <th>edition</th>\n",
              "      <th>edition-statement</th>\n",
              "      <th>for-ages</th>\n",
              "      <th>format</th>\n",
              "      <th>id</th>\n",
              "      <th>illustrations-note</th>\n",
              "      <th>image-checksum</th>\n",
              "      <th>image-path</th>\n",
              "      <th>image-url</th>\n",
              "      <th>imprint</th>\n",
              "      <th>index-date</th>\n",
              "      <th>isbn10</th>\n",
              "      <th>isbn13</th>\n",
              "      <th>lang</th>\n",
              "      <th>publication-date</th>\n",
              "      <th>publication-place</th>\n",
              "      <th>rating-avg</th>\n",
              "      <th>rating-count</th>\n",
              "      <th>title</th>\n",
              "      <th>url</th>\n",
              "      <th>weight</th>\n",
              "      <th>author_id</th>\n",
              "      <th>author_name</th>\n",
              "    </tr>\n",
              "  </thead>\n",
              "  <tbody>\n",
              "    <tr>\n",
              "      <th>0</th>\n",
              "      <td>1</td>\n",
              "      <td>49848.0</td>\n",
              "      <td>214, 220, 237, 2646, 2647, 2659, 2660, 2679</td>\n",
              "      <td>SOLDIER FIVE is an elite soldier's explosive m...</td>\n",
              "      <td>129.0</td>\n",
              "      <td>198.0</td>\n",
              "      <td>20.00</td>\n",
              "      <td>NaN</td>\n",
              "      <td>NaN</td>\n",
              "      <td>NaN</td>\n",
              "      <td>1.0</td>\n",
              "      <td>9781840189070</td>\n",
              "      <td>NaN</td>\n",
              "      <td>97c8e71f2ec114b34f243074d2091077</td>\n",
              "      <td>full/c/5/2/c529152ea1246c0cb17d6574d302eae6d2e...</td>\n",
              "      <td>https://d1w7fb2mkkr3kw.cloudfront.net/assets/i...</td>\n",
              "      <td>Mainstream Publishing</td>\n",
              "      <td>NaN</td>\n",
              "      <td>184018907X</td>\n",
              "      <td>9781840189070</td>\n",
              "      <td>en</td>\n",
              "      <td>2004-10-14 00:00:00</td>\n",
              "      <td>NaN</td>\n",
              "      <td>4.03</td>\n",
              "      <td>292.0</td>\n",
              "      <td>Soldier Five : The Real Truth About The Bravo ...</td>\n",
              "      <td>/Soldier-Five-Mike-Coburn/9781840189070</td>\n",
              "      <td>224.00</td>\n",
              "      <td>1</td>\n",
              "      <td>Mike Coburn</td>\n",
              "    </tr>\n",
              "    <tr>\n",
              "      <th>2</th>\n",
              "      <td>4</td>\n",
              "      <td>11732.0</td>\n",
              "      <td>358, 2630, 360, 2632</td>\n",
              "      <td>Sir Phillip knew that Eloise Bridgerton was a ...</td>\n",
              "      <td>150.0</td>\n",
              "      <td>224.0</td>\n",
              "      <td>28.00</td>\n",
              "      <td>New edition</td>\n",
              "      <td>NaN</td>\n",
              "      <td>NaN</td>\n",
              "      <td>1.0</td>\n",
              "      <td>9788416327867</td>\n",
              "      <td>NaN</td>\n",
              "      <td>3be3fd4fb2fceeb1eb58c3e73242ebb9</td>\n",
              "      <td>full/1/a/2/1a24ac04d4e0a01c8bb531481244b543167...</td>\n",
              "      <td>https://d1w7fb2mkkr3kw.cloudfront.net/assets/i...</td>\n",
              "      <td>NaN</td>\n",
              "      <td>NaN</td>\n",
              "      <td>8416327866</td>\n",
              "      <td>9788416327867</td>\n",
              "      <td>es</td>\n",
              "      <td>2020-04-30 00:00:00</td>\n",
              "      <td>NaN</td>\n",
              "      <td>3.88</td>\n",
              "      <td>37211.0</td>\n",
              "      <td>A Sir Phillip, Con Amor</td>\n",
              "      <td>/Sir-Phillip-Con-Amor-Julia-Quinn/9788416327867</td>\n",
              "      <td>386.00</td>\n",
              "      <td>4</td>\n",
              "      <td>Julia Quinn</td>\n",
              "    </tr>\n",
              "    <tr>\n",
              "      <th>4</th>\n",
              "      <td>9</td>\n",
              "      <td>98413.0</td>\n",
              "      <td>2813, 2980</td>\n",
              "      <td>The Try Guys deliver their first book-an inspi...</td>\n",
              "      <td>191.0</td>\n",
              "      <td>240.0</td>\n",
              "      <td>29.00</td>\n",
              "      <td>NaN</td>\n",
              "      <td>NaN</td>\n",
              "      <td>NaN</td>\n",
              "      <td>2.0</td>\n",
              "      <td>9780008352516</td>\n",
              "      <td>NaN</td>\n",
              "      <td>39c0422c00be90fb9258dd6df9068b1e</td>\n",
              "      <td>full/e/e/a/eea0ff6b6f1882d1862c711a2008e3c35d3...</td>\n",
              "      <td>https://d1w7fb2mkkr3kw.cloudfront.net/assets/i...</td>\n",
              "      <td>HarperCollins Publishers Ltd</td>\n",
              "      <td>NaN</td>\n",
              "      <td>8352518</td>\n",
              "      <td>9780008352516</td>\n",
              "      <td>en</td>\n",
              "      <td>2019-06-18 00:00:00</td>\n",
              "      <td>NaN</td>\n",
              "      <td>3.90</td>\n",
              "      <td>5095.0</td>\n",
              "      <td>The Hidden Power of F*cking Up</td>\n",
              "      <td>/Hidden-Power-F-cking-Up-Try-Guys/9780008352516</td>\n",
              "      <td>980.00</td>\n",
              "      <td>9</td>\n",
              "      <td>The Try Guys</td>\n",
              "    </tr>\n",
              "    <tr>\n",
              "      <th>8</th>\n",
              "      <td>14</td>\n",
              "      <td>7004.0</td>\n",
              "      <td>3223, 700, 1521, 2820</td>\n",
              "      <td>For the millions of Americans who want spiritu...</td>\n",
              "      <td>140.0</td>\n",
              "      <td>213.0</td>\n",
              "      <td>15.00</td>\n",
              "      <td>NaN</td>\n",
              "      <td>Reprint</td>\n",
              "      <td>NaN</td>\n",
              "      <td>1.0</td>\n",
              "      <td>9781451636024</td>\n",
              "      <td>NaN</td>\n",
              "      <td>8242901f9c8358e80b64f16a9b76df0b</td>\n",
              "      <td>full/f/4/e/f4e5b422024491be842709726380c7a4c1c...</td>\n",
              "      <td>https://d1w7fb2mkkr3kw.cloudfront.net/assets/i...</td>\n",
              "      <td>NaN</td>\n",
              "      <td>NaN</td>\n",
              "      <td>1451636024</td>\n",
              "      <td>9781451636024</td>\n",
              "      <td>en</td>\n",
              "      <td>2015-06-16 00:00:00</td>\n",
              "      <td>NaN</td>\n",
              "      <td>3.92</td>\n",
              "      <td>33806.0</td>\n",
              "      <td>Waking Up : A Guide to Spirituality Without Re...</td>\n",
              "      <td>/Waking-Up-Sam-Harris/9781451636024</td>\n",
              "      <td>181.00</td>\n",
              "      <td>14</td>\n",
              "      <td>Sam Harris</td>\n",
              "    </tr>\n",
              "    <tr>\n",
              "      <th>9</th>\n",
              "      <td>15</td>\n",
              "      <td>66137.0</td>\n",
              "      <td>37, 46, 2784, 2942, 2980, 2912, 3385</td>\n",
              "      <td>Part of the Art of Coloring series, which has ...</td>\n",
              "      <td>193.0</td>\n",
              "      <td>272.0</td>\n",
              "      <td>15.24</td>\n",
              "      <td>NaN</td>\n",
              "      <td>NaN</td>\n",
              "      <td>NaN</td>\n",
              "      <td>1.0</td>\n",
              "      <td>9781484788899</td>\n",
              "      <td>1 Illustrations, unspecified</td>\n",
              "      <td>9f620cba34acf4ae6c717d0dd62c3aa4</td>\n",
              "      <td>full/8/0/0/800b21ffb4eddce9c7753889798e2affad0...</td>\n",
              "      <td>https://d1w7fb2mkkr3kw.cloudfront.net/assets/i...</td>\n",
              "      <td>NaN</td>\n",
              "      <td>NaN</td>\n",
              "      <td>1484788893</td>\n",
              "      <td>9781484788899</td>\n",
              "      <td>en</td>\n",
              "      <td>2017-05-04 00:00:00</td>\n",
              "      <td>NaN</td>\n",
              "      <td>4.20</td>\n",
              "      <td>5.0</td>\n",
              "      <td>Art Of Coloring: Muppets</td>\n",
              "      <td>/Art-Coloring-Muppets-Disney-Book-Group/978148...</td>\n",
              "      <td>476.27</td>\n",
              "      <td>15</td>\n",
              "      <td>Disney Book Group</td>\n",
              "    </tr>\n",
              "  </tbody>\n",
              "</table>\n",
              "</div>\n",
              "    <div class=\"colab-df-buttons\">\n",
              "\n",
              "  <div class=\"colab-df-container\">\n",
              "    <button class=\"colab-df-convert\" onclick=\"convertToInteractive('df-e93f011e-8588-4b22-a8bb-370f47fdb41c')\"\n",
              "            title=\"Convert this dataframe to an interactive table.\"\n",
              "            style=\"display:none;\">\n",
              "\n",
              "  <svg xmlns=\"http://www.w3.org/2000/svg\" height=\"24px\" viewBox=\"0 -960 960 960\">\n",
              "    <path d=\"M120-120v-720h720v720H120Zm60-500h600v-160H180v160Zm220 220h160v-160H400v160Zm0 220h160v-160H400v160ZM180-400h160v-160H180v160Zm440 0h160v-160H620v160ZM180-180h160v-160H180v160Zm440 0h160v-160H620v160Z\"/>\n",
              "  </svg>\n",
              "    </button>\n",
              "\n",
              "  <style>\n",
              "    .colab-df-container {\n",
              "      display:flex;\n",
              "      gap: 12px;\n",
              "    }\n",
              "\n",
              "    .colab-df-convert {\n",
              "      background-color: #E8F0FE;\n",
              "      border: none;\n",
              "      border-radius: 50%;\n",
              "      cursor: pointer;\n",
              "      display: none;\n",
              "      fill: #1967D2;\n",
              "      height: 32px;\n",
              "      padding: 0 0 0 0;\n",
              "      width: 32px;\n",
              "    }\n",
              "\n",
              "    .colab-df-convert:hover {\n",
              "      background-color: #E2EBFA;\n",
              "      box-shadow: 0px 1px 2px rgba(60, 64, 67, 0.3), 0px 1px 3px 1px rgba(60, 64, 67, 0.15);\n",
              "      fill: #174EA6;\n",
              "    }\n",
              "\n",
              "    .colab-df-buttons div {\n",
              "      margin-bottom: 4px;\n",
              "    }\n",
              "\n",
              "    [theme=dark] .colab-df-convert {\n",
              "      background-color: #3B4455;\n",
              "      fill: #D2E3FC;\n",
              "    }\n",
              "\n",
              "    [theme=dark] .colab-df-convert:hover {\n",
              "      background-color: #434B5C;\n",
              "      box-shadow: 0px 1px 3px 1px rgba(0, 0, 0, 0.15);\n",
              "      filter: drop-shadow(0px 1px 2px rgba(0, 0, 0, 0.3));\n",
              "      fill: #FFFFFF;\n",
              "    }\n",
              "  </style>\n",
              "\n",
              "    <script>\n",
              "      const buttonEl =\n",
              "        document.querySelector('#df-e93f011e-8588-4b22-a8bb-370f47fdb41c button.colab-df-convert');\n",
              "      buttonEl.style.display =\n",
              "        google.colab.kernel.accessAllowed ? 'block' : 'none';\n",
              "\n",
              "      async function convertToInteractive(key) {\n",
              "        const element = document.querySelector('#df-e93f011e-8588-4b22-a8bb-370f47fdb41c');\n",
              "        const dataTable =\n",
              "          await google.colab.kernel.invokeFunction('convertToInteractive',\n",
              "                                                    [key], {});\n",
              "        if (!dataTable) return;\n",
              "\n",
              "        const docLinkHtml = 'Like what you see? Visit the ' +\n",
              "          '<a target=\"_blank\" href=https://colab.research.google.com/notebooks/data_table.ipynb>data table notebook</a>'\n",
              "          + ' to learn more about interactive tables.';\n",
              "        element.innerHTML = '';\n",
              "        dataTable['output_type'] = 'display_data';\n",
              "        await google.colab.output.renderOutput(dataTable, element);\n",
              "        const docLink = document.createElement('div');\n",
              "        docLink.innerHTML = docLinkHtml;\n",
              "        element.appendChild(docLink);\n",
              "      }\n",
              "    </script>\n",
              "  </div>\n",
              "\n",
              "\n",
              "<div id=\"df-801aeeb0-79e2-40c2-bdd3-50ac2788978f\">\n",
              "  <button class=\"colab-df-quickchart\" onclick=\"quickchart('df-801aeeb0-79e2-40c2-bdd3-50ac2788978f')\"\n",
              "            title=\"Suggest charts.\"\n",
              "            style=\"display:none;\">\n",
              "\n",
              "<svg xmlns=\"http://www.w3.org/2000/svg\" height=\"24px\"viewBox=\"0 0 24 24\"\n",
              "     width=\"24px\">\n",
              "    <g>\n",
              "        <path d=\"M19 3H5c-1.1 0-2 .9-2 2v14c0 1.1.9 2 2 2h14c1.1 0 2-.9 2-2V5c0-1.1-.9-2-2-2zM9 17H7v-7h2v7zm4 0h-2V7h2v10zm4 0h-2v-4h2v4z\"/>\n",
              "    </g>\n",
              "</svg>\n",
              "  </button>\n",
              "\n",
              "<style>\n",
              "  .colab-df-quickchart {\n",
              "      --bg-color: #E8F0FE;\n",
              "      --fill-color: #1967D2;\n",
              "      --hover-bg-color: #E2EBFA;\n",
              "      --hover-fill-color: #174EA6;\n",
              "      --disabled-fill-color: #AAA;\n",
              "      --disabled-bg-color: #DDD;\n",
              "  }\n",
              "\n",
              "  [theme=dark] .colab-df-quickchart {\n",
              "      --bg-color: #3B4455;\n",
              "      --fill-color: #D2E3FC;\n",
              "      --hover-bg-color: #434B5C;\n",
              "      --hover-fill-color: #FFFFFF;\n",
              "      --disabled-bg-color: #3B4455;\n",
              "      --disabled-fill-color: #666;\n",
              "  }\n",
              "\n",
              "  .colab-df-quickchart {\n",
              "    background-color: var(--bg-color);\n",
              "    border: none;\n",
              "    border-radius: 50%;\n",
              "    cursor: pointer;\n",
              "    display: none;\n",
              "    fill: var(--fill-color);\n",
              "    height: 32px;\n",
              "    padding: 0;\n",
              "    width: 32px;\n",
              "  }\n",
              "\n",
              "  .colab-df-quickchart:hover {\n",
              "    background-color: var(--hover-bg-color);\n",
              "    box-shadow: 0 1px 2px rgba(60, 64, 67, 0.3), 0 1px 3px 1px rgba(60, 64, 67, 0.15);\n",
              "    fill: var(--button-hover-fill-color);\n",
              "  }\n",
              "\n",
              "  .colab-df-quickchart-complete:disabled,\n",
              "  .colab-df-quickchart-complete:disabled:hover {\n",
              "    background-color: var(--disabled-bg-color);\n",
              "    fill: var(--disabled-fill-color);\n",
              "    box-shadow: none;\n",
              "  }\n",
              "\n",
              "  .colab-df-spinner {\n",
              "    border: 2px solid var(--fill-color);\n",
              "    border-color: transparent;\n",
              "    border-bottom-color: var(--fill-color);\n",
              "    animation:\n",
              "      spin 1s steps(1) infinite;\n",
              "  }\n",
              "\n",
              "  @keyframes spin {\n",
              "    0% {\n",
              "      border-color: transparent;\n",
              "      border-bottom-color: var(--fill-color);\n",
              "      border-left-color: var(--fill-color);\n",
              "    }\n",
              "    20% {\n",
              "      border-color: transparent;\n",
              "      border-left-color: var(--fill-color);\n",
              "      border-top-color: var(--fill-color);\n",
              "    }\n",
              "    30% {\n",
              "      border-color: transparent;\n",
              "      border-left-color: var(--fill-color);\n",
              "      border-top-color: var(--fill-color);\n",
              "      border-right-color: var(--fill-color);\n",
              "    }\n",
              "    40% {\n",
              "      border-color: transparent;\n",
              "      border-right-color: var(--fill-color);\n",
              "      border-top-color: var(--fill-color);\n",
              "    }\n",
              "    60% {\n",
              "      border-color: transparent;\n",
              "      border-right-color: var(--fill-color);\n",
              "    }\n",
              "    80% {\n",
              "      border-color: transparent;\n",
              "      border-right-color: var(--fill-color);\n",
              "      border-bottom-color: var(--fill-color);\n",
              "    }\n",
              "    90% {\n",
              "      border-color: transparent;\n",
              "      border-bottom-color: var(--fill-color);\n",
              "    }\n",
              "  }\n",
              "</style>\n",
              "\n",
              "  <script>\n",
              "    async function quickchart(key) {\n",
              "      const quickchartButtonEl =\n",
              "        document.querySelector('#' + key + ' button');\n",
              "      quickchartButtonEl.disabled = true;  // To prevent multiple clicks.\n",
              "      quickchartButtonEl.classList.add('colab-df-spinner');\n",
              "      try {\n",
              "        const charts = await google.colab.kernel.invokeFunction(\n",
              "            'suggestCharts', [key], {});\n",
              "      } catch (error) {\n",
              "        console.error('Error during call to suggestCharts:', error);\n",
              "      }\n",
              "      quickchartButtonEl.classList.remove('colab-df-spinner');\n",
              "      quickchartButtonEl.classList.add('colab-df-quickchart-complete');\n",
              "    }\n",
              "    (() => {\n",
              "      let quickchartButtonEl =\n",
              "        document.querySelector('#df-801aeeb0-79e2-40c2-bdd3-50ac2788978f button');\n",
              "      quickchartButtonEl.style.display =\n",
              "        google.colab.kernel.accessAllowed ? 'block' : 'none';\n",
              "    })();\n",
              "  </script>\n",
              "</div>\n",
              "    </div>\n",
              "  </div>\n"
            ]
          },
          "metadata": {},
          "execution_count": 14
        }
      ]
    },
    {
      "cell_type": "code",
      "source": [
        "author_1.shape"
      ],
      "metadata": {
        "colab": {
          "base_uri": "https://localhost:8080/"
        },
        "id": "XuIvzAkXe0Jc",
        "outputId": "9ac50fb7-cd4b-4524-ce1f-02521bd59e43"
      },
      "execution_count": 15,
      "outputs": [
        {
          "output_type": "execute_result",
          "data": {
            "text/plain": [
              "(771607, 30)"
            ]
          },
          "metadata": {},
          "execution_count": 15
        }
      ]
    },
    {
      "cell_type": "code",
      "source": [
        "author_1.isnull().sum()"
      ],
      "metadata": {
        "colab": {
          "base_uri": "https://localhost:8080/"
        },
        "id": "RH2I5gEyOghu",
        "outputId": "a3a6a02e-2ee8-4760-c22a-29d64040089b"
      },
      "execution_count": 16,
      "outputs": [
        {
          "output_type": "execute_result",
          "data": {
            "text/plain": [
              "authors                    0\n",
              "bestsellers-rank      330530\n",
              "categories                 0\n",
              "description            61452\n",
              "dimension-x            35343\n",
              "dimension-y            63787\n",
              "dimension-z            35343\n",
              "edition               694145\n",
              "edition-statement     575274\n",
              "for-ages              721103\n",
              "format                  4932\n",
              "id                         0\n",
              "illustrations-note    530092\n",
              "image-checksum            21\n",
              "image-path                21\n",
              "image-url                 21\n",
              "imprint               583294\n",
              "index-date            771607\n",
              "isbn10                     0\n",
              "isbn13                     0\n",
              "lang                   44054\n",
              "publication-date        2248\n",
              "publication-place     771607\n",
              "rating-avg            332974\n",
              "rating-count          332974\n",
              "title                      0\n",
              "url                        0\n",
              "weight                 56407\n",
              "author_id              17495\n",
              "author_name            17681\n",
              "dtype: int64"
            ]
          },
          "metadata": {},
          "execution_count": 16
        }
      ]
    },
    {
      "cell_type": "code",
      "source": [
        "author_1['author_id'] = author_1['author_id'].astype(float)\n",
        "author_1['author_id'].dtypes"
      ],
      "metadata": {
        "colab": {
          "base_uri": "https://localhost:8080/"
        },
        "id": "1hj5Z4y4tbgj",
        "outputId": "77a82f10-d83b-443e-e254-36bbada14c56"
      },
      "execution_count": 17,
      "outputs": [
        {
          "output_type": "stream",
          "name": "stderr",
          "text": [
            "<ipython-input-17-1e2c38fa7ed7>:1: SettingWithCopyWarning: \n",
            "A value is trying to be set on a copy of a slice from a DataFrame.\n",
            "Try using .loc[row_indexer,col_indexer] = value instead\n",
            "\n",
            "See the caveats in the documentation: https://pandas.pydata.org/pandas-docs/stable/user_guide/indexing.html#returning-a-view-versus-a-copy\n",
            "  author_1['author_id'] = author_1['author_id'].astype(float)\n"
          ]
        },
        {
          "output_type": "execute_result",
          "data": {
            "text/plain": [
              "dtype('float64')"
            ]
          },
          "metadata": {},
          "execution_count": 17
        }
      ]
    },
    {
      "cell_type": "code",
      "source": [],
      "metadata": {
        "id": "zCE7fXlbL-bK"
      },
      "execution_count": 17,
      "outputs": []
    },
    {
      "cell_type": "code",
      "source": [
        "# Dropping Unnecessary columns\n",
        "author_1.drop(['edition-statement', 'illustrations-note','image-checksum','image-path','image-url','url'],axis=1, inplace= True)"
      ],
      "metadata": {
        "id": "YecWvRUdHp9o",
        "colab": {
          "base_uri": "https://localhost:8080/"
        },
        "outputId": "ff528ab2-890b-4384-bd9d-1ad5c788edf2"
      },
      "execution_count": 18,
      "outputs": [
        {
          "output_type": "stream",
          "name": "stderr",
          "text": [
            "<ipython-input-18-164d1ccf22d9>:2: SettingWithCopyWarning: \n",
            "A value is trying to be set on a copy of a slice from a DataFrame\n",
            "\n",
            "See the caveats in the documentation: https://pandas.pydata.org/pandas-docs/stable/user_guide/indexing.html#returning-a-view-versus-a-copy\n",
            "  author_1.drop(['edition-statement', 'illustrations-note','image-checksum','image-path','image-url','url'],axis=1, inplace= True)\n"
          ]
        }
      ]
    },
    {
      "cell_type": "markdown",
      "metadata": {
        "id": "R70RL5StsrjH"
      },
      "source": [
        "**Null values are present**\\\n",
        "Need Imputation or dropping columns having a higher percentage of missing values."
      ]
    },
    {
      "cell_type": "code",
      "execution_count": 19,
      "metadata": {
        "colab": {
          "base_uri": "https://localhost:8080/",
          "height": 802
        },
        "id": "-NekILo-sqxb",
        "outputId": "3bc0347e-b047-41a3-bf00-62a84957847e"
      },
      "outputs": [
        {
          "output_type": "execute_result",
          "data": {
            "text/plain": [
              "                   missing_percentage\n",
              "index-date                 100.000000\n",
              "publication-place          100.000000\n",
              "for-ages                    93.454699\n",
              "edition                     89.960952\n",
              "imprint                     75.594700\n",
              "rating-count                43.153315\n",
              "rating-avg                  43.153315\n",
              "bestsellers-rank            42.836574\n",
              "dimension-y                  8.266773\n",
              "description                  7.964158\n",
              "weight                       7.310328\n",
              "lang                         5.709383\n",
              "dimension-x                  4.580441\n",
              "dimension-z                  4.580441\n",
              "author_name                  2.291451\n",
              "author_id                    2.267346\n",
              "format                       0.639185\n",
              "publication-date             0.291340\n",
              "isbn13                       0.000000\n",
              "isbn10                       0.000000\n",
              "id                           0.000000\n",
              "title                        0.000000\n",
              "categories                   0.000000\n",
              "authors                      0.000000"
            ],
            "text/html": [
              "\n",
              "  <div id=\"df-5acb1fc0-1b7e-489d-8d59-a8a863668458\" class=\"colab-df-container\">\n",
              "    <div>\n",
              "<style scoped>\n",
              "    .dataframe tbody tr th:only-of-type {\n",
              "        vertical-align: middle;\n",
              "    }\n",
              "\n",
              "    .dataframe tbody tr th {\n",
              "        vertical-align: top;\n",
              "    }\n",
              "\n",
              "    .dataframe thead th {\n",
              "        text-align: right;\n",
              "    }\n",
              "</style>\n",
              "<table border=\"1\" class=\"dataframe\">\n",
              "  <thead>\n",
              "    <tr style=\"text-align: right;\">\n",
              "      <th></th>\n",
              "      <th>missing_percentage</th>\n",
              "    </tr>\n",
              "  </thead>\n",
              "  <tbody>\n",
              "    <tr>\n",
              "      <th>index-date</th>\n",
              "      <td>100.000000</td>\n",
              "    </tr>\n",
              "    <tr>\n",
              "      <th>publication-place</th>\n",
              "      <td>100.000000</td>\n",
              "    </tr>\n",
              "    <tr>\n",
              "      <th>for-ages</th>\n",
              "      <td>93.454699</td>\n",
              "    </tr>\n",
              "    <tr>\n",
              "      <th>edition</th>\n",
              "      <td>89.960952</td>\n",
              "    </tr>\n",
              "    <tr>\n",
              "      <th>imprint</th>\n",
              "      <td>75.594700</td>\n",
              "    </tr>\n",
              "    <tr>\n",
              "      <th>rating-count</th>\n",
              "      <td>43.153315</td>\n",
              "    </tr>\n",
              "    <tr>\n",
              "      <th>rating-avg</th>\n",
              "      <td>43.153315</td>\n",
              "    </tr>\n",
              "    <tr>\n",
              "      <th>bestsellers-rank</th>\n",
              "      <td>42.836574</td>\n",
              "    </tr>\n",
              "    <tr>\n",
              "      <th>dimension-y</th>\n",
              "      <td>8.266773</td>\n",
              "    </tr>\n",
              "    <tr>\n",
              "      <th>description</th>\n",
              "      <td>7.964158</td>\n",
              "    </tr>\n",
              "    <tr>\n",
              "      <th>weight</th>\n",
              "      <td>7.310328</td>\n",
              "    </tr>\n",
              "    <tr>\n",
              "      <th>lang</th>\n",
              "      <td>5.709383</td>\n",
              "    </tr>\n",
              "    <tr>\n",
              "      <th>dimension-x</th>\n",
              "      <td>4.580441</td>\n",
              "    </tr>\n",
              "    <tr>\n",
              "      <th>dimension-z</th>\n",
              "      <td>4.580441</td>\n",
              "    </tr>\n",
              "    <tr>\n",
              "      <th>author_name</th>\n",
              "      <td>2.291451</td>\n",
              "    </tr>\n",
              "    <tr>\n",
              "      <th>author_id</th>\n",
              "      <td>2.267346</td>\n",
              "    </tr>\n",
              "    <tr>\n",
              "      <th>format</th>\n",
              "      <td>0.639185</td>\n",
              "    </tr>\n",
              "    <tr>\n",
              "      <th>publication-date</th>\n",
              "      <td>0.291340</td>\n",
              "    </tr>\n",
              "    <tr>\n",
              "      <th>isbn13</th>\n",
              "      <td>0.000000</td>\n",
              "    </tr>\n",
              "    <tr>\n",
              "      <th>isbn10</th>\n",
              "      <td>0.000000</td>\n",
              "    </tr>\n",
              "    <tr>\n",
              "      <th>id</th>\n",
              "      <td>0.000000</td>\n",
              "    </tr>\n",
              "    <tr>\n",
              "      <th>title</th>\n",
              "      <td>0.000000</td>\n",
              "    </tr>\n",
              "    <tr>\n",
              "      <th>categories</th>\n",
              "      <td>0.000000</td>\n",
              "    </tr>\n",
              "    <tr>\n",
              "      <th>authors</th>\n",
              "      <td>0.000000</td>\n",
              "    </tr>\n",
              "  </tbody>\n",
              "</table>\n",
              "</div>\n",
              "    <div class=\"colab-df-buttons\">\n",
              "\n",
              "  <div class=\"colab-df-container\">\n",
              "    <button class=\"colab-df-convert\" onclick=\"convertToInteractive('df-5acb1fc0-1b7e-489d-8d59-a8a863668458')\"\n",
              "            title=\"Convert this dataframe to an interactive table.\"\n",
              "            style=\"display:none;\">\n",
              "\n",
              "  <svg xmlns=\"http://www.w3.org/2000/svg\" height=\"24px\" viewBox=\"0 -960 960 960\">\n",
              "    <path d=\"M120-120v-720h720v720H120Zm60-500h600v-160H180v160Zm220 220h160v-160H400v160Zm0 220h160v-160H400v160ZM180-400h160v-160H180v160Zm440 0h160v-160H620v160ZM180-180h160v-160H180v160Zm440 0h160v-160H620v160Z\"/>\n",
              "  </svg>\n",
              "    </button>\n",
              "\n",
              "  <style>\n",
              "    .colab-df-container {\n",
              "      display:flex;\n",
              "      gap: 12px;\n",
              "    }\n",
              "\n",
              "    .colab-df-convert {\n",
              "      background-color: #E8F0FE;\n",
              "      border: none;\n",
              "      border-radius: 50%;\n",
              "      cursor: pointer;\n",
              "      display: none;\n",
              "      fill: #1967D2;\n",
              "      height: 32px;\n",
              "      padding: 0 0 0 0;\n",
              "      width: 32px;\n",
              "    }\n",
              "\n",
              "    .colab-df-convert:hover {\n",
              "      background-color: #E2EBFA;\n",
              "      box-shadow: 0px 1px 2px rgba(60, 64, 67, 0.3), 0px 1px 3px 1px rgba(60, 64, 67, 0.15);\n",
              "      fill: #174EA6;\n",
              "    }\n",
              "\n",
              "    .colab-df-buttons div {\n",
              "      margin-bottom: 4px;\n",
              "    }\n",
              "\n",
              "    [theme=dark] .colab-df-convert {\n",
              "      background-color: #3B4455;\n",
              "      fill: #D2E3FC;\n",
              "    }\n",
              "\n",
              "    [theme=dark] .colab-df-convert:hover {\n",
              "      background-color: #434B5C;\n",
              "      box-shadow: 0px 1px 3px 1px rgba(0, 0, 0, 0.15);\n",
              "      filter: drop-shadow(0px 1px 2px rgba(0, 0, 0, 0.3));\n",
              "      fill: #FFFFFF;\n",
              "    }\n",
              "  </style>\n",
              "\n",
              "    <script>\n",
              "      const buttonEl =\n",
              "        document.querySelector('#df-5acb1fc0-1b7e-489d-8d59-a8a863668458 button.colab-df-convert');\n",
              "      buttonEl.style.display =\n",
              "        google.colab.kernel.accessAllowed ? 'block' : 'none';\n",
              "\n",
              "      async function convertToInteractive(key) {\n",
              "        const element = document.querySelector('#df-5acb1fc0-1b7e-489d-8d59-a8a863668458');\n",
              "        const dataTable =\n",
              "          await google.colab.kernel.invokeFunction('convertToInteractive',\n",
              "                                                    [key], {});\n",
              "        if (!dataTable) return;\n",
              "\n",
              "        const docLinkHtml = 'Like what you see? Visit the ' +\n",
              "          '<a target=\"_blank\" href=https://colab.research.google.com/notebooks/data_table.ipynb>data table notebook</a>'\n",
              "          + ' to learn more about interactive tables.';\n",
              "        element.innerHTML = '';\n",
              "        dataTable['output_type'] = 'display_data';\n",
              "        await google.colab.output.renderOutput(dataTable, element);\n",
              "        const docLink = document.createElement('div');\n",
              "        docLink.innerHTML = docLinkHtml;\n",
              "        element.appendChild(docLink);\n",
              "      }\n",
              "    </script>\n",
              "  </div>\n",
              "\n",
              "\n",
              "<div id=\"df-c43e4367-d75d-437b-a348-e31c33723413\">\n",
              "  <button class=\"colab-df-quickchart\" onclick=\"quickchart('df-c43e4367-d75d-437b-a348-e31c33723413')\"\n",
              "            title=\"Suggest charts.\"\n",
              "            style=\"display:none;\">\n",
              "\n",
              "<svg xmlns=\"http://www.w3.org/2000/svg\" height=\"24px\"viewBox=\"0 0 24 24\"\n",
              "     width=\"24px\">\n",
              "    <g>\n",
              "        <path d=\"M19 3H5c-1.1 0-2 .9-2 2v14c0 1.1.9 2 2 2h14c1.1 0 2-.9 2-2V5c0-1.1-.9-2-2-2zM9 17H7v-7h2v7zm4 0h-2V7h2v10zm4 0h-2v-4h2v4z\"/>\n",
              "    </g>\n",
              "</svg>\n",
              "  </button>\n",
              "\n",
              "<style>\n",
              "  .colab-df-quickchart {\n",
              "      --bg-color: #E8F0FE;\n",
              "      --fill-color: #1967D2;\n",
              "      --hover-bg-color: #E2EBFA;\n",
              "      --hover-fill-color: #174EA6;\n",
              "      --disabled-fill-color: #AAA;\n",
              "      --disabled-bg-color: #DDD;\n",
              "  }\n",
              "\n",
              "  [theme=dark] .colab-df-quickchart {\n",
              "      --bg-color: #3B4455;\n",
              "      --fill-color: #D2E3FC;\n",
              "      --hover-bg-color: #434B5C;\n",
              "      --hover-fill-color: #FFFFFF;\n",
              "      --disabled-bg-color: #3B4455;\n",
              "      --disabled-fill-color: #666;\n",
              "  }\n",
              "\n",
              "  .colab-df-quickchart {\n",
              "    background-color: var(--bg-color);\n",
              "    border: none;\n",
              "    border-radius: 50%;\n",
              "    cursor: pointer;\n",
              "    display: none;\n",
              "    fill: var(--fill-color);\n",
              "    height: 32px;\n",
              "    padding: 0;\n",
              "    width: 32px;\n",
              "  }\n",
              "\n",
              "  .colab-df-quickchart:hover {\n",
              "    background-color: var(--hover-bg-color);\n",
              "    box-shadow: 0 1px 2px rgba(60, 64, 67, 0.3), 0 1px 3px 1px rgba(60, 64, 67, 0.15);\n",
              "    fill: var(--button-hover-fill-color);\n",
              "  }\n",
              "\n",
              "  .colab-df-quickchart-complete:disabled,\n",
              "  .colab-df-quickchart-complete:disabled:hover {\n",
              "    background-color: var(--disabled-bg-color);\n",
              "    fill: var(--disabled-fill-color);\n",
              "    box-shadow: none;\n",
              "  }\n",
              "\n",
              "  .colab-df-spinner {\n",
              "    border: 2px solid var(--fill-color);\n",
              "    border-color: transparent;\n",
              "    border-bottom-color: var(--fill-color);\n",
              "    animation:\n",
              "      spin 1s steps(1) infinite;\n",
              "  }\n",
              "\n",
              "  @keyframes spin {\n",
              "    0% {\n",
              "      border-color: transparent;\n",
              "      border-bottom-color: var(--fill-color);\n",
              "      border-left-color: var(--fill-color);\n",
              "    }\n",
              "    20% {\n",
              "      border-color: transparent;\n",
              "      border-left-color: var(--fill-color);\n",
              "      border-top-color: var(--fill-color);\n",
              "    }\n",
              "    30% {\n",
              "      border-color: transparent;\n",
              "      border-left-color: var(--fill-color);\n",
              "      border-top-color: var(--fill-color);\n",
              "      border-right-color: var(--fill-color);\n",
              "    }\n",
              "    40% {\n",
              "      border-color: transparent;\n",
              "      border-right-color: var(--fill-color);\n",
              "      border-top-color: var(--fill-color);\n",
              "    }\n",
              "    60% {\n",
              "      border-color: transparent;\n",
              "      border-right-color: var(--fill-color);\n",
              "    }\n",
              "    80% {\n",
              "      border-color: transparent;\n",
              "      border-right-color: var(--fill-color);\n",
              "      border-bottom-color: var(--fill-color);\n",
              "    }\n",
              "    90% {\n",
              "      border-color: transparent;\n",
              "      border-bottom-color: var(--fill-color);\n",
              "    }\n",
              "  }\n",
              "</style>\n",
              "\n",
              "  <script>\n",
              "    async function quickchart(key) {\n",
              "      const quickchartButtonEl =\n",
              "        document.querySelector('#' + key + ' button');\n",
              "      quickchartButtonEl.disabled = true;  // To prevent multiple clicks.\n",
              "      quickchartButtonEl.classList.add('colab-df-spinner');\n",
              "      try {\n",
              "        const charts = await google.colab.kernel.invokeFunction(\n",
              "            'suggestCharts', [key], {});\n",
              "      } catch (error) {\n",
              "        console.error('Error during call to suggestCharts:', error);\n",
              "      }\n",
              "      quickchartButtonEl.classList.remove('colab-df-spinner');\n",
              "      quickchartButtonEl.classList.add('colab-df-quickchart-complete');\n",
              "    }\n",
              "    (() => {\n",
              "      let quickchartButtonEl =\n",
              "        document.querySelector('#df-c43e4367-d75d-437b-a348-e31c33723413 button');\n",
              "      quickchartButtonEl.style.display =\n",
              "        google.colab.kernel.accessAllowed ? 'block' : 'none';\n",
              "    })();\n",
              "  </script>\n",
              "</div>\n",
              "    </div>\n",
              "  </div>\n"
            ]
          },
          "metadata": {},
          "execution_count": 19
        }
      ],
      "source": [
        "# Checking null value percentage\n",
        "percent_missing = author_1.isnull().sum() * 100 / len(author_1)\n",
        "missing_value_df = pd.DataFrame({'missing_percentage': percent_missing})\n",
        "missing_value_df.sort_values('missing_percentage',ascending=False, inplace=True)\n",
        "missing_value_df.head(28)"
      ]
    },
    {
      "cell_type": "markdown",
      "metadata": {
        "id": "o4IdZADjkz2v"
      },
      "source": [
        "In **index-date, publication-place, for-ages and edition** columns more than 80% null values are present. Drop these columns.\\\n",
        "In **format, publication-date, image-path, image-url\tand image-checksum** columns less than 1% null values are present. Drop these rows."
      ]
    },
    {
      "cell_type": "code",
      "execution_count": 20,
      "metadata": {
        "id": "xFF_nLyQm715",
        "colab": {
          "base_uri": "https://localhost:8080/"
        },
        "outputId": "b40ac5df-7c81-4f68-b847-3e7f8c609316"
      },
      "outputs": [
        {
          "output_type": "stream",
          "name": "stderr",
          "text": [
            "<ipython-input-20-b39169a92336>:2: SettingWithCopyWarning: \n",
            "A value is trying to be set on a copy of a slice from a DataFrame\n",
            "\n",
            "See the caveats in the documentation: https://pandas.pydata.org/pandas-docs/stable/user_guide/indexing.html#returning-a-view-versus-a-copy\n",
            "  author_1.drop(['index-date',\t'publication-place', 'for-ages', 'edition'], axis=1, inplace=True)\n"
          ]
        }
      ],
      "source": [
        "# Drop columns having more than 80% missing values\n",
        "author_1.drop(['index-date',\t'publication-place', 'for-ages', 'edition'], axis=1, inplace=True)"
      ]
    },
    {
      "cell_type": "code",
      "execution_count": 21,
      "metadata": {
        "id": "iO7OrkIYmb3I",
        "colab": {
          "base_uri": "https://localhost:8080/"
        },
        "outputId": "c3eabba1-95c8-4090-fcfa-eb3d2cc58f58"
      },
      "outputs": [
        {
          "output_type": "stream",
          "name": "stderr",
          "text": [
            "<ipython-input-21-e010c2e5ed4b>:2: SettingWithCopyWarning: \n",
            "A value is trying to be set on a copy of a slice from a DataFrame\n",
            "\n",
            "See the caveats in the documentation: https://pandas.pydata.org/pandas-docs/stable/user_guide/indexing.html#returning-a-view-versus-a-copy\n",
            "  author_1.dropna(subset=['format','publication-date'],inplace=True)\n"
          ]
        }
      ],
      "source": [
        "# Dropping null values less than 1%\n",
        "author_1.dropna(subset=['format','publication-date'],inplace=True)"
      ]
    },
    {
      "cell_type": "code",
      "execution_count": 22,
      "metadata": {
        "colab": {
          "base_uri": "https://localhost:8080/"
        },
        "id": "1gXdUWILoDh6",
        "outputId": "88dd2ccb-b979-4482-a220-56452c31f8f3"
      },
      "outputs": [
        {
          "output_type": "stream",
          "name": "stdout",
          "text": [
            "Index(['bestsellers-rank', 'description', 'dimension-x', 'dimension-y',\n",
            "       'dimension-z', 'imprint', 'lang', 'rating-avg', 'rating-count',\n",
            "       'weight', 'author_id', 'author_name'],\n",
            "      dtype='object')\n"
          ]
        }
      ],
      "source": [
        "# Select columns with missing values exceeding 30% but less than 95%\n",
        "impute_cols = percent_missing[(percent_missing > 1) & (percent_missing < 80)].index\n",
        "print(impute_cols)"
      ]
    },
    {
      "cell_type": "code",
      "source": [
        "author_1.shape"
      ],
      "metadata": {
        "colab": {
          "base_uri": "https://localhost:8080/"
        },
        "id": "9s1ZvsFdQt8Z",
        "outputId": "0d1da2a1-2dd6-4569-90a4-3844fe4d9913"
      },
      "execution_count": 23,
      "outputs": [
        {
          "output_type": "execute_result",
          "data": {
            "text/plain": [
              "(764689, 20)"
            ]
          },
          "metadata": {},
          "execution_count": 23
        }
      ]
    },
    {
      "cell_type": "code",
      "source": [
        "author_1.isnull().sum()"
      ],
      "metadata": {
        "colab": {
          "base_uri": "https://localhost:8080/"
        },
        "id": "NL1HPN9VQmG3",
        "outputId": "58f44f9f-7ad1-4145-f538-cbbbc31d8be0"
      },
      "execution_count": 24,
      "outputs": [
        {
          "output_type": "execute_result",
          "data": {
            "text/plain": [
              "authors                  0\n",
              "bestsellers-rank    324714\n",
              "categories               0\n",
              "description          56714\n",
              "dimension-x          30997\n",
              "dimension-y          58380\n",
              "dimension-z          30997\n",
              "format                   0\n",
              "id                       0\n",
              "imprint             578009\n",
              "isbn10                   0\n",
              "isbn13                   0\n",
              "lang                 39184\n",
              "publication-date         0\n",
              "rating-avg          326906\n",
              "rating-count        326906\n",
              "title                    0\n",
              "weight               51431\n",
              "author_id            15222\n",
              "author_name          15400\n",
              "dtype: int64"
            ]
          },
          "metadata": {},
          "execution_count": 24
        }
      ]
    },
    {
      "cell_type": "code",
      "execution_count": 25,
      "metadata": {
        "colab": {
          "base_uri": "https://localhost:8080/"
        },
        "id": "4QdNpU-zorr6",
        "outputId": "216e22d6-565f-4b98-c4cb-98a9e4eaea4b"
      },
      "outputs": [
        {
          "output_type": "execute_result",
          "data": {
            "text/plain": [
              "bestsellers-rank    float64\n",
              "description          object\n",
              "dimension-x         float64\n",
              "dimension-y         float64\n",
              "dimension-z         float64\n",
              "imprint              object\n",
              "lang                 object\n",
              "rating-avg          float64\n",
              "rating-count        float64\n",
              "weight              float64\n",
              "author_id           float64\n",
              "author_name          object\n",
              "dtype: object"
            ]
          },
          "metadata": {},
          "execution_count": 25
        }
      ],
      "source": [
        "author_1[impute_cols].dtypes"
      ]
    },
    {
      "cell_type": "code",
      "source": [
        "author_1.dtypes"
      ],
      "metadata": {
        "colab": {
          "base_uri": "https://localhost:8080/"
        },
        "id": "EFjsEpWu_y2Q",
        "outputId": "02a3311e-d109-4260-9f28-b25cef08cbe0"
      },
      "execution_count": 26,
      "outputs": [
        {
          "output_type": "execute_result",
          "data": {
            "text/plain": [
              "authors              object\n",
              "bestsellers-rank    float64\n",
              "categories           object\n",
              "description          object\n",
              "dimension-x         float64\n",
              "dimension-y         float64\n",
              "dimension-z         float64\n",
              "format              float64\n",
              "id                    int64\n",
              "imprint              object\n",
              "isbn10               object\n",
              "isbn13                int64\n",
              "lang                 object\n",
              "publication-date     object\n",
              "rating-avg          float64\n",
              "rating-count        float64\n",
              "title                object\n",
              "weight              float64\n",
              "author_id           float64\n",
              "author_name          object\n",
              "dtype: object"
            ]
          },
          "metadata": {},
          "execution_count": 26
        }
      ]
    },
    {
      "cell_type": "code",
      "source": [],
      "metadata": {
        "id": "nircmmVsNcsk"
      },
      "execution_count": 26,
      "outputs": []
    },
    {
      "cell_type": "code",
      "source": [
        "# Feature Selection using Correlation Analysis\n",
        "import seaborn as sns\n",
        "import matplotlib.pyplot as plt\n",
        "# Correlation matrix\n",
        "correlation_matrix = author_1.corr()\n",
        "# Plot the heatmap\n",
        "plt.figure(figsize=(12, 8))\n",
        "sns.heatmap(correlation_matrix, annot=True, cmap='coolwarm', fmt=\".2f\", linewidths=0.5)\n",
        "plt.title('Correlation Heatmap')\n",
        "plt.show()"
      ],
      "metadata": {
        "colab": {
          "base_uri": "https://localhost:8080/",
          "height": 851
        },
        "id": "EozUnKOJ36J3",
        "outputId": "4fe18f1b-e4f5-4f21-8995-51ee5bbf61c9"
      },
      "execution_count": 27,
      "outputs": [
        {
          "output_type": "stream",
          "name": "stderr",
          "text": [
            "<ipython-input-27-94840b7e6fdc>:5: FutureWarning: The default value of numeric_only in DataFrame.corr is deprecated. In a future version, it will default to False. Select only valid columns or specify the value of numeric_only to silence this warning.\n",
            "  correlation_matrix = author_1.corr()\n"
          ]
        },
        {
          "output_type": "display_data",
          "data": {
            "text/plain": [
              "<Figure size 1200x800 with 2 Axes>"
            ],
            "image/png": "[encoded data removed]"
          },
          "metadata": {}
        }
      ]
    },
    {
      "cell_type": "code",
      "source": [
        "# Selected features\n",
        "predictors = [ 'bestsellers-rank',\n",
        "       'dimension-x', 'dimension-y', 'dimension-z', 'format', 'id', 'isbn13',\n",
        "       'rating-count', 'weight']"
      ],
      "metadata": {
        "id": "GRM_tdq76B-i"
      },
      "execution_count": 28,
      "outputs": []
    },
    {
      "cell_type": "code",
      "source": [
        "# Data Preparation\n",
        "X = author_1[predictors]\n",
        "y = author_1['rating-avg']"
      ],
      "metadata": {
        "id": "ZQALf5ac6qmn"
      },
      "execution_count": 29,
      "outputs": []
    },
    {
      "cell_type": "code",
      "source": [
        "from sklearn.model_selection import train_test_split\n",
        "from sklearn.preprocessing import StandardScaler\n",
        "from sklearn.linear_model import LogisticRegression\n",
        "from sklearn.metrics import accuracy_score, confusion_matrix\n",
        "\n",
        "# Train-test split\n",
        "X_train, X_rem, y_train, y_rem = train_test_split(X, y, test_size=0.3, random_state=42)\n",
        "X_val, X_test, y_val, y_test = train_test_split(X_rem, y_rem, test_size=0.5, random_state=42)\n",
        "\n",
        "# # Feature Scaling\n",
        "# scaler = StandardScaler()\n",
        "# X_train = scaler.fit_transform(X_train)\n",
        "# X_val = scaler.transform(X_val)\n",
        "# X_test = scaler.transform(X_test)\n"
      ],
      "metadata": {
        "id": "nz7ySvI87lJ9"
      },
      "execution_count": 30,
      "outputs": []
    },
    {
      "cell_type": "code",
      "source": [
        "y_train.fillna(0, inplace=True)\n",
        "y_val.fillna(0, inplace=True)\n",
        "y_test.fillna(0, inplace=True)\n",
        "\n",
        "y_train = y_train.astype(int)\n",
        "y_val = y_val.astype(int)\n",
        "y_test = y_test.astype(int)\n"
      ],
      "metadata": {
        "id": "z9wZmT60FD09"
      },
      "execution_count": 31,
      "outputs": []
    },
    {
      "cell_type": "code",
      "source": [
        "# y_train=y_train.astype(int)\n",
        "# y_val = y_val.astype(int)\n",
        "# y_test = y_test.astype(int)"
      ],
      "metadata": {
        "id": "0r15_FX7_UfQ"
      },
      "execution_count": 32,
      "outputs": []
    },
    {
      "cell_type": "code",
      "source": [
        "y_train.unique()"
      ],
      "metadata": {
        "colab": {
          "base_uri": "https://localhost:8080/"
        },
        "id": "hlOvZZMGAzOy",
        "outputId": "5652d670-3047-47de-9653-6efdb6a43aa6"
      },
      "execution_count": 33,
      "outputs": [
        {
          "output_type": "execute_result",
          "data": {
            "text/plain": [
              "array([4, 0, 3, 5, 2, 1])"
            ]
          },
          "metadata": {},
          "execution_count": 33
        }
      ]
    },
    {
      "cell_type": "code",
      "source": [
        "from sklearn.impute import SimpleImputer\n",
        "\n",
        "imputer = SimpleImputer(strategy='mean')\n",
        "X_train = imputer.fit_transform(X_train)\n",
        "X_test = imputer.transform(X_test)\n",
        "X_val = imputer.fit_transform(X_val)"
      ],
      "metadata": {
        "id": "uC7Gp0Q0Fgvy"
      },
      "execution_count": 34,
      "outputs": []
    },
    {
      "cell_type": "code",
      "source": [
        "from sklearn.linear_model import LogisticRegression\n",
        "\n",
        "model = LogisticRegression(multi_class='multinomial', solver='lbfgs')\n",
        "model.fit(X_train, y_train)\n",
        "\n",
        "from sklearn.metrics import accuracy_score, confusion_matrix\n",
        "\n",
        "y_pred = model.predict(X_test)\n",
        "accuracy = accuracy_score(y_test, y_pred)\n",
        "conf_matrix = confusion_matrix(y_test, y_pred)\n",
        "print(f\"Accuracy: {accuracy}\")\n",
        "print(f\"Confusion Matrix:\\n{conf_matrix}\")"
      ],
      "metadata": {
        "colab": {
          "base_uri": "https://localhost:8080/"
        },
        "id": "UOWwWsLbCH97",
        "outputId": "8e14bd96-80eb-496b-9958-ee1b22873601"
      },
      "execution_count": 35,
      "outputs": [
        {
          "output_type": "stream",
          "name": "stdout",
          "text": [
            "Accuracy: 0.427822918119682\n",
            "Confusion Matrix:\n",
            "[[49073     0     0     0     0     0]\n",
            " [  309     0     0     0     0     0]\n",
            " [ 1436     0     0     0     0     0]\n",
            " [27860     0     0     0     0     0]\n",
            " [31733     0     0     0     0     0]\n",
            " [ 4293     0     0     0     0     0]]\n"
          ]
        }
      ]
    },
    {
      "cell_type": "code",
      "source": [
        "from sklearn.ensemble import RandomForestClassifier\n",
        "\n",
        "# Model selection and training\n",
        "model_rf = RandomForestClassifier()\n",
        "model_rf.fit(X_train, y_train)\n",
        "\n",
        "# Model evaluation\n",
        "y_train_pred_rf = model_rf.predict(X_train)\n",
        "y_val_pred_rf = model_rf.predict(X_val)\n",
        "y_test_pred_rf = model_rf.predict(X_test)\n",
        "\n",
        "print(\"Random Forest Classifier - Training Accuracy:\", accuracy_score(y_train, y_train_pred_rf))\n",
        "print(\"Random Forest Classifier - Validation Accuracy:\", accuracy_score(y_val, y_val_pred_rf))\n",
        "print(\"Random Forest Classifier - Test Accuracy:\", accuracy_score(y_test, y_test_pred_rf))\n"
      ],
      "metadata": {
        "colab": {
          "base_uri": "https://localhost:8080/"
        },
        "id": "uh4t3sMV0KIt",
        "outputId": "80d22fae-9c23-44a3-b8aa-7a24ae7275e6"
      },
      "execution_count": 37,
      "outputs": [
        {
          "output_type": "stream",
          "name": "stdout",
          "text": [
            "Random Forest Classifier - Training Accuracy: 0.998847336544102\n",
            "Random Forest Classifier - Validation Accuracy: 0.3357802324263533\n",
            "Random Forest Classifier - Test Accuracy: 0.7606447900683498\n"
          ]
        }
      ]
    },
    {
      "cell_type": "code",
      "source": [
        "from xgboost import XGBClassifier\n",
        "\n",
        "# Model selection and training\n",
        "model_xgb = XGBClassifier()\n",
        "model_xgb.fit(X_train, y_train)\n",
        "\n",
        "# Model evaluation\n",
        "y_train_pred_xgb = model_xgb.predict(X_train)\n",
        "y_val_pred_xgb = model_xgb.predict(X_val)\n",
        "y_test_pred_xgb = model_xgb.predict(X_test)\n",
        "\n",
        "print(\"XGBoost Classifier - Training Accuracy:\", accuracy_score(y_train, y_train_pred_xgb))\n",
        "print(\"XGBoost Classifier - Validation Accuracy:\", accuracy_score(y_val, y_val_pred_xgb))\n",
        "print(\"XGBoost Classifier - Test Accuracy:\", accuracy_score(y_test, y_test_pred_xgb))\n"
      ],
      "metadata": {
        "colab": {
          "base_uri": "https://localhost:8080/"
        },
        "id": "vQoy47ae0OMM",
        "outputId": "ac2922b8-a296-4332-b52c-f9495fc39939"
      },
      "execution_count": 38,
      "outputs": [
        {
          "output_type": "stream",
          "name": "stdout",
          "text": [
            "XGBoost Classifier - Training Accuracy: 0.7789184018890977\n",
            "XGBoost Classifier - Validation Accuracy: 0.7610524572155916\n",
            "XGBoost Classifier - Test Accuracy: 0.762030966662017\n"
          ]
        }
      ]
    },
    {
      "cell_type": "code",
      "source": [
        "from sklearn.svm import SVC\n",
        "\n",
        "# Model selection and training\n",
        "model_svm = SVC()\n",
        "model_svm.fit(X_train, y_train)\n",
        "\n",
        "# Model evaluation\n",
        "y_train_pred_svm = model_svm.predict(X_train)\n",
        "y_val_pred_svm = model_svm.predict(X_val)\n",
        "y_test_pred_svm = model_svm.predict(X_test)\n",
        "\n",
        "print(\"SVM - Training Accuracy:\", accuracy_score(y_train, y_train_pred_svm))\n",
        "print(\"SVM - Validation Accuracy:\", accuracy_score(y_val, y_val_pred_svm))\n",
        "print(\"SVM - Test Accuracy:\", accuracy_score(y_test, y_test_pred_svm))\n"
      ],
      "metadata": {
        "id": "NHxgbzXj0Qzr"
      },
      "execution_count": null,
      "outputs": []
    },
    {
      "cell_type": "markdown",
      "source": [
        "#df having 2 Authors\n"
      ],
      "metadata": {
        "id": "a-rFh_JONLhK"
      }
    },
    {
      "cell_type": "code",
      "source": [
        "author_2 = merged_df[merged_df['authors'].str.count(',') == 1]"
      ],
      "metadata": {
        "id": "riY3Q8lSwZjI"
      },
      "execution_count": null,
      "outputs": []
    },
    {
      "cell_type": "code",
      "source": [
        "author_2.head()"
      ],
      "metadata": {
        "id": "24HJ-jVrwjMc"
      },
      "execution_count": null,
      "outputs": []
    },
    {
      "cell_type": "code",
      "source": [
        "author_2"
      ],
      "metadata": {
        "id": "Qj0trmoIuyAo"
      },
      "execution_count": null,
      "outputs": []
    },
    {
      "cell_type": "code",
      "source": [
        "merged_df.head(3)"
      ],
      "metadata": {
        "id": "2qOT7ppkv2AQ"
      },
      "execution_count": null,
      "outputs": []
    },
    {
      "cell_type": "code",
      "source": [
        "merged_df['authors'].dtypes"
      ],
      "metadata": {
        "id": "6oGu1WmD5khg"
      },
      "execution_count": null,
      "outputs": []
    },
    {
      "cell_type": "code",
      "source": [
        "# # Dropping these columns, as they all only the null values present\n",
        "\n",
        "# author_1 = author_1.drop(columns=['index-date', 'publication-place'])"
      ],
      "metadata": {
        "id": "qFeWD0T3hz6s"
      },
      "execution_count": null,
      "outputs": []
    },
    {
      "cell_type": "code",
      "source": [],
      "metadata": {
        "id": "LPCsFJUziEai"
      },
      "execution_count": null,
      "outputs": []
    }
  ]
}