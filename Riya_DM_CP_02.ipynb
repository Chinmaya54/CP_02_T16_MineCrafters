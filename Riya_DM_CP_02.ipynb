{
  "nbformat": 4,
  "nbformat_minor": 0,
  "metadata": {
    "colab": {
      "provenance": [],
      "collapsed_sections": [
        "a-rFh_JONLhK",
        "Wrztpr79fLVX"
      ],
      "mount_file_id": "10kjyQymSA8OU8ml_WGUDAj9LjwoUjnug",
      "authorship_tag": "ABX9TyO0PUJXokRIUHr6XlVkreOL",
      "include_colab_link": true
    },
    "kernelspec": {
      "name": "python3",
      "display_name": "Python 3"
    },
    "language_info": {
      "name": "python"
    }
  },
  "cells": [
    {
      "cell_type": "markdown",
      "metadata": {
        "id": "view-in-github",
        "colab_type": "text"
      },
      "source": [
        "<a href=\"https://colab.research.google.com/github/Chinmaya54/CP_02_T16_MineCrafters/blob/Riya/Riya_DM_CP_02.ipynb\" target=\"_parent\"><img src=\"https://colab.research.google.com/assets/colab-badge.svg\" alt=\"Open In Colab\"/></a>"
      ]
    },
    {
      "cell_type": "markdown",
      "source": [
        "# Preprocessiong and extracting instances having single author"
      ],
      "metadata": {
        "id": "Nn8W66Jmk2C_"
      }
    },
    {
      "cell_type": "code",
      "execution_count": null,
      "metadata": {
        "colab": {
          "base_uri": "https://localhost:8080/"
        },
        "id": "7WSRAXDrUZgC",
        "outputId": "3fb31e20-0544-4235-8347-0d5f884a48a0"
      },
      "outputs": [
        {
          "output_type": "stream",
          "name": "stdout",
          "text": [
            "Drive already mounted at /content/drive; to attempt to forcibly remount, call drive.mount(\"/content/drive\", force_remount=True).\n"
          ]
        }
      ],
      "source": [
        "from google.colab import drive\n",
        "drive.mount('/content/drive')"
      ]
    },
    {
      "cell_type": "code",
      "source": [
        "import pandas as pd"
      ],
      "metadata": {
        "id": "BRaL0-mUV8ui"
      },
      "execution_count": null,
      "outputs": []
    },
    {
      "cell_type": "code",
      "source": [
        "# Load the CSV files\n",
        "df1 = pd.read_csv('/content/drive/MyDrive/dataset.csv')   # dataset_csv\n",
        "df2 = pd.read_csv('/content/drive/MyDrive/authors.csv')   # authors_csv\n",
        "#df3 = pd.read_csv('/content/drive/MyDrive/categories.csv')  # categories_csv\n"
      ],
      "metadata": {
        "id": "4cNxz-KgEXK_"
      },
      "execution_count": null,
      "outputs": []
    },
    {
      "cell_type": "code",
      "source": [
        "pd.set_option('display.max_columns', None)\n",
        "pd.set_option('display.expand_frame_repr', False)"
      ],
      "metadata": {
        "id": "7UFY0MiwbHHH"
      },
      "execution_count": null,
      "outputs": []
    },
    {
      "cell_type": "code",
      "source": [
        "df1.head()"
      ],
      "metadata": {
        "colab": {
          "base_uri": "https://localhost:8080/"
        },
        "id": "_lswy4TIcoIB",
        "outputId": "c84dd4b3-6975-413a-c12e-fc46eac0025a"
      },
      "execution_count": null,
      "outputs": [
        {
          "output_type": "execute_result",
          "data": {
            "text/plain": [
              "        authors  bestsellers-rank                                     categories                                        description  dimension-x  dimension-y  dimension-z      edition    edition-statement for-ages  format             id illustrations-note                    image-checksum                                         image-path                                          image-url                       imprint  index-date      isbn10         isbn13 lang     publication-date  publication-place  rating-avg  rating-count                                              title                                                url  weight\n",
              "0           [1]           49848.0  [214, 220, 237, 2646, 2647, 2659, 2660, 2679]  SOLDIER FIVE is an elite soldier's explosive m...        129.0        198.0         20.0          NaN                  NaN      NaN     1.0  9781840189070                NaN  97c8e71f2ec114b34f243074d2091077  full/c/5/2/c529152ea1246c0cb17d6574d302eae6d2e...  https://d1w7fb2mkkr3kw.cloudfront.net/assets/i...         Mainstream Publishing         NaN  184018907X  9781840189070   en  2004-10-14 00:00:00                NaN        4.03         292.0  Soldier Five : The Real Truth About The Bravo ...            /Soldier-Five-Mike-Coburn/9781840189070  224.00\n",
              "1        [2, 3]          115215.0                                    [235, 3386]  John Moran and Carl Williams were the two bigg...        127.0        203.2         25.4          NaN                  NaN      NaN     1.0  9781844547371                NaN  1dc4e79575474ac775cdfe9840bdfb94  full/5/9/8/598ae8f736c99bc423352887d406d2b2f94...  https://d1w7fb2mkkr3kw.cloudfront.net/assets/i...                           NaN         NaN  184454737X  9781844547371   en  2009-03-13 00:00:00                NaN        3.60         335.0                      Underbelly : The Gangland War              /Underbelly-Andrew-Rule/9781844547371  285.76\n",
              "2           [4]           11732.0                         [358, 2630, 360, 2632]  Sir Phillip knew that Eloise Bridgerton was a ...        150.0        224.0         28.0  New edition                  NaN      NaN     1.0  9788416327867                NaN  3be3fd4fb2fceeb1eb58c3e73242ebb9  full/1/a/2/1a24ac04d4e0a01c8bb531481244b543167...  https://d1w7fb2mkkr3kw.cloudfront.net/assets/i...                           NaN         NaN  8416327866  9788416327867   es  2020-04-30 00:00:00                NaN        3.88       37211.0                            A Sir Phillip, Con Amor    /Sir-Phillip-Con-Amor-Julia-Quinn/9788416327867  386.00\n",
              "3  [5, 6, 7, 8]          114379.0                              [377, 2978, 2980]  The Third Book of General Ignorance  gathers t...        153.0        234.0         24.0          NaN  Export - Airside ed      NaN     1.0  9780571308996                NaN  bc593914f06e1021be9977114ea2a28f  full/1/a/f/1af9cad94dfe897b4423993c78b137bee40...  https://d1w7fb2mkkr3kw.cloudfront.net/assets/i...                           NaN         NaN   571308996  9780571308996   en  2015-10-01 00:00:00                NaN        4.17         384.0            QI: The Third Book of General Ignorance  /QI-Third-Book-General-Ignorance-John-Lloyd/97...  436.00\n",
              "4           [9]           98413.0                                   [2813, 2980]  The Try Guys deliver their first book-an inspi...        191.0        240.0         29.0          NaN                  NaN      NaN     2.0  9780008352516                NaN  39c0422c00be90fb9258dd6df9068b1e  full/e/e/a/eea0ff6b6f1882d1862c711a2008e3c35d3...  https://d1w7fb2mkkr3kw.cloudfront.net/assets/i...  HarperCollins Publishers Ltd         NaN     8352518  9780008352516   en  2019-06-18 00:00:00                NaN        3.90        5095.0                     The Hidden Power of F*cking Up    /Hidden-Power-F-cking-Up-Try-Guys/9780008352516  980.00"
            ],
            "text/html": [
              "\n",
              "  <div id=\"df-938c4085-f00d-4ebd-b5d6-e01f069d70bb\" class=\"colab-df-container\">\n",
              "    <div>\n",
              "<style scoped>\n",
              "    .dataframe tbody tr th:only-of-type {\n",
              "        vertical-align: middle;\n",
              "    }\n",
              "\n",
              "    .dataframe tbody tr th {\n",
              "        vertical-align: top;\n",
              "    }\n",
              "\n",
              "    .dataframe thead th {\n",
              "        text-align: right;\n",
              "    }\n",
              "</style>\n",
              "<table border=\"1\" class=\"dataframe\">\n",
              "  <thead>\n",
              "    <tr style=\"text-align: right;\">\n",
              "      <th></th>\n",
              "      <th>authors</th>\n",
              "      <th>bestsellers-rank</th>\n",
              "      <th>categories</th>\n",
              "      <th>description</th>\n",
              "      <th>dimension-x</th>\n",
              "      <th>dimension-y</th>\n",
              "      <th>dimension-z</th>\n",
              "      <th>edition</th>\n",
              "      <th>edition-statement</th>\n",
              "      <th>for-ages</th>\n",
              "      <th>format</th>\n",
              "      <th>id</th>\n",
              "      <th>illustrations-note</th>\n",
              "      <th>image-checksum</th>\n",
              "      <th>image-path</th>\n",
              "      <th>image-url</th>\n",
              "      <th>imprint</th>\n",
              "      <th>index-date</th>\n",
              "      <th>isbn10</th>\n",
              "      <th>isbn13</th>\n",
              "      <th>lang</th>\n",
              "      <th>publication-date</th>\n",
              "      <th>publication-place</th>\n",
              "      <th>rating-avg</th>\n",
              "      <th>rating-count</th>\n",
              "      <th>title</th>\n",
              "      <th>url</th>\n",
              "      <th>weight</th>\n",
              "    </tr>\n",
              "  </thead>\n",
              "  <tbody>\n",
              "    <tr>\n",
              "      <th>0</th>\n",
              "      <td>[1]</td>\n",
              "      <td>49848.0</td>\n",
              "      <td>[214, 220, 237, 2646, 2647, 2659, 2660, 2679]</td>\n",
              "      <td>SOLDIER FIVE is an elite soldier's explosive m...</td>\n",
              "      <td>129.0</td>\n",
              "      <td>198.0</td>\n",
              "      <td>20.0</td>\n",
              "      <td>NaN</td>\n",
              "      <td>NaN</td>\n",
              "      <td>NaN</td>\n",
              "      <td>1.0</td>\n",
              "      <td>9781840189070</td>\n",
              "      <td>NaN</td>\n",
              "      <td>97c8e71f2ec114b34f243074d2091077</td>\n",
              "      <td>full/c/5/2/c529152ea1246c0cb17d6574d302eae6d2e...</td>\n",
              "      <td>https://d1w7fb2mkkr3kw.cloudfront.net/assets/i...</td>\n",
              "      <td>Mainstream Publishing</td>\n",
              "      <td>NaN</td>\n",
              "      <td>184018907X</td>\n",
              "      <td>9781840189070</td>\n",
              "      <td>en</td>\n",
              "      <td>2004-10-14 00:00:00</td>\n",
              "      <td>NaN</td>\n",
              "      <td>4.03</td>\n",
              "      <td>292.0</td>\n",
              "      <td>Soldier Five : The Real Truth About The Bravo ...</td>\n",
              "      <td>/Soldier-Five-Mike-Coburn/9781840189070</td>\n",
              "      <td>224.00</td>\n",
              "    </tr>\n",
              "    <tr>\n",
              "      <th>1</th>\n",
              "      <td>[2, 3]</td>\n",
              "      <td>115215.0</td>\n",
              "      <td>[235, 3386]</td>\n",
              "      <td>John Moran and Carl Williams were the two bigg...</td>\n",
              "      <td>127.0</td>\n",
              "      <td>203.2</td>\n",
              "      <td>25.4</td>\n",
              "      <td>NaN</td>\n",
              "      <td>NaN</td>\n",
              "      <td>NaN</td>\n",
              "      <td>1.0</td>\n",
              "      <td>9781844547371</td>\n",
              "      <td>NaN</td>\n",
              "      <td>1dc4e79575474ac775cdfe9840bdfb94</td>\n",
              "      <td>full/5/9/8/598ae8f736c99bc423352887d406d2b2f94...</td>\n",
              "      <td>https://d1w7fb2mkkr3kw.cloudfront.net/assets/i...</td>\n",
              "      <td>NaN</td>\n",
              "      <td>NaN</td>\n",
              "      <td>184454737X</td>\n",
              "      <td>9781844547371</td>\n",
              "      <td>en</td>\n",
              "      <td>2009-03-13 00:00:00</td>\n",
              "      <td>NaN</td>\n",
              "      <td>3.60</td>\n",
              "      <td>335.0</td>\n",
              "      <td>Underbelly : The Gangland War</td>\n",
              "      <td>/Underbelly-Andrew-Rule/9781844547371</td>\n",
              "      <td>285.76</td>\n",
              "    </tr>\n",
              "    <tr>\n",
              "      <th>2</th>\n",
              "      <td>[4]</td>\n",
              "      <td>11732.0</td>\n",
              "      <td>[358, 2630, 360, 2632]</td>\n",
              "      <td>Sir Phillip knew that Eloise Bridgerton was a ...</td>\n",
              "      <td>150.0</td>\n",
              "      <td>224.0</td>\n",
              "      <td>28.0</td>\n",
              "      <td>New edition</td>\n",
              "      <td>NaN</td>\n",
              "      <td>NaN</td>\n",
              "      <td>1.0</td>\n",
              "      <td>9788416327867</td>\n",
              "      <td>NaN</td>\n",
              "      <td>3be3fd4fb2fceeb1eb58c3e73242ebb9</td>\n",
              "      <td>full/1/a/2/1a24ac04d4e0a01c8bb531481244b543167...</td>\n",
              "      <td>https://d1w7fb2mkkr3kw.cloudfront.net/assets/i...</td>\n",
              "      <td>NaN</td>\n",
              "      <td>NaN</td>\n",
              "      <td>8416327866</td>\n",
              "      <td>9788416327867</td>\n",
              "      <td>es</td>\n",
              "      <td>2020-04-30 00:00:00</td>\n",
              "      <td>NaN</td>\n",
              "      <td>3.88</td>\n",
              "      <td>37211.0</td>\n",
              "      <td>A Sir Phillip, Con Amor</td>\n",
              "      <td>/Sir-Phillip-Con-Amor-Julia-Quinn/9788416327867</td>\n",
              "      <td>386.00</td>\n",
              "    </tr>\n",
              "    <tr>\n",
              "      <th>3</th>\n",
              "      <td>[5, 6, 7, 8]</td>\n",
              "      <td>114379.0</td>\n",
              "      <td>[377, 2978, 2980]</td>\n",
              "      <td>The Third Book of General Ignorance  gathers t...</td>\n",
              "      <td>153.0</td>\n",
              "      <td>234.0</td>\n",
              "      <td>24.0</td>\n",
              "      <td>NaN</td>\n",
              "      <td>Export - Airside ed</td>\n",
              "      <td>NaN</td>\n",
              "      <td>1.0</td>\n",
              "      <td>9780571308996</td>\n",
              "      <td>NaN</td>\n",
              "      <td>bc593914f06e1021be9977114ea2a28f</td>\n",
              "      <td>full/1/a/f/1af9cad94dfe897b4423993c78b137bee40...</td>\n",
              "      <td>https://d1w7fb2mkkr3kw.cloudfront.net/assets/i...</td>\n",
              "      <td>NaN</td>\n",
              "      <td>NaN</td>\n",
              "      <td>571308996</td>\n",
              "      <td>9780571308996</td>\n",
              "      <td>en</td>\n",
              "      <td>2015-10-01 00:00:00</td>\n",
              "      <td>NaN</td>\n",
              "      <td>4.17</td>\n",
              "      <td>384.0</td>\n",
              "      <td>QI: The Third Book of General Ignorance</td>\n",
              "      <td>/QI-Third-Book-General-Ignorance-John-Lloyd/97...</td>\n",
              "      <td>436.00</td>\n",
              "    </tr>\n",
              "    <tr>\n",
              "      <th>4</th>\n",
              "      <td>[9]</td>\n",
              "      <td>98413.0</td>\n",
              "      <td>[2813, 2980]</td>\n",
              "      <td>The Try Guys deliver their first book-an inspi...</td>\n",
              "      <td>191.0</td>\n",
              "      <td>240.0</td>\n",
              "      <td>29.0</td>\n",
              "      <td>NaN</td>\n",
              "      <td>NaN</td>\n",
              "      <td>NaN</td>\n",
              "      <td>2.0</td>\n",
              "      <td>9780008352516</td>\n",
              "      <td>NaN</td>\n",
              "      <td>39c0422c00be90fb9258dd6df9068b1e</td>\n",
              "      <td>full/e/e/a/eea0ff6b6f1882d1862c711a2008e3c35d3...</td>\n",
              "      <td>https://d1w7fb2mkkr3kw.cloudfront.net/assets/i...</td>\n",
              "      <td>HarperCollins Publishers Ltd</td>\n",
              "      <td>NaN</td>\n",
              "      <td>8352518</td>\n",
              "      <td>9780008352516</td>\n",
              "      <td>en</td>\n",
              "      <td>2019-06-18 00:00:00</td>\n",
              "      <td>NaN</td>\n",
              "      <td>3.90</td>\n",
              "      <td>5095.0</td>\n",
              "      <td>The Hidden Power of F*cking Up</td>\n",
              "      <td>/Hidden-Power-F-cking-Up-Try-Guys/9780008352516</td>\n",
              "      <td>980.00</td>\n",
              "    </tr>\n",
              "  </tbody>\n",
              "</table>\n",
              "</div>\n",
              "    <div class=\"colab-df-buttons\">\n",
              "\n",
              "  <div class=\"colab-df-container\">\n",
              "    <button class=\"colab-df-convert\" onclick=\"convertToInteractive('df-938c4085-f00d-4ebd-b5d6-e01f069d70bb')\"\n",
              "            title=\"Convert this dataframe to an interactive table.\"\n",
              "            style=\"display:none;\">\n",
              "\n",
              "  <svg xmlns=\"http://www.w3.org/2000/svg\" height=\"24px\" viewBox=\"0 -960 960 960\">\n",
              "    <path d=\"M120-120v-720h720v720H120Zm60-500h600v-160H180v160Zm220 220h160v-160H400v160Zm0 220h160v-160H400v160ZM180-400h160v-160H180v160Zm440 0h160v-160H620v160ZM180-180h160v-160H180v160Zm440 0h160v-160H620v160Z\"/>\n",
              "  </svg>\n",
              "    </button>\n",
              "\n",
              "  <style>\n",
              "    .colab-df-container {\n",
              "      display:flex;\n",
              "      gap: 12px;\n",
              "    }\n",
              "\n",
              "    .colab-df-convert {\n",
              "      background-color: #E8F0FE;\n",
              "      border: none;\n",
              "      border-radius: 50%;\n",
              "      cursor: pointer;\n",
              "      display: none;\n",
              "      fill: #1967D2;\n",
              "      height: 32px;\n",
              "      padding: 0 0 0 0;\n",
              "      width: 32px;\n",
              "    }\n",
              "\n",
              "    .colab-df-convert:hover {\n",
              "      background-color: #E2EBFA;\n",
              "      box-shadow: 0px 1px 2px rgba(60, 64, 67, 0.3), 0px 1px 3px 1px rgba(60, 64, 67, 0.15);\n",
              "      fill: #174EA6;\n",
              "    }\n",
              "\n",
              "    .colab-df-buttons div {\n",
              "      margin-bottom: 4px;\n",
              "    }\n",
              "\n",
              "    [theme=dark] .colab-df-convert {\n",
              "      background-color: #3B4455;\n",
              "      fill: #D2E3FC;\n",
              "    }\n",
              "\n",
              "    [theme=dark] .colab-df-convert:hover {\n",
              "      background-color: #434B5C;\n",
              "      box-shadow: 0px 1px 3px 1px rgba(0, 0, 0, 0.15);\n",
              "      filter: drop-shadow(0px 1px 2px rgba(0, 0, 0, 0.3));\n",
              "      fill: #FFFFFF;\n",
              "    }\n",
              "  </style>\n",
              "\n",
              "    <script>\n",
              "      const buttonEl =\n",
              "        document.querySelector('#df-938c4085-f00d-4ebd-b5d6-e01f069d70bb button.colab-df-convert');\n",
              "      buttonEl.style.display =\n",
              "        google.colab.kernel.accessAllowed ? 'block' : 'none';\n",
              "\n",
              "      async function convertToInteractive(key) {\n",
              "        const element = document.querySelector('#df-938c4085-f00d-4ebd-b5d6-e01f069d70bb');\n",
              "        const dataTable =\n",
              "          await google.colab.kernel.invokeFunction('convertToInteractive',\n",
              "                                                    [key], {});\n",
              "        if (!dataTable) return;\n",
              "\n",
              "        const docLinkHtml = 'Like what you see? Visit the ' +\n",
              "          '<a target=\"_blank\" href=https://colab.research.google.com/notebooks/data_table.ipynb>data table notebook</a>'\n",
              "          + ' to learn more about interactive tables.';\n",
              "        element.innerHTML = '';\n",
              "        dataTable['output_type'] = 'display_data';\n",
              "        await google.colab.output.renderOutput(dataTable, element);\n",
              "        const docLink = document.createElement('div');\n",
              "        docLink.innerHTML = docLinkHtml;\n",
              "        element.appendChild(docLink);\n",
              "      }\n",
              "    </script>\n",
              "  </div>\n",
              "\n",
              "\n",
              "<div id=\"df-f59d77ec-003a-4be5-b232-3ec681dd2768\">\n",
              "  <button class=\"colab-df-quickchart\" onclick=\"quickchart('df-f59d77ec-003a-4be5-b232-3ec681dd2768')\"\n",
              "            title=\"Suggest charts.\"\n",
              "            style=\"display:none;\">\n",
              "\n",
              "<svg xmlns=\"http://www.w3.org/2000/svg\" height=\"24px\"viewBox=\"0 0 24 24\"\n",
              "     width=\"24px\">\n",
              "    <g>\n",
              "        <path d=\"M19 3H5c-1.1 0-2 .9-2 2v14c0 1.1.9 2 2 2h14c1.1 0 2-.9 2-2V5c0-1.1-.9-2-2-2zM9 17H7v-7h2v7zm4 0h-2V7h2v10zm4 0h-2v-4h2v4z\"/>\n",
              "    </g>\n",
              "</svg>\n",
              "  </button>\n",
              "\n",
              "<style>\n",
              "  .colab-df-quickchart {\n",
              "      --bg-color: #E8F0FE;\n",
              "      --fill-color: #1967D2;\n",
              "      --hover-bg-color: #E2EBFA;\n",
              "      --hover-fill-color: #174EA6;\n",
              "      --disabled-fill-color: #AAA;\n",
              "      --disabled-bg-color: #DDD;\n",
              "  }\n",
              "\n",
              "  [theme=dark] .colab-df-quickchart {\n",
              "      --bg-color: #3B4455;\n",
              "      --fill-color: #D2E3FC;\n",
              "      --hover-bg-color: #434B5C;\n",
              "      --hover-fill-color: #FFFFFF;\n",
              "      --disabled-bg-color: #3B4455;\n",
              "      --disabled-fill-color: #666;\n",
              "  }\n",
              "\n",
              "  .colab-df-quickchart {\n",
              "    background-color: var(--bg-color);\n",
              "    border: none;\n",
              "    border-radius: 50%;\n",
              "    cursor: pointer;\n",
              "    display: none;\n",
              "    fill: var(--fill-color);\n",
              "    height: 32px;\n",
              "    padding: 0;\n",
              "    width: 32px;\n",
              "  }\n",
              "\n",
              "  .colab-df-quickchart:hover {\n",
              "    background-color: var(--hover-bg-color);\n",
              "    box-shadow: 0 1px 2px rgba(60, 64, 67, 0.3), 0 1px 3px 1px rgba(60, 64, 67, 0.15);\n",
              "    fill: var(--button-hover-fill-color);\n",
              "  }\n",
              "\n",
              "  .colab-df-quickchart-complete:disabled,\n",
              "  .colab-df-quickchart-complete:disabled:hover {\n",
              "    background-color: var(--disabled-bg-color);\n",
              "    fill: var(--disabled-fill-color);\n",
              "    box-shadow: none;\n",
              "  }\n",
              "\n",
              "  .colab-df-spinner {\n",
              "    border: 2px solid var(--fill-color);\n",
              "    border-color: transparent;\n",
              "    border-bottom-color: var(--fill-color);\n",
              "    animation:\n",
              "      spin 1s steps(1) infinite;\n",
              "  }\n",
              "\n",
              "  @keyframes spin {\n",
              "    0% {\n",
              "      border-color: transparent;\n",
              "      border-bottom-color: var(--fill-color);\n",
              "      border-left-color: var(--fill-color);\n",
              "    }\n",
              "    20% {\n",
              "      border-color: transparent;\n",
              "      border-left-color: var(--fill-color);\n",
              "      border-top-color: var(--fill-color);\n",
              "    }\n",
              "    30% {\n",
              "      border-color: transparent;\n",
              "      border-left-color: var(--fill-color);\n",
              "      border-top-color: var(--fill-color);\n",
              "      border-right-color: var(--fill-color);\n",
              "    }\n",
              "    40% {\n",
              "      border-color: transparent;\n",
              "      border-right-color: var(--fill-color);\n",
              "      border-top-color: var(--fill-color);\n",
              "    }\n",
              "    60% {\n",
              "      border-color: transparent;\n",
              "      border-right-color: var(--fill-color);\n",
              "    }\n",
              "    80% {\n",
              "      border-color: transparent;\n",
              "      border-right-color: var(--fill-color);\n",
              "      border-bottom-color: var(--fill-color);\n",
              "    }\n",
              "    90% {\n",
              "      border-color: transparent;\n",
              "      border-bottom-color: var(--fill-color);\n",
              "    }\n",
              "  }\n",
              "</style>\n",
              "\n",
              "  <script>\n",
              "    async function quickchart(key) {\n",
              "      const quickchartButtonEl =\n",
              "        document.querySelector('#' + key + ' button');\n",
              "      quickchartButtonEl.disabled = true;  // To prevent multiple clicks.\n",
              "      quickchartButtonEl.classList.add('colab-df-spinner');\n",
              "      try {\n",
              "        const charts = await google.colab.kernel.invokeFunction(\n",
              "            'suggestCharts', [key], {});\n",
              "      } catch (error) {\n",
              "        console.error('Error during call to suggestCharts:', error);\n",
              "      }\n",
              "      quickchartButtonEl.classList.remove('colab-df-spinner');\n",
              "      quickchartButtonEl.classList.add('colab-df-quickchart-complete');\n",
              "    }\n",
              "    (() => {\n",
              "      let quickchartButtonEl =\n",
              "        document.querySelector('#df-f59d77ec-003a-4be5-b232-3ec681dd2768 button');\n",
              "      quickchartButtonEl.style.display =\n",
              "        google.colab.kernel.accessAllowed ? 'block' : 'none';\n",
              "    })();\n",
              "  </script>\n",
              "</div>\n",
              "    </div>\n",
              "  </div>\n"
            ]
          },
          "metadata": {},
          "execution_count": 5
        }
      ]
    },
    {
      "cell_type": "code",
      "source": [
        "df1.isnull().sum()"
      ],
      "metadata": {
        "colab": {
          "base_uri": "https://localhost:8080/"
        },
        "id": "Ihv5F7jy3VYj",
        "outputId": "19e09364-0c81-48a4-957e-483225f571b2"
      },
      "execution_count": null,
      "outputs": [
        {
          "output_type": "execute_result",
          "data": {
            "text/plain": [
              "authors                     0\n",
              "bestsellers-rank       466842\n",
              "categories                  0\n",
              "description             80087\n",
              "dimension-x             48227\n",
              "dimension-y             93531\n",
              "dimension-z             48227\n",
              "edition                926569\n",
              "edition-statement      747261\n",
              "for-ages              1033390\n",
              "format                   6622\n",
              "id                          0\n",
              "illustrations-note     752907\n",
              "image-checksum             27\n",
              "image-path                 27\n",
              "image-url                  27\n",
              "imprint                830049\n",
              "index-date            1109383\n",
              "isbn10                      0\n",
              "isbn13                      0\n",
              "lang                    60407\n",
              "publication-date         2603\n",
              "publication-place     1109383\n",
              "rating-avg             440130\n",
              "rating-count           440130\n",
              "title                       0\n",
              "url                         0\n",
              "weight                  87173\n",
              "dtype: int64"
            ]
          },
          "metadata": {},
          "execution_count": 6
        }
      ]
    },
    {
      "cell_type": "code",
      "source": [
        "df1.dtypes"
      ],
      "metadata": {
        "colab": {
          "base_uri": "https://localhost:8080/"
        },
        "id": "3IeGll8swABx",
        "outputId": "e14c0e48-2376-4820-8c6f-07ddeeeee683"
      },
      "execution_count": null,
      "outputs": [
        {
          "output_type": "execute_result",
          "data": {
            "text/plain": [
              "authors                object\n",
              "bestsellers-rank      float64\n",
              "categories             object\n",
              "description            object\n",
              "dimension-x           float64\n",
              "dimension-y           float64\n",
              "dimension-z           float64\n",
              "edition                object\n",
              "edition-statement      object\n",
              "for-ages               object\n",
              "format                float64\n",
              "id                      int64\n",
              "illustrations-note     object\n",
              "image-checksum         object\n",
              "image-path             object\n",
              "image-url              object\n",
              "imprint                object\n",
              "index-date            float64\n",
              "isbn10                 object\n",
              "isbn13                  int64\n",
              "lang                   object\n",
              "publication-date       object\n",
              "publication-place     float64\n",
              "rating-avg            float64\n",
              "rating-count          float64\n",
              "title                  object\n",
              "url                    object\n",
              "weight                float64\n",
              "dtype: object"
            ]
          },
          "metadata": {},
          "execution_count": 7
        }
      ]
    },
    {
      "cell_type": "code",
      "source": [
        "df1.nunique()"
      ],
      "metadata": {
        "colab": {
          "base_uri": "https://localhost:8080/"
        },
        "id": "PmCX-DHanJBX",
        "outputId": "d4a15fb4-e88e-4dda-d908-3b52c26de1eb"
      },
      "execution_count": null,
      "outputs": [
        {
          "output_type": "execute_result",
          "data": {
            "text/plain": [
              "authors                564646\n",
              "bestsellers-rank       531931\n",
              "categories             425186\n",
              "description            841392\n",
              "dimension-x              1797\n",
              "dimension-y              2054\n",
              "dimension-z              1312\n",
              "edition                   104\n",
              "edition-statement       11293\n",
              "for-ages                   55\n",
              "format                     48\n",
              "id                    1109383\n",
              "illustrations-note      98664\n",
              "image-checksum        1004723\n",
              "image-path            1109356\n",
              "image-url             1109356\n",
              "imprint                  5782\n",
              "index-date                  0\n",
              "isbn10                1109382\n",
              "isbn13                1109383\n",
              "lang                      162\n",
              "publication-date        14976\n",
              "publication-place           0\n",
              "rating-avg                323\n",
              "rating-count            27912\n",
              "title                  957559\n",
              "url                   1109383\n",
              "weight                   7043\n",
              "dtype: int64"
            ]
          },
          "metadata": {},
          "execution_count": 8
        }
      ]
    },
    {
      "cell_type": "code",
      "source": [
        "df2.head()"
      ],
      "metadata": {
        "colab": {
          "base_uri": "https://localhost:8080/"
        },
        "id": "rLdN6FBncqUw",
        "outputId": "b51cfbcd-0f6f-48f7-8def-21374c732844"
      },
      "execution_count": null,
      "outputs": [
        {
          "output_type": "execute_result",
          "data": {
            "text/plain": [
              "   author_id        author_name\n",
              "0       9561                NaN\n",
              "1     451324      # House Press\n",
              "2     454250      # Petal Press\n",
              "3     249724    #GARCIA MIGUELE\n",
              "4     287710  #Worldlcass Media"
            ],
            "text/html": [
              "\n",
              "  <div id=\"df-a3a5b0ea-cbf3-4d47-b032-5fada443b62e\" class=\"colab-df-container\">\n",
              "    <div>\n",
              "<style scoped>\n",
              "    .dataframe tbody tr th:only-of-type {\n",
              "        vertical-align: middle;\n",
              "    }\n",
              "\n",
              "    .dataframe tbody tr th {\n",
              "        vertical-align: top;\n",
              "    }\n",
              "\n",
              "    .dataframe thead th {\n",
              "        text-align: right;\n",
              "    }\n",
              "</style>\n",
              "<table border=\"1\" class=\"dataframe\">\n",
              "  <thead>\n",
              "    <tr style=\"text-align: right;\">\n",
              "      <th></th>\n",
              "      <th>author_id</th>\n",
              "      <th>author_name</th>\n",
              "    </tr>\n",
              "  </thead>\n",
              "  <tbody>\n",
              "    <tr>\n",
              "      <th>0</th>\n",
              "      <td>9561</td>\n",
              "      <td>NaN</td>\n",
              "    </tr>\n",
              "    <tr>\n",
              "      <th>1</th>\n",
              "      <td>451324</td>\n",
              "      <td># House Press</td>\n",
              "    </tr>\n",
              "    <tr>\n",
              "      <th>2</th>\n",
              "      <td>454250</td>\n",
              "      <td># Petal Press</td>\n",
              "    </tr>\n",
              "    <tr>\n",
              "      <th>3</th>\n",
              "      <td>249724</td>\n",
              "      <td>#GARCIA MIGUELE</td>\n",
              "    </tr>\n",
              "    <tr>\n",
              "      <th>4</th>\n",
              "      <td>287710</td>\n",
              "      <td>#Worldlcass Media</td>\n",
              "    </tr>\n",
              "  </tbody>\n",
              "</table>\n",
              "</div>\n",
              "    <div class=\"colab-df-buttons\">\n",
              "\n",
              "  <div class=\"colab-df-container\">\n",
              "    <button class=\"colab-df-convert\" onclick=\"convertToInteractive('df-a3a5b0ea-cbf3-4d47-b032-5fada443b62e')\"\n",
              "            title=\"Convert this dataframe to an interactive table.\"\n",
              "            style=\"display:none;\">\n",
              "\n",
              "  <svg xmlns=\"http://www.w3.org/2000/svg\" height=\"24px\" viewBox=\"0 -960 960 960\">\n",
              "    <path d=\"M120-120v-720h720v720H120Zm60-500h600v-160H180v160Zm220 220h160v-160H400v160Zm0 220h160v-160H400v160ZM180-400h160v-160H180v160Zm440 0h160v-160H620v160ZM180-180h160v-160H180v160Zm440 0h160v-160H620v160Z\"/>\n",
              "  </svg>\n",
              "    </button>\n",
              "\n",
              "  <style>\n",
              "    .colab-df-container {\n",
              "      display:flex;\n",
              "      gap: 12px;\n",
              "    }\n",
              "\n",
              "    .colab-df-convert {\n",
              "      background-color: #E8F0FE;\n",
              "      border: none;\n",
              "      border-radius: 50%;\n",
              "      cursor: pointer;\n",
              "      display: none;\n",
              "      fill: #1967D2;\n",
              "      height: 32px;\n",
              "      padding: 0 0 0 0;\n",
              "      width: 32px;\n",
              "    }\n",
              "\n",
              "    .colab-df-convert:hover {\n",
              "      background-color: #E2EBFA;\n",
              "      box-shadow: 0px 1px 2px rgba(60, 64, 67, 0.3), 0px 1px 3px 1px rgba(60, 64, 67, 0.15);\n",
              "      fill: #174EA6;\n",
              "    }\n",
              "\n",
              "    .colab-df-buttons div {\n",
              "      margin-bottom: 4px;\n",
              "    }\n",
              "\n",
              "    [theme=dark] .colab-df-convert {\n",
              "      background-color: #3B4455;\n",
              "      fill: #D2E3FC;\n",
              "    }\n",
              "\n",
              "    [theme=dark] .colab-df-convert:hover {\n",
              "      background-color: #434B5C;\n",
              "      box-shadow: 0px 1px 3px 1px rgba(0, 0, 0, 0.15);\n",
              "      filter: drop-shadow(0px 1px 2px rgba(0, 0, 0, 0.3));\n",
              "      fill: #FFFFFF;\n",
              "    }\n",
              "  </style>\n",
              "\n",
              "    <script>\n",
              "      const buttonEl =\n",
              "        document.querySelector('#df-a3a5b0ea-cbf3-4d47-b032-5fada443b62e button.colab-df-convert');\n",
              "      buttonEl.style.display =\n",
              "        google.colab.kernel.accessAllowed ? 'block' : 'none';\n",
              "\n",
              "      async function convertToInteractive(key) {\n",
              "        const element = document.querySelector('#df-a3a5b0ea-cbf3-4d47-b032-5fada443b62e');\n",
              "        const dataTable =\n",
              "          await google.colab.kernel.invokeFunction('convertToInteractive',\n",
              "                                                    [key], {});\n",
              "        if (!dataTable) return;\n",
              "\n",
              "        const docLinkHtml = 'Like what you see? Visit the ' +\n",
              "          '<a target=\"_blank\" href=https://colab.research.google.com/notebooks/data_table.ipynb>data table notebook</a>'\n",
              "          + ' to learn more about interactive tables.';\n",
              "        element.innerHTML = '';\n",
              "        dataTable['output_type'] = 'display_data';\n",
              "        await google.colab.output.renderOutput(dataTable, element);\n",
              "        const docLink = document.createElement('div');\n",
              "        docLink.innerHTML = docLinkHtml;\n",
              "        element.appendChild(docLink);\n",
              "      }\n",
              "    </script>\n",
              "  </div>\n",
              "\n",
              "\n",
              "<div id=\"df-740457ac-9b7c-4beb-8beb-532a3d7a01ce\">\n",
              "  <button class=\"colab-df-quickchart\" onclick=\"quickchart('df-740457ac-9b7c-4beb-8beb-532a3d7a01ce')\"\n",
              "            title=\"Suggest charts.\"\n",
              "            style=\"display:none;\">\n",
              "\n",
              "<svg xmlns=\"http://www.w3.org/2000/svg\" height=\"24px\"viewBox=\"0 0 24 24\"\n",
              "     width=\"24px\">\n",
              "    <g>\n",
              "        <path d=\"M19 3H5c-1.1 0-2 .9-2 2v14c0 1.1.9 2 2 2h14c1.1 0 2-.9 2-2V5c0-1.1-.9-2-2-2zM9 17H7v-7h2v7zm4 0h-2V7h2v10zm4 0h-2v-4h2v4z\"/>\n",
              "    </g>\n",
              "</svg>\n",
              "  </button>\n",
              "\n",
              "<style>\n",
              "  .colab-df-quickchart {\n",
              "      --bg-color: #E8F0FE;\n",
              "      --fill-color: #1967D2;\n",
              "      --hover-bg-color: #E2EBFA;\n",
              "      --hover-fill-color: #174EA6;\n",
              "      --disabled-fill-color: #AAA;\n",
              "      --disabled-bg-color: #DDD;\n",
              "  }\n",
              "\n",
              "  [theme=dark] .colab-df-quickchart {\n",
              "      --bg-color: #3B4455;\n",
              "      --fill-color: #D2E3FC;\n",
              "      --hover-bg-color: #434B5C;\n",
              "      --hover-fill-color: #FFFFFF;\n",
              "      --disabled-bg-color: #3B4455;\n",
              "      --disabled-fill-color: #666;\n",
              "  }\n",
              "\n",
              "  .colab-df-quickchart {\n",
              "    background-color: var(--bg-color);\n",
              "    border: none;\n",
              "    border-radius: 50%;\n",
              "    cursor: pointer;\n",
              "    display: none;\n",
              "    fill: var(--fill-color);\n",
              "    height: 32px;\n",
              "    padding: 0;\n",
              "    width: 32px;\n",
              "  }\n",
              "\n",
              "  .colab-df-quickchart:hover {\n",
              "    background-color: var(--hover-bg-color);\n",
              "    box-shadow: 0 1px 2px rgba(60, 64, 67, 0.3), 0 1px 3px 1px rgba(60, 64, 67, 0.15);\n",
              "    fill: var(--button-hover-fill-color);\n",
              "  }\n",
              "\n",
              "  .colab-df-quickchart-complete:disabled,\n",
              "  .colab-df-quickchart-complete:disabled:hover {\n",
              "    background-color: var(--disabled-bg-color);\n",
              "    fill: var(--disabled-fill-color);\n",
              "    box-shadow: none;\n",
              "  }\n",
              "\n",
              "  .colab-df-spinner {\n",
              "    border: 2px solid var(--fill-color);\n",
              "    border-color: transparent;\n",
              "    border-bottom-color: var(--fill-color);\n",
              "    animation:\n",
              "      spin 1s steps(1) infinite;\n",
              "  }\n",
              "\n",
              "  @keyframes spin {\n",
              "    0% {\n",
              "      border-color: transparent;\n",
              "      border-bottom-color: var(--fill-color);\n",
              "      border-left-color: var(--fill-color);\n",
              "    }\n",
              "    20% {\n",
              "      border-color: transparent;\n",
              "      border-left-color: var(--fill-color);\n",
              "      border-top-color: var(--fill-color);\n",
              "    }\n",
              "    30% {\n",
              "      border-color: transparent;\n",
              "      border-left-color: var(--fill-color);\n",
              "      border-top-color: var(--fill-color);\n",
              "      border-right-color: var(--fill-color);\n",
              "    }\n",
              "    40% {\n",
              "      border-color: transparent;\n",
              "      border-right-color: var(--fill-color);\n",
              "      border-top-color: var(--fill-color);\n",
              "    }\n",
              "    60% {\n",
              "      border-color: transparent;\n",
              "      border-right-color: var(--fill-color);\n",
              "    }\n",
              "    80% {\n",
              "      border-color: transparent;\n",
              "      border-right-color: var(--fill-color);\n",
              "      border-bottom-color: var(--fill-color);\n",
              "    }\n",
              "    90% {\n",
              "      border-color: transparent;\n",
              "      border-bottom-color: var(--fill-color);\n",
              "    }\n",
              "  }\n",
              "</style>\n",
              "\n",
              "  <script>\n",
              "    async function quickchart(key) {\n",
              "      const quickchartButtonEl =\n",
              "        document.querySelector('#' + key + ' button');\n",
              "      quickchartButtonEl.disabled = true;  // To prevent multiple clicks.\n",
              "      quickchartButtonEl.classList.add('colab-df-spinner');\n",
              "      try {\n",
              "        const charts = await google.colab.kernel.invokeFunction(\n",
              "            'suggestCharts', [key], {});\n",
              "      } catch (error) {\n",
              "        console.error('Error during call to suggestCharts:', error);\n",
              "      }\n",
              "      quickchartButtonEl.classList.remove('colab-df-spinner');\n",
              "      quickchartButtonEl.classList.add('colab-df-quickchart-complete');\n",
              "    }\n",
              "    (() => {\n",
              "      let quickchartButtonEl =\n",
              "        document.querySelector('#df-740457ac-9b7c-4beb-8beb-532a3d7a01ce button');\n",
              "      quickchartButtonEl.style.display =\n",
              "        google.colab.kernel.accessAllowed ? 'block' : 'none';\n",
              "    })();\n",
              "  </script>\n",
              "</div>\n",
              "    </div>\n",
              "  </div>\n"
            ]
          },
          "metadata": {},
          "execution_count": 9
        }
      ]
    },
    {
      "cell_type": "code",
      "source": [
        "df2.dtypes"
      ],
      "metadata": {
        "colab": {
          "base_uri": "https://localhost:8080/"
        },
        "id": "NWCEvUoW1-Ab",
        "outputId": "2a1505ea-b39a-49a4-dd2c-b1a1ad469612"
      },
      "execution_count": null,
      "outputs": [
        {
          "output_type": "execute_result",
          "data": {
            "text/plain": [
              "author_id       int64\n",
              "author_name    object\n",
              "dtype: object"
            ]
          },
          "metadata": {},
          "execution_count": 10
        }
      ]
    },
    {
      "cell_type": "code",
      "source": [
        "df1['authors'] = df1['authors'].str.replace(r'\\[|\\]', '', regex=True)\n",
        "\n",
        "df1['categories'] = df1['categories'].str.replace(r'\\[|\\]', '', regex=True)\n"
      ],
      "metadata": {
        "id": "uoLl6H8LayqG"
      },
      "execution_count": null,
      "outputs": []
    },
    {
      "cell_type": "code",
      "source": [
        "df2['author_id'] = df2['author_id'].astype(str)\n",
        "merged_df = df1.merge(df2, left_on='authors', right_on='author_id', how='left')\n",
        "\n",
        "# df3['category_id'] = df3['category_id'].astype(str)\n",
        "# merged_df = merged_df.merge(df3, left_on='categories', right_on='category_id', how='left')\n"
      ],
      "metadata": {
        "id": "KIR9Up48UkO3"
      },
      "execution_count": null,
      "outputs": []
    },
    {
      "cell_type": "code",
      "source": [
        "author_1 = merged_df[merged_df['authors'].str.count(',') == 0]"
      ],
      "metadata": {
        "id": "4I6HALvzZ-Gu"
      },
      "execution_count": null,
      "outputs": []
    },
    {
      "cell_type": "code",
      "source": [
        "author_1.head()"
      ],
      "metadata": {
        "colab": {
          "base_uri": "https://localhost:8080/"
        },
        "id": "7xSwLDxBaF_m",
        "outputId": "95a6ecf6-df61-426f-c4cb-508dfb81af23"
      },
      "execution_count": null,
      "outputs": [
        {
          "output_type": "execute_result",
          "data": {
            "text/plain": [
              "  authors  bestsellers-rank                                   categories                                        description  dimension-x  dimension-y  dimension-z      edition edition-statement for-ages  format             id            illustrations-note                    image-checksum                                         image-path                                          image-url                       imprint  index-date      isbn10         isbn13 lang     publication-date  publication-place  rating-avg  rating-count                                              title                                                url  weight author_id        author_name\n",
              "0       1           49848.0  214, 220, 237, 2646, 2647, 2659, 2660, 2679  SOLDIER FIVE is an elite soldier's explosive m...        129.0        198.0        20.00          NaN               NaN      NaN     1.0  9781840189070                           NaN  97c8e71f2ec114b34f243074d2091077  full/c/5/2/c529152ea1246c0cb17d6574d302eae6d2e...  https://d1w7fb2mkkr3kw.cloudfront.net/assets/i...         Mainstream Publishing         NaN  184018907X  9781840189070   en  2004-10-14 00:00:00                NaN        4.03         292.0  Soldier Five : The Real Truth About The Bravo ...            /Soldier-Five-Mike-Coburn/9781840189070  224.00         1        Mike Coburn\n",
              "2       4           11732.0                         358, 2630, 360, 2632  Sir Phillip knew that Eloise Bridgerton was a ...        150.0        224.0        28.00  New edition               NaN      NaN     1.0  9788416327867                           NaN  3be3fd4fb2fceeb1eb58c3e73242ebb9  full/1/a/2/1a24ac04d4e0a01c8bb531481244b543167...  https://d1w7fb2mkkr3kw.cloudfront.net/assets/i...                           NaN         NaN  8416327866  9788416327867   es  2020-04-30 00:00:00                NaN        3.88       37211.0                            A Sir Phillip, Con Amor    /Sir-Phillip-Con-Amor-Julia-Quinn/9788416327867  386.00         4        Julia Quinn\n",
              "4       9           98413.0                                   2813, 2980  The Try Guys deliver their first book-an inspi...        191.0        240.0        29.00          NaN               NaN      NaN     2.0  9780008352516                           NaN  39c0422c00be90fb9258dd6df9068b1e  full/e/e/a/eea0ff6b6f1882d1862c711a2008e3c35d3...  https://d1w7fb2mkkr3kw.cloudfront.net/assets/i...  HarperCollins Publishers Ltd         NaN     8352518  9780008352516   en  2019-06-18 00:00:00                NaN        3.90        5095.0                     The Hidden Power of F*cking Up    /Hidden-Power-F-cking-Up-Try-Guys/9780008352516  980.00         9       The Try Guys\n",
              "8      14            7004.0                        3223, 700, 1521, 2820  For the millions of Americans who want spiritu...        140.0        213.0        15.00          NaN           Reprint      NaN     1.0  9781451636024                           NaN  8242901f9c8358e80b64f16a9b76df0b  full/f/4/e/f4e5b422024491be842709726380c7a4c1c...  https://d1w7fb2mkkr3kw.cloudfront.net/assets/i...                           NaN         NaN  1451636024  9781451636024   en  2015-06-16 00:00:00                NaN        3.92       33806.0  Waking Up : A Guide to Spirituality Without Re...                /Waking-Up-Sam-Harris/9781451636024  181.00        14         Sam Harris\n",
              "9      15           66137.0         37, 46, 2784, 2942, 2980, 2912, 3385  Part of the Art of Coloring series, which has ...        193.0        272.0        15.24          NaN               NaN      NaN     1.0  9781484788899  1 Illustrations, unspecified  9f620cba34acf4ae6c717d0dd62c3aa4  full/8/0/0/800b21ffb4eddce9c7753889798e2affad0...  https://d1w7fb2mkkr3kw.cloudfront.net/assets/i...                           NaN         NaN  1484788893  9781484788899   en  2017-05-04 00:00:00                NaN        4.20           5.0                           Art Of Coloring: Muppets  /Art-Coloring-Muppets-Disney-Book-Group/978148...  476.27        15  Disney Book Group"
            ],
            "text/html": [
              "\n",
              "  <div id=\"df-66f1b691-7304-4a27-89f3-abba07150692\" class=\"colab-df-container\">\n",
              "    <div>\n",
              "<style scoped>\n",
              "    .dataframe tbody tr th:only-of-type {\n",
              "        vertical-align: middle;\n",
              "    }\n",
              "\n",
              "    .dataframe tbody tr th {\n",
              "        vertical-align: top;\n",
              "    }\n",
              "\n",
              "    .dataframe thead th {\n",
              "        text-align: right;\n",
              "    }\n",
              "</style>\n",
              "<table border=\"1\" class=\"dataframe\">\n",
              "  <thead>\n",
              "    <tr style=\"text-align: right;\">\n",
              "      <th></th>\n",
              "      <th>authors</th>\n",
              "      <th>bestsellers-rank</th>\n",
              "      <th>categories</th>\n",
              "      <th>description</th>\n",
              "      <th>dimension-x</th>\n",
              "      <th>dimension-y</th>\n",
              "      <th>dimension-z</th>\n",
              "      <th>edition</th>\n",
              "      <th>edition-statement</th>\n",
              "      <th>for-ages</th>\n",
              "      <th>format</th>\n",
              "      <th>id</th>\n",
              "      <th>illustrations-note</th>\n",
              "      <th>image-checksum</th>\n",
              "      <th>image-path</th>\n",
              "      <th>image-url</th>\n",
              "      <th>imprint</th>\n",
              "      <th>index-date</th>\n",
              "      <th>isbn10</th>\n",
              "      <th>isbn13</th>\n",
              "      <th>lang</th>\n",
              "      <th>publication-date</th>\n",
              "      <th>publication-place</th>\n",
              "      <th>rating-avg</th>\n",
              "      <th>rating-count</th>\n",
              "      <th>title</th>\n",
              "      <th>url</th>\n",
              "      <th>weight</th>\n",
              "      <th>author_id</th>\n",
              "      <th>author_name</th>\n",
              "    </tr>\n",
              "  </thead>\n",
              "  <tbody>\n",
              "    <tr>\n",
              "      <th>0</th>\n",
              "      <td>1</td>\n",
              "      <td>49848.0</td>\n",
              "      <td>214, 220, 237, 2646, 2647, 2659, 2660, 2679</td>\n",
              "      <td>SOLDIER FIVE is an elite soldier's explosive m...</td>\n",
              "      <td>129.0</td>\n",
              "      <td>198.0</td>\n",
              "      <td>20.00</td>\n",
              "      <td>NaN</td>\n",
              "      <td>NaN</td>\n",
              "      <td>NaN</td>\n",
              "      <td>1.0</td>\n",
              "      <td>9781840189070</td>\n",
              "      <td>NaN</td>\n",
              "      <td>97c8e71f2ec114b34f243074d2091077</td>\n",
              "      <td>full/c/5/2/c529152ea1246c0cb17d6574d302eae6d2e...</td>\n",
              "      <td>https://d1w7fb2mkkr3kw.cloudfront.net/assets/i...</td>\n",
              "      <td>Mainstream Publishing</td>\n",
              "      <td>NaN</td>\n",
              "      <td>184018907X</td>\n",
              "      <td>9781840189070</td>\n",
              "      <td>en</td>\n",
              "      <td>2004-10-14 00:00:00</td>\n",
              "      <td>NaN</td>\n",
              "      <td>4.03</td>\n",
              "      <td>292.0</td>\n",
              "      <td>Soldier Five : The Real Truth About The Bravo ...</td>\n",
              "      <td>/Soldier-Five-Mike-Coburn/9781840189070</td>\n",
              "      <td>224.00</td>\n",
              "      <td>1</td>\n",
              "      <td>Mike Coburn</td>\n",
              "    </tr>\n",
              "    <tr>\n",
              "      <th>2</th>\n",
              "      <td>4</td>\n",
              "      <td>11732.0</td>\n",
              "      <td>358, 2630, 360, 2632</td>\n",
              "      <td>Sir Phillip knew that Eloise Bridgerton was a ...</td>\n",
              "      <td>150.0</td>\n",
              "      <td>224.0</td>\n",
              "      <td>28.00</td>\n",
              "      <td>New edition</td>\n",
              "      <td>NaN</td>\n",
              "      <td>NaN</td>\n",
              "      <td>1.0</td>\n",
              "      <td>9788416327867</td>\n",
              "      <td>NaN</td>\n",
              "      <td>3be3fd4fb2fceeb1eb58c3e73242ebb9</td>\n",
              "      <td>full/1/a/2/1a24ac04d4e0a01c8bb531481244b543167...</td>\n",
              "      <td>https://d1w7fb2mkkr3kw.cloudfront.net/assets/i...</td>\n",
              "      <td>NaN</td>\n",
              "      <td>NaN</td>\n",
              "      <td>8416327866</td>\n",
              "      <td>9788416327867</td>\n",
              "      <td>es</td>\n",
              "      <td>2020-04-30 00:00:00</td>\n",
              "      <td>NaN</td>\n",
              "      <td>3.88</td>\n",
              "      <td>37211.0</td>\n",
              "      <td>A Sir Phillip, Con Amor</td>\n",
              "      <td>/Sir-Phillip-Con-Amor-Julia-Quinn/9788416327867</td>\n",
              "      <td>386.00</td>\n",
              "      <td>4</td>\n",
              "      <td>Julia Quinn</td>\n",
              "    </tr>\n",
              "    <tr>\n",
              "      <th>4</th>\n",
              "      <td>9</td>\n",
              "      <td>98413.0</td>\n",
              "      <td>2813, 2980</td>\n",
              "      <td>The Try Guys deliver their first book-an inspi...</td>\n",
              "      <td>191.0</td>\n",
              "      <td>240.0</td>\n",
              "      <td>29.00</td>\n",
              "      <td>NaN</td>\n",
              "      <td>NaN</td>\n",
              "      <td>NaN</td>\n",
              "      <td>2.0</td>\n",
              "      <td>9780008352516</td>\n",
              "      <td>NaN</td>\n",
              "      <td>39c0422c00be90fb9258dd6df9068b1e</td>\n",
              "      <td>full/e/e/a/eea0ff6b6f1882d1862c711a2008e3c35d3...</td>\n",
              "      <td>https://d1w7fb2mkkr3kw.cloudfront.net/assets/i...</td>\n",
              "      <td>HarperCollins Publishers Ltd</td>\n",
              "      <td>NaN</td>\n",
              "      <td>8352518</td>\n",
              "      <td>9780008352516</td>\n",
              "      <td>en</td>\n",
              "      <td>2019-06-18 00:00:00</td>\n",
              "      <td>NaN</td>\n",
              "      <td>3.90</td>\n",
              "      <td>5095.0</td>\n",
              "      <td>The Hidden Power of F*cking Up</td>\n",
              "      <td>/Hidden-Power-F-cking-Up-Try-Guys/9780008352516</td>\n",
              "      <td>980.00</td>\n",
              "      <td>9</td>\n",
              "      <td>The Try Guys</td>\n",
              "    </tr>\n",
              "    <tr>\n",
              "      <th>8</th>\n",
              "      <td>14</td>\n",
              "      <td>7004.0</td>\n",
              "      <td>3223, 700, 1521, 2820</td>\n",
              "      <td>For the millions of Americans who want spiritu...</td>\n",
              "      <td>140.0</td>\n",
              "      <td>213.0</td>\n",
              "      <td>15.00</td>\n",
              "      <td>NaN</td>\n",
              "      <td>Reprint</td>\n",
              "      <td>NaN</td>\n",
              "      <td>1.0</td>\n",
              "      <td>9781451636024</td>\n",
              "      <td>NaN</td>\n",
              "      <td>8242901f9c8358e80b64f16a9b76df0b</td>\n",
              "      <td>full/f/4/e/f4e5b422024491be842709726380c7a4c1c...</td>\n",
              "      <td>https://d1w7fb2mkkr3kw.cloudfront.net/assets/i...</td>\n",
              "      <td>NaN</td>\n",
              "      <td>NaN</td>\n",
              "      <td>1451636024</td>\n",
              "      <td>9781451636024</td>\n",
              "      <td>en</td>\n",
              "      <td>2015-06-16 00:00:00</td>\n",
              "      <td>NaN</td>\n",
              "      <td>3.92</td>\n",
              "      <td>33806.0</td>\n",
              "      <td>Waking Up : A Guide to Spirituality Without Re...</td>\n",
              "      <td>/Waking-Up-Sam-Harris/9781451636024</td>\n",
              "      <td>181.00</td>\n",
              "      <td>14</td>\n",
              "      <td>Sam Harris</td>\n",
              "    </tr>\n",
              "    <tr>\n",
              "      <th>9</th>\n",
              "      <td>15</td>\n",
              "      <td>66137.0</td>\n",
              "      <td>37, 46, 2784, 2942, 2980, 2912, 3385</td>\n",
              "      <td>Part of the Art of Coloring series, which has ...</td>\n",
              "      <td>193.0</td>\n",
              "      <td>272.0</td>\n",
              "      <td>15.24</td>\n",
              "      <td>NaN</td>\n",
              "      <td>NaN</td>\n",
              "      <td>NaN</td>\n",
              "      <td>1.0</td>\n",
              "      <td>9781484788899</td>\n",
              "      <td>1 Illustrations, unspecified</td>\n",
              "      <td>9f620cba34acf4ae6c717d0dd62c3aa4</td>\n",
              "      <td>full/8/0/0/800b21ffb4eddce9c7753889798e2affad0...</td>\n",
              "      <td>https://d1w7fb2mkkr3kw.cloudfront.net/assets/i...</td>\n",
              "      <td>NaN</td>\n",
              "      <td>NaN</td>\n",
              "      <td>1484788893</td>\n",
              "      <td>9781484788899</td>\n",
              "      <td>en</td>\n",
              "      <td>2017-05-04 00:00:00</td>\n",
              "      <td>NaN</td>\n",
              "      <td>4.20</td>\n",
              "      <td>5.0</td>\n",
              "      <td>Art Of Coloring: Muppets</td>\n",
              "      <td>/Art-Coloring-Muppets-Disney-Book-Group/978148...</td>\n",
              "      <td>476.27</td>\n",
              "      <td>15</td>\n",
              "      <td>Disney Book Group</td>\n",
              "    </tr>\n",
              "  </tbody>\n",
              "</table>\n",
              "</div>\n",
              "    <div class=\"colab-df-buttons\">\n",
              "\n",
              "  <div class=\"colab-df-container\">\n",
              "    <button class=\"colab-df-convert\" onclick=\"convertToInteractive('df-66f1b691-7304-4a27-89f3-abba07150692')\"\n",
              "            title=\"Convert this dataframe to an interactive table.\"\n",
              "            style=\"display:none;\">\n",
              "\n",
              "  <svg xmlns=\"http://www.w3.org/2000/svg\" height=\"24px\" viewBox=\"0 -960 960 960\">\n",
              "    <path d=\"M120-120v-720h720v720H120Zm60-500h600v-160H180v160Zm220 220h160v-160H400v160Zm0 220h160v-160H400v160ZM180-400h160v-160H180v160Zm440 0h160v-160H620v160ZM180-180h160v-160H180v160Zm440 0h160v-160H620v160Z\"/>\n",
              "  </svg>\n",
              "    </button>\n",
              "\n",
              "  <style>\n",
              "    .colab-df-container {\n",
              "      display:flex;\n",
              "      gap: 12px;\n",
              "    }\n",
              "\n",
              "    .colab-df-convert {\n",
              "      background-color: #E8F0FE;\n",
              "      border: none;\n",
              "      border-radius: 50%;\n",
              "      cursor: pointer;\n",
              "      display: none;\n",
              "      fill: #1967D2;\n",
              "      height: 32px;\n",
              "      padding: 0 0 0 0;\n",
              "      width: 32px;\n",
              "    }\n",
              "\n",
              "    .colab-df-convert:hover {\n",
              "      background-color: #E2EBFA;\n",
              "      box-shadow: 0px 1px 2px rgba(60, 64, 67, 0.3), 0px 1px 3px 1px rgba(60, 64, 67, 0.15);\n",
              "      fill: #174EA6;\n",
              "    }\n",
              "\n",
              "    .colab-df-buttons div {\n",
              "      margin-bottom: 4px;\n",
              "    }\n",
              "\n",
              "    [theme=dark] .colab-df-convert {\n",
              "      background-color: #3B4455;\n",
              "      fill: #D2E3FC;\n",
              "    }\n",
              "\n",
              "    [theme=dark] .colab-df-convert:hover {\n",
              "      background-color: #434B5C;\n",
              "      box-shadow: 0px 1px 3px 1px rgba(0, 0, 0, 0.15);\n",
              "      filter: drop-shadow(0px 1px 2px rgba(0, 0, 0, 0.3));\n",
              "      fill: #FFFFFF;\n",
              "    }\n",
              "  </style>\n",
              "\n",
              "    <script>\n",
              "      const buttonEl =\n",
              "        document.querySelector('#df-66f1b691-7304-4a27-89f3-abba07150692 button.colab-df-convert');\n",
              "      buttonEl.style.display =\n",
              "        google.colab.kernel.accessAllowed ? 'block' : 'none';\n",
              "\n",
              "      async function convertToInteractive(key) {\n",
              "        const element = document.querySelector('#df-66f1b691-7304-4a27-89f3-abba07150692');\n",
              "        const dataTable =\n",
              "          await google.colab.kernel.invokeFunction('convertToInteractive',\n",
              "                                                    [key], {});\n",
              "        if (!dataTable) return;\n",
              "\n",
              "        const docLinkHtml = 'Like what you see? Visit the ' +\n",
              "          '<a target=\"_blank\" href=https://colab.research.google.com/notebooks/data_table.ipynb>data table notebook</a>'\n",
              "          + ' to learn more about interactive tables.';\n",
              "        element.innerHTML = '';\n",
              "        dataTable['output_type'] = 'display_data';\n",
              "        await google.colab.output.renderOutput(dataTable, element);\n",
              "        const docLink = document.createElement('div');\n",
              "        docLink.innerHTML = docLinkHtml;\n",
              "        element.appendChild(docLink);\n",
              "      }\n",
              "    </script>\n",
              "  </div>\n",
              "\n",
              "\n",
              "<div id=\"df-10f31b36-ba4f-4a5a-86bb-1a5eeec020b7\">\n",
              "  <button class=\"colab-df-quickchart\" onclick=\"quickchart('df-10f31b36-ba4f-4a5a-86bb-1a5eeec020b7')\"\n",
              "            title=\"Suggest charts.\"\n",
              "            style=\"display:none;\">\n",
              "\n",
              "<svg xmlns=\"http://www.w3.org/2000/svg\" height=\"24px\"viewBox=\"0 0 24 24\"\n",
              "     width=\"24px\">\n",
              "    <g>\n",
              "        <path d=\"M19 3H5c-1.1 0-2 .9-2 2v14c0 1.1.9 2 2 2h14c1.1 0 2-.9 2-2V5c0-1.1-.9-2-2-2zM9 17H7v-7h2v7zm4 0h-2V7h2v10zm4 0h-2v-4h2v4z\"/>\n",
              "    </g>\n",
              "</svg>\n",
              "  </button>\n",
              "\n",
              "<style>\n",
              "  .colab-df-quickchart {\n",
              "      --bg-color: #E8F0FE;\n",
              "      --fill-color: #1967D2;\n",
              "      --hover-bg-color: #E2EBFA;\n",
              "      --hover-fill-color: #174EA6;\n",
              "      --disabled-fill-color: #AAA;\n",
              "      --disabled-bg-color: #DDD;\n",
              "  }\n",
              "\n",
              "  [theme=dark] .colab-df-quickchart {\n",
              "      --bg-color: #3B4455;\n",
              "      --fill-color: #D2E3FC;\n",
              "      --hover-bg-color: #434B5C;\n",
              "      --hover-fill-color: #FFFFFF;\n",
              "      --disabled-bg-color: #3B4455;\n",
              "      --disabled-fill-color: #666;\n",
              "  }\n",
              "\n",
              "  .colab-df-quickchart {\n",
              "    background-color: var(--bg-color);\n",
              "    border: none;\n",
              "    border-radius: 50%;\n",
              "    cursor: pointer;\n",
              "    display: none;\n",
              "    fill: var(--fill-color);\n",
              "    height: 32px;\n",
              "    padding: 0;\n",
              "    width: 32px;\n",
              "  }\n",
              "\n",
              "  .colab-df-quickchart:hover {\n",
              "    background-color: var(--hover-bg-color);\n",
              "    box-shadow: 0 1px 2px rgba(60, 64, 67, 0.3), 0 1px 3px 1px rgba(60, 64, 67, 0.15);\n",
              "    fill: var(--button-hover-fill-color);\n",
              "  }\n",
              "\n",
              "  .colab-df-quickchart-complete:disabled,\n",
              "  .colab-df-quickchart-complete:disabled:hover {\n",
              "    background-color: var(--disabled-bg-color);\n",
              "    fill: var(--disabled-fill-color);\n",
              "    box-shadow: none;\n",
              "  }\n",
              "\n",
              "  .colab-df-spinner {\n",
              "    border: 2px solid var(--fill-color);\n",
              "    border-color: transparent;\n",
              "    border-bottom-color: var(--fill-color);\n",
              "    animation:\n",
              "      spin 1s steps(1) infinite;\n",
              "  }\n",
              "\n",
              "  @keyframes spin {\n",
              "    0% {\n",
              "      border-color: transparent;\n",
              "      border-bottom-color: var(--fill-color);\n",
              "      border-left-color: var(--fill-color);\n",
              "    }\n",
              "    20% {\n",
              "      border-color: transparent;\n",
              "      border-left-color: var(--fill-color);\n",
              "      border-top-color: var(--fill-color);\n",
              "    }\n",
              "    30% {\n",
              "      border-color: transparent;\n",
              "      border-left-color: var(--fill-color);\n",
              "      border-top-color: var(--fill-color);\n",
              "      border-right-color: var(--fill-color);\n",
              "    }\n",
              "    40% {\n",
              "      border-color: transparent;\n",
              "      border-right-color: var(--fill-color);\n",
              "      border-top-color: var(--fill-color);\n",
              "    }\n",
              "    60% {\n",
              "      border-color: transparent;\n",
              "      border-right-color: var(--fill-color);\n",
              "    }\n",
              "    80% {\n",
              "      border-color: transparent;\n",
              "      border-right-color: var(--fill-color);\n",
              "      border-bottom-color: var(--fill-color);\n",
              "    }\n",
              "    90% {\n",
              "      border-color: transparent;\n",
              "      border-bottom-color: var(--fill-color);\n",
              "    }\n",
              "  }\n",
              "</style>\n",
              "\n",
              "  <script>\n",
              "    async function quickchart(key) {\n",
              "      const quickchartButtonEl =\n",
              "        document.querySelector('#' + key + ' button');\n",
              "      quickchartButtonEl.disabled = true;  // To prevent multiple clicks.\n",
              "      quickchartButtonEl.classList.add('colab-df-spinner');\n",
              "      try {\n",
              "        const charts = await google.colab.kernel.invokeFunction(\n",
              "            'suggestCharts', [key], {});\n",
              "      } catch (error) {\n",
              "        console.error('Error during call to suggestCharts:', error);\n",
              "      }\n",
              "      quickchartButtonEl.classList.remove('colab-df-spinner');\n",
              "      quickchartButtonEl.classList.add('colab-df-quickchart-complete');\n",
              "    }\n",
              "    (() => {\n",
              "      let quickchartButtonEl =\n",
              "        document.querySelector('#df-10f31b36-ba4f-4a5a-86bb-1a5eeec020b7 button');\n",
              "      quickchartButtonEl.style.display =\n",
              "        google.colab.kernel.accessAllowed ? 'block' : 'none';\n",
              "    })();\n",
              "  </script>\n",
              "</div>\n",
              "    </div>\n",
              "  </div>\n"
            ]
          },
          "metadata": {},
          "execution_count": 14
        }
      ]
    },
    {
      "cell_type": "code",
      "source": [
        "author_1.shape"
      ],
      "metadata": {
        "colab": {
          "base_uri": "https://localhost:8080/"
        },
        "id": "XuIvzAkXe0Jc",
        "outputId": "2825df61-5510-44e0-f53b-e0383a6af391"
      },
      "execution_count": null,
      "outputs": [
        {
          "output_type": "execute_result",
          "data": {
            "text/plain": [
              "(771607, 30)"
            ]
          },
          "metadata": {},
          "execution_count": 15
        }
      ]
    },
    {
      "cell_type": "code",
      "source": [
        "author_1.isnull().sum()"
      ],
      "metadata": {
        "colab": {
          "base_uri": "https://localhost:8080/"
        },
        "id": "RH2I5gEyOghu",
        "outputId": "8eeb3e99-02e5-405e-bdfc-b61fad28b876"
      },
      "execution_count": null,
      "outputs": [
        {
          "output_type": "execute_result",
          "data": {
            "text/plain": [
              "authors                    0\n",
              "bestsellers-rank      330530\n",
              "categories                 0\n",
              "description            61452\n",
              "dimension-x            35343\n",
              "dimension-y            63787\n",
              "dimension-z            35343\n",
              "edition               694145\n",
              "edition-statement     575274\n",
              "for-ages              721103\n",
              "format                  4932\n",
              "id                         0\n",
              "illustrations-note    530092\n",
              "image-checksum            21\n",
              "image-path                21\n",
              "image-url                 21\n",
              "imprint               583294\n",
              "index-date            771607\n",
              "isbn10                     0\n",
              "isbn13                     0\n",
              "lang                   44054\n",
              "publication-date        2248\n",
              "publication-place     771607\n",
              "rating-avg            332974\n",
              "rating-count          332974\n",
              "title                      0\n",
              "url                        0\n",
              "weight                 56407\n",
              "author_id              17495\n",
              "author_name            17681\n",
              "dtype: int64"
            ]
          },
          "metadata": {},
          "execution_count": 16
        }
      ]
    },
    {
      "cell_type": "code",
      "source": [
        "author_1['author_id'] = author_1['author_id'].astype(float)\n",
        "author_1['author_id'].dtypes"
      ],
      "metadata": {
        "colab": {
          "base_uri": "https://localhost:8080/"
        },
        "id": "1hj5Z4y4tbgj",
        "outputId": "bede65cb-3401-4bd7-f6c9-b44ae5ed86a8"
      },
      "execution_count": null,
      "outputs": [
        {
          "output_type": "stream",
          "name": "stderr",
          "text": [
            "<ipython-input-17-1e2c38fa7ed7>:1: SettingWithCopyWarning: \n",
            "A value is trying to be set on a copy of a slice from a DataFrame.\n",
            "Try using .loc[row_indexer,col_indexer] = value instead\n",
            "\n",
            "See the caveats in the documentation: https://pandas.pydata.org/pandas-docs/stable/user_guide/indexing.html#returning-a-view-versus-a-copy\n",
            "  author_1['author_id'] = author_1['author_id'].astype(float)\n"
          ]
        },
        {
          "output_type": "execute_result",
          "data": {
            "text/plain": [
              "dtype('float64')"
            ]
          },
          "metadata": {},
          "execution_count": 17
        }
      ]
    },
    {
      "cell_type": "code",
      "source": [],
      "metadata": {
        "id": "zCE7fXlbL-bK"
      },
      "execution_count": null,
      "outputs": []
    },
    {
      "cell_type": "code",
      "execution_count": null,
      "metadata": {
        "colab": {
          "base_uri": "https://localhost:8080/"
        },
        "id": "-NekILo-sqxb",
        "outputId": "76a45079-83f1-4cf0-ff48-ff13fd165ee5"
      },
      "outputs": [
        {
          "output_type": "execute_result",
          "data": {
            "text/plain": [
              "                    missing_percentage\n",
              "index-date                  100.000000\n",
              "publication-place           100.000000\n",
              "for-ages                     93.454699\n",
              "edition                      89.960952\n",
              "imprint                      75.594700\n",
              "edition-statement            74.555311\n",
              "illustrations-note           68.699740\n",
              "rating-count                 43.153315\n",
              "rating-avg                   43.153315\n",
              "bestsellers-rank             42.836574\n",
              "dimension-y                   8.266773\n",
              "description                   7.964158\n",
              "weight                        7.310328\n",
              "lang                          5.709383\n",
              "dimension-x                   4.580441\n",
              "dimension-z                   4.580441\n",
              "author_name                   2.291451\n",
              "author_id                     2.267346\n",
              "format                        0.639185\n",
              "publication-date              0.291340\n",
              "image-url                     0.002722\n",
              "image-path                    0.002722\n",
              "image-checksum                0.002722\n",
              "isbn13                        0.000000\n",
              "isbn10                        0.000000\n",
              "title                         0.000000\n",
              "url                           0.000000\n",
              "id                            0.000000"
            ],
            "text/html": [
              "\n",
              "  <div id=\"df-e5e94a02-2046-48a6-9b2b-c4489f7952c6\" class=\"colab-df-container\">\n",
              "    <div>\n",
              "<style scoped>\n",
              "    .dataframe tbody tr th:only-of-type {\n",
              "        vertical-align: middle;\n",
              "    }\n",
              "\n",
              "    .dataframe tbody tr th {\n",
              "        vertical-align: top;\n",
              "    }\n",
              "\n",
              "    .dataframe thead th {\n",
              "        text-align: right;\n",
              "    }\n",
              "</style>\n",
              "<table border=\"1\" class=\"dataframe\">\n",
              "  <thead>\n",
              "    <tr style=\"text-align: right;\">\n",
              "      <th></th>\n",
              "      <th>missing_percentage</th>\n",
              "    </tr>\n",
              "  </thead>\n",
              "  <tbody>\n",
              "    <tr>\n",
              "      <th>index-date</th>\n",
              "      <td>100.000000</td>\n",
              "    </tr>\n",
              "    <tr>\n",
              "      <th>publication-place</th>\n",
              "      <td>100.000000</td>\n",
              "    </tr>\n",
              "    <tr>\n",
              "      <th>for-ages</th>\n",
              "      <td>93.454699</td>\n",
              "    </tr>\n",
              "    <tr>\n",
              "      <th>edition</th>\n",
              "      <td>89.960952</td>\n",
              "    </tr>\n",
              "    <tr>\n",
              "      <th>imprint</th>\n",
              "      <td>75.594700</td>\n",
              "    </tr>\n",
              "    <tr>\n",
              "      <th>edition-statement</th>\n",
              "      <td>74.555311</td>\n",
              "    </tr>\n",
              "    <tr>\n",
              "      <th>illustrations-note</th>\n",
              "      <td>68.699740</td>\n",
              "    </tr>\n",
              "    <tr>\n",
              "      <th>rating-count</th>\n",
              "      <td>43.153315</td>\n",
              "    </tr>\n",
              "    <tr>\n",
              "      <th>rating-avg</th>\n",
              "      <td>43.153315</td>\n",
              "    </tr>\n",
              "    <tr>\n",
              "      <th>bestsellers-rank</th>\n",
              "      <td>42.836574</td>\n",
              "    </tr>\n",
              "    <tr>\n",
              "      <th>dimension-y</th>\n",
              "      <td>8.266773</td>\n",
              "    </tr>\n",
              "    <tr>\n",
              "      <th>description</th>\n",
              "      <td>7.964158</td>\n",
              "    </tr>\n",
              "    <tr>\n",
              "      <th>weight</th>\n",
              "      <td>7.310328</td>\n",
              "    </tr>\n",
              "    <tr>\n",
              "      <th>lang</th>\n",
              "      <td>5.709383</td>\n",
              "    </tr>\n",
              "    <tr>\n",
              "      <th>dimension-x</th>\n",
              "      <td>4.580441</td>\n",
              "    </tr>\n",
              "    <tr>\n",
              "      <th>dimension-z</th>\n",
              "      <td>4.580441</td>\n",
              "    </tr>\n",
              "    <tr>\n",
              "      <th>author_name</th>\n",
              "      <td>2.291451</td>\n",
              "    </tr>\n",
              "    <tr>\n",
              "      <th>author_id</th>\n",
              "      <td>2.267346</td>\n",
              "    </tr>\n",
              "    <tr>\n",
              "      <th>format</th>\n",
              "      <td>0.639185</td>\n",
              "    </tr>\n",
              "    <tr>\n",
              "      <th>publication-date</th>\n",
              "      <td>0.291340</td>\n",
              "    </tr>\n",
              "    <tr>\n",
              "      <th>image-url</th>\n",
              "      <td>0.002722</td>\n",
              "    </tr>\n",
              "    <tr>\n",
              "      <th>image-path</th>\n",
              "      <td>0.002722</td>\n",
              "    </tr>\n",
              "    <tr>\n",
              "      <th>image-checksum</th>\n",
              "      <td>0.002722</td>\n",
              "    </tr>\n",
              "    <tr>\n",
              "      <th>isbn13</th>\n",
              "      <td>0.000000</td>\n",
              "    </tr>\n",
              "    <tr>\n",
              "      <th>isbn10</th>\n",
              "      <td>0.000000</td>\n",
              "    </tr>\n",
              "    <tr>\n",
              "      <th>title</th>\n",
              "      <td>0.000000</td>\n",
              "    </tr>\n",
              "    <tr>\n",
              "      <th>url</th>\n",
              "      <td>0.000000</td>\n",
              "    </tr>\n",
              "    <tr>\n",
              "      <th>id</th>\n",
              "      <td>0.000000</td>\n",
              "    </tr>\n",
              "  </tbody>\n",
              "</table>\n",
              "</div>\n",
              "    <div class=\"colab-df-buttons\">\n",
              "\n",
              "  <div class=\"colab-df-container\">\n",
              "    <button class=\"colab-df-convert\" onclick=\"convertToInteractive('df-e5e94a02-2046-48a6-9b2b-c4489f7952c6')\"\n",
              "            title=\"Convert this dataframe to an interactive table.\"\n",
              "            style=\"display:none;\">\n",
              "\n",
              "  <svg xmlns=\"http://www.w3.org/2000/svg\" height=\"24px\" viewBox=\"0 -960 960 960\">\n",
              "    <path d=\"M120-120v-720h720v720H120Zm60-500h600v-160H180v160Zm220 220h160v-160H400v160Zm0 220h160v-160H400v160ZM180-400h160v-160H180v160Zm440 0h160v-160H620v160ZM180-180h160v-160H180v160Zm440 0h160v-160H620v160Z\"/>\n",
              "  </svg>\n",
              "    </button>\n",
              "\n",
              "  <style>\n",
              "    .colab-df-container {\n",
              "      display:flex;\n",
              "      gap: 12px;\n",
              "    }\n",
              "\n",
              "    .colab-df-convert {\n",
              "      background-color: #E8F0FE;\n",
              "      border: none;\n",
              "      border-radius: 50%;\n",
              "      cursor: pointer;\n",
              "      display: none;\n",
              "      fill: #1967D2;\n",
              "      height: 32px;\n",
              "      padding: 0 0 0 0;\n",
              "      width: 32px;\n",
              "    }\n",
              "\n",
              "    .colab-df-convert:hover {\n",
              "      background-color: #E2EBFA;\n",
              "      box-shadow: 0px 1px 2px rgba(60, 64, 67, 0.3), 0px 1px 3px 1px rgba(60, 64, 67, 0.15);\n",
              "      fill: #174EA6;\n",
              "    }\n",
              "\n",
              "    .colab-df-buttons div {\n",
              "      margin-bottom: 4px;\n",
              "    }\n",
              "\n",
              "    [theme=dark] .colab-df-convert {\n",
              "      background-color: #3B4455;\n",
              "      fill: #D2E3FC;\n",
              "    }\n",
              "\n",
              "    [theme=dark] .colab-df-convert:hover {\n",
              "      background-color: #434B5C;\n",
              "      box-shadow: 0px 1px 3px 1px rgba(0, 0, 0, 0.15);\n",
              "      filter: drop-shadow(0px 1px 2px rgba(0, 0, 0, 0.3));\n",
              "      fill: #FFFFFF;\n",
              "    }\n",
              "  </style>\n",
              "\n",
              "    <script>\n",
              "      const buttonEl =\n",
              "        document.querySelector('#df-e5e94a02-2046-48a6-9b2b-c4489f7952c6 button.colab-df-convert');\n",
              "      buttonEl.style.display =\n",
              "        google.colab.kernel.accessAllowed ? 'block' : 'none';\n",
              "\n",
              "      async function convertToInteractive(key) {\n",
              "        const element = document.querySelector('#df-e5e94a02-2046-48a6-9b2b-c4489f7952c6');\n",
              "        const dataTable =\n",
              "          await google.colab.kernel.invokeFunction('convertToInteractive',\n",
              "                                                    [key], {});\n",
              "        if (!dataTable) return;\n",
              "\n",
              "        const docLinkHtml = 'Like what you see? Visit the ' +\n",
              "          '<a target=\"_blank\" href=https://colab.research.google.com/notebooks/data_table.ipynb>data table notebook</a>'\n",
              "          + ' to learn more about interactive tables.';\n",
              "        element.innerHTML = '';\n",
              "        dataTable['output_type'] = 'display_data';\n",
              "        await google.colab.output.renderOutput(dataTable, element);\n",
              "        const docLink = document.createElement('div');\n",
              "        docLink.innerHTML = docLinkHtml;\n",
              "        element.appendChild(docLink);\n",
              "      }\n",
              "    </script>\n",
              "  </div>\n",
              "\n",
              "\n",
              "<div id=\"df-bdc2df6d-9345-470d-b506-47f9db5e655e\">\n",
              "  <button class=\"colab-df-quickchart\" onclick=\"quickchart('df-bdc2df6d-9345-470d-b506-47f9db5e655e')\"\n",
              "            title=\"Suggest charts.\"\n",
              "            style=\"display:none;\">\n",
              "\n",
              "<svg xmlns=\"http://www.w3.org/2000/svg\" height=\"24px\"viewBox=\"0 0 24 24\"\n",
              "     width=\"24px\">\n",
              "    <g>\n",
              "        <path d=\"M19 3H5c-1.1 0-2 .9-2 2v14c0 1.1.9 2 2 2h14c1.1 0 2-.9 2-2V5c0-1.1-.9-2-2-2zM9 17H7v-7h2v7zm4 0h-2V7h2v10zm4 0h-2v-4h2v4z\"/>\n",
              "    </g>\n",
              "</svg>\n",
              "  </button>\n",
              "\n",
              "<style>\n",
              "  .colab-df-quickchart {\n",
              "      --bg-color: #E8F0FE;\n",
              "      --fill-color: #1967D2;\n",
              "      --hover-bg-color: #E2EBFA;\n",
              "      --hover-fill-color: #174EA6;\n",
              "      --disabled-fill-color: #AAA;\n",
              "      --disabled-bg-color: #DDD;\n",
              "  }\n",
              "\n",
              "  [theme=dark] .colab-df-quickchart {\n",
              "      --bg-color: #3B4455;\n",
              "      --fill-color: #D2E3FC;\n",
              "      --hover-bg-color: #434B5C;\n",
              "      --hover-fill-color: #FFFFFF;\n",
              "      --disabled-bg-color: #3B4455;\n",
              "      --disabled-fill-color: #666;\n",
              "  }\n",
              "\n",
              "  .colab-df-quickchart {\n",
              "    background-color: var(--bg-color);\n",
              "    border: none;\n",
              "    border-radius: 50%;\n",
              "    cursor: pointer;\n",
              "    display: none;\n",
              "    fill: var(--fill-color);\n",
              "    height: 32px;\n",
              "    padding: 0;\n",
              "    width: 32px;\n",
              "  }\n",
              "\n",
              "  .colab-df-quickchart:hover {\n",
              "    background-color: var(--hover-bg-color);\n",
              "    box-shadow: 0 1px 2px rgba(60, 64, 67, 0.3), 0 1px 3px 1px rgba(60, 64, 67, 0.15);\n",
              "    fill: var(--button-hover-fill-color);\n",
              "  }\n",
              "\n",
              "  .colab-df-quickchart-complete:disabled,\n",
              "  .colab-df-quickchart-complete:disabled:hover {\n",
              "    background-color: var(--disabled-bg-color);\n",
              "    fill: var(--disabled-fill-color);\n",
              "    box-shadow: none;\n",
              "  }\n",
              "\n",
              "  .colab-df-spinner {\n",
              "    border: 2px solid var(--fill-color);\n",
              "    border-color: transparent;\n",
              "    border-bottom-color: var(--fill-color);\n",
              "    animation:\n",
              "      spin 1s steps(1) infinite;\n",
              "  }\n",
              "\n",
              "  @keyframes spin {\n",
              "    0% {\n",
              "      border-color: transparent;\n",
              "      border-bottom-color: var(--fill-color);\n",
              "      border-left-color: var(--fill-color);\n",
              "    }\n",
              "    20% {\n",
              "      border-color: transparent;\n",
              "      border-left-color: var(--fill-color);\n",
              "      border-top-color: var(--fill-color);\n",
              "    }\n",
              "    30% {\n",
              "      border-color: transparent;\n",
              "      border-left-color: var(--fill-color);\n",
              "      border-top-color: var(--fill-color);\n",
              "      border-right-color: var(--fill-color);\n",
              "    }\n",
              "    40% {\n",
              "      border-color: transparent;\n",
              "      border-right-color: var(--fill-color);\n",
              "      border-top-color: var(--fill-color);\n",
              "    }\n",
              "    60% {\n",
              "      border-color: transparent;\n",
              "      border-right-color: var(--fill-color);\n",
              "    }\n",
              "    80% {\n",
              "      border-color: transparent;\n",
              "      border-right-color: var(--fill-color);\n",
              "      border-bottom-color: var(--fill-color);\n",
              "    }\n",
              "    90% {\n",
              "      border-color: transparent;\n",
              "      border-bottom-color: var(--fill-color);\n",
              "    }\n",
              "  }\n",
              "</style>\n",
              "\n",
              "  <script>\n",
              "    async function quickchart(key) {\n",
              "      const quickchartButtonEl =\n",
              "        document.querySelector('#' + key + ' button');\n",
              "      quickchartButtonEl.disabled = true;  // To prevent multiple clicks.\n",
              "      quickchartButtonEl.classList.add('colab-df-spinner');\n",
              "      try {\n",
              "        const charts = await google.colab.kernel.invokeFunction(\n",
              "            'suggestCharts', [key], {});\n",
              "      } catch (error) {\n",
              "        console.error('Error during call to suggestCharts:', error);\n",
              "      }\n",
              "      quickchartButtonEl.classList.remove('colab-df-spinner');\n",
              "      quickchartButtonEl.classList.add('colab-df-quickchart-complete');\n",
              "    }\n",
              "    (() => {\n",
              "      let quickchartButtonEl =\n",
              "        document.querySelector('#df-bdc2df6d-9345-470d-b506-47f9db5e655e button');\n",
              "      quickchartButtonEl.style.display =\n",
              "        google.colab.kernel.accessAllowed ? 'block' : 'none';\n",
              "    })();\n",
              "  </script>\n",
              "</div>\n",
              "    </div>\n",
              "  </div>\n"
            ]
          },
          "metadata": {},
          "execution_count": 18
        }
      ],
      "source": [
        "# Checking null value percentage\n",
        "percent_missing = author_1.isnull().sum() * 100 / len(author_1)\n",
        "missing_value_df = pd.DataFrame({'missing_percentage': percent_missing})\n",
        "missing_value_df.sort_values('missing_percentage',ascending=False, inplace=True)\n",
        "missing_value_df.head(28)"
      ]
    },
    {
      "cell_type": "code",
      "execution_count": null,
      "metadata": {
        "id": "xFF_nLyQm715",
        "colab": {
          "base_uri": "https://localhost:8080/"
        },
        "outputId": "cccd080d-a4e4-4291-998a-430dccbe8421"
      },
      "outputs": [
        {
          "output_type": "stream",
          "name": "stderr",
          "text": [
            "<ipython-input-19-b39169a92336>:2: SettingWithCopyWarning: \n",
            "A value is trying to be set on a copy of a slice from a DataFrame\n",
            "\n",
            "See the caveats in the documentation: https://pandas.pydata.org/pandas-docs/stable/user_guide/indexing.html#returning-a-view-versus-a-copy\n",
            "  author_1.drop(['index-date',\t'publication-place', 'for-ages', 'edition'], axis=1, inplace=True)\n"
          ]
        }
      ],
      "source": [
        "# Drop columns having more than 80% missing values\n",
        "author_1.drop(['index-date',\t'publication-place', 'for-ages', 'edition'], axis=1, inplace=True)"
      ]
    },
    {
      "cell_type": "code",
      "execution_count": null,
      "metadata": {
        "id": "iO7OrkIYmb3I",
        "colab": {
          "base_uri": "https://localhost:8080/"
        },
        "outputId": "db5381fa-9bfe-464c-b74d-b0cc74e990bd"
      },
      "outputs": [
        {
          "output_type": "stream",
          "name": "stderr",
          "text": [
            "<ipython-input-20-e010c2e5ed4b>:2: SettingWithCopyWarning: \n",
            "A value is trying to be set on a copy of a slice from a DataFrame\n",
            "\n",
            "See the caveats in the documentation: https://pandas.pydata.org/pandas-docs/stable/user_guide/indexing.html#returning-a-view-versus-a-copy\n",
            "  author_1.dropna(subset=['format','publication-date'],inplace=True)\n"
          ]
        }
      ],
      "source": [
        "# Dropping null values less than 1%\n",
        "author_1.dropna(subset=['format','publication-date'],inplace=True)"
      ]
    },
    {
      "cell_type": "code",
      "execution_count": null,
      "metadata": {
        "colab": {
          "base_uri": "https://localhost:8080/"
        },
        "id": "1gXdUWILoDh6",
        "outputId": "0ac5f266-2ee9-468b-ed90-1b9bd5094302"
      },
      "outputs": [
        {
          "output_type": "stream",
          "name": "stdout",
          "text": [
            "Index(['bestsellers-rank', 'description', 'dimension-x', 'dimension-y',\n",
            "       'dimension-z', 'edition-statement', 'illustrations-note', 'imprint',\n",
            "       'lang', 'rating-avg', 'rating-count', 'weight', 'author_id',\n",
            "       'author_name'],\n",
            "      dtype='object')\n"
          ]
        }
      ],
      "source": [
        "# Select columns with missing values exceeding 30% but less than 95%\n",
        "impute_cols = percent_missing[(percent_missing > 1) & (percent_missing < 80)].index\n",
        "print(impute_cols)"
      ]
    },
    {
      "cell_type": "code",
      "execution_count": null,
      "metadata": {
        "colab": {
          "base_uri": "https://localhost:8080/"
        },
        "id": "4QdNpU-zorr6",
        "outputId": "edc4fc62-eff1-4688-9dc2-991d547783dc"
      },
      "outputs": [
        {
          "output_type": "execute_result",
          "data": {
            "text/plain": [
              "bestsellers-rank      float64\n",
              "description            object\n",
              "dimension-x           float64\n",
              "dimension-y           float64\n",
              "dimension-z           float64\n",
              "edition-statement      object\n",
              "illustrations-note     object\n",
              "imprint                object\n",
              "lang                   object\n",
              "rating-avg            float64\n",
              "rating-count          float64\n",
              "weight                float64\n",
              "author_id             float64\n",
              "author_name            object\n",
              "dtype: object"
            ]
          },
          "metadata": {},
          "execution_count": 22
        }
      ],
      "source": [
        "author_1[impute_cols].dtypes"
      ]
    },
    {
      "cell_type": "code",
      "execution_count": null,
      "metadata": {
        "id": "lDcrl_Ppp6vA"
      },
      "outputs": [],
      "source": [
        "# Separate numeric and categorical columns from impute_cols\n",
        "numeric_cols = author_1[impute_cols].select_dtypes(include=['float64', 'int64']).columns\n",
        "cat_cols = author_1[impute_cols].select_dtypes(include=['object']).columns"
      ]
    },
    {
      "cell_type": "code",
      "execution_count": null,
      "metadata": {
        "colab": {
          "base_uri": "https://localhost:8080/"
        },
        "id": "0ZEXtoLrsdZN",
        "outputId": "11dfd252-048e-47da-f1b5-12f3f801be27"
      },
      "outputs": [
        {
          "output_type": "execute_result",
          "data": {
            "text/plain": [
              "Index(['bestsellers-rank', 'dimension-x', 'dimension-y', 'dimension-z',\n",
              "       'rating-avg', 'rating-count', 'weight', 'author_id'],\n",
              "      dtype='object')"
            ]
          },
          "metadata": {},
          "execution_count": 24
        }
      ],
      "source": [
        "numeric_cols"
      ]
    },
    {
      "cell_type": "code",
      "source": [
        "import matplotlib.pyplot as plt\n",
        "import seaborn as sns"
      ],
      "metadata": {
        "id": "xNFkSCa1vCNL"
      },
      "execution_count": null,
      "outputs": []
    },
    {
      "cell_type": "code",
      "source": [
        "cat_cols"
      ],
      "metadata": {
        "colab": {
          "base_uri": "https://localhost:8080/"
        },
        "id": "L9qyhTAI7Heq",
        "outputId": "3d778f39-f88d-4758-bfaa-4bf908dfb602"
      },
      "execution_count": null,
      "outputs": [
        {
          "output_type": "execute_result",
          "data": {
            "text/plain": [
              "Index(['description', 'edition-statement', 'illustrations-note', 'imprint',\n",
              "       'lang', 'author_name'],\n",
              "      dtype='object')"
            ]
          },
          "metadata": {},
          "execution_count": 26
        }
      ]
    },
    {
      "cell_type": "code",
      "execution_count": null,
      "metadata": {
        "id": "5srp0UvbpSm5"
      },
      "outputs": [],
      "source": [
        "from sklearn.impute import SimpleImputer"
      ]
    },
    {
      "cell_type": "code",
      "source": [
        "author_1['imprint'].unique()"
      ],
      "metadata": {
        "colab": {
          "base_uri": "https://localhost:8080/"
        },
        "id": "CKutMNDvOvOd",
        "outputId": "d67de64a-d764-41dd-fa00-4b6da1056036"
      },
      "execution_count": null,
      "outputs": [
        {
          "output_type": "execute_result",
          "data": {
            "text/plain": [
              "array(['Mainstream Publishing', nan, 'HarperCollins Publishers Ltd', ...,\n",
              "       'Paidotribo S L', 'Modus Operandi', 'Highdown'], dtype=object)"
            ]
          },
          "metadata": {},
          "execution_count": 28
        }
      ]
    },
    {
      "cell_type": "code",
      "source": [
        "author_1['imprint'].nunique()"
      ],
      "metadata": {
        "colab": {
          "base_uri": "https://localhost:8080/"
        },
        "id": "5e4OXTz5O2GU",
        "outputId": "a5d5fb46-215d-4c9b-a709-e31c03a7cef0"
      },
      "execution_count": null,
      "outputs": [
        {
          "output_type": "execute_result",
          "data": {
            "text/plain": [
              "4966"
            ]
          },
          "metadata": {},
          "execution_count": 29
        }
      ]
    },
    {
      "cell_type": "code",
      "source": [
        "author_1['lang'].nunique()"
      ],
      "metadata": {
        "colab": {
          "base_uri": "https://localhost:8080/"
        },
        "id": "AdxRew0VPBXS",
        "outputId": "b2375811-9b4e-4f17-f754-40e023e5721c"
      },
      "execution_count": null,
      "outputs": [
        {
          "output_type": "execute_result",
          "data": {
            "text/plain": [
              "146"
            ]
          },
          "metadata": {},
          "execution_count": 30
        }
      ]
    },
    {
      "cell_type": "code",
      "execution_count": null,
      "metadata": {
        "id": "6VPEyncwpC_8",
        "colab": {
          "base_uri": "https://localhost:8080/"
        },
        "outputId": "d0ca4dfe-629a-42dc-850e-26801e75a940"
      },
      "outputs": [
        {
          "output_type": "stream",
          "name": "stderr",
          "text": [
            "<ipython-input-31-4aa362e1ab7d>:3: SettingWithCopyWarning: \n",
            "A value is trying to be set on a copy of a slice from a DataFrame.\n",
            "Try using .loc[row_indexer,col_indexer] = value instead\n",
            "\n",
            "See the caveats in the documentation: https://pandas.pydata.org/pandas-docs/stable/user_guide/indexing.html#returning-a-view-versus-a-copy\n",
            "  author_1[numeric_cols] = num_imputer.fit_transform(author_1[numeric_cols])\n",
            "<ipython-input-31-4aa362e1ab7d>:7: SettingWithCopyWarning: \n",
            "A value is trying to be set on a copy of a slice from a DataFrame.\n",
            "Try using .loc[row_indexer,col_indexer] = value instead\n",
            "\n",
            "See the caveats in the documentation: https://pandas.pydata.org/pandas-docs/stable/user_guide/indexing.html#returning-a-view-versus-a-copy\n",
            "  author_1[cat_cols] = cat_imputer.fit_transform(author_1[cat_cols])\n",
            "<ipython-input-31-4aa362e1ab7d>:8: SettingWithCopyWarning: \n",
            "A value is trying to be set on a copy of a slice from a DataFrame\n",
            "\n",
            "See the caveats in the documentation: https://pandas.pydata.org/pandas-docs/stable/user_guide/indexing.html#returning-a-view-versus-a-copy\n",
            "  author_1.dropna(subset=['image-checksum','image-path','image-url'],inplace=True)\n"
          ]
        },
        {
          "output_type": "execute_result",
          "data": {
            "text/plain": [
              "authors               0\n",
              "bestsellers-rank      0\n",
              "categories            0\n",
              "description           0\n",
              "dimension-x           0\n",
              "dimension-y           0\n",
              "dimension-z           0\n",
              "edition-statement     0\n",
              "format                0\n",
              "id                    0\n",
              "illustrations-note    0\n",
              "image-checksum        0\n",
              "image-path            0\n",
              "image-url             0\n",
              "imprint               0\n",
              "isbn10                0\n",
              "isbn13                0\n",
              "lang                  0\n",
              "publication-date      0\n",
              "rating-avg            0\n",
              "rating-count          0\n",
              "title                 0\n",
              "url                   0\n",
              "weight                0\n",
              "author_id             0\n",
              "author_name           0\n",
              "dtype: int64"
            ]
          },
          "metadata": {},
          "execution_count": 31
        }
      ],
      "source": [
        "# imputeute missing values for numeric columns with mean\n",
        "num_imputer = SimpleImputer(strategy='mean')\n",
        "author_1[numeric_cols] = num_imputer.fit_transform(author_1[numeric_cols])\n",
        "\n",
        "# imputeute missing values for categorical columns with most frequent value\n",
        "cat_imputer = SimpleImputer(strategy='most_frequent')\n",
        "author_1[cat_cols] = cat_imputer.fit_transform(author_1[cat_cols])\n",
        "author_1.dropna(subset=['image-checksum','image-path','image-url'],inplace=True)\n",
        "# Check if any missing values remain\n",
        "author_1.isnull().sum()\n",
        "\n",
        "# No null values are present"
      ]
    },
    {
      "cell_type": "code",
      "source": [
        "# Changing datatype of rating-avg and bestsellers-rank\n",
        "change_type = {'rating-avg': int, 'bestsellers-rank': int,'format': int,'rating-count': int}\n",
        "author_1 = author_1.astype(change_type)"
      ],
      "metadata": {
        "id": "l4dv27vyRMgE"
      },
      "execution_count": null,
      "outputs": []
    },
    {
      "cell_type": "code",
      "source": [
        "# Extract count of values having X from isbn10\n",
        "count_X_values = author_1['isbn10'].str.count('X').sum()\n",
        "print(f\"Count of values with 'X' in the column 'isbn10': {count_X_values}\")"
      ],
      "metadata": {
        "colab": {
          "base_uri": "https://localhost:8080/"
        },
        "id": "fb9xM6yIYg7T",
        "outputId": "4f61fa59-d1bf-43f0-de95-de24134045a9"
      },
      "execution_count": null,
      "outputs": [
        {
          "output_type": "stream",
          "name": "stdout",
          "text": [
            "Count of values with 'X' in the column 'isbn10': 69000\n"
          ]
        }
      ]
    },
    {
      "cell_type": "code",
      "source": [
        "# dropping isbn10 since it has X in values\n",
        "author_1.drop(['isbn10'],axis=1,inplace=True)"
      ],
      "metadata": {
        "id": "iTUm-sGsT5tV"
      },
      "execution_count": null,
      "outputs": []
    },
    {
      "cell_type": "code",
      "source": [
        "# Changing publication date to proper date format\n",
        "author_1['publication-date'] = pd.to_datetime(author_1['publication-date'])"
      ],
      "metadata": {
        "id": "kKMTQs0AZQIM"
      },
      "execution_count": null,
      "outputs": []
    },
    {
      "cell_type": "code",
      "source": [
        "author_1.shape"
      ],
      "metadata": {
        "colab": {
          "base_uri": "https://localhost:8080/"
        },
        "id": "BrmRESlDZBYN",
        "outputId": "d2d2b6d3-5d47-418b-cfe2-b5e5fc186055"
      },
      "execution_count": null,
      "outputs": [
        {
          "output_type": "execute_result",
          "data": {
            "text/plain": [
              "(764668, 25)"
            ]
          },
          "metadata": {},
          "execution_count": 36
        }
      ]
    },
    {
      "cell_type": "code",
      "source": [],
      "metadata": {
        "id": "qw9J-93Xjplb"
      },
      "execution_count": null,
      "outputs": []
    },
    {
      "cell_type": "code",
      "source": [
        "# Dropping Unnecessary columns\n",
        "author_1.drop(['edition-statement', 'illustrations-note','image-checksum','image-path','image-url','url'],axis=1, inplace= True)"
      ],
      "metadata": {
        "id": "YecWvRUdHp9o"
      },
      "execution_count": null,
      "outputs": []
    },
    {
      "cell_type": "code",
      "source": [
        "author_1.drop(['description'], axis=1, inplace=True)"
      ],
      "metadata": {
        "id": "b14Sar_RNXMw"
      },
      "execution_count": null,
      "outputs": []
    },
    {
      "cell_type": "code",
      "source": [
        "author_1.drop(['id','publication-date','title'], axis=1, inplace=True)"
      ],
      "metadata": {
        "id": "vBN6VPrakKgk"
      },
      "execution_count": null,
      "outputs": []
    },
    {
      "cell_type": "code",
      "source": [
        "author_1.dtypes"
      ],
      "metadata": {
        "colab": {
          "base_uri": "https://localhost:8080/"
        },
        "id": "CMQGq4LOSOFq",
        "outputId": "17541a73-7953-40c1-bd0a-401e5fd4dcf9"
      },
      "execution_count": null,
      "outputs": [
        {
          "output_type": "execute_result",
          "data": {
            "text/plain": [
              "authors              object\n",
              "bestsellers-rank      int64\n",
              "categories           object\n",
              "dimension-x         float64\n",
              "dimension-y         float64\n",
              "dimension-z         float64\n",
              "format                int64\n",
              "imprint              object\n",
              "isbn13                int64\n",
              "lang                 object\n",
              "rating-avg            int64\n",
              "rating-count          int64\n",
              "weight              float64\n",
              "author_id           float64\n",
              "author_name          object\n",
              "dtype: object"
            ]
          },
          "metadata": {},
          "execution_count": 40
        }
      ]
    },
    {
      "cell_type": "code",
      "source": [
        "author_1.shape"
      ],
      "metadata": {
        "colab": {
          "base_uri": "https://localhost:8080/"
        },
        "id": "EmfFd2Ulj0cm",
        "outputId": "4cdd928e-4ced-49ca-c3a3-3821b9d5401d"
      },
      "execution_count": null,
      "outputs": [
        {
          "output_type": "execute_result",
          "data": {
            "text/plain": [
              "(764668, 15)"
            ]
          },
          "metadata": {},
          "execution_count": 41
        }
      ]
    },
    {
      "cell_type": "code",
      "source": [
        "from sklearn.preprocessing import LabelEncoder\n",
        "le = LabelEncoder()\n",
        "# Fitting and transforming the 'imprint' column\n",
        "author_1['imprint'] = le.fit_transform(author_1['imprint'].astype(str))\n",
        "# Fitting and transforming the 'lang' column\n",
        "author_1['lang'] = le.fit_transform(author_1['lang'].astype(str))\n"
      ],
      "metadata": {
        "id": "KhZA-C4ytAyO"
      },
      "execution_count": null,
      "outputs": []
    },
    {
      "cell_type": "code",
      "source": [
        "author_1.dtypes"
      ],
      "metadata": {
        "colab": {
          "base_uri": "https://localhost:8080/"
        },
        "id": "8hpzrP_9kt03",
        "outputId": "b91a290a-0174-47f6-b2e8-20202b316e0d"
      },
      "execution_count": null,
      "outputs": [
        {
          "output_type": "execute_result",
          "data": {
            "text/plain": [
              "authors              object\n",
              "bestsellers-rank      int64\n",
              "categories           object\n",
              "dimension-x         float64\n",
              "dimension-y         float64\n",
              "dimension-z         float64\n",
              "format                int64\n",
              "imprint               int64\n",
              "isbn13                int64\n",
              "lang                  int64\n",
              "rating-avg            int64\n",
              "rating-count          int64\n",
              "weight              float64\n",
              "author_id           float64\n",
              "author_name          object\n",
              "dtype: object"
            ]
          },
          "metadata": {},
          "execution_count": 43
        }
      ]
    },
    {
      "cell_type": "markdown",
      "source": [
        "#Model"
      ],
      "metadata": {
        "id": "qCX7NgKoeXmM"
      }
    },
    {
      "cell_type": "code",
      "source": [
        "# Feature Selection using Correlation Analysis\n",
        "import seaborn as sns\n",
        "import matplotlib.pyplot as plt\n",
        "# Correlation matrix\n",
        "correlation_matrix = author_1.corr()\n",
        "# Plot the heatmap\n",
        "plt.figure(figsize=(12, 8))\n",
        "sns.heatmap(correlation_matrix, annot=True, cmap='coolwarm', fmt=\".2f\", linewidths=0.5)\n",
        "plt.title('Correlation Heatmap')\n",
        "plt.show()"
      ],
      "metadata": {
        "colab": {
          "base_uri": "https://localhost:8080/",
          "height": 851
        },
        "id": "EozUnKOJ36J3",
        "outputId": "969114b2-8b93-4305-b368-a39020c78de6"
      },
      "execution_count": null,
      "outputs": [
        {
          "output_type": "stream",
          "name": "stderr",
          "text": [
            "<ipython-input-44-94840b7e6fdc>:5: FutureWarning: The default value of numeric_only in DataFrame.corr is deprecated. In a future version, it will default to False. Select only valid columns or specify the value of numeric_only to silence this warning.\n",
            "  correlation_matrix = author_1.corr()\n"
          ]
        },
        {
          "output_type": "display_data",
          "data": {
            "text/plain": [
              "<Figure size 1200x800 with 2 Axes>"
            ],
            "image/png": "[encoded data removed]"
          },
          "metadata": {}
        }
      ]
    },
    {
      "cell_type": "code",
      "source": [],
      "metadata": {
        "id": "XhYwJkXFlKme"
      },
      "execution_count": null,
      "outputs": []
    },
    {
      "cell_type": "code",
      "source": [
        "# Selected features\n",
        "predictors = [ 'bestsellers-rank','imprint', 'lang',\n",
        "       'dimension-x', 'dimension-y', 'dimension-z',\n",
        "          'format', 'isbn13', 'weight']"
      ],
      "metadata": {
        "id": "GRM_tdq76B-i"
      },
      "execution_count": null,
      "outputs": []
    },
    {
      "cell_type": "code",
      "source": [
        "# Data Preparation\n",
        "X = author_1[predictors]\n",
        "y = author_1['rating-avg']"
      ],
      "metadata": {
        "id": "ZQALf5ac6qmn"
      },
      "execution_count": null,
      "outputs": []
    },
    {
      "cell_type": "code",
      "source": [
        "from sklearn.model_selection import train_test_split\n",
        "from sklearn.preprocessing import StandardScaler\n",
        "from sklearn.linear_model import LogisticRegression\n",
        "from sklearn.metrics import accuracy_score, confusion_matrix\n",
        "\n",
        "# Train-test split\n",
        "X_train, X_rem, y_train, y_rem = train_test_split(X, y, test_size=0.3, random_state=42)\n",
        "X_val, X_test, y_val, y_test = train_test_split(X_rem, y_rem, test_size=0.5, random_state=42)\n"
      ],
      "metadata": {
        "id": "nz7ySvI87lJ9"
      },
      "execution_count": null,
      "outputs": []
    },
    {
      "cell_type": "markdown",
      "source": [
        "**Logistic Regression:**"
      ],
      "metadata": {
        "id": "0kcO231_GYxT"
      }
    },
    {
      "cell_type": "code",
      "source": [
        "from sklearn.linear_model import LogisticRegression\n",
        "\n",
        "# Create and fit the Logistic Regression model\n",
        "logistic_model = LogisticRegression()\n",
        "logistic_model.fit(X_train, y_train)"
      ],
      "metadata": {
        "colab": {
          "base_uri": "https://localhost:8080/",
          "height": 74
        },
        "id": "KxkQIQ6cn49i",
        "outputId": "a64dbbdc-a498-4ba8-de24-276c81d3f50a"
      },
      "execution_count": null,
      "outputs": [
        {
          "output_type": "execute_result",
          "data": {
            "text/plain": [
              "LogisticRegression()"
            ],
            "text/html": [
              "<style>#sk-container-id-1 {color: black;background-color: white;}#sk-container-id-1 pre{padding: 0;}#sk-container-id-1 div.sk-toggleable {background-color: white;}#sk-container-id-1 label.sk-toggleable__label {cursor: pointer;display: block;width: 100%;margin-bottom: 0;padding: 0.3em;box-sizing: border-box;text-align: center;}#sk-container-id-1 label.sk-toggleable__label-arrow:before {content: \"▸\";float: left;margin-right: 0.25em;color: #696969;}#sk-container-id-1 label.sk-toggleable__label-arrow:hover:before {color: black;}#sk-container-id-1 div.sk-estimator:hover label.sk-toggleable__label-arrow:before {color: black;}#sk-container-id-1 div.sk-toggleable__content {max-height: 0;max-width: 0;overflow: hidden;text-align: left;background-color: #f0f8ff;}#sk-container-id-1 div.sk-toggleable__content pre {margin: 0.2em;color: black;border-radius: 0.25em;background-color: #f0f8ff;}#sk-container-id-1 input.sk-toggleable__control:checked~div.sk-toggleable__content {max-height: 200px;max-width: 100%;overflow: auto;}#sk-container-id-1 input.sk-toggleable__control:checked~label.sk-toggleable__label-arrow:before {content: \"▾\";}#sk-container-id-1 div.sk-estimator input.sk-toggleable__control:checked~label.sk-toggleable__label {background-color: #d4ebff;}#sk-container-id-1 div.sk-label input.sk-toggleable__control:checked~label.sk-toggleable__label {background-color: #d4ebff;}#sk-container-id-1 input.sk-hidden--visually {border: 0;clip: rect(1px 1px 1px 1px);clip: rect(1px, 1px, 1px, 1px);height: 1px;margin: -1px;overflow: hidden;padding: 0;position: absolute;width: 1px;}#sk-container-id-1 div.sk-estimator {font-family: monospace;background-color: #f0f8ff;border: 1px dotted black;border-radius: 0.25em;box-sizing: border-box;margin-bottom: 0.5em;}#sk-container-id-1 div.sk-estimator:hover {background-color: #d4ebff;}#sk-container-id-1 div.sk-parallel-item::after {content: \"\";width: 100%;border-bottom: 1px solid gray;flex-grow: 1;}#sk-container-id-1 div.sk-label:hover label.sk-toggleable__label {background-color: #d4ebff;}#sk-container-id-1 div.sk-serial::before {content: \"\";position: absolute;border-left: 1px solid gray;box-sizing: border-box;top: 0;bottom: 0;left: 50%;z-index: 0;}#sk-container-id-1 div.sk-serial {display: flex;flex-direction: column;align-items: center;background-color: white;padding-right: 0.2em;padding-left: 0.2em;position: relative;}#sk-container-id-1 div.sk-item {position: relative;z-index: 1;}#sk-container-id-1 div.sk-parallel {display: flex;align-items: stretch;justify-content: center;background-color: white;position: relative;}#sk-container-id-1 div.sk-item::before, #sk-container-id-1 div.sk-parallel-item::before {content: \"\";position: absolute;border-left: 1px solid gray;box-sizing: border-box;top: 0;bottom: 0;left: 50%;z-index: -1;}#sk-container-id-1 div.sk-parallel-item {display: flex;flex-direction: column;z-index: 1;position: relative;background-color: white;}#sk-container-id-1 div.sk-parallel-item:first-child::after {align-self: flex-end;width: 50%;}#sk-container-id-1 div.sk-parallel-item:last-child::after {align-self: flex-start;width: 50%;}#sk-container-id-1 div.sk-parallel-item:only-child::after {width: 0;}#sk-container-id-1 div.sk-dashed-wrapped {border: 1px dashed gray;margin: 0 0.4em 0.5em 0.4em;box-sizing: border-box;padding-bottom: 0.4em;background-color: white;}#sk-container-id-1 div.sk-label label {font-family: monospace;font-weight: bold;display: inline-block;line-height: 1.2em;}#sk-container-id-1 div.sk-label-container {text-align: center;}#sk-container-id-1 div.sk-container {/* jupyter's `normalize.less` sets `[hidden] { display: none; }` but bootstrap.min.css set `[hidden] { display: none !important; }` so we also need the `!important` here to be able to override the default hidden behavior on the sphinx rendered scikit-learn.org. See: https://github.com/scikit-learn/scikit-learn/issues/21755 */display: inline-block !important;position: relative;}#sk-container-id-1 div.sk-text-repr-fallback {display: none;}</style><div id=\"sk-container-id-1\" class=\"sk-top-container\"><div class=\"sk-text-repr-fallback\"><pre>LogisticRegression()</pre><b>In a Jupyter environment, please rerun this cell to show the HTML representation or trust the notebook. <br />On GitHub, the HTML representation is unable to render, please try loading this page with nbviewer.org.</b></div><div class=\"sk-container\" hidden><div class=\"sk-item\"><div class=\"sk-estimator sk-toggleable\"><input class=\"sk-toggleable__control sk-hidden--visually\" id=\"sk-estimator-id-1\" type=\"checkbox\" checked><label for=\"sk-estimator-id-1\" class=\"sk-toggleable__label sk-toggleable__label-arrow\">LogisticRegression</label><div class=\"sk-toggleable__content\"><pre>LogisticRegression()</pre></div></div></div></div></div>"
            ]
          },
          "metadata": {},
          "execution_count": 48
        }
      ]
    },
    {
      "cell_type": "code",
      "source": [
        "# Predict on validation set\n",
        "y_val_pred_logistic = logistic_model.predict(X_val)\n",
        "\n",
        "# Evaluate the Logistic Regression model\n",
        "accuracy_logistic = accuracy_score(y_val, y_val_pred_logistic)\n",
        "conf_matrix_logistic = confusion_matrix(y_val, y_val_pred_logistic)\n",
        "\n",
        "print(\"Logistic Regression - Validation Accuracy:\", accuracy_logistic)\n",
        "print(\"Logistic Regression - Confusion Matrix:\\n\", conf_matrix_logistic)\n"
      ],
      "metadata": {
        "colab": {
          "base_uri": "https://localhost:8080/"
        },
        "id": "B_zbvgFmHGsE",
        "outputId": "88a24cbd-7ab3-4eb1-e830-944c7bffb4bd"
      },
      "execution_count": null,
      "outputs": [
        {
          "output_type": "stream",
          "name": "stdout",
          "text": [
            "Logistic Regression - Validation Accuracy: 0.6685353095030514\n",
            "Logistic Regression - Confusion Matrix:\n",
            " [[    0     0   321     0     0]\n",
            " [    0     0  1530     0     0]\n",
            " [    0     0 76681     0     0]\n",
            " [    0     0 31862     0     0]\n",
            " [    0     0  4306     0     0]]\n"
          ]
        }
      ]
    },
    {
      "cell_type": "code",
      "source": [
        "# Predict on training set\n",
        "y_train_pred_logistic = logistic_model.predict(X_train)\n",
        "\n",
        "# Predict on test set\n",
        "y_test_pred_logistic = logistic_model.predict(X_test)\n",
        "\n",
        "accuracy_logistic_val = accuracy_score(y_val, y_val_pred_logistic)\n",
        "accuracy_logistic_train = accuracy_score(y_train, y_train_pred_logistic)\n",
        "accuracy_logistic_test = accuracy_score(y_test, y_test_pred_logistic)\n",
        "\n",
        "# Print the results\n",
        "print(\"Logistic Regression - Validation Accuracy:\", accuracy_logistic_val)\n",
        "print(\"Logistic Regression - Training Accuracy:\", accuracy_logistic_train)\n",
        "print(\"Logistic Regression - Test Accuracy:\", accuracy_logistic_test)\n",
        "\n"
      ],
      "metadata": {
        "colab": {
          "base_uri": "https://localhost:8080/"
        },
        "id": "KXR_6504Icbv",
        "outputId": "ef984bfb-f17d-42e3-a533-1d77efa7623f"
      },
      "execution_count": null,
      "outputs": [
        {
          "output_type": "stream",
          "name": "stdout",
          "text": [
            "Logistic Regression - Validation Accuracy: 0.6685353095030514\n",
            "Logistic Regression - Training Accuracy: 0.6687895947256229\n",
            "Logistic Regression - Test Accuracy: 0.6696192709740979\n"
          ]
        }
      ]
    },
    {
      "cell_type": "markdown",
      "source": [
        "**Random Forest:**"
      ],
      "metadata": {
        "id": "7XVo89Q7GltU"
      }
    },
    {
      "cell_type": "code",
      "source": [
        "from sklearn.ensemble import RandomForestClassifier\n",
        "\n",
        "# Create a Random Forest classifier\n",
        "random_forest_classifier = RandomForestClassifier(n_estimators=100, random_state=42)\n",
        "\n",
        "# Fit the model on the training data\n",
        "random_forest_classifier.fit(X_train, y_train)"
      ],
      "metadata": {
        "colab": {
          "base_uri": "https://localhost:8080/",
          "height": 74
        },
        "id": "s9WXfDJyn47D",
        "outputId": "f6f98c95-9b84-4422-d96b-dc4fff162f77"
      },
      "execution_count": null,
      "outputs": [
        {
          "output_type": "execute_result",
          "data": {
            "text/plain": [
              "RandomForestClassifier(random_state=42)"
            ],
            "text/html": [
              "<style>#sk-container-id-2 {color: black;background-color: white;}#sk-container-id-2 pre{padding: 0;}#sk-container-id-2 div.sk-toggleable {background-color: white;}#sk-container-id-2 label.sk-toggleable__label {cursor: pointer;display: block;width: 100%;margin-bottom: 0;padding: 0.3em;box-sizing: border-box;text-align: center;}#sk-container-id-2 label.sk-toggleable__label-arrow:before {content: \"▸\";float: left;margin-right: 0.25em;color: #696969;}#sk-container-id-2 label.sk-toggleable__label-arrow:hover:before {color: black;}#sk-container-id-2 div.sk-estimator:hover label.sk-toggleable__label-arrow:before {color: black;}#sk-container-id-2 div.sk-toggleable__content {max-height: 0;max-width: 0;overflow: hidden;text-align: left;background-color: #f0f8ff;}#sk-container-id-2 div.sk-toggleable__content pre {margin: 0.2em;color: black;border-radius: 0.25em;background-color: #f0f8ff;}#sk-container-id-2 input.sk-toggleable__control:checked~div.sk-toggleable__content {max-height: 200px;max-width: 100%;overflow: auto;}#sk-container-id-2 input.sk-toggleable__control:checked~label.sk-toggleable__label-arrow:before {content: \"▾\";}#sk-container-id-2 div.sk-estimator input.sk-toggleable__control:checked~label.sk-toggleable__label {background-color: #d4ebff;}#sk-container-id-2 div.sk-label input.sk-toggleable__control:checked~label.sk-toggleable__label {background-color: #d4ebff;}#sk-container-id-2 input.sk-hidden--visually {border: 0;clip: rect(1px 1px 1px 1px);clip: rect(1px, 1px, 1px, 1px);height: 1px;margin: -1px;overflow: hidden;padding: 0;position: absolute;width: 1px;}#sk-container-id-2 div.sk-estimator {font-family: monospace;background-color: #f0f8ff;border: 1px dotted black;border-radius: 0.25em;box-sizing: border-box;margin-bottom: 0.5em;}#sk-container-id-2 div.sk-estimator:hover {background-color: #d4ebff;}#sk-container-id-2 div.sk-parallel-item::after {content: \"\";width: 100%;border-bottom: 1px solid gray;flex-grow: 1;}#sk-container-id-2 div.sk-label:hover label.sk-toggleable__label {background-color: #d4ebff;}#sk-container-id-2 div.sk-serial::before {content: \"\";position: absolute;border-left: 1px solid gray;box-sizing: border-box;top: 0;bottom: 0;left: 50%;z-index: 0;}#sk-container-id-2 div.sk-serial {display: flex;flex-direction: column;align-items: center;background-color: white;padding-right: 0.2em;padding-left: 0.2em;position: relative;}#sk-container-id-2 div.sk-item {position: relative;z-index: 1;}#sk-container-id-2 div.sk-parallel {display: flex;align-items: stretch;justify-content: center;background-color: white;position: relative;}#sk-container-id-2 div.sk-item::before, #sk-container-id-2 div.sk-parallel-item::before {content: \"\";position: absolute;border-left: 1px solid gray;box-sizing: border-box;top: 0;bottom: 0;left: 50%;z-index: -1;}#sk-container-id-2 div.sk-parallel-item {display: flex;flex-direction: column;z-index: 1;position: relative;background-color: white;}#sk-container-id-2 div.sk-parallel-item:first-child::after {align-self: flex-end;width: 50%;}#sk-container-id-2 div.sk-parallel-item:last-child::after {align-self: flex-start;width: 50%;}#sk-container-id-2 div.sk-parallel-item:only-child::after {width: 0;}#sk-container-id-2 div.sk-dashed-wrapped {border: 1px dashed gray;margin: 0 0.4em 0.5em 0.4em;box-sizing: border-box;padding-bottom: 0.4em;background-color: white;}#sk-container-id-2 div.sk-label label {font-family: monospace;font-weight: bold;display: inline-block;line-height: 1.2em;}#sk-container-id-2 div.sk-label-container {text-align: center;}#sk-container-id-2 div.sk-container {/* jupyter's `normalize.less` sets `[hidden] { display: none; }` but bootstrap.min.css set `[hidden] { display: none !important; }` so we also need the `!important` here to be able to override the default hidden behavior on the sphinx rendered scikit-learn.org. See: https://github.com/scikit-learn/scikit-learn/issues/21755 */display: inline-block !important;position: relative;}#sk-container-id-2 div.sk-text-repr-fallback {display: none;}</style><div id=\"sk-container-id-2\" class=\"sk-top-container\"><div class=\"sk-text-repr-fallback\"><pre>RandomForestClassifier(random_state=42)</pre><b>In a Jupyter environment, please rerun this cell to show the HTML representation or trust the notebook. <br />On GitHub, the HTML representation is unable to render, please try loading this page with nbviewer.org.</b></div><div class=\"sk-container\" hidden><div class=\"sk-item\"><div class=\"sk-estimator sk-toggleable\"><input class=\"sk-toggleable__control sk-hidden--visually\" id=\"sk-estimator-id-2\" type=\"checkbox\" checked><label for=\"sk-estimator-id-2\" class=\"sk-toggleable__label sk-toggleable__label-arrow\">RandomForestClassifier</label><div class=\"sk-toggleable__content\"><pre>RandomForestClassifier(random_state=42)</pre></div></div></div></div></div>"
            ]
          },
          "metadata": {},
          "execution_count": 51
        }
      ]
    },
    {
      "cell_type": "code",
      "source": [
        "from sklearn.metrics import accuracy_score, confusion_matrix\n",
        "\n",
        "y_val_pred_rf = random_forest_classifier.predict(X_val)\n",
        "accuracy_rf_val = accuracy_score(y_val, y_val_pred_rf)\n",
        "y_test_pred_rf = random_forest_classifier.predict(X_test)\n",
        "accuracy_rf_test = accuracy_score(y_test, y_test_pred_rf)\n",
        "\n",
        "# Print the results\n",
        "print(\"Random Forest - Validation Accuracy:\", accuracy_rf_val)\n",
        "print(\"Random Forest - Test Accuracy:\", accuracy_rf_test)\n"
      ],
      "metadata": {
        "colab": {
          "base_uri": "https://localhost:8080/"
        },
        "id": "BpuO8LoZK_OG",
        "outputId": "8125d3b1-f451-4462-f918-e0611de16d27"
      },
      "execution_count": null,
      "outputs": [
        {
          "output_type": "stream",
          "name": "stdout",
          "text": [
            "Random Forest - Validation Accuracy: 0.6994158674803836\n",
            "Random Forest - Test Accuracy: 0.7032719854229693\n"
          ]
        }
      ]
    },
    {
      "cell_type": "markdown",
      "source": [
        "**Decision Tree:**"
      ],
      "metadata": {
        "id": "4_GP8Kv4GsUl"
      }
    },
    {
      "cell_type": "code",
      "source": [
        "from sklearn.tree import DecisionTreeClassifier\n",
        "\n",
        "# Create and fit the Decision Tree model for classification\n",
        "decision_tree_classifier = DecisionTreeClassifier()\n",
        "decision_tree_classifier.fit(X_train, y_train)"
      ],
      "metadata": {
        "colab": {
          "base_uri": "https://localhost:8080/",
          "height": 74
        },
        "id": "u_rALP8KLmzX",
        "outputId": "3116b467-5453-4f53-c0ce-3ff7730241b6"
      },
      "execution_count": null,
      "outputs": [
        {
          "output_type": "execute_result",
          "data": {
            "text/plain": [
              "DecisionTreeClassifier()"
            ],
            "text/html": [
              "<style>#sk-container-id-3 {color: black;background-color: white;}#sk-container-id-3 pre{padding: 0;}#sk-container-id-3 div.sk-toggleable {background-color: white;}#sk-container-id-3 label.sk-toggleable__label {cursor: pointer;display: block;width: 100%;margin-bottom: 0;padding: 0.3em;box-sizing: border-box;text-align: center;}#sk-container-id-3 label.sk-toggleable__label-arrow:before {content: \"▸\";float: left;margin-right: 0.25em;color: #696969;}#sk-container-id-3 label.sk-toggleable__label-arrow:hover:before {color: black;}#sk-container-id-3 div.sk-estimator:hover label.sk-toggleable__label-arrow:before {color: black;}#sk-container-id-3 div.sk-toggleable__content {max-height: 0;max-width: 0;overflow: hidden;text-align: left;background-color: #f0f8ff;}#sk-container-id-3 div.sk-toggleable__content pre {margin: 0.2em;color: black;border-radius: 0.25em;background-color: #f0f8ff;}#sk-container-id-3 input.sk-toggleable__control:checked~div.sk-toggleable__content {max-height: 200px;max-width: 100%;overflow: auto;}#sk-container-id-3 input.sk-toggleable__control:checked~label.sk-toggleable__label-arrow:before {content: \"▾\";}#sk-container-id-3 div.sk-estimator input.sk-toggleable__control:checked~label.sk-toggleable__label {background-color: #d4ebff;}#sk-container-id-3 div.sk-label input.sk-toggleable__control:checked~label.sk-toggleable__label {background-color: #d4ebff;}#sk-container-id-3 input.sk-hidden--visually {border: 0;clip: rect(1px 1px 1px 1px);clip: rect(1px, 1px, 1px, 1px);height: 1px;margin: -1px;overflow: hidden;padding: 0;position: absolute;width: 1px;}#sk-container-id-3 div.sk-estimator {font-family: monospace;background-color: #f0f8ff;border: 1px dotted black;border-radius: 0.25em;box-sizing: border-box;margin-bottom: 0.5em;}#sk-container-id-3 div.sk-estimator:hover {background-color: #d4ebff;}#sk-container-id-3 div.sk-parallel-item::after {content: \"\";width: 100%;border-bottom: 1px solid gray;flex-grow: 1;}#sk-container-id-3 div.sk-label:hover label.sk-toggleable__label {background-color: #d4ebff;}#sk-container-id-3 div.sk-serial::before {content: \"\";position: absolute;border-left: 1px solid gray;box-sizing: border-box;top: 0;bottom: 0;left: 50%;z-index: 0;}#sk-container-id-3 div.sk-serial {display: flex;flex-direction: column;align-items: center;background-color: white;padding-right: 0.2em;padding-left: 0.2em;position: relative;}#sk-container-id-3 div.sk-item {position: relative;z-index: 1;}#sk-container-id-3 div.sk-parallel {display: flex;align-items: stretch;justify-content: center;background-color: white;position: relative;}#sk-container-id-3 div.sk-item::before, #sk-container-id-3 div.sk-parallel-item::before {content: \"\";position: absolute;border-left: 1px solid gray;box-sizing: border-box;top: 0;bottom: 0;left: 50%;z-index: -1;}#sk-container-id-3 div.sk-parallel-item {display: flex;flex-direction: column;z-index: 1;position: relative;background-color: white;}#sk-container-id-3 div.sk-parallel-item:first-child::after {align-self: flex-end;width: 50%;}#sk-container-id-3 div.sk-parallel-item:last-child::after {align-self: flex-start;width: 50%;}#sk-container-id-3 div.sk-parallel-item:only-child::after {width: 0;}#sk-container-id-3 div.sk-dashed-wrapped {border: 1px dashed gray;margin: 0 0.4em 0.5em 0.4em;box-sizing: border-box;padding-bottom: 0.4em;background-color: white;}#sk-container-id-3 div.sk-label label {font-family: monospace;font-weight: bold;display: inline-block;line-height: 1.2em;}#sk-container-id-3 div.sk-label-container {text-align: center;}#sk-container-id-3 div.sk-container {/* jupyter's `normalize.less` sets `[hidden] { display: none; }` but bootstrap.min.css set `[hidden] { display: none !important; }` so we also need the `!important` here to be able to override the default hidden behavior on the sphinx rendered scikit-learn.org. See: https://github.com/scikit-learn/scikit-learn/issues/21755 */display: inline-block !important;position: relative;}#sk-container-id-3 div.sk-text-repr-fallback {display: none;}</style><div id=\"sk-container-id-3\" class=\"sk-top-container\"><div class=\"sk-text-repr-fallback\"><pre>DecisionTreeClassifier()</pre><b>In a Jupyter environment, please rerun this cell to show the HTML representation or trust the notebook. <br />On GitHub, the HTML representation is unable to render, please try loading this page with nbviewer.org.</b></div><div class=\"sk-container\" hidden><div class=\"sk-item\"><div class=\"sk-estimator sk-toggleable\"><input class=\"sk-toggleable__control sk-hidden--visually\" id=\"sk-estimator-id-3\" type=\"checkbox\" checked><label for=\"sk-estimator-id-3\" class=\"sk-toggleable__label sk-toggleable__label-arrow\">DecisionTreeClassifier</label><div class=\"sk-toggleable__content\"><pre>DecisionTreeClassifier()</pre></div></div></div></div></div>"
            ]
          },
          "metadata": {},
          "execution_count": 53
        }
      ]
    },
    {
      "cell_type": "code",
      "source": [
        "y_val_pred_dt = decision_tree_classifier.predict(X_val)\n",
        "y_train_pred_dt = decision_tree_classifier.predict(X_train)\n",
        "y_test_pred_dt = decision_tree_classifier.predict(X_test)\n",
        "accuracy_dt_val = accuracy_score(y_val, y_val_pred_dt)\n",
        "accuracy_dt_train = accuracy_score(y_train, y_train_pred_dt)\n",
        "accuracy_dt_test = accuracy_score(y_test, y_test_pred_dt)\n",
        "\n",
        "# Print the results\n",
        "print(\"Decision Tree - Validation Accuracy:\", accuracy_dt_val)\n",
        "print(\"Decision Tree - Training Accuracy:\", accuracy_dt_train)\n",
        "print(\"Decision Tree - Test Accuracy:\", accuracy_dt_test)\n"
      ],
      "metadata": {
        "colab": {
          "base_uri": "https://localhost:8080/"
        },
        "id": "wRZlabB8LqSQ",
        "outputId": "b6613102-efd9-4546-bd10-cc7c427d16cf"
      },
      "execution_count": null,
      "outputs": [
        {
          "output_type": "stream",
          "name": "stdout",
          "text": [
            "Decision Tree - Validation Accuracy: 0.6312467306015693\n",
            "Decision Tree - Training Accuracy: 0.9881946766753789\n",
            "Decision Tree - Test Accuracy: 0.6370825014603185\n"
          ]
        }
      ]
    },
    {
      "cell_type": "markdown",
      "source": [
        "**KNN Classifier**"
      ],
      "metadata": {
        "id": "Z5By6hFC72XR"
      }
    },
    {
      "cell_type": "code",
      "source": [
        "from sklearn.neighbors import KNeighborsClassifier\n",
        "\n",
        "# Create and fit the KNN classifier model\n",
        "knn_model = KNeighborsClassifier(n_neighbors=5)\n",
        "knn_model.fit(X_train, y_train)\n"
      ],
      "metadata": {
        "colab": {
          "base_uri": "https://localhost:8080/",
          "height": 74
        },
        "id": "8Dm78bcf8YPD",
        "outputId": "049955af-2432-43d3-e2b6-0955fe9dae41"
      },
      "execution_count": 65,
      "outputs": [
        {
          "output_type": "execute_result",
          "data": {
            "text/plain": [
              "KNeighborsClassifier()"
            ],
            "text/html": [
              "<style>#sk-container-id-7 {color: black;background-color: white;}#sk-container-id-7 pre{padding: 0;}#sk-container-id-7 div.sk-toggleable {background-color: white;}#sk-container-id-7 label.sk-toggleable__label {cursor: pointer;display: block;width: 100%;margin-bottom: 0;padding: 0.3em;box-sizing: border-box;text-align: center;}#sk-container-id-7 label.sk-toggleable__label-arrow:before {content: \"▸\";float: left;margin-right: 0.25em;color: #696969;}#sk-container-id-7 label.sk-toggleable__label-arrow:hover:before {color: black;}#sk-container-id-7 div.sk-estimator:hover label.sk-toggleable__label-arrow:before {color: black;}#sk-container-id-7 div.sk-toggleable__content {max-height: 0;max-width: 0;overflow: hidden;text-align: left;background-color: #f0f8ff;}#sk-container-id-7 div.sk-toggleable__content pre {margin: 0.2em;color: black;border-radius: 0.25em;background-color: #f0f8ff;}#sk-container-id-7 input.sk-toggleable__control:checked~div.sk-toggleable__content {max-height: 200px;max-width: 100%;overflow: auto;}#sk-container-id-7 input.sk-toggleable__control:checked~label.sk-toggleable__label-arrow:before {content: \"▾\";}#sk-container-id-7 div.sk-estimator input.sk-toggleable__control:checked~label.sk-toggleable__label {background-color: #d4ebff;}#sk-container-id-7 div.sk-label input.sk-toggleable__control:checked~label.sk-toggleable__label {background-color: #d4ebff;}#sk-container-id-7 input.sk-hidden--visually {border: 0;clip: rect(1px 1px 1px 1px);clip: rect(1px, 1px, 1px, 1px);height: 1px;margin: -1px;overflow: hidden;padding: 0;position: absolute;width: 1px;}#sk-container-id-7 div.sk-estimator {font-family: monospace;background-color: #f0f8ff;border: 1px dotted black;border-radius: 0.25em;box-sizing: border-box;margin-bottom: 0.5em;}#sk-container-id-7 div.sk-estimator:hover {background-color: #d4ebff;}#sk-container-id-7 div.sk-parallel-item::after {content: \"\";width: 100%;border-bottom: 1px solid gray;flex-grow: 1;}#sk-container-id-7 div.sk-label:hover label.sk-toggleable__label {background-color: #d4ebff;}#sk-container-id-7 div.sk-serial::before {content: \"\";position: absolute;border-left: 1px solid gray;box-sizing: border-box;top: 0;bottom: 0;left: 50%;z-index: 0;}#sk-container-id-7 div.sk-serial {display: flex;flex-direction: column;align-items: center;background-color: white;padding-right: 0.2em;padding-left: 0.2em;position: relative;}#sk-container-id-7 div.sk-item {position: relative;z-index: 1;}#sk-container-id-7 div.sk-parallel {display: flex;align-items: stretch;justify-content: center;background-color: white;position: relative;}#sk-container-id-7 div.sk-item::before, #sk-container-id-7 div.sk-parallel-item::before {content: \"\";position: absolute;border-left: 1px solid gray;box-sizing: border-box;top: 0;bottom: 0;left: 50%;z-index: -1;}#sk-container-id-7 div.sk-parallel-item {display: flex;flex-direction: column;z-index: 1;position: relative;background-color: white;}#sk-container-id-7 div.sk-parallel-item:first-child::after {align-self: flex-end;width: 50%;}#sk-container-id-7 div.sk-parallel-item:last-child::after {align-self: flex-start;width: 50%;}#sk-container-id-7 div.sk-parallel-item:only-child::after {width: 0;}#sk-container-id-7 div.sk-dashed-wrapped {border: 1px dashed gray;margin: 0 0.4em 0.5em 0.4em;box-sizing: border-box;padding-bottom: 0.4em;background-color: white;}#sk-container-id-7 div.sk-label label {font-family: monospace;font-weight: bold;display: inline-block;line-height: 1.2em;}#sk-container-id-7 div.sk-label-container {text-align: center;}#sk-container-id-7 div.sk-container {/* jupyter's `normalize.less` sets `[hidden] { display: none; }` but bootstrap.min.css set `[hidden] { display: none !important; }` so we also need the `!important` here to be able to override the default hidden behavior on the sphinx rendered scikit-learn.org. See: https://github.com/scikit-learn/scikit-learn/issues/21755 */display: inline-block !important;position: relative;}#sk-container-id-7 div.sk-text-repr-fallback {display: none;}</style><div id=\"sk-container-id-7\" class=\"sk-top-container\"><div class=\"sk-text-repr-fallback\"><pre>KNeighborsClassifier()</pre><b>In a Jupyter environment, please rerun this cell to show the HTML representation or trust the notebook. <br />On GitHub, the HTML representation is unable to render, please try loading this page with nbviewer.org.</b></div><div class=\"sk-container\" hidden><div class=\"sk-item\"><div class=\"sk-estimator sk-toggleable\"><input class=\"sk-toggleable__control sk-hidden--visually\" id=\"sk-estimator-id-7\" type=\"checkbox\" checked><label for=\"sk-estimator-id-7\" class=\"sk-toggleable__label sk-toggleable__label-arrow\">KNeighborsClassifier</label><div class=\"sk-toggleable__content\"><pre>KNeighborsClassifier()</pre></div></div></div></div></div>"
            ]
          },
          "metadata": {},
          "execution_count": 65
        }
      ]
    },
    {
      "cell_type": "code",
      "source": [
        "# Predict on the validation set\n",
        "y_val_pred_knn = knn_model.predict(X_val)\n",
        "\n",
        "# Evaluate the KNN model on the validation set\n",
        "accuracy_knn = accuracy_score(y_val, y_val_pred_knn)\n",
        "conf_matrix_knn = confusion_matrix(y_val, y_val_pred_knn)\n",
        "\n",
        "print(\"K-Nearest Neighbors - Validation Accuracy:\", accuracy_knn)\n",
        "print(\"K-Nearest Neighbors - Confusion Matrix:\\n\", conf_matrix_knn)\n"
      ],
      "metadata": {
        "colab": {
          "base_uri": "https://localhost:8080/"
        },
        "id": "L6zII5ef76pt",
        "outputId": "f3c9530f-1025-4c1c-bbbf-3f05a7e9cb11"
      },
      "execution_count": 68,
      "outputs": [
        {
          "output_type": "stream",
          "name": "stdout",
          "text": [
            "K-Nearest Neighbors - Validation Accuracy: 0.6891194420226678\n",
            "K-Nearest Neighbors - Confusion Matrix:\n",
            " [[    0     1   286    32     2]\n",
            " [    1    25  1253   243     8]\n",
            " [   23   193 64925 11331   209]\n",
            " [    7    74 17657 14020   104]\n",
            " [    5    20  3389   820    72]]\n"
          ]
        }
      ]
    },
    {
      "cell_type": "code",
      "source": [
        "#Predict on the training set\n",
        "y_train_pred_knn = knn_model.predict(X_train)\n",
        "\n",
        "# Predict on the test set\n",
        "y_test_pred_knn = knn_model.predict(X_test)\n",
        "\n",
        "accuracy_knn_val = accuracy_score(y_val, y_val_pred_knn)\n",
        "accuracy_knn_train = accuracy_score(y_train, y_train_pred_knn)\n",
        "accuracy_knn_test = accuracy_score(y_test, y_test_pred_knn)\n",
        "\n",
        "# Print the results for KNN classifier\n",
        "print(\"K-Nearest Neighbors - Validation Accuracy:\", accuracy_knn_val)\n",
        "print(\"K-Nearest Neighbors - Training Accuracy:\", accuracy_knn_train)\n",
        "print(\"K-Nearest Neighbors - Test Accuracy:\", accuracy_knn_test)\n"
      ],
      "metadata": {
        "colab": {
          "base_uri": "https://localhost:8080/"
        },
        "id": "6JuZ_bcI8jJf",
        "outputId": "19b70746-94cd-4ea4-83ce-b22c6ee44cc7"
      },
      "execution_count": 69,
      "outputs": [
        {
          "output_type": "stream",
          "name": "stdout",
          "text": [
            "K-Nearest Neighbors - Validation Accuracy: 0.6891194420226678\n",
            "K-Nearest Neighbors - Training Accuracy: 0.77422856256784\n",
            "K-Nearest Neighbors - Test Accuracy: 0.6908047881012371\n"
          ]
        }
      ]
    },
    {
      "cell_type": "markdown",
      "source": [
        "**Hyperparameter Tuning:**"
      ],
      "metadata": {
        "id": "M7_8fD3qG17M"
      }
    },
    {
      "cell_type": "code",
      "source": [
        "# from sklearn.model_selection import RandomizedSearchCV\n",
        "# from sklearn.ensemble import RandomForestClassifier\n",
        "# import numpy as np\n",
        "\n",
        "# # Define hyperparameter distributions for Random Forest\n",
        "# param_dist = {\n",
        "#     'n_estimators': np.arange(100, 500, 10),  # Range of n_estimators\n",
        "#     'max_depth': list(np.arange(10, 101, 10)),  # Range of max_depth\n",
        "#     'min_samples_split': [2, 5, 10],  # Values for min_samples_split\n",
        "# }\n",
        "\n",
        "# # Create the Randomized Search object\n",
        "# random_search = RandomizedSearchCV(\n",
        "#     estimator=RandomForestClassifier(random_state=42),\n",
        "#     param_distributions=param_dist,\n",
        "#     n_iter=10,  # Number of random combinations to try\n",
        "#     cv=5,\n",
        "#     random_state=42\n",
        "# )\n",
        "# random_search.fit(X_train, y_train)\n",
        "\n",
        "# # Get the best hyperparameters\n",
        "# best_params = random_search.best_params_\n",
        "\n",
        "# # Print the best hyperparameters\n",
        "# print(\"Best Hyperparameters:\", best_params)\n"
      ],
      "metadata": {
        "id": "-sdAdcx0RTGh"
      },
      "execution_count": 57,
      "outputs": []
    },
    {
      "cell_type": "markdown",
      "source": [
        "**Regularization (for Logistic Regression):**"
      ],
      "metadata": {
        "id": "ql-qqZpSG9p3"
      }
    },
    {
      "cell_type": "code",
      "source": [
        "logistic_model_regularized = LogisticRegression(penalty='l2', C=1.0)\n",
        "logistic_model_regularized.fit(X_train, y_train)\n"
      ],
      "metadata": {
        "id": "F5DJWKF3G4iF",
        "colab": {
          "base_uri": "https://localhost:8080/",
          "height": 74
        },
        "outputId": "36316f28-5d5c-4585-8cbd-9a95491e5b5b"
      },
      "execution_count": 58,
      "outputs": [
        {
          "output_type": "execute_result",
          "data": {
            "text/plain": [
              "LogisticRegression()"
            ],
            "text/html": [
              "<style>#sk-container-id-4 {color: black;background-color: white;}#sk-container-id-4 pre{padding: 0;}#sk-container-id-4 div.sk-toggleable {background-color: white;}#sk-container-id-4 label.sk-toggleable__label {cursor: pointer;display: block;width: 100%;margin-bottom: 0;padding: 0.3em;box-sizing: border-box;text-align: center;}#sk-container-id-4 label.sk-toggleable__label-arrow:before {content: \"▸\";float: left;margin-right: 0.25em;color: #696969;}#sk-container-id-4 label.sk-toggleable__label-arrow:hover:before {color: black;}#sk-container-id-4 div.sk-estimator:hover label.sk-toggleable__label-arrow:before {color: black;}#sk-container-id-4 div.sk-toggleable__content {max-height: 0;max-width: 0;overflow: hidden;text-align: left;background-color: #f0f8ff;}#sk-container-id-4 div.sk-toggleable__content pre {margin: 0.2em;color: black;border-radius: 0.25em;background-color: #f0f8ff;}#sk-container-id-4 input.sk-toggleable__control:checked~div.sk-toggleable__content {max-height: 200px;max-width: 100%;overflow: auto;}#sk-container-id-4 input.sk-toggleable__control:checked~label.sk-toggleable__label-arrow:before {content: \"▾\";}#sk-container-id-4 div.sk-estimator input.sk-toggleable__control:checked~label.sk-toggleable__label {background-color: #d4ebff;}#sk-container-id-4 div.sk-label input.sk-toggleable__control:checked~label.sk-toggleable__label {background-color: #d4ebff;}#sk-container-id-4 input.sk-hidden--visually {border: 0;clip: rect(1px 1px 1px 1px);clip: rect(1px, 1px, 1px, 1px);height: 1px;margin: -1px;overflow: hidden;padding: 0;position: absolute;width: 1px;}#sk-container-id-4 div.sk-estimator {font-family: monospace;background-color: #f0f8ff;border: 1px dotted black;border-radius: 0.25em;box-sizing: border-box;margin-bottom: 0.5em;}#sk-container-id-4 div.sk-estimator:hover {background-color: #d4ebff;}#sk-container-id-4 div.sk-parallel-item::after {content: \"\";width: 100%;border-bottom: 1px solid gray;flex-grow: 1;}#sk-container-id-4 div.sk-label:hover label.sk-toggleable__label {background-color: #d4ebff;}#sk-container-id-4 div.sk-serial::before {content: \"\";position: absolute;border-left: 1px solid gray;box-sizing: border-box;top: 0;bottom: 0;left: 50%;z-index: 0;}#sk-container-id-4 div.sk-serial {display: flex;flex-direction: column;align-items: center;background-color: white;padding-right: 0.2em;padding-left: 0.2em;position: relative;}#sk-container-id-4 div.sk-item {position: relative;z-index: 1;}#sk-container-id-4 div.sk-parallel {display: flex;align-items: stretch;justify-content: center;background-color: white;position: relative;}#sk-container-id-4 div.sk-item::before, #sk-container-id-4 div.sk-parallel-item::before {content: \"\";position: absolute;border-left: 1px solid gray;box-sizing: border-box;top: 0;bottom: 0;left: 50%;z-index: -1;}#sk-container-id-4 div.sk-parallel-item {display: flex;flex-direction: column;z-index: 1;position: relative;background-color: white;}#sk-container-id-4 div.sk-parallel-item:first-child::after {align-self: flex-end;width: 50%;}#sk-container-id-4 div.sk-parallel-item:last-child::after {align-self: flex-start;width: 50%;}#sk-container-id-4 div.sk-parallel-item:only-child::after {width: 0;}#sk-container-id-4 div.sk-dashed-wrapped {border: 1px dashed gray;margin: 0 0.4em 0.5em 0.4em;box-sizing: border-box;padding-bottom: 0.4em;background-color: white;}#sk-container-id-4 div.sk-label label {font-family: monospace;font-weight: bold;display: inline-block;line-height: 1.2em;}#sk-container-id-4 div.sk-label-container {text-align: center;}#sk-container-id-4 div.sk-container {/* jupyter's `normalize.less` sets `[hidden] { display: none; }` but bootstrap.min.css set `[hidden] { display: none !important; }` so we also need the `!important` here to be able to override the default hidden behavior on the sphinx rendered scikit-learn.org. See: https://github.com/scikit-learn/scikit-learn/issues/21755 */display: inline-block !important;position: relative;}#sk-container-id-4 div.sk-text-repr-fallback {display: none;}</style><div id=\"sk-container-id-4\" class=\"sk-top-container\"><div class=\"sk-text-repr-fallback\"><pre>LogisticRegression()</pre><b>In a Jupyter environment, please rerun this cell to show the HTML representation or trust the notebook. <br />On GitHub, the HTML representation is unable to render, please try loading this page with nbviewer.org.</b></div><div class=\"sk-container\" hidden><div class=\"sk-item\"><div class=\"sk-estimator sk-toggleable\"><input class=\"sk-toggleable__control sk-hidden--visually\" id=\"sk-estimator-id-4\" type=\"checkbox\" checked><label for=\"sk-estimator-id-4\" class=\"sk-toggleable__label sk-toggleable__label-arrow\">LogisticRegression</label><div class=\"sk-toggleable__content\"><pre>LogisticRegression()</pre></div></div></div></div></div>"
            ]
          },
          "metadata": {},
          "execution_count": 58
        }
      ]
    },
    {
      "cell_type": "code",
      "source": [
        "# Predict on the test set\n",
        "y_test_pred_logistic_reg = logistic_model_regularized.predict(X_test)\n",
        "\n",
        "# Evaluate the model on the test set\n",
        "accuracy_test_logistic_reg = accuracy_score(y_test, y_test_pred_logistic_reg)\n",
        "\n",
        "print(\"Logistic Regression with L2 Regularization - Test Accuracy:\", accuracy_test_logistic_reg)\n"
      ],
      "metadata": {
        "id": "3ujGcYVr-IVa",
        "colab": {
          "base_uri": "https://localhost:8080/"
        },
        "outputId": "f49acde4-1db6-427f-e5d8-80acfeaafe06"
      },
      "execution_count": 59,
      "outputs": [
        {
          "output_type": "stream",
          "name": "stdout",
          "text": [
            "Logistic Regression with L2 Regularization - Test Accuracy: 0.6696192709740979\n"
          ]
        }
      ]
    },
    {
      "cell_type": "markdown",
      "source": [
        "**Regularization (for Random Forest):**"
      ],
      "metadata": {
        "id": "J8YG0yaWHfUy"
      }
    },
    {
      "cell_type": "code",
      "source": [
        "from sklearn.ensemble import RandomForestClassifier\n",
        "\n",
        "# Regularized Random Forest for classification\n",
        "random_forest_model_regularized = RandomForestClassifier(max_depth=10, min_samples_split=5, min_samples_leaf=2, max_features='sqrt', random_state=42)\n",
        "random_forest_model_regularized.fit(X_train, y_train)\n"
      ],
      "metadata": {
        "id": "TiHOND2WMRQy",
        "colab": {
          "base_uri": "https://localhost:8080/",
          "height": 92
        },
        "outputId": "bc4d0b2d-8c02-4e93-c07d-a7e32333902c"
      },
      "execution_count": 60,
      "outputs": [
        {
          "output_type": "execute_result",
          "data": {
            "text/plain": [
              "RandomForestClassifier(max_depth=10, min_samples_leaf=2, min_samples_split=5,\n",
              "                       random_state=42)"
            ],
            "text/html": [
              "<style>#sk-container-id-5 {color: black;background-color: white;}#sk-container-id-5 pre{padding: 0;}#sk-container-id-5 div.sk-toggleable {background-color: white;}#sk-container-id-5 label.sk-toggleable__label {cursor: pointer;display: block;width: 100%;margin-bottom: 0;padding: 0.3em;box-sizing: border-box;text-align: center;}#sk-container-id-5 label.sk-toggleable__label-arrow:before {content: \"▸\";float: left;margin-right: 0.25em;color: #696969;}#sk-container-id-5 label.sk-toggleable__label-arrow:hover:before {color: black;}#sk-container-id-5 div.sk-estimator:hover label.sk-toggleable__label-arrow:before {color: black;}#sk-container-id-5 div.sk-toggleable__content {max-height: 0;max-width: 0;overflow: hidden;text-align: left;background-color: #f0f8ff;}#sk-container-id-5 div.sk-toggleable__content pre {margin: 0.2em;color: black;border-radius: 0.25em;background-color: #f0f8ff;}#sk-container-id-5 input.sk-toggleable__control:checked~div.sk-toggleable__content {max-height: 200px;max-width: 100%;overflow: auto;}#sk-container-id-5 input.sk-toggleable__control:checked~label.sk-toggleable__label-arrow:before {content: \"▾\";}#sk-container-id-5 div.sk-estimator input.sk-toggleable__control:checked~label.sk-toggleable__label {background-color: #d4ebff;}#sk-container-id-5 div.sk-label input.sk-toggleable__control:checked~label.sk-toggleable__label {background-color: #d4ebff;}#sk-container-id-5 input.sk-hidden--visually {border: 0;clip: rect(1px 1px 1px 1px);clip: rect(1px, 1px, 1px, 1px);height: 1px;margin: -1px;overflow: hidden;padding: 0;position: absolute;width: 1px;}#sk-container-id-5 div.sk-estimator {font-family: monospace;background-color: #f0f8ff;border: 1px dotted black;border-radius: 0.25em;box-sizing: border-box;margin-bottom: 0.5em;}#sk-container-id-5 div.sk-estimator:hover {background-color: #d4ebff;}#sk-container-id-5 div.sk-parallel-item::after {content: \"\";width: 100%;border-bottom: 1px solid gray;flex-grow: 1;}#sk-container-id-5 div.sk-label:hover label.sk-toggleable__label {background-color: #d4ebff;}#sk-container-id-5 div.sk-serial::before {content: \"\";position: absolute;border-left: 1px solid gray;box-sizing: border-box;top: 0;bottom: 0;left: 50%;z-index: 0;}#sk-container-id-5 div.sk-serial {display: flex;flex-direction: column;align-items: center;background-color: white;padding-right: 0.2em;padding-left: 0.2em;position: relative;}#sk-container-id-5 div.sk-item {position: relative;z-index: 1;}#sk-container-id-5 div.sk-parallel {display: flex;align-items: stretch;justify-content: center;background-color: white;position: relative;}#sk-container-id-5 div.sk-item::before, #sk-container-id-5 div.sk-parallel-item::before {content: \"\";position: absolute;border-left: 1px solid gray;box-sizing: border-box;top: 0;bottom: 0;left: 50%;z-index: -1;}#sk-container-id-5 div.sk-parallel-item {display: flex;flex-direction: column;z-index: 1;position: relative;background-color: white;}#sk-container-id-5 div.sk-parallel-item:first-child::after {align-self: flex-end;width: 50%;}#sk-container-id-5 div.sk-parallel-item:last-child::after {align-self: flex-start;width: 50%;}#sk-container-id-5 div.sk-parallel-item:only-child::after {width: 0;}#sk-container-id-5 div.sk-dashed-wrapped {border: 1px dashed gray;margin: 0 0.4em 0.5em 0.4em;box-sizing: border-box;padding-bottom: 0.4em;background-color: white;}#sk-container-id-5 div.sk-label label {font-family: monospace;font-weight: bold;display: inline-block;line-height: 1.2em;}#sk-container-id-5 div.sk-label-container {text-align: center;}#sk-container-id-5 div.sk-container {/* jupyter's `normalize.less` sets `[hidden] { display: none; }` but bootstrap.min.css set `[hidden] { display: none !important; }` so we also need the `!important` here to be able to override the default hidden behavior on the sphinx rendered scikit-learn.org. See: https://github.com/scikit-learn/scikit-learn/issues/21755 */display: inline-block !important;position: relative;}#sk-container-id-5 div.sk-text-repr-fallback {display: none;}</style><div id=\"sk-container-id-5\" class=\"sk-top-container\"><div class=\"sk-text-repr-fallback\"><pre>RandomForestClassifier(max_depth=10, min_samples_leaf=2, min_samples_split=5,\n",
              "                       random_state=42)</pre><b>In a Jupyter environment, please rerun this cell to show the HTML representation or trust the notebook. <br />On GitHub, the HTML representation is unable to render, please try loading this page with nbviewer.org.</b></div><div class=\"sk-container\" hidden><div class=\"sk-item\"><div class=\"sk-estimator sk-toggleable\"><input class=\"sk-toggleable__control sk-hidden--visually\" id=\"sk-estimator-id-5\" type=\"checkbox\" checked><label for=\"sk-estimator-id-5\" class=\"sk-toggleable__label sk-toggleable__label-arrow\">RandomForestClassifier</label><div class=\"sk-toggleable__content\"><pre>RandomForestClassifier(max_depth=10, min_samples_leaf=2, min_samples_split=5,\n",
              "                       random_state=42)</pre></div></div></div></div></div>"
            ]
          },
          "metadata": {},
          "execution_count": 60
        }
      ]
    },
    {
      "cell_type": "code",
      "source": [
        "# Predict on the test set\n",
        "y_test_pred_rf_reg = random_forest_model_regularized.predict(X_test)\n",
        "\n",
        "# Evaluate the model on the test set\n",
        "accuracy_test_rf_reg = accuracy_score(y_test, y_test_pred_rf_reg)\n",
        "\n",
        "print(\"Random Forest with Regularization - Test Accuracy:\", accuracy_test_rf_reg)\n"
      ],
      "metadata": {
        "id": "tNUzRhyx_0Sw",
        "colab": {
          "base_uri": "https://localhost:8080/"
        },
        "outputId": "0b7cac5f-5c6a-4db6-f35c-f8a5a848a17b"
      },
      "execution_count": 61,
      "outputs": [
        {
          "output_type": "stream",
          "name": "stdout",
          "text": [
            "Random Forest with Regularization - Test Accuracy: 0.7096537955205273\n"
          ]
        }
      ]
    },
    {
      "cell_type": "markdown",
      "source": [
        "**Regularization (for Decision Tree):**"
      ],
      "metadata": {
        "id": "rcGFU-TMHhlf"
      }
    },
    {
      "cell_type": "code",
      "source": [
        "from sklearn.tree import DecisionTreeClassifier\n",
        "\n",
        "# Regularized Decision Tree for classification\n",
        "decision_tree_model_regularized = DecisionTreeClassifier(max_depth=5, min_samples_split=10, min_samples_leaf=5, max_features='sqrt', random_state=42)\n",
        "decision_tree_model_regularized.fit(X_train, y_train)\n"
      ],
      "metadata": {
        "id": "55u5PKm0Mded",
        "colab": {
          "base_uri": "https://localhost:8080/",
          "height": 92
        },
        "outputId": "e9cd7c6d-b9f0-4be2-9b36-ec8bcbc7fc0d"
      },
      "execution_count": 62,
      "outputs": [
        {
          "output_type": "execute_result",
          "data": {
            "text/plain": [
              "DecisionTreeClassifier(max_depth=5, max_features='sqrt', min_samples_leaf=5,\n",
              "                       min_samples_split=10, random_state=42)"
            ],
            "text/html": [
              "<style>#sk-container-id-6 {color: black;background-color: white;}#sk-container-id-6 pre{padding: 0;}#sk-container-id-6 div.sk-toggleable {background-color: white;}#sk-container-id-6 label.sk-toggleable__label {cursor: pointer;display: block;width: 100%;margin-bottom: 0;padding: 0.3em;box-sizing: border-box;text-align: center;}#sk-container-id-6 label.sk-toggleable__label-arrow:before {content: \"▸\";float: left;margin-right: 0.25em;color: #696969;}#sk-container-id-6 label.sk-toggleable__label-arrow:hover:before {color: black;}#sk-container-id-6 div.sk-estimator:hover label.sk-toggleable__label-arrow:before {color: black;}#sk-container-id-6 div.sk-toggleable__content {max-height: 0;max-width: 0;overflow: hidden;text-align: left;background-color: #f0f8ff;}#sk-container-id-6 div.sk-toggleable__content pre {margin: 0.2em;color: black;border-radius: 0.25em;background-color: #f0f8ff;}#sk-container-id-6 input.sk-toggleable__control:checked~div.sk-toggleable__content {max-height: 200px;max-width: 100%;overflow: auto;}#sk-container-id-6 input.sk-toggleable__control:checked~label.sk-toggleable__label-arrow:before {content: \"▾\";}#sk-container-id-6 div.sk-estimator input.sk-toggleable__control:checked~label.sk-toggleable__label {background-color: #d4ebff;}#sk-container-id-6 div.sk-label input.sk-toggleable__control:checked~label.sk-toggleable__label {background-color: #d4ebff;}#sk-container-id-6 input.sk-hidden--visually {border: 0;clip: rect(1px 1px 1px 1px);clip: rect(1px, 1px, 1px, 1px);height: 1px;margin: -1px;overflow: hidden;padding: 0;position: absolute;width: 1px;}#sk-container-id-6 div.sk-estimator {font-family: monospace;background-color: #f0f8ff;border: 1px dotted black;border-radius: 0.25em;box-sizing: border-box;margin-bottom: 0.5em;}#sk-container-id-6 div.sk-estimator:hover {background-color: #d4ebff;}#sk-container-id-6 div.sk-parallel-item::after {content: \"\";width: 100%;border-bottom: 1px solid gray;flex-grow: 1;}#sk-container-id-6 div.sk-label:hover label.sk-toggleable__label {background-color: #d4ebff;}#sk-container-id-6 div.sk-serial::before {content: \"\";position: absolute;border-left: 1px solid gray;box-sizing: border-box;top: 0;bottom: 0;left: 50%;z-index: 0;}#sk-container-id-6 div.sk-serial {display: flex;flex-direction: column;align-items: center;background-color: white;padding-right: 0.2em;padding-left: 0.2em;position: relative;}#sk-container-id-6 div.sk-item {position: relative;z-index: 1;}#sk-container-id-6 div.sk-parallel {display: flex;align-items: stretch;justify-content: center;background-color: white;position: relative;}#sk-container-id-6 div.sk-item::before, #sk-container-id-6 div.sk-parallel-item::before {content: \"\";position: absolute;border-left: 1px solid gray;box-sizing: border-box;top: 0;bottom: 0;left: 50%;z-index: -1;}#sk-container-id-6 div.sk-parallel-item {display: flex;flex-direction: column;z-index: 1;position: relative;background-color: white;}#sk-container-id-6 div.sk-parallel-item:first-child::after {align-self: flex-end;width: 50%;}#sk-container-id-6 div.sk-parallel-item:last-child::after {align-self: flex-start;width: 50%;}#sk-container-id-6 div.sk-parallel-item:only-child::after {width: 0;}#sk-container-id-6 div.sk-dashed-wrapped {border: 1px dashed gray;margin: 0 0.4em 0.5em 0.4em;box-sizing: border-box;padding-bottom: 0.4em;background-color: white;}#sk-container-id-6 div.sk-label label {font-family: monospace;font-weight: bold;display: inline-block;line-height: 1.2em;}#sk-container-id-6 div.sk-label-container {text-align: center;}#sk-container-id-6 div.sk-container {/* jupyter's `normalize.less` sets `[hidden] { display: none; }` but bootstrap.min.css set `[hidden] { display: none !important; }` so we also need the `!important` here to be able to override the default hidden behavior on the sphinx rendered scikit-learn.org. See: https://github.com/scikit-learn/scikit-learn/issues/21755 */display: inline-block !important;position: relative;}#sk-container-id-6 div.sk-text-repr-fallback {display: none;}</style><div id=\"sk-container-id-6\" class=\"sk-top-container\"><div class=\"sk-text-repr-fallback\"><pre>DecisionTreeClassifier(max_depth=5, max_features=&#x27;sqrt&#x27;, min_samples_leaf=5,\n",
              "                       min_samples_split=10, random_state=42)</pre><b>In a Jupyter environment, please rerun this cell to show the HTML representation or trust the notebook. <br />On GitHub, the HTML representation is unable to render, please try loading this page with nbviewer.org.</b></div><div class=\"sk-container\" hidden><div class=\"sk-item\"><div class=\"sk-estimator sk-toggleable\"><input class=\"sk-toggleable__control sk-hidden--visually\" id=\"sk-estimator-id-6\" type=\"checkbox\" checked><label for=\"sk-estimator-id-6\" class=\"sk-toggleable__label sk-toggleable__label-arrow\">DecisionTreeClassifier</label><div class=\"sk-toggleable__content\"><pre>DecisionTreeClassifier(max_depth=5, max_features=&#x27;sqrt&#x27;, min_samples_leaf=5,\n",
              "                       min_samples_split=10, random_state=42)</pre></div></div></div></div></div>"
            ]
          },
          "metadata": {},
          "execution_count": 62
        }
      ]
    },
    {
      "cell_type": "code",
      "source": [
        "# Predict on the test set\n",
        "y_test_pred_dt_reg = decision_tree_model_regularized.predict(X_test)\n",
        "\n",
        "# Evaluate the model on the test set\n",
        "accuracy_test_dt_reg = accuracy_score(y_test, y_test_pred_dt_reg)\n",
        "\n",
        "print(\"Regularized Decision Tree - Test Accuracy:\", accuracy_test_dt_reg)\n"
      ],
      "metadata": {
        "id": "t0SKLOvmAWOj",
        "colab": {
          "base_uri": "https://localhost:8080/"
        },
        "outputId": "ba1e79a7-a990-4d07-f73c-a239c871615d"
      },
      "execution_count": 63,
      "outputs": [
        {
          "output_type": "stream",
          "name": "stdout",
          "text": [
            "Regularized Decision Tree - Test Accuracy: 0.6945623839373676\n"
          ]
        }
      ]
    },
    {
      "cell_type": "markdown",
      "source": [
        "#Top 20 Authors"
      ],
      "metadata": {
        "id": "kHSAlz5vwWz-"
      }
    },
    {
      "cell_type": "code",
      "source": [
        "# Sort the DataFrame by bestsellers rank in ascending order\n",
        "top_authors = author_1.sort_values(by='bestsellers-rank', ascending=True)\n",
        "\n",
        "# Select the top 20 authors\n",
        "top_20_authors = top_authors.head(20)\n",
        "\n",
        "# Get the names of the top 20 authors\n",
        "top_20_author_names = top_20_authors['author_name']\n",
        "\n",
        "# Print the top 20 author names\n",
        "print(\"Top 20 Author Names based on Bestsellers Rank:\")\n",
        "print(top_20_author_names)\n"
      ],
      "metadata": {
        "id": "NB-p5fEz9cDJ",
        "colab": {
          "base_uri": "https://localhost:8080/"
        },
        "outputId": "da8591b5-5a23-4a17-bce4-390ca2cf4d4a"
      },
      "execution_count": 64,
      "outputs": [
        {
          "output_type": "stream",
          "name": "stdout",
          "text": [
            "Top 20 Author Names based on Bestsellers Rank:\n",
            "96189               Brian Pennie\n",
            "695733            John O'Donohue\n",
            "95978      Morgan Harper Nichols\n",
            "417696            William Gibson\n",
            "573906             Sarah J. Maas\n",
            "881532               Roisin Cure\n",
            "417513                Kate Mosse\n",
            "648666             Sarah J. Maas\n",
            "235742            Michael Pollan\n",
            "417396          Deborah Harkness\n",
            "417229              Stephen King\n",
            "353569               Q Hayashida\n",
            "306689              Tomohito Oda\n",
            "1049997            Jessica Brody\n",
            "95281                 A. J. Finn\n",
            "417449              Paulo Coelho\n",
            "648721                 Eric Hill\n",
            "95290                  Ira Levin\n",
            "417391              J.K. Rowling\n",
            "353853                 Junji Ito\n",
            "Name: author_name, dtype: object\n"
          ]
        }
      ]
    },
    {
      "cell_type": "code",
      "source": [
        "\n",
        "# Assuming 'categories' contains category information\n",
        "plt.figure(figsize=(12, 6))\n",
        "sns.countplot(data=top_20_authors, x='categories')\n",
        "plt.title(\"Top Categories among Top 20 Authors\")\n",
        "plt.xlabel(\"Category\")\n",
        "plt.ylabel(\"Frequency\")\n",
        "plt.xticks(rotation=90)\n",
        "plt.show()"
      ],
      "metadata": {
        "colab": {
          "base_uri": "https://localhost:8080/",
          "height": 823
        },
        "id": "oYDWM6lZ_8W4",
        "outputId": "d8062797-4747-4dd9-8e87-f63d081bcb23"
      },
      "execution_count": 84,
      "outputs": [
        {
          "output_type": "display_data",
          "data": {
            "text/plain": [
              "<Figure size 1200x600 with 1 Axes>"
            ],
            "image/png": "[encoded data removed]"
          },
          "metadata": {}
        }
      ]
    },
    {
      "cell_type": "code",
      "source": [],
      "metadata": {
        "id": "ttljsasn_V8J"
      },
      "execution_count": null,
      "outputs": []
    },
    {
      "cell_type": "code",
      "source": [],
      "metadata": {
        "id": "jMDoO1od_Vs7"
      },
      "execution_count": null,
      "outputs": []
    },
    {
      "cell_type": "markdown",
      "source": [
        "#df having 2 Authors\n"
      ],
      "metadata": {
        "id": "a-rFh_JONLhK"
      }
    },
    {
      "cell_type": "code",
      "source": [
        "#author_2 = merged_df[merged_df['authors'].str.count(',') == 1]"
      ],
      "metadata": {
        "id": "riY3Q8lSwZjI"
      },
      "execution_count": null,
      "outputs": []
    },
    {
      "cell_type": "code",
      "source": [
        "#author_2.head()"
      ],
      "metadata": {
        "id": "24HJ-jVrwjMc"
      },
      "execution_count": null,
      "outputs": []
    },
    {
      "cell_type": "code",
      "source": [
        "#author_2"
      ],
      "metadata": {
        "id": "Qj0trmoIuyAo"
      },
      "execution_count": null,
      "outputs": []
    },
    {
      "cell_type": "code",
      "source": [
        "#merged_df.head(3)"
      ],
      "metadata": {
        "id": "2qOT7ppkv2AQ"
      },
      "execution_count": null,
      "outputs": []
    },
    {
      "cell_type": "code",
      "source": [
        "# merged_df['authors'].dtypes"
      ],
      "metadata": {
        "id": "6oGu1WmD5khg"
      },
      "execution_count": null,
      "outputs": []
    },
    {
      "cell_type": "code",
      "source": [
        "# # Dropping these columns, as they all only the null values present\n",
        "\n",
        "# author_1 = author_1.drop(columns=['index-date', 'publication-place'])"
      ],
      "metadata": {
        "id": "qFeWD0T3hz6s"
      },
      "execution_count": null,
      "outputs": []
    },
    {
      "cell_type": "code",
      "source": [],
      "metadata": {
        "id": "LPCsFJUziEai"
      },
      "execution_count": null,
      "outputs": []
    },
    {
      "cell_type": "code",
      "source": [],
      "metadata": {
        "id": "Sl4Kni5HfJq0"
      },
      "execution_count": null,
      "outputs": []
    },
    {
      "cell_type": "markdown",
      "source": [
        "#ydata-profiling"
      ],
      "metadata": {
        "id": "Wrztpr79fLVX"
      }
    },
    {
      "cell_type": "code",
      "source": [
        "#! pip install ydata-profiling"
      ],
      "metadata": {
        "id": "dniQxZSxYBHz"
      },
      "execution_count": null,
      "outputs": []
    },
    {
      "cell_type": "code",
      "source": [
        "\n",
        "# import pandas as pd\n",
        "# from ydata_profiling import ProfileReport\n",
        "\n",
        "# # df = pd.read_csv('/content/drive/MyDrive/dataset.csv')\n",
        "# profile = ProfileReport(author_1, title=\"Profiling Report\")"
      ],
      "metadata": {
        "id": "or0hCfvTY_74"
      },
      "execution_count": null,
      "outputs": []
    },
    {
      "cell_type": "code",
      "source": [
        "#ProfileReport(author_1, title='Pandas Profiling report of \"dataset\"', html={'style': {'full_width':True}})"
      ],
      "metadata": {
        "id": "Esvx4Dw3ZwI4"
      },
      "execution_count": null,
      "outputs": []
    }
  ]
}